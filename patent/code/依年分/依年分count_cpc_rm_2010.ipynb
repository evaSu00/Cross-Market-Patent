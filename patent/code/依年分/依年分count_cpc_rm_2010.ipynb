{
 "cells": [
  {
   "cell_type": "code",
   "execution_count": 2,
   "id": "5f07117b-89f6-45ea-a17a-eb0a0744dde5",
   "metadata": {},
   "outputs": [],
   "source": [
    "from pymongo import MongoClient\n",
    "# from sshtunnel import SSHTunnelForwarder\n",
    "import pymongo\n",
    "from tqdm import tqdm\n",
    "import os\n",
    "import re\n",
    "\n",
    "import numpy as np\n",
    "import pandas as pd\n",
    "\n",
    "import dateutil.parser"
   ]
  },
  {
   "cell_type": "code",
   "execution_count": 3,
   "id": "55997861-65f8-48bc-8163-09b9f1ccb467",
   "metadata": {},
   "outputs": [],
   "source": [
    "# 使用GPU\n",
    "os.environ[\"CUDA_VISIBLE_DEVICES\"]=\"1\""
   ]
  },
  {
   "cell_type": "code",
   "execution_count": 4,
   "id": "858b6f78-103d-4e80-afb6-d935285b832b",
   "metadata": {},
   "outputs": [
    {
     "name": "stdout",
     "output_type": "stream",
     "text": [
      "Sun May 29 19:16:13 2022       \n",
      "+-----------------------------------------------------------------------------+\n",
      "| NVIDIA-SMI 470.103.01   Driver Version: 470.103.01   CUDA Version: 11.4     |\n",
      "|-------------------------------+----------------------+----------------------+\n",
      "| GPU  Name        Persistence-M| Bus-Id        Disp.A | Volatile Uncorr. ECC |\n",
      "| Fan  Temp  Perf  Pwr:Usage/Cap|         Memory-Usage | GPU-Util  Compute M. |\n",
      "|                               |                      |               MIG M. |\n",
      "|===============================+======================+======================|\n",
      "|   0  NVIDIA GeForce ...  Off  | 00000000:01:00.0 Off |                  N/A |\n",
      "| 35%   45C    P8    38W / 260W |     22MiB / 11019MiB |      0%      Default |\n",
      "|                               |                      |                  N/A |\n",
      "+-------------------------------+----------------------+----------------------+\n",
      "|   1  NVIDIA GeForce ...  Off  | 00000000:02:00.0 Off |                  N/A |\n",
      "| 30%   39C    P8    39W / 260W |      8MiB / 11019MiB |      0%      Default |\n",
      "|                               |                      |                  N/A |\n",
      "+-------------------------------+----------------------+----------------------+\n",
      "                                                                               \n",
      "+-----------------------------------------------------------------------------+\n",
      "| Processes:                                                                  |\n",
      "|  GPU   GI   CI        PID   Type   Process name                  GPU Memory |\n",
      "|        ID   ID                                                   Usage      |\n",
      "|=============================================================================|\n",
      "|    0   N/A  N/A      1741      G   /usr/lib/xorg/Xorg                  9MiB |\n",
      "|    0   N/A  N/A      2265      G   /usr/bin/gnome-shell                7MiB |\n",
      "|    1   N/A  N/A      1741      G   /usr/lib/xorg/Xorg                  4MiB |\n",
      "+-----------------------------------------------------------------------------+\n"
     ]
    }
   ],
   "source": [
    "! nvidia-smi"
   ]
  },
  {
   "cell_type": "code",
   "execution_count": null,
   "id": "2ddc502a-aa58-461a-b70e-3f5ffe2d94ac",
   "metadata": {},
   "outputs": [],
   "source": []
  },
  {
   "cell_type": "markdown",
   "id": "e82a74f8-5a21-4cdf-a958-784c8055396f",
   "metadata": {},
   "source": [
    "# MongoDB"
   ]
  },
  {
   "cell_type": "code",
   "execution_count": 5,
   "id": "4a92d434-f526-4abf-9eaa-881f25b67811",
   "metadata": {},
   "outputs": [],
   "source": [
    "mongoURI = \"mongodb://%s:%s@%s/%s?authMechanism=SCRAM-SHA-1\" % (\"eva\", \"eva_30241\", \"140.117.69.70:30241\", \"eva\")\n",
    "\n",
    "try:\n",
    "    conn = pymongo.MongoClient(mongoURI)\n",
    "    db = conn.eva\n",
    "    # db_de = db.patent_de\n",
    "    # db_us = db.patent_us\n",
    "    # db_cn = db.patent_cn\n",
    "\n",
    "    db_rm_us = db.rm_patent_us\n",
    "    db_rm_cn = db.rm_patent_cn\n",
    "    db_rm_de = db.rm_patent_de\n",
    "    \n",
    "    db_rm_us_2010 = db.rm_patent_us_2010\n",
    "    db_rm_cn_2010 = db.rm_patent_cn_2010\n",
    "    db_rm_de_2010 = db.rm_patent_de_2010\n",
    "\n",
    "except errors.ConnectionFailure as err:\n",
    "    print(err)"
   ]
  },
  {
   "cell_type": "code",
   "execution_count": 6,
   "id": "d125c094-1cef-4c07-9653-3ff5bf4b8588",
   "metadata": {},
   "outputs": [
    {
     "data": {
      "text/plain": [
       "Collection(Database(MongoClient(host=['140.117.69.70:30241'], document_class=dict, tz_aware=False, connect=True, authmechanism='SCRAM-SHA-1'), 'eva'), 'rm_patent_us_2010')"
      ]
     },
     "execution_count": 6,
     "metadata": {},
     "output_type": "execute_result"
    }
   ],
   "source": [
    "db_rm_us_2010"
   ]
  },
  {
   "cell_type": "code",
   "execution_count": null,
   "id": "74dda84d-da7f-4658-a7ce-036405337d18",
   "metadata": {},
   "outputs": [],
   "source": []
  },
  {
   "cell_type": "markdown",
   "id": "3e29382a-94c3-46ca-bef6-64260012ddd9",
   "metadata": {},
   "source": [
    "# DE-CN-US"
   ]
  },
  {
   "cell_type": "markdown",
   "id": "024ae664",
   "metadata": {},
   "source": [
    "## 2010"
   ]
  },
  {
   "cell_type": "markdown",
   "id": "30703845",
   "metadata": {
    "tags": []
   },
   "source": [
    "### DE"
   ]
  },
  {
   "cell_type": "code",
   "execution_count": 7,
   "id": "77d91e3d",
   "metadata": {
    "tags": []
   },
   "outputs": [],
   "source": [
    "data_assignee = db_rm_de_2010.aggregate( [ \n",
    "    {\"$unwind\" : \"$current_assignee\"},\n",
    "    {\"$group\" : {\"_id\" : \"$current_assignee\", \"count\":{\"$sum\":1}}},\n",
    "    {\"$sort\": {\"count\":-1}}\n",
    "\n",
    " ] )\n",
    "\n",
    "\n",
    "ls_company = []\n",
    "ls_count = []\n",
    "for data in data_assignee:\n",
    "    # print(data[\"_id\"])\n",
    "    ls_company.append(data[\"_id\"])\n",
    "    ls_count.append(data[\"count\"])\n",
    "    \n",
    "# for data in data_assignee:\n",
    "#     print(data)"
   ]
  },
  {
   "cell_type": "code",
   "execution_count": null,
   "id": "f4a2901f",
   "metadata": {},
   "outputs": [],
   "source": []
  },
  {
   "cell_type": "code",
   "execution_count": 8,
   "id": "6f6f0375",
   "metadata": {},
   "outputs": [
    {
     "data": {
      "text/html": [
       "<div>\n",
       "<style scoped>\n",
       "    .dataframe tbody tr th:only-of-type {\n",
       "        vertical-align: middle;\n",
       "    }\n",
       "\n",
       "    .dataframe tbody tr th {\n",
       "        vertical-align: top;\n",
       "    }\n",
       "\n",
       "    .dataframe thead th {\n",
       "        text-align: right;\n",
       "    }\n",
       "</style>\n",
       "<table border=\"1\" class=\"dataframe\">\n",
       "  <thead>\n",
       "    <tr style=\"text-align: right;\">\n",
       "      <th></th>\n",
       "      <th>company</th>\n",
       "      <th>cpc</th>\n",
       "      <th>count</th>\n",
       "    </tr>\n",
       "  </thead>\n",
       "  <tbody>\n",
       "  </tbody>\n",
       "</table>\n",
       "</div>"
      ],
      "text/plain": [
       "Empty DataFrame\n",
       "Columns: [company, cpc, count]\n",
       "Index: []"
      ]
     },
     "execution_count": 8,
     "metadata": {},
     "output_type": "execute_result"
    }
   ],
   "source": [
    "ls_c = []\n",
    "ls_cpc = []\n",
    "ls_count = []\n",
    "\n",
    "for c in ls_company:\n",
    "    data_cpc = db_rm_de_2010.aggregate([\n",
    "        {\"$match\" : {\"current_assignee\":{\"$regex\":c}}},\n",
    "        {\"$unwind\" : \"$current_assignee\"},\n",
    "        {\"$unwind\" : \"$classification\"},\n",
    "        {\"$project\" : {\"class\": {\"$split\": [\"$classification\", \"/\"]}, \"qty\":1}},\n",
    "        {\"$unwind\" : \"$class\"},\n",
    "        {\"$group\" : {\"_id\" : \"$class\", \"count\":{\"$sum\":1}}},\n",
    "        {\"$sort\": {\"count\":-1}}\n",
    "        # {\"$limit\":5}\n",
    "    ])\n",
    "    \n",
    "\n",
    "    for data in data_cpc:\n",
    "        #print(data)\n",
    "        ls_c.append(c)\n",
    "        ls_cpc.append(data[\"_id\"])\n",
    "        ls_count.append(data[\"count\"])\n",
    "        \n",
    "df_cpc = pd.DataFrame((zip(ls_c, ls_cpc, ls_count)), columns = ['company', 'cpc', 'count'])\n",
    "df_cpc.head()"
   ]
  },
  {
   "cell_type": "code",
   "execution_count": 9,
   "id": "afbeedf8",
   "metadata": {},
   "outputs": [
    {
     "data": {
      "text/plain": [
       "(0, 3)"
      ]
     },
     "execution_count": 9,
     "metadata": {},
     "output_type": "execute_result"
    }
   ],
   "source": [
    "df_cpc.shape"
   ]
  },
  {
   "cell_type": "code",
   "execution_count": null,
   "id": "b082b1c9",
   "metadata": {},
   "outputs": [],
   "source": []
  },
  {
   "cell_type": "code",
   "execution_count": 10,
   "id": "2ec97c52",
   "metadata": {},
   "outputs": [],
   "source": [
    "# 取cpc前3碼\n",
    "df_cpc[\"cpc_n\"] = df_cpc.cpc.apply(lambda x: x[0:3])"
   ]
  },
  {
   "cell_type": "code",
   "execution_count": 11,
   "id": "71b68b80",
   "metadata": {},
   "outputs": [],
   "source": [
    "# 轉成company-cpc 的總數表格\n",
    "table_de = df_cpc.pivot_table(index='company', values='count', columns='cpc_n',aggfunc=['sum']).fillna(0).reset_index()\n",
    "table_de = table_de.droplevel(level=0, axis=1)\n",
    "table_de = table_de.rename(columns={'':'company'})"
   ]
  },
  {
   "cell_type": "code",
   "execution_count": 12,
   "id": "917098ef",
   "metadata": {},
   "outputs": [
    {
     "data": {
      "text/html": [
       "<div>\n",
       "<style scoped>\n",
       "    .dataframe tbody tr th:only-of-type {\n",
       "        vertical-align: middle;\n",
       "    }\n",
       "\n",
       "    .dataframe tbody tr th {\n",
       "        vertical-align: top;\n",
       "    }\n",
       "\n",
       "    .dataframe thead th {\n",
       "        text-align: right;\n",
       "    }\n",
       "</style>\n",
       "<table border=\"1\" class=\"dataframe\">\n",
       "  <thead>\n",
       "    <tr style=\"text-align: right;\">\n",
       "      <th>cpc_n</th>\n",
       "      <th>company</th>\n",
       "    </tr>\n",
       "  </thead>\n",
       "  <tbody>\n",
       "  </tbody>\n",
       "</table>\n",
       "</div>"
      ],
      "text/plain": [
       "Empty DataFrame\n",
       "Columns: [company]\n",
       "Index: []"
      ]
     },
     "execution_count": 12,
     "metadata": {},
     "output_type": "execute_result"
    }
   ],
   "source": [
    "# 取有英文的部份\n",
    "c_ls_de = [c for c in table_de.columns if re.search('[A-Za-z]', c)]\n",
    "final_table_de = table_de[c_ls_de]\n",
    "final_table_de.head()"
   ]
  },
  {
   "cell_type": "code",
   "execution_count": 13,
   "id": "fd288331",
   "metadata": {},
   "outputs": [
    {
     "data": {
      "text/plain": [
       "(0, 1)"
      ]
     },
     "execution_count": 13,
     "metadata": {},
     "output_type": "execute_result"
    }
   ],
   "source": [
    "final_table_de.shape"
   ]
  },
  {
   "cell_type": "code",
   "execution_count": null,
   "id": "ce92cfbf",
   "metadata": {},
   "outputs": [],
   "source": [
    "final_table_de.to_csv('rm_company_cpc_de_2010.csv',index=0)"
   ]
  },
  {
   "cell_type": "code",
   "execution_count": null,
   "id": "678cce92",
   "metadata": {},
   "outputs": [],
   "source": []
  },
  {
   "cell_type": "markdown",
   "id": "e749f36d",
   "metadata": {},
   "source": [
    "把final_table資料存進MongoDB"
   ]
  },
  {
   "cell_type": "code",
   "execution_count": 32,
   "id": "15842dba",
   "metadata": {},
   "outputs": [],
   "source": [
    "mongoURI = \"mongodb://%s:%s@%s/%s?authMechanism=SCRAM-SHA-1\" % (\"eva\", \"eva_30241\", \"140.117.69.70:30241\", \"eva\")\n",
    "\n",
    "conn = pymongo.MongoClient(mongoURI)\n",
    "db = conn.eva\n",
    "conn_db_collection_rm = db.rm_company_cpc_us_2010"
   ]
  },
  {
   "cell_type": "code",
   "execution_count": 33,
   "id": "7fa26ca2",
   "metadata": {},
   "outputs": [],
   "source": [
    "# title\n",
    "conn_db_collection_rm.insert_one({\"company\":final_table_us.columns.tolist()[0],\"cpc\":final_table_us.columns.tolist()[1:]})\n",
    "\n",
    "# 內容\n",
    "for k in final_table_us.values.tolist():\n",
    "    # print({\"company\":k[0],\"cpc\":k[1:]})\n",
    "    conn_db_collection_rm.insert_one({\"company\":k[0],\"cpc\":k[1:]})"
   ]
  },
  {
   "cell_type": "code",
   "execution_count": null,
   "id": "ed962629",
   "metadata": {},
   "outputs": [],
   "source": []
  },
  {
   "cell_type": "code",
   "execution_count": null,
   "id": "96e94cd7",
   "metadata": {},
   "outputs": [],
   "source": []
  },
  {
   "cell_type": "markdown",
   "id": "10a5ba35",
   "metadata": {},
   "source": [
    "### CN"
   ]
  },
  {
   "cell_type": "code",
   "execution_count": 14,
   "id": "d0a5142f",
   "metadata": {
    "tags": []
   },
   "outputs": [],
   "source": [
    "data_assignee = db_rm_cn_2010.aggregate( [ \n",
    "    {\"$unwind\" : \"$current_assignee\"},\n",
    "    {\"$group\" : {\"_id\" : \"$current_assignee\", \"count\":{\"$sum\":1}}},\n",
    "    {\"$sort\": {\"count\":-1}}\n",
    "\n",
    " ] )\n",
    "\n",
    "\n",
    "ls_company = []\n",
    "ls_count = []\n",
    "for data in data_assignee:\n",
    "    # print(data[\"_id\"])\n",
    "    ls_company.append(data[\"_id\"])\n",
    "    ls_count.append(data[\"count\"])\n",
    "    \n",
    "# for data in data_assignee:\n",
    "#     print(data)"
   ]
  },
  {
   "cell_type": "code",
   "execution_count": null,
   "id": "057cfa6c",
   "metadata": {},
   "outputs": [],
   "source": []
  },
  {
   "cell_type": "code",
   "execution_count": 15,
   "id": "e7c53e88",
   "metadata": {},
   "outputs": [
    {
     "data": {
      "text/html": [
       "<div>\n",
       "<style scoped>\n",
       "    .dataframe tbody tr th:only-of-type {\n",
       "        vertical-align: middle;\n",
       "    }\n",
       "\n",
       "    .dataframe tbody tr th {\n",
       "        vertical-align: top;\n",
       "    }\n",
       "\n",
       "    .dataframe thead th {\n",
       "        text-align: right;\n",
       "    }\n",
       "</style>\n",
       "<table border=\"1\" class=\"dataframe\">\n",
       "  <thead>\n",
       "    <tr style=\"text-align: right;\">\n",
       "      <th></th>\n",
       "      <th>company</th>\n",
       "      <th>cpc</th>\n",
       "      <th>count</th>\n",
       "    </tr>\n",
       "  </thead>\n",
       "  <tbody>\n",
       "    <tr>\n",
       "      <th>0</th>\n",
       "      <td>ZTE Corp</td>\n",
       "      <td>H04W52</td>\n",
       "      <td>8</td>\n",
       "    </tr>\n",
       "    <tr>\n",
       "      <th>1</th>\n",
       "      <td>ZTE Corp</td>\n",
       "      <td>H03L7</td>\n",
       "      <td>3</td>\n",
       "    </tr>\n",
       "    <tr>\n",
       "      <th>2</th>\n",
       "      <td>ZTE Corp</td>\n",
       "      <td>H04L5</td>\n",
       "      <td>3</td>\n",
       "    </tr>\n",
       "    <tr>\n",
       "      <th>3</th>\n",
       "      <td>ZTE Corp</td>\n",
       "      <td>H04W72</td>\n",
       "      <td>3</td>\n",
       "    </tr>\n",
       "    <tr>\n",
       "      <th>4</th>\n",
       "      <td>ZTE Corp</td>\n",
       "      <td>H04W16</td>\n",
       "      <td>2</td>\n",
       "    </tr>\n",
       "  </tbody>\n",
       "</table>\n",
       "</div>"
      ],
      "text/plain": [
       "    company     cpc  count\n",
       "0  ZTE Corp  H04W52      8\n",
       "1  ZTE Corp   H03L7      3\n",
       "2  ZTE Corp   H04L5      3\n",
       "3  ZTE Corp  H04W72      3\n",
       "4  ZTE Corp  H04W16      2"
      ]
     },
     "execution_count": 15,
     "metadata": {},
     "output_type": "execute_result"
    }
   ],
   "source": [
    "ls_c = []\n",
    "ls_cpc = []\n",
    "ls_count = []\n",
    "\n",
    "for c in ls_company:\n",
    "    data_cpc = db_rm_cn_2010.aggregate([\n",
    "        {\"$match\" : {\"current_assignee\":{\"$regex\":c}}},\n",
    "        {\"$unwind\" : \"$current_assignee\"},\n",
    "        {\"$unwind\" : \"$classification\"},\n",
    "        {\"$project\" : {\"class\": {\"$split\": [\"$classification\", \"/\"]}, \"qty\":1}},\n",
    "        {\"$unwind\" : \"$class\"},\n",
    "        {\"$group\" : {\"_id\" : \"$class\", \"count\":{\"$sum\":1}}},\n",
    "        {\"$sort\": {\"count\":-1}}\n",
    "        # {\"$limit\":5}\n",
    "    ])\n",
    "    \n",
    "\n",
    "    for data in data_cpc:\n",
    "        #print(data)\n",
    "        ls_c.append(c)\n",
    "        ls_cpc.append(data[\"_id\"])\n",
    "        ls_count.append(data[\"count\"])\n",
    "        \n",
    "df_cpc = pd.DataFrame((zip(ls_c, ls_cpc, ls_count)), columns = ['company', 'cpc', 'count'])\n",
    "df_cpc.head()"
   ]
  },
  {
   "cell_type": "code",
   "execution_count": 16,
   "id": "ceab0d64",
   "metadata": {},
   "outputs": [
    {
     "data": {
      "text/plain": [
       "(311, 3)"
      ]
     },
     "execution_count": 16,
     "metadata": {},
     "output_type": "execute_result"
    }
   ],
   "source": [
    "df_cpc.shape"
   ]
  },
  {
   "cell_type": "code",
   "execution_count": null,
   "id": "fdc27c5c",
   "metadata": {},
   "outputs": [],
   "source": []
  },
  {
   "cell_type": "code",
   "execution_count": 17,
   "id": "06928032",
   "metadata": {},
   "outputs": [],
   "source": [
    "# 取cpc前3碼\n",
    "df_cpc[\"cpc_n\"] = df_cpc.cpc.apply(lambda x: x[0:3])"
   ]
  },
  {
   "cell_type": "code",
   "execution_count": 18,
   "id": "3e61fb9c",
   "metadata": {},
   "outputs": [],
   "source": [
    "# 轉成company-cpc 的總數表格\n",
    "table_cn = df_cpc.pivot_table(index='company', values='count', columns='cpc_n',aggfunc=['sum']).fillna(0).reset_index()\n",
    "table_cn = table_cn.droplevel(level=0, axis=1)\n",
    "table_cn = table_cn.rename(columns={'':'company'})"
   ]
  },
  {
   "cell_type": "code",
   "execution_count": 19,
   "id": "3bdbe8be",
   "metadata": {},
   "outputs": [
    {
     "data": {
      "text/html": [
       "<div>\n",
       "<style scoped>\n",
       "    .dataframe tbody tr th:only-of-type {\n",
       "        vertical-align: middle;\n",
       "    }\n",
       "\n",
       "    .dataframe tbody tr th {\n",
       "        vertical-align: top;\n",
       "    }\n",
       "\n",
       "    .dataframe thead th {\n",
       "        text-align: right;\n",
       "    }\n",
       "</style>\n",
       "<table border=\"1\" class=\"dataframe\">\n",
       "  <thead>\n",
       "    <tr style=\"text-align: right;\">\n",
       "      <th>cpc_n</th>\n",
       "      <th>company</th>\n",
       "      <th>A61</th>\n",
       "      <th>B21</th>\n",
       "      <th>B23</th>\n",
       "      <th>B25</th>\n",
       "      <th>B60</th>\n",
       "      <th>C07</th>\n",
       "      <th>C08</th>\n",
       "      <th>C12</th>\n",
       "      <th>C25</th>\n",
       "      <th>...</th>\n",
       "      <th>G05</th>\n",
       "      <th>G06</th>\n",
       "      <th>G11</th>\n",
       "      <th>H01</th>\n",
       "      <th>H02</th>\n",
       "      <th>H03</th>\n",
       "      <th>H04</th>\n",
       "      <th>H05</th>\n",
       "      <th>Y02</th>\n",
       "      <th>Y10</th>\n",
       "    </tr>\n",
       "  </thead>\n",
       "  <tbody>\n",
       "    <tr>\n",
       "      <th>0</th>\n",
       "      <td>Baishan Power Plant</td>\n",
       "      <td>0.0</td>\n",
       "      <td>0.0</td>\n",
       "      <td>0.0</td>\n",
       "      <td>0.0</td>\n",
       "      <td>0.0</td>\n",
       "      <td>0.0</td>\n",
       "      <td>0.0</td>\n",
       "      <td>0.0</td>\n",
       "      <td>0.0</td>\n",
       "      <td>...</td>\n",
       "      <td>0.0</td>\n",
       "      <td>0.0</td>\n",
       "      <td>0.0</td>\n",
       "      <td>0.0</td>\n",
       "      <td>0.0</td>\n",
       "      <td>0.0</td>\n",
       "      <td>0.0</td>\n",
       "      <td>0.0</td>\n",
       "      <td>4.0</td>\n",
       "      <td>0.0</td>\n",
       "    </tr>\n",
       "    <tr>\n",
       "      <th>1</th>\n",
       "      <td>Baoshan Iron and Steel Co Ltd</td>\n",
       "      <td>0.0</td>\n",
       "      <td>0.0</td>\n",
       "      <td>0.0</td>\n",
       "      <td>0.0</td>\n",
       "      <td>0.0</td>\n",
       "      <td>0.0</td>\n",
       "      <td>0.0</td>\n",
       "      <td>0.0</td>\n",
       "      <td>0.0</td>\n",
       "      <td>...</td>\n",
       "      <td>0.0</td>\n",
       "      <td>1.0</td>\n",
       "      <td>0.0</td>\n",
       "      <td>0.0</td>\n",
       "      <td>0.0</td>\n",
       "      <td>0.0</td>\n",
       "      <td>0.0</td>\n",
       "      <td>0.0</td>\n",
       "      <td>0.0</td>\n",
       "      <td>0.0</td>\n",
       "    </tr>\n",
       "    <tr>\n",
       "      <th>2</th>\n",
       "      <td>Beijing Samsung Telecommunications Technology ...</td>\n",
       "      <td>0.0</td>\n",
       "      <td>0.0</td>\n",
       "      <td>0.0</td>\n",
       "      <td>0.0</td>\n",
       "      <td>0.0</td>\n",
       "      <td>0.0</td>\n",
       "      <td>0.0</td>\n",
       "      <td>0.0</td>\n",
       "      <td>0.0</td>\n",
       "      <td>...</td>\n",
       "      <td>0.0</td>\n",
       "      <td>0.0</td>\n",
       "      <td>0.0</td>\n",
       "      <td>0.0</td>\n",
       "      <td>0.0</td>\n",
       "      <td>0.0</td>\n",
       "      <td>14.0</td>\n",
       "      <td>0.0</td>\n",
       "      <td>2.0</td>\n",
       "      <td>0.0</td>\n",
       "    </tr>\n",
       "    <tr>\n",
       "      <th>3</th>\n",
       "      <td>Beijing University of Technology</td>\n",
       "      <td>0.0</td>\n",
       "      <td>4.0</td>\n",
       "      <td>6.0</td>\n",
       "      <td>0.0</td>\n",
       "      <td>0.0</td>\n",
       "      <td>0.0</td>\n",
       "      <td>0.0</td>\n",
       "      <td>0.0</td>\n",
       "      <td>0.0</td>\n",
       "      <td>...</td>\n",
       "      <td>0.0</td>\n",
       "      <td>0.0</td>\n",
       "      <td>0.0</td>\n",
       "      <td>0.0</td>\n",
       "      <td>0.0</td>\n",
       "      <td>0.0</td>\n",
       "      <td>0.0</td>\n",
       "      <td>0.0</td>\n",
       "      <td>0.0</td>\n",
       "      <td>0.0</td>\n",
       "    </tr>\n",
       "    <tr>\n",
       "      <th>4</th>\n",
       "      <td>Chengdu Monolithic Power Systems Co Ltd</td>\n",
       "      <td>0.0</td>\n",
       "      <td>0.0</td>\n",
       "      <td>0.0</td>\n",
       "      <td>0.0</td>\n",
       "      <td>0.0</td>\n",
       "      <td>0.0</td>\n",
       "      <td>0.0</td>\n",
       "      <td>0.0</td>\n",
       "      <td>0.0</td>\n",
       "      <td>...</td>\n",
       "      <td>0.0</td>\n",
       "      <td>0.0</td>\n",
       "      <td>0.0</td>\n",
       "      <td>0.0</td>\n",
       "      <td>1.0</td>\n",
       "      <td>0.0</td>\n",
       "      <td>0.0</td>\n",
       "      <td>4.0</td>\n",
       "      <td>0.0</td>\n",
       "      <td>0.0</td>\n",
       "    </tr>\n",
       "  </tbody>\n",
       "</table>\n",
       "<p>5 rows × 23 columns</p>\n",
       "</div>"
      ],
      "text/plain": [
       "cpc_n                                            company  A61  B21  B23  B25  \\\n",
       "0                                    Baishan Power Plant  0.0  0.0  0.0  0.0   \n",
       "1                          Baoshan Iron and Steel Co Ltd  0.0  0.0  0.0  0.0   \n",
       "2      Beijing Samsung Telecommunications Technology ...  0.0  0.0  0.0  0.0   \n",
       "3                       Beijing University of Technology  0.0  4.0  6.0  0.0   \n",
       "4                Chengdu Monolithic Power Systems Co Ltd  0.0  0.0  0.0  0.0   \n",
       "\n",
       "cpc_n  B60  C07  C08  C12  C25  ...  G05  G06  G11  H01  H02  H03   H04  H05  \\\n",
       "0      0.0  0.0  0.0  0.0  0.0  ...  0.0  0.0  0.0  0.0  0.0  0.0   0.0  0.0   \n",
       "1      0.0  0.0  0.0  0.0  0.0  ...  0.0  1.0  0.0  0.0  0.0  0.0   0.0  0.0   \n",
       "2      0.0  0.0  0.0  0.0  0.0  ...  0.0  0.0  0.0  0.0  0.0  0.0  14.0  0.0   \n",
       "3      0.0  0.0  0.0  0.0  0.0  ...  0.0  0.0  0.0  0.0  0.0  0.0   0.0  0.0   \n",
       "4      0.0  0.0  0.0  0.0  0.0  ...  0.0  0.0  0.0  0.0  1.0  0.0   0.0  4.0   \n",
       "\n",
       "cpc_n  Y02  Y10  \n",
       "0      4.0  0.0  \n",
       "1      0.0  0.0  \n",
       "2      2.0  0.0  \n",
       "3      0.0  0.0  \n",
       "4      0.0  0.0  \n",
       "\n",
       "[5 rows x 23 columns]"
      ]
     },
     "execution_count": 19,
     "metadata": {},
     "output_type": "execute_result"
    }
   ],
   "source": [
    "# 取有英文的部份\n",
    "c_ls_cn = [c for c in table_cn.columns if re.search('[A-Za-z]', c)]\n",
    "final_table_cn = table_cn[c_ls_cn]\n",
    "final_table_cn.head()"
   ]
  },
  {
   "cell_type": "code",
   "execution_count": 20,
   "id": "54fda7f1",
   "metadata": {},
   "outputs": [
    {
     "data": {
      "text/plain": [
       "(44, 23)"
      ]
     },
     "execution_count": 20,
     "metadata": {},
     "output_type": "execute_result"
    }
   ],
   "source": [
    "final_table_cn.shape"
   ]
  },
  {
   "cell_type": "code",
   "execution_count": 21,
   "id": "19dba301",
   "metadata": {},
   "outputs": [],
   "source": [
    "final_table_cn.to_csv('rm_company_cpc_cn_2010.csv',index=0)"
   ]
  },
  {
   "cell_type": "code",
   "execution_count": null,
   "id": "6467a26c",
   "metadata": {},
   "outputs": [],
   "source": []
  },
  {
   "cell_type": "markdown",
   "id": "bed90a69",
   "metadata": {},
   "source": [
    "把final_table資料存進MongoDB"
   ]
  },
  {
   "cell_type": "code",
   "execution_count": 22,
   "id": "92d115ac",
   "metadata": {},
   "outputs": [],
   "source": [
    "mongoURI = \"mongodb://%s:%s@%s/%s?authMechanism=SCRAM-SHA-1\" % (\"eva\", \"eva_30241\", \"140.117.69.70:30241\", \"eva\")\n",
    "\n",
    "conn = pymongo.MongoClient(mongoURI)\n",
    "db = conn.eva\n",
    "conn_db_collection_rm = db.rm_company_cpc_cn_2010"
   ]
  },
  {
   "cell_type": "code",
   "execution_count": 33,
   "id": "f8096a26",
   "metadata": {},
   "outputs": [],
   "source": [
    "# title\n",
    "conn_db_collection_rm.insert_one({\"company\":final_table_us.columns.tolist()[0],\"cpc\":final_table_us.columns.tolist()[1:]})\n",
    "\n",
    "# 內容\n",
    "for k in final_table_us.values.tolist():\n",
    "    # print({\"company\":k[0],\"cpc\":k[1:]})\n",
    "    conn_db_collection_rm.insert_one({\"company\":k[0],\"cpc\":k[1:]})"
   ]
  },
  {
   "cell_type": "code",
   "execution_count": null,
   "id": "5cf58521",
   "metadata": {},
   "outputs": [],
   "source": []
  },
  {
   "cell_type": "code",
   "execution_count": null,
   "id": "026105be",
   "metadata": {},
   "outputs": [],
   "source": []
  },
  {
   "cell_type": "markdown",
   "id": "873cb0c3",
   "metadata": {},
   "source": [
    "### US"
   ]
  },
  {
   "cell_type": "code",
   "execution_count": 24,
   "id": "e5294e42",
   "metadata": {
    "tags": []
   },
   "outputs": [],
   "source": [
    "data_assignee = db_rm_us_2010.aggregate( [ \n",
    "    {\"$unwind\" : \"$current_assignee\"},\n",
    "    {\"$group\" : {\"_id\" : \"$current_assignee\", \"count\":{\"$sum\":1}}},\n",
    "    {\"$sort\": {\"count\":-1}}\n",
    "\n",
    " ] )\n",
    "\n",
    "\n",
    "ls_company = []\n",
    "ls_count = []\n",
    "for data in data_assignee:\n",
    "    # print(data[\"_id\"])\n",
    "    ls_company.append(data[\"_id\"].replace(\"))\",\")\"))\n",
    "    ls_count.append(data[\"count\"])\n",
    "    \n",
    "# for data in data_assignee:\n",
    "#     print(data)"
   ]
  },
  {
   "cell_type": "code",
   "execution_count": null,
   "id": "e9481f22",
   "metadata": {},
   "outputs": [],
   "source": []
  },
  {
   "cell_type": "code",
   "execution_count": 25,
   "id": "ab5abc45",
   "metadata": {},
   "outputs": [
    {
     "data": {
      "text/html": [
       "<div>\n",
       "<style scoped>\n",
       "    .dataframe tbody tr th:only-of-type {\n",
       "        vertical-align: middle;\n",
       "    }\n",
       "\n",
       "    .dataframe tbody tr th {\n",
       "        vertical-align: top;\n",
       "    }\n",
       "\n",
       "    .dataframe thead th {\n",
       "        text-align: right;\n",
       "    }\n",
       "</style>\n",
       "<table border=\"1\" class=\"dataframe\">\n",
       "  <thead>\n",
       "    <tr style=\"text-align: right;\">\n",
       "      <th></th>\n",
       "      <th>company</th>\n",
       "      <th>cpc</th>\n",
       "      <th>count</th>\n",
       "    </tr>\n",
       "  </thead>\n",
       "  <tbody>\n",
       "    <tr>\n",
       "      <th>0</th>\n",
       "      <td>Xerox Corp</td>\n",
       "      <td>H04N1</td>\n",
       "      <td>6</td>\n",
       "    </tr>\n",
       "    <tr>\n",
       "      <th>1</th>\n",
       "      <td>Xerox Corp</td>\n",
       "      <td>G06F3</td>\n",
       "      <td>5</td>\n",
       "    </tr>\n",
       "    <tr>\n",
       "      <th>2</th>\n",
       "      <td>Xerox Corp</td>\n",
       "      <td>G03G15</td>\n",
       "      <td>2</td>\n",
       "    </tr>\n",
       "    <tr>\n",
       "      <th>3</th>\n",
       "      <td>Xerox Corp</td>\n",
       "      <td>B41J11</td>\n",
       "      <td>2</td>\n",
       "    </tr>\n",
       "    <tr>\n",
       "      <th>4</th>\n",
       "      <td>Xerox Corp</td>\n",
       "      <td>04</td>\n",
       "      <td>2</td>\n",
       "    </tr>\n",
       "  </tbody>\n",
       "</table>\n",
       "</div>"
      ],
      "text/plain": [
       "      company     cpc  count\n",
       "0  Xerox Corp   H04N1      6\n",
       "1  Xerox Corp   G06F3      5\n",
       "2  Xerox Corp  G03G15      2\n",
       "3  Xerox Corp  B41J11      2\n",
       "4  Xerox Corp      04      2"
      ]
     },
     "execution_count": 25,
     "metadata": {},
     "output_type": "execute_result"
    }
   ],
   "source": [
    "ls_c = []\n",
    "ls_cpc = []\n",
    "ls_count = []\n",
    "\n",
    "for c in ls_company:\n",
    "    data_cpc = db_rm_us_2010.aggregate([\n",
    "        {\"$match\" : {\"current_assignee\":{\"$regex\":c}}},\n",
    "        {\"$unwind\" : \"$current_assignee\"},\n",
    "        {\"$unwind\" : \"$classification\"},\n",
    "        {\"$project\" : {\"class\": {\"$split\": [\"$classification\", \"/\"]}, \"qty\":1}},\n",
    "        {\"$unwind\" : \"$class\"},\n",
    "        {\"$group\" : {\"_id\" : \"$class\", \"count\":{\"$sum\":1}}},\n",
    "        {\"$sort\": {\"count\":-1}}\n",
    "        # {\"$limit\":5}\n",
    "    ])\n",
    "    \n",
    "\n",
    "    for data in data_cpc:\n",
    "        #print(data)\n",
    "        ls_c.append(c)\n",
    "        ls_cpc.append(data[\"_id\"])\n",
    "        ls_count.append(data[\"count\"])\n",
    "        \n",
    "df_cpc = pd.DataFrame((zip(ls_c, ls_cpc, ls_count)), columns = ['company', 'cpc', 'count'])\n",
    "df_cpc.head()"
   ]
  },
  {
   "cell_type": "code",
   "execution_count": 26,
   "id": "e0df5cb6",
   "metadata": {},
   "outputs": [
    {
     "data": {
      "text/plain": [
       "(195, 3)"
      ]
     },
     "execution_count": 26,
     "metadata": {},
     "output_type": "execute_result"
    }
   ],
   "source": [
    "df_cpc.shape"
   ]
  },
  {
   "cell_type": "code",
   "execution_count": null,
   "id": "cb71f04f",
   "metadata": {},
   "outputs": [],
   "source": []
  },
  {
   "cell_type": "code",
   "execution_count": 27,
   "id": "5c38def8",
   "metadata": {},
   "outputs": [],
   "source": [
    "# 取cpc前3碼\n",
    "df_cpc[\"cpc_n\"] = df_cpc.cpc.apply(lambda x: x[0:3])"
   ]
  },
  {
   "cell_type": "code",
   "execution_count": 28,
   "id": "bdd13d56",
   "metadata": {},
   "outputs": [],
   "source": [
    "# 轉成company-cpc 的總數表格\n",
    "table_us = df_cpc.pivot_table(index='company', values='count', columns='cpc_n',aggfunc=['sum']).fillna(0).reset_index()\n",
    "table_us = table_us.droplevel(level=0, axis=1)\n",
    "table_us = table_us.rename(columns={'':'company'})"
   ]
  },
  {
   "cell_type": "code",
   "execution_count": 29,
   "id": "589a8cdc",
   "metadata": {},
   "outputs": [
    {
     "data": {
      "text/html": [
       "<div>\n",
       "<style scoped>\n",
       "    .dataframe tbody tr th:only-of-type {\n",
       "        vertical-align: middle;\n",
       "    }\n",
       "\n",
       "    .dataframe tbody tr th {\n",
       "        vertical-align: top;\n",
       "    }\n",
       "\n",
       "    .dataframe thead th {\n",
       "        text-align: right;\n",
       "    }\n",
       "</style>\n",
       "<table border=\"1\" class=\"dataframe\">\n",
       "  <thead>\n",
       "    <tr style=\"text-align: right;\">\n",
       "      <th>cpc_n</th>\n",
       "      <th>company</th>\n",
       "      <th>B41</th>\n",
       "      <th>G01</th>\n",
       "      <th>G03</th>\n",
       "      <th>G06</th>\n",
       "      <th>H01</th>\n",
       "      <th>H04</th>\n",
       "      <th>Y02</th>\n",
       "    </tr>\n",
       "  </thead>\n",
       "  <tbody>\n",
       "    <tr>\n",
       "      <th>0</th>\n",
       "      <td>Alcatel Lucent SAS</td>\n",
       "      <td>0.0</td>\n",
       "      <td>0.0</td>\n",
       "      <td>0.0</td>\n",
       "      <td>0.0</td>\n",
       "      <td>0.0</td>\n",
       "      <td>8.0</td>\n",
       "      <td>0.0</td>\n",
       "    </tr>\n",
       "    <tr>\n",
       "      <th>1</th>\n",
       "      <td>BlackBerry Ltd</td>\n",
       "      <td>0.0</td>\n",
       "      <td>0.0</td>\n",
       "      <td>0.0</td>\n",
       "      <td>0.0</td>\n",
       "      <td>0.0</td>\n",
       "      <td>4.0</td>\n",
       "      <td>0.0</td>\n",
       "    </tr>\n",
       "    <tr>\n",
       "      <th>2</th>\n",
       "      <td>Boeing Co</td>\n",
       "      <td>0.0</td>\n",
       "      <td>0.0</td>\n",
       "      <td>0.0</td>\n",
       "      <td>0.0</td>\n",
       "      <td>0.0</td>\n",
       "      <td>1.0</td>\n",
       "      <td>0.0</td>\n",
       "    </tr>\n",
       "    <tr>\n",
       "      <th>3</th>\n",
       "      <td>CALABAZAS CREEK RESEARCH Inc</td>\n",
       "      <td>0.0</td>\n",
       "      <td>0.0</td>\n",
       "      <td>0.0</td>\n",
       "      <td>0.0</td>\n",
       "      <td>6.0</td>\n",
       "      <td>0.0</td>\n",
       "      <td>0.0</td>\n",
       "    </tr>\n",
       "    <tr>\n",
       "      <th>4</th>\n",
       "      <td>Calabazas Creek Res Center Inc</td>\n",
       "      <td>0.0</td>\n",
       "      <td>0.0</td>\n",
       "      <td>0.0</td>\n",
       "      <td>0.0</td>\n",
       "      <td>6.0</td>\n",
       "      <td>0.0</td>\n",
       "      <td>0.0</td>\n",
       "    </tr>\n",
       "  </tbody>\n",
       "</table>\n",
       "</div>"
      ],
      "text/plain": [
       "cpc_n                         company  B41  G01  G03  G06  H01  H04  Y02\n",
       "0                  Alcatel Lucent SAS  0.0  0.0  0.0  0.0  0.0  8.0  0.0\n",
       "1                      BlackBerry Ltd  0.0  0.0  0.0  0.0  0.0  4.0  0.0\n",
       "2                           Boeing Co  0.0  0.0  0.0  0.0  0.0  1.0  0.0\n",
       "3        CALABAZAS CREEK RESEARCH Inc  0.0  0.0  0.0  0.0  6.0  0.0  0.0\n",
       "4      Calabazas Creek Res Center Inc  0.0  0.0  0.0  0.0  6.0  0.0  0.0"
      ]
     },
     "execution_count": 29,
     "metadata": {},
     "output_type": "execute_result"
    }
   ],
   "source": [
    "# 取有英文的部份\n",
    "c_ls_us = [c for c in table_us.columns if re.search('[A-Za-z]', c)]\n",
    "final_table_us = table_us[c_ls_us]\n",
    "final_table_us.head()"
   ]
  },
  {
   "cell_type": "code",
   "execution_count": 30,
   "id": "325c0a04",
   "metadata": {},
   "outputs": [
    {
     "data": {
      "text/plain": [
       "(17, 8)"
      ]
     },
     "execution_count": 30,
     "metadata": {},
     "output_type": "execute_result"
    }
   ],
   "source": [
    "final_table_us.shape"
   ]
  },
  {
   "cell_type": "code",
   "execution_count": 31,
   "id": "a8ebdffd",
   "metadata": {},
   "outputs": [],
   "source": [
    "final_table_us.to_csv('rm_company_cpc_us_2010.csv',index=0)"
   ]
  },
  {
   "cell_type": "code",
   "execution_count": null,
   "id": "df22a3bb",
   "metadata": {},
   "outputs": [],
   "source": []
  },
  {
   "cell_type": "markdown",
   "id": "e749f36d",
   "metadata": {},
   "source": [
    "把final_table資料存進MongoDB"
   ]
  },
  {
   "cell_type": "code",
   "execution_count": 32,
   "id": "15842dba",
   "metadata": {},
   "outputs": [],
   "source": [
    "mongoURI = \"mongodb://%s:%s@%s/%s?authMechanism=SCRAM-SHA-1\" % (\"eva\", \"eva_30241\", \"140.117.69.70:30241\", \"eva\")\n",
    "\n",
    "conn = pymongo.MongoClient(mongoURI)\n",
    "db = conn.eva\n",
    "conn_db_collection_rm = db.rm_company_cpc_us_2010"
   ]
  },
  {
   "cell_type": "code",
   "execution_count": 33,
   "id": "7fa26ca2",
   "metadata": {},
   "outputs": [],
   "source": [
    "# title\n",
    "conn_db_collection_rm.insert_one({\"company\":final_table_us.columns.tolist()[0],\"cpc\":final_table_us.columns.tolist()[1:]})\n",
    "\n",
    "# 內容\n",
    "for k in final_table_us.values.tolist():\n",
    "    # print({\"company\":k[0],\"cpc\":k[1:]})\n",
    "    conn_db_collection_rm.insert_one({\"company\":k[0],\"cpc\":k[1:]})"
   ]
  },
  {
   "cell_type": "code",
   "execution_count": null,
   "id": "f62411d2",
   "metadata": {},
   "outputs": [],
   "source": []
  },
  {
   "cell_type": "markdown",
   "id": "06345a1a",
   "metadata": {},
   "source": [
    "### 合併"
   ]
  },
  {
   "cell_type": "code",
   "execution_count": 34,
   "id": "3cbfe180",
   "metadata": {
    "scrolled": true,
    "tags": []
   },
   "outputs": [
    {
     "data": {
      "text/html": [
       "<div>\n",
       "<style scoped>\n",
       "    .dataframe tbody tr th:only-of-type {\n",
       "        vertical-align: middle;\n",
       "    }\n",
       "\n",
       "    .dataframe tbody tr th {\n",
       "        vertical-align: top;\n",
       "    }\n",
       "\n",
       "    .dataframe thead th {\n",
       "        text-align: right;\n",
       "    }\n",
       "</style>\n",
       "<table border=\"1\" class=\"dataframe\">\n",
       "  <thead>\n",
       "    <tr style=\"text-align: right;\">\n",
       "      <th>cpc_n</th>\n",
       "      <th>company</th>\n",
       "      <th>A61</th>\n",
       "      <th>B21</th>\n",
       "      <th>B23</th>\n",
       "      <th>B25</th>\n",
       "      <th>B41</th>\n",
       "      <th>B60</th>\n",
       "      <th>C07</th>\n",
       "      <th>C08</th>\n",
       "      <th>C12</th>\n",
       "      <th>...</th>\n",
       "      <th>G05</th>\n",
       "      <th>G06</th>\n",
       "      <th>G11</th>\n",
       "      <th>H01</th>\n",
       "      <th>H02</th>\n",
       "      <th>H03</th>\n",
       "      <th>H04</th>\n",
       "      <th>H05</th>\n",
       "      <th>Y02</th>\n",
       "      <th>Y10</th>\n",
       "    </tr>\n",
       "  </thead>\n",
       "  <tbody>\n",
       "    <tr>\n",
       "      <th>0</th>\n",
       "      <td>Baishan Power Plant</td>\n",
       "      <td>0.0</td>\n",
       "      <td>0.0</td>\n",
       "      <td>0.0</td>\n",
       "      <td>0.0</td>\n",
       "      <td>0.0</td>\n",
       "      <td>0.0</td>\n",
       "      <td>0.0</td>\n",
       "      <td>0.0</td>\n",
       "      <td>0.0</td>\n",
       "      <td>...</td>\n",
       "      <td>0.0</td>\n",
       "      <td>0.0</td>\n",
       "      <td>0.0</td>\n",
       "      <td>0.0</td>\n",
       "      <td>0.0</td>\n",
       "      <td>0.0</td>\n",
       "      <td>0.0</td>\n",
       "      <td>0.0</td>\n",
       "      <td>4.0</td>\n",
       "      <td>0.0</td>\n",
       "    </tr>\n",
       "    <tr>\n",
       "      <th>1</th>\n",
       "      <td>Baoshan Iron and Steel Co Ltd</td>\n",
       "      <td>0.0</td>\n",
       "      <td>0.0</td>\n",
       "      <td>0.0</td>\n",
       "      <td>0.0</td>\n",
       "      <td>0.0</td>\n",
       "      <td>0.0</td>\n",
       "      <td>0.0</td>\n",
       "      <td>0.0</td>\n",
       "      <td>0.0</td>\n",
       "      <td>...</td>\n",
       "      <td>0.0</td>\n",
       "      <td>1.0</td>\n",
       "      <td>0.0</td>\n",
       "      <td>0.0</td>\n",
       "      <td>0.0</td>\n",
       "      <td>0.0</td>\n",
       "      <td>0.0</td>\n",
       "      <td>0.0</td>\n",
       "      <td>0.0</td>\n",
       "      <td>0.0</td>\n",
       "    </tr>\n",
       "    <tr>\n",
       "      <th>2</th>\n",
       "      <td>Beijing Samsung Telecommunications Technology ...</td>\n",
       "      <td>0.0</td>\n",
       "      <td>0.0</td>\n",
       "      <td>0.0</td>\n",
       "      <td>0.0</td>\n",
       "      <td>0.0</td>\n",
       "      <td>0.0</td>\n",
       "      <td>0.0</td>\n",
       "      <td>0.0</td>\n",
       "      <td>0.0</td>\n",
       "      <td>...</td>\n",
       "      <td>0.0</td>\n",
       "      <td>0.0</td>\n",
       "      <td>0.0</td>\n",
       "      <td>0.0</td>\n",
       "      <td>0.0</td>\n",
       "      <td>0.0</td>\n",
       "      <td>14.0</td>\n",
       "      <td>0.0</td>\n",
       "      <td>2.0</td>\n",
       "      <td>0.0</td>\n",
       "    </tr>\n",
       "    <tr>\n",
       "      <th>3</th>\n",
       "      <td>Beijing University of Technology</td>\n",
       "      <td>0.0</td>\n",
       "      <td>4.0</td>\n",
       "      <td>6.0</td>\n",
       "      <td>0.0</td>\n",
       "      <td>0.0</td>\n",
       "      <td>0.0</td>\n",
       "      <td>0.0</td>\n",
       "      <td>0.0</td>\n",
       "      <td>0.0</td>\n",
       "      <td>...</td>\n",
       "      <td>0.0</td>\n",
       "      <td>0.0</td>\n",
       "      <td>0.0</td>\n",
       "      <td>0.0</td>\n",
       "      <td>0.0</td>\n",
       "      <td>0.0</td>\n",
       "      <td>0.0</td>\n",
       "      <td>0.0</td>\n",
       "      <td>0.0</td>\n",
       "      <td>0.0</td>\n",
       "    </tr>\n",
       "    <tr>\n",
       "      <th>4</th>\n",
       "      <td>Chengdu Monolithic Power Systems Co Ltd</td>\n",
       "      <td>0.0</td>\n",
       "      <td>0.0</td>\n",
       "      <td>0.0</td>\n",
       "      <td>0.0</td>\n",
       "      <td>0.0</td>\n",
       "      <td>0.0</td>\n",
       "      <td>0.0</td>\n",
       "      <td>0.0</td>\n",
       "      <td>0.0</td>\n",
       "      <td>...</td>\n",
       "      <td>0.0</td>\n",
       "      <td>0.0</td>\n",
       "      <td>0.0</td>\n",
       "      <td>0.0</td>\n",
       "      <td>1.0</td>\n",
       "      <td>0.0</td>\n",
       "      <td>0.0</td>\n",
       "      <td>4.0</td>\n",
       "      <td>0.0</td>\n",
       "      <td>0.0</td>\n",
       "    </tr>\n",
       "  </tbody>\n",
       "</table>\n",
       "<p>5 rows × 25 columns</p>\n",
       "</div>"
      ],
      "text/plain": [
       "cpc_n                                            company  A61  B21  B23  B25  \\\n",
       "0                                    Baishan Power Plant  0.0  0.0  0.0  0.0   \n",
       "1                          Baoshan Iron and Steel Co Ltd  0.0  0.0  0.0  0.0   \n",
       "2      Beijing Samsung Telecommunications Technology ...  0.0  0.0  0.0  0.0   \n",
       "3                       Beijing University of Technology  0.0  4.0  6.0  0.0   \n",
       "4                Chengdu Monolithic Power Systems Co Ltd  0.0  0.0  0.0  0.0   \n",
       "\n",
       "cpc_n  B41  B60  C07  C08  C12  ...  G05  G06  G11  H01  H02  H03   H04  H05  \\\n",
       "0      0.0  0.0  0.0  0.0  0.0  ...  0.0  0.0  0.0  0.0  0.0  0.0   0.0  0.0   \n",
       "1      0.0  0.0  0.0  0.0  0.0  ...  0.0  1.0  0.0  0.0  0.0  0.0   0.0  0.0   \n",
       "2      0.0  0.0  0.0  0.0  0.0  ...  0.0  0.0  0.0  0.0  0.0  0.0  14.0  0.0   \n",
       "3      0.0  0.0  0.0  0.0  0.0  ...  0.0  0.0  0.0  0.0  0.0  0.0   0.0  0.0   \n",
       "4      0.0  0.0  0.0  0.0  0.0  ...  0.0  0.0  0.0  0.0  1.0  0.0   0.0  4.0   \n",
       "\n",
       "cpc_n  Y02  Y10  \n",
       "0      4.0  0.0  \n",
       "1      0.0  0.0  \n",
       "2      2.0  0.0  \n",
       "3      0.0  0.0  \n",
       "4      0.0  0.0  \n",
       "\n",
       "[5 rows x 25 columns]"
      ]
     },
     "execution_count": 34,
     "metadata": {},
     "output_type": "execute_result"
    }
   ],
   "source": [
    "# concat de cn us\n",
    "# df_c = pd.concat([final_table_de,final_table_cn], join='outer')\n",
    "df_c2 = pd.concat([final_table_cn,final_table_us], join='outer')\n",
    "df_c2 = df_c2.fillna(0)\n",
    "#reset index\n",
    "t = list(df_c2.sort_index(axis=1).columns)\n",
    "df_c2 = df_c2.reindex(columns=[t[-1]]+t[:-1])\n",
    "df_c2.head()"
   ]
  },
  {
   "cell_type": "code",
   "execution_count": 35,
   "id": "e6c61e33",
   "metadata": {
    "scrolled": true,
    "tags": []
   },
   "outputs": [
    {
     "data": {
      "text/html": [
       "<div>\n",
       "<style scoped>\n",
       "    .dataframe tbody tr th:only-of-type {\n",
       "        vertical-align: middle;\n",
       "    }\n",
       "\n",
       "    .dataframe tbody tr th {\n",
       "        vertical-align: top;\n",
       "    }\n",
       "\n",
       "    .dataframe thead th {\n",
       "        text-align: right;\n",
       "    }\n",
       "</style>\n",
       "<table border=\"1\" class=\"dataframe\">\n",
       "  <thead>\n",
       "    <tr style=\"text-align: right;\">\n",
       "      <th>cpc_n</th>\n",
       "      <th>company</th>\n",
       "      <th>A61</th>\n",
       "      <th>B21</th>\n",
       "      <th>B23</th>\n",
       "      <th>B25</th>\n",
       "      <th>B41</th>\n",
       "      <th>B60</th>\n",
       "      <th>C07</th>\n",
       "      <th>C08</th>\n",
       "      <th>C12</th>\n",
       "      <th>...</th>\n",
       "      <th>G05</th>\n",
       "      <th>G06</th>\n",
       "      <th>G11</th>\n",
       "      <th>H01</th>\n",
       "      <th>H02</th>\n",
       "      <th>H03</th>\n",
       "      <th>H04</th>\n",
       "      <th>H05</th>\n",
       "      <th>Y02</th>\n",
       "      <th>Y10</th>\n",
       "    </tr>\n",
       "  </thead>\n",
       "  <tbody>\n",
       "    <tr>\n",
       "      <th>0</th>\n",
       "      <td>Alcatel Lucent SAS</td>\n",
       "      <td>0.0</td>\n",
       "      <td>0.0</td>\n",
       "      <td>0.0</td>\n",
       "      <td>0.0</td>\n",
       "      <td>0.0</td>\n",
       "      <td>0.0</td>\n",
       "      <td>0.0</td>\n",
       "      <td>0.0</td>\n",
       "      <td>0.0</td>\n",
       "      <td>...</td>\n",
       "      <td>0.0</td>\n",
       "      <td>0.0</td>\n",
       "      <td>0.0</td>\n",
       "      <td>0.0</td>\n",
       "      <td>0.0</td>\n",
       "      <td>0.0</td>\n",
       "      <td>8.0</td>\n",
       "      <td>0.0</td>\n",
       "      <td>0.0</td>\n",
       "      <td>0.0</td>\n",
       "    </tr>\n",
       "    <tr>\n",
       "      <th>1</th>\n",
       "      <td>Baishan Power Plant</td>\n",
       "      <td>0.0</td>\n",
       "      <td>0.0</td>\n",
       "      <td>0.0</td>\n",
       "      <td>0.0</td>\n",
       "      <td>0.0</td>\n",
       "      <td>0.0</td>\n",
       "      <td>0.0</td>\n",
       "      <td>0.0</td>\n",
       "      <td>0.0</td>\n",
       "      <td>...</td>\n",
       "      <td>0.0</td>\n",
       "      <td>0.0</td>\n",
       "      <td>0.0</td>\n",
       "      <td>0.0</td>\n",
       "      <td>0.0</td>\n",
       "      <td>0.0</td>\n",
       "      <td>0.0</td>\n",
       "      <td>0.0</td>\n",
       "      <td>4.0</td>\n",
       "      <td>0.0</td>\n",
       "    </tr>\n",
       "    <tr>\n",
       "      <th>2</th>\n",
       "      <td>Baoshan Iron and Steel Co Ltd</td>\n",
       "      <td>0.0</td>\n",
       "      <td>0.0</td>\n",
       "      <td>0.0</td>\n",
       "      <td>0.0</td>\n",
       "      <td>0.0</td>\n",
       "      <td>0.0</td>\n",
       "      <td>0.0</td>\n",
       "      <td>0.0</td>\n",
       "      <td>0.0</td>\n",
       "      <td>...</td>\n",
       "      <td>0.0</td>\n",
       "      <td>1.0</td>\n",
       "      <td>0.0</td>\n",
       "      <td>0.0</td>\n",
       "      <td>0.0</td>\n",
       "      <td>0.0</td>\n",
       "      <td>0.0</td>\n",
       "      <td>0.0</td>\n",
       "      <td>0.0</td>\n",
       "      <td>0.0</td>\n",
       "    </tr>\n",
       "    <tr>\n",
       "      <th>3</th>\n",
       "      <td>Beijing Samsung Telecommunications Technology ...</td>\n",
       "      <td>0.0</td>\n",
       "      <td>0.0</td>\n",
       "      <td>0.0</td>\n",
       "      <td>0.0</td>\n",
       "      <td>0.0</td>\n",
       "      <td>0.0</td>\n",
       "      <td>0.0</td>\n",
       "      <td>0.0</td>\n",
       "      <td>0.0</td>\n",
       "      <td>...</td>\n",
       "      <td>0.0</td>\n",
       "      <td>0.0</td>\n",
       "      <td>0.0</td>\n",
       "      <td>0.0</td>\n",
       "      <td>0.0</td>\n",
       "      <td>0.0</td>\n",
       "      <td>14.0</td>\n",
       "      <td>0.0</td>\n",
       "      <td>2.0</td>\n",
       "      <td>0.0</td>\n",
       "    </tr>\n",
       "    <tr>\n",
       "      <th>4</th>\n",
       "      <td>Beijing University of Technology</td>\n",
       "      <td>0.0</td>\n",
       "      <td>4.0</td>\n",
       "      <td>6.0</td>\n",
       "      <td>0.0</td>\n",
       "      <td>0.0</td>\n",
       "      <td>0.0</td>\n",
       "      <td>0.0</td>\n",
       "      <td>0.0</td>\n",
       "      <td>0.0</td>\n",
       "      <td>...</td>\n",
       "      <td>0.0</td>\n",
       "      <td>0.0</td>\n",
       "      <td>0.0</td>\n",
       "      <td>0.0</td>\n",
       "      <td>0.0</td>\n",
       "      <td>0.0</td>\n",
       "      <td>0.0</td>\n",
       "      <td>0.0</td>\n",
       "      <td>0.0</td>\n",
       "      <td>0.0</td>\n",
       "    </tr>\n",
       "  </tbody>\n",
       "</table>\n",
       "<p>5 rows × 25 columns</p>\n",
       "</div>"
      ],
      "text/plain": [
       "cpc_n                                            company  A61  B21  B23  B25  \\\n",
       "0                                     Alcatel Lucent SAS  0.0  0.0  0.0  0.0   \n",
       "1                                    Baishan Power Plant  0.0  0.0  0.0  0.0   \n",
       "2                          Baoshan Iron and Steel Co Ltd  0.0  0.0  0.0  0.0   \n",
       "3      Beijing Samsung Telecommunications Technology ...  0.0  0.0  0.0  0.0   \n",
       "4                       Beijing University of Technology  0.0  4.0  6.0  0.0   \n",
       "\n",
       "cpc_n  B41  B60  C07  C08  C12  ...  G05  G06  G11  H01  H02  H03   H04  H05  \\\n",
       "0      0.0  0.0  0.0  0.0  0.0  ...  0.0  0.0  0.0  0.0  0.0  0.0   8.0  0.0   \n",
       "1      0.0  0.0  0.0  0.0  0.0  ...  0.0  0.0  0.0  0.0  0.0  0.0   0.0  0.0   \n",
       "2      0.0  0.0  0.0  0.0  0.0  ...  0.0  1.0  0.0  0.0  0.0  0.0   0.0  0.0   \n",
       "3      0.0  0.0  0.0  0.0  0.0  ...  0.0  0.0  0.0  0.0  0.0  0.0  14.0  0.0   \n",
       "4      0.0  0.0  0.0  0.0  0.0  ...  0.0  0.0  0.0  0.0  0.0  0.0   0.0  0.0   \n",
       "\n",
       "cpc_n  Y02  Y10  \n",
       "0      0.0  0.0  \n",
       "1      4.0  0.0  \n",
       "2      0.0  0.0  \n",
       "3      2.0  0.0  \n",
       "4      0.0  0.0  \n",
       "\n",
       "[5 rows x 25 columns]"
      ]
     },
     "execution_count": 35,
     "metadata": {},
     "output_type": "execute_result"
    }
   ],
   "source": [
    "# 合併重複的公司\n",
    "df_c2 = df_c2.groupby(df_c2.company, axis=0).sum().reset_index()\n",
    "df_c2.head()"
   ]
  },
  {
   "cell_type": "code",
   "execution_count": 36,
   "id": "1f3a3392",
   "metadata": {},
   "outputs": [],
   "source": [
    "df_c2.to_csv('rm_company_cpc_all_2010.csv',index=0)"
   ]
  },
  {
   "cell_type": "code",
   "execution_count": null,
   "id": "7ba3699c",
   "metadata": {},
   "outputs": [],
   "source": []
  },
  {
   "cell_type": "code",
   "execution_count": 37,
   "id": "8cb05a4e",
   "metadata": {},
   "outputs": [],
   "source": [
    "mongoURI = \"mongodb://%s:%s@%s/%s?authMechanism=SCRAM-SHA-1\" % (\"eva\", \"eva_30241\", \"140.117.69.70:30241\", \"eva\")\n",
    "\n",
    "conn = pymongo.MongoClient(mongoURI)\n",
    "db = conn.eva\n",
    "conn_db_collection = db.rm_company_cpc_all_2010"
   ]
  },
  {
   "cell_type": "code",
   "execution_count": 38,
   "id": "52f9885c",
   "metadata": {},
   "outputs": [],
   "source": [
    "# title\n",
    "conn_db_collection.insert_one({\"company\":df_c2.columns.tolist()[0],\"cpc\":df_c2.columns.tolist()[1:]})\n",
    "\n",
    "# 內容\n",
    "for k in df_c2.values.tolist():\n",
    "    # print({\"company\":k[0],\"cpc\":k[1:]})\n",
    "    conn_db_collection.insert_one({\"company\":k[0],\"cpc\":k[1:]})"
   ]
  },
  {
   "cell_type": "code",
   "execution_count": null,
   "id": "8f14a2b9",
   "metadata": {},
   "outputs": [],
   "source": []
  },
  {
   "cell_type": "code",
   "execution_count": null,
   "id": "101d0b45",
   "metadata": {},
   "outputs": [],
   "source": []
  },
  {
   "cell_type": "code",
   "execution_count": null,
   "id": "aca3024b-c038-4d5c-aa31-e36ee0d7ce2a",
   "metadata": {},
   "outputs": [],
   "source": []
  },
  {
   "cell_type": "code",
   "execution_count": null,
   "id": "1aac8e5f-bdd7-4a79-baea-c8e7f50b7901",
   "metadata": {},
   "outputs": [],
   "source": []
  },
  {
   "cell_type": "code",
   "execution_count": null,
   "id": "13644c92-a8bc-4ca8-80e7-a4f01364ae59",
   "metadata": {},
   "outputs": [],
   "source": []
  },
  {
   "cell_type": "code",
   "execution_count": null,
   "id": "50b931f9-b629-4cd7-9230-4c05af5be533",
   "metadata": {},
   "outputs": [],
   "source": []
  }
 ],
 "metadata": {
  "interpreter": {
   "hash": "9f9416c4c9e62b5b07c794535e9673f943082a8a1e44d9c90f1c9a13e36eb6d8"
  },
  "kernelspec": {
   "display_name": "for_paper",
   "language": "python",
   "name": "for_paper"
  },
  "language_info": {
   "codemirror_mode": {
    "name": "ipython",
    "version": 3
   },
   "file_extension": ".py",
   "mimetype": "text/x-python",
   "name": "python",
   "nbconvert_exporter": "python",
   "pygments_lexer": "ipython3",
   "version": "3.8.12"
  }
 },
 "nbformat": 4,
 "nbformat_minor": 5
}
