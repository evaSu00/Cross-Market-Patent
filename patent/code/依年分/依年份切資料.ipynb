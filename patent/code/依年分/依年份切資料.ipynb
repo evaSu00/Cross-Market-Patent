{
 "cells": [
  {
   "cell_type": "code",
   "execution_count": 1,
   "id": "dc38da82-00ed-4415-8a5f-b58493fc3448",
   "metadata": {},
   "outputs": [],
   "source": [
    "from pymongo import MongoClient\n",
    "# from sshtunnel import SSHTunnelForwarder\n",
    "import pymongo\n",
    "from tqdm import tqdm\n",
    "import os\n",
    "import re\n",
    "\n",
    "import numpy as np\n",
    "import pandas as pd\n",
    "\n",
    "import dateutil.parser"
   ]
  },
  {
   "cell_type": "code",
   "execution_count": 2,
   "id": "2cf6accc-a5a6-4b3a-ab21-fc745172c993",
   "metadata": {},
   "outputs": [],
   "source": [
    "# 使用GPU\n",
    "os.environ[\"CUDA_VISIBLE_DEVICES\"]=\"1\""
   ]
  },
  {
   "cell_type": "code",
   "execution_count": 3,
   "id": "935b3c4e-b92e-4ef1-bc02-e1c5492dace4",
   "metadata": {
    "tags": []
   },
   "outputs": [
    {
     "name": "stdout",
     "output_type": "stream",
     "text": [
      "Sun May 29 00:06:34 2022       \n",
      "+-----------------------------------------------------------------------------+\n",
      "| NVIDIA-SMI 470.103.01   Driver Version: 470.103.01   CUDA Version: 11.4     |\n",
      "|-------------------------------+----------------------+----------------------+\n",
      "| GPU  Name        Persistence-M| Bus-Id        Disp.A | Volatile Uncorr. ECC |\n",
      "| Fan  Temp  Perf  Pwr:Usage/Cap|         Memory-Usage | GPU-Util  Compute M. |\n",
      "|                               |                      |               MIG M. |\n",
      "|===============================+======================+======================|\n",
      "|   0  NVIDIA GeForce ...  Off  | 00000000:01:00.0 Off |                  N/A |\n",
      "| 34%   44C    P8    39W / 260W |     22MiB / 11019MiB |      0%      Default |\n",
      "|                               |                      |                  N/A |\n",
      "+-------------------------------+----------------------+----------------------+\n",
      "|   1  NVIDIA GeForce ...  Off  | 00000000:02:00.0 Off |                  N/A |\n",
      "| 29%   37C    P8    39W / 260W |      8MiB / 11019MiB |      0%      Default |\n",
      "|                               |                      |                  N/A |\n",
      "+-------------------------------+----------------------+----------------------+\n",
      "                                                                               \n",
      "+-----------------------------------------------------------------------------+\n",
      "| Processes:                                                                  |\n",
      "|  GPU   GI   CI        PID   Type   Process name                  GPU Memory |\n",
      "|        ID   ID                                                   Usage      |\n",
      "|=============================================================================|\n",
      "|    0   N/A  N/A      1741      G   /usr/lib/xorg/Xorg                  9MiB |\n",
      "|    0   N/A  N/A      2265      G   /usr/bin/gnome-shell                7MiB |\n",
      "|    1   N/A  N/A      1741      G   /usr/lib/xorg/Xorg                  4MiB |\n",
      "+-----------------------------------------------------------------------------+\n"
     ]
    }
   ],
   "source": [
    "! nvidia-smi"
   ]
  },
  {
   "cell_type": "markdown",
   "id": "b60ab0b3-0076-4219-bd61-3b3c6c74e35b",
   "metadata": {
    "tags": []
   },
   "source": [
    "# MongoDB"
   ]
  },
  {
   "cell_type": "code",
   "execution_count": 4,
   "id": "493eab91-6cb2-4b0f-89f7-7cf0cf187897",
   "metadata": {},
   "outputs": [],
   "source": [
    "mongoURI = \"mongodb://%s:%s@%s/%s?authMechanism=SCRAM-SHA-1\" % (\"eva\", \"eva_30241\", \"140.117.69.70:30241\", \"eva\")\n",
    "\n",
    "try:\n",
    "    conn = pymongo.MongoClient(mongoURI)\n",
    "    db = conn.eva\n",
    "    # db_de = db.patent_de\n",
    "    # db_us = db.patent_us\n",
    "    # db_cn = db.patent_cn\n",
    "\n",
    "    db_rm_us = db.rm_patent_us\n",
    "    db_rm_cn = db.rm_patent_cn\n",
    "    db_rm_de = db.rm_patent_de\n",
    "    \n",
    "    # db_cn_5 = db.w_patent_cn_5\n",
    "    # db_cn_10 = db.w_patent_cn_10\n",
    "    # db_us_5 = db.w_patent_us_5\n",
    "    # db_us_10 = db.w_patent_us_10\n",
    "    # db_de_5 = db.w_patent_de_5\n",
    "    # db_de_10 = db.w_patent_de_10\n",
    "except errors.ConnectionFailure as err:\n",
    "    print(err)"
   ]
  },
  {
   "cell_type": "code",
   "execution_count": 5,
   "id": "b7674747-2ded-4c05-a9c7-a7e129f24db7",
   "metadata": {},
   "outputs": [
    {
     "data": {
      "text/plain": [
       "Collection(Database(MongoClient(host=['140.117.69.70:30241'], document_class=dict, tz_aware=False, connect=True, authmechanism='SCRAM-SHA-1'), 'eva'), 'rm_patent_de')"
      ]
     },
     "execution_count": 5,
     "metadata": {},
     "output_type": "execute_result"
    }
   ],
   "source": [
    "db_rm_de"
   ]
  },
  {
   "cell_type": "code",
   "execution_count": null,
   "id": "17f689d8-296a-4de2-83b8-af5b980b5871",
   "metadata": {},
   "outputs": [],
   "source": []
  },
  {
   "cell_type": "markdown",
   "id": "ad481f55-68f9-41fb-a670-81919648b36e",
   "metadata": {
    "tags": []
   },
   "source": [
    "# 使用已去除重複priority的資料依年份切資料"
   ]
  },
  {
   "cell_type": "markdown",
   "id": "769dae68-7657-4b08-90af-f9afac219e31",
   "metadata": {
    "tags": []
   },
   "source": [
    "## 2010"
   ]
  },
  {
   "cell_type": "markdown",
   "id": "eaa871fc-cc60-453e-afeb-0024f8025615",
   "metadata": {},
   "source": [
    "### CN"
   ]
  },
  {
   "cell_type": "code",
   "execution_count": 7,
   "id": "6359ec4b-0da2-4594-ac80-94e99129615b",
   "metadata": {},
   "outputs": [],
   "source": [
    "dateStr = \"2010-01-01T00:00:00.000Z\"\n",
    "start = dateutil.parser.parse(dateStr)\n",
    "\n",
    "dateEnd = \"2010-12-31T00:00:00.000Z\"\n",
    "end = dateutil.parser.parse(dateEnd)"
   ]
  },
  {
   "cell_type": "code",
   "execution_count": 8,
   "id": "dc5d1ed6-2a3d-4171-8316-e0c8fd8befc7",
   "metadata": {},
   "outputs": [],
   "source": [
    "db_cn_2010 = pd.DataFrame(db_rm_cn.aggregate( [ \n",
    "    {\"$addFields\": { \"appDate\":\n",
    "            { \"$dateFromString\": {\n",
    "            \"dateString\": '$appDate',\n",
    "            \"timezone\": 'America/New_York'}\n",
    "            }}\n",
    "        },\n",
    "        {\"$match\": {\n",
    "            \"appDate\": { \"$gte\": start, \"$lte\": end }}\n",
    "        }\n",
    "\n",
    " ] ))"
   ]
  },
  {
   "cell_type": "code",
   "execution_count": 9,
   "id": "e31ac8d8-0bd0-4f16-9e49-36a995e9df81",
   "metadata": {},
   "outputs": [
    {
     "data": {
      "text/plain": [
       "<pymongo.results.InsertManyResult at 0x7f126d0bd440>"
      ]
     },
     "execution_count": 9,
     "metadata": {},
     "output_type": "execute_result"
    }
   ],
   "source": [
    "# 存進MongoDB\n",
    "db.rm_patent_cn_2010.insert_many(db_cn_2010.to_dict('records'))"
   ]
  },
  {
   "cell_type": "code",
   "execution_count": null,
   "id": "cb7db4ff-f597-4d20-b24d-6b3498a6067c",
   "metadata": {},
   "outputs": [],
   "source": []
  },
  {
   "cell_type": "markdown",
   "id": "6a473c2c-2bfe-4287-897c-68ba31a06e94",
   "metadata": {},
   "source": [
    "### DE"
   ]
  },
  {
   "cell_type": "code",
   "execution_count": 15,
   "id": "4a62f0bf-2bdc-424f-8e29-2220b93d760d",
   "metadata": {},
   "outputs": [],
   "source": [
    "db_de_2010 = pd.DataFrame(db_rm_de.aggregate( [ \n",
    "    {\"$addFields\": { \"appDate\":\n",
    "            { \"$dateFromString\": {\n",
    "            \"dateString\": '$appDate',\n",
    "            \"timezone\": 'America/New_York'}\n",
    "            }}\n",
    "        },\n",
    "        {\"$match\": {\n",
    "            \"appDate\": { \"$gte\": start, \"$lte\": end }}\n",
    "        }\n",
    "\n",
    " ] ))"
   ]
  },
  {
   "cell_type": "code",
   "execution_count": 12,
   "id": "d5f01767-274b-4599-88a0-39c067bc4e26",
   "metadata": {
    "scrolled": true,
    "tags": []
   },
   "outputs": [
    {
     "ename": "TypeError",
     "evalue": "documents must be a non-empty list",
     "output_type": "error",
     "traceback": [
      "\u001b[0;31m---------------------------------------------------------------------------\u001b[0m",
      "\u001b[0;31mTypeError\u001b[0m                                 Traceback (most recent call last)",
      "Input \u001b[0;32mIn [12]\u001b[0m, in \u001b[0;36m<cell line: 2>\u001b[0;34m()\u001b[0m\n\u001b[1;32m      1\u001b[0m \u001b[38;5;66;03m# 存進MongoDB\u001b[39;00m\n\u001b[0;32m----> 2\u001b[0m \u001b[43mdb\u001b[49m\u001b[38;5;241;43m.\u001b[39;49m\u001b[43mrm_patent_de_2010\u001b[49m\u001b[38;5;241;43m.\u001b[39;49m\u001b[43minsert_many\u001b[49m\u001b[43m(\u001b[49m\u001b[43mdb_de_2010\u001b[49m\u001b[38;5;241;43m.\u001b[39;49m\u001b[43mto_dict\u001b[49m\u001b[43m(\u001b[49m\u001b[38;5;124;43m'\u001b[39;49m\u001b[38;5;124;43mrecords\u001b[39;49m\u001b[38;5;124;43m'\u001b[39;49m\u001b[43m)\u001b[49m\u001b[43m)\u001b[49m\n",
      "File \u001b[0;32m/usr/local/anaconda3/envs/test/lib/python3.8/site-packages/pymongo/collection.py:599\u001b[0m, in \u001b[0;36mCollection.insert_many\u001b[0;34m(self, documents, ordered, bypass_document_validation, session)\u001b[0m\n\u001b[1;32m    555\u001b[0m \u001b[38;5;124;03m\"\"\"Insert an iterable of documents.\u001b[39;00m\n\u001b[1;32m    556\u001b[0m \n\u001b[1;32m    557\u001b[0m \u001b[38;5;124;03m  >>> db.test.count_documents({})\u001b[39;00m\n\u001b[0;32m   (...)\u001b[0m\n\u001b[1;32m    592\u001b[0m \u001b[38;5;124;03m.. versionadded:: 3.0\u001b[39;00m\n\u001b[1;32m    593\u001b[0m \u001b[38;5;124;03m\"\"\"\u001b[39;00m\n\u001b[1;32m    594\u001b[0m \u001b[38;5;28;01mif\u001b[39;00m (\n\u001b[1;32m    595\u001b[0m     \u001b[38;5;129;01mnot\u001b[39;00m \u001b[38;5;28misinstance\u001b[39m(documents, abc\u001b[38;5;241m.\u001b[39mIterable)\n\u001b[1;32m    596\u001b[0m     \u001b[38;5;129;01mor\u001b[39;00m \u001b[38;5;28misinstance\u001b[39m(documents, abc\u001b[38;5;241m.\u001b[39mMapping)\n\u001b[1;32m    597\u001b[0m     \u001b[38;5;129;01mor\u001b[39;00m \u001b[38;5;129;01mnot\u001b[39;00m documents\n\u001b[1;32m    598\u001b[0m ):\n\u001b[0;32m--> 599\u001b[0m     \u001b[38;5;28;01mraise\u001b[39;00m \u001b[38;5;167;01mTypeError\u001b[39;00m(\u001b[38;5;124m\"\u001b[39m\u001b[38;5;124mdocuments must be a non-empty list\u001b[39m\u001b[38;5;124m\"\u001b[39m)\n\u001b[1;32m    600\u001b[0m inserted_ids \u001b[38;5;241m=\u001b[39m []\n\u001b[1;32m    602\u001b[0m \u001b[38;5;28;01mdef\u001b[39;00m \u001b[38;5;21mgen\u001b[39m():\n",
      "\u001b[0;31mTypeError\u001b[0m: documents must be a non-empty list"
     ]
    }
   ],
   "source": [
    "# 存進MongoDB\n",
    "db.rm_patent_de_2010.insert_many(db_de_2010.to_dict('records'))"
   ]
  },
  {
   "cell_type": "code",
   "execution_count": null,
   "id": "b29312e1-00f1-41fd-b708-1e6eaf858670",
   "metadata": {},
   "outputs": [],
   "source": []
  },
  {
   "cell_type": "markdown",
   "id": "c8c0c07e-9a5f-4968-b030-15ca9fc24605",
   "metadata": {},
   "source": [
    "### US"
   ]
  },
  {
   "cell_type": "code",
   "execution_count": 17,
   "id": "47ca3029-2ed4-41fa-85d3-581fffeb6ff6",
   "metadata": {},
   "outputs": [],
   "source": [
    "db_us_2010 = pd.DataFrame(db_rm_us.aggregate( [ \n",
    "    {\"$addFields\": { \"appDate\":\n",
    "            { \"$dateFromString\": {\n",
    "            \"dateString\": '$appDate',\n",
    "            \"timezone\": 'America/New_York'}\n",
    "            }}\n",
    "        },\n",
    "        {\"$match\": {\n",
    "            \"appDate\": { \"$gte\": start, \"$lte\": end }}\n",
    "        }\n",
    "\n",
    " ] ))"
   ]
  },
  {
   "cell_type": "code",
   "execution_count": 18,
   "id": "90d7c410-37d5-4a5d-bbc6-35e20fee7fcb",
   "metadata": {
    "scrolled": true,
    "tags": []
   },
   "outputs": [
    {
     "data": {
      "text/html": [
       "<div>\n",
       "<style scoped>\n",
       "    .dataframe tbody tr th:only-of-type {\n",
       "        vertical-align: middle;\n",
       "    }\n",
       "\n",
       "    .dataframe tbody tr th {\n",
       "        vertical-align: top;\n",
       "    }\n",
       "\n",
       "    .dataframe thead th {\n",
       "        text-align: right;\n",
       "    }\n",
       "</style>\n",
       "<table border=\"1\" class=\"dataframe\">\n",
       "  <thead>\n",
       "    <tr style=\"text-align: right;\">\n",
       "      <th></th>\n",
       "      <th>_id</th>\n",
       "      <th>patentNumber</th>\n",
       "      <th>inventorName</th>\n",
       "      <th>current_assignee</th>\n",
       "      <th>original_assignee</th>\n",
       "      <th>appDate</th>\n",
       "      <th>pubDate</th>\n",
       "      <th>graDate</th>\n",
       "      <th>classification</th>\n",
       "      <th>brief</th>\n",
       "      <th>title</th>\n",
       "      <th>description</th>\n",
       "      <th>claim</th>\n",
       "      <th>countrystatus</th>\n",
       "      <th>patentCitation</th>\n",
       "      <th>family_to_family_citing</th>\n",
       "      <th>cited</th>\n",
       "      <th>family_to_family_cited</th>\n",
       "      <th>similarDocuments</th>\n",
       "      <th>priority</th>\n",
       "    </tr>\n",
       "  </thead>\n",
       "  <tbody>\n",
       "    <tr>\n",
       "      <th>0</th>\n",
       "      <td>62009c0f7b73c16636b3109a</td>\n",
       "      <td>US20130223235A1</td>\n",
       "      <td>[Rose Qingyang Hu, Zhijun Cai, Chandra Sekhar ...</td>\n",
       "      <td>[BlackBerry Ltd]</td>\n",
       "      <td>[Research in Motion Ltd]</td>\n",
       "      <td>2010-07-14 04:00:00</td>\n",
       "      <td>20130829</td>\n",
       "      <td>N/A</td>\n",
       "      <td>[H04W36/30, H04W48/20, H04W36/04, H04W84/045]</td>\n",
       "      <td>A UE comprising a processor configured to perf...</td>\n",
       "      <td>IdleModeHybridMobilityProcedureinaHeterogeneou...</td>\n",
       "      <td>This application is a filing under 35 U.S.C. 3...</td>\n",
       "      <td>[1.AUEcomprising:aprocessorconfiguredtoperform...</td>\n",
       "      <td>[US, EP, JP, KR, CN, CA, IN, TW, WO]</td>\n",
       "      <td>[{'pto': 'US', 'patentNumber': '20070123252', ...</td>\n",
       "      <td>[{'pto': 'GB', 'patentNumber': '0413534', 'kin...</td>\n",
       "      <td>[{'pto': 'US', 'patentNumber': '20120276933', ...</td>\n",
       "      <td>[{'pto': 'KR', 'patentNumber': '2012003490', '...</td>\n",
       "      <td>[{'publication': 'US20130223235A1', 'time': '2...</td>\n",
       "      <td>PCT/US2010/042018</td>\n",
       "    </tr>\n",
       "    <tr>\n",
       "      <th>1</th>\n",
       "      <td>6200a1987b73c16636b310d8</td>\n",
       "      <td>US8458315B2</td>\n",
       "      <td>[Markus Miche, Oliver Baecker, Tobias Bauer, D...</td>\n",
       "      <td>[SAP SE]</td>\n",
       "      <td>[SAP SE ]</td>\n",
       "      <td>2010-12-06 05:00:00</td>\n",
       "      <td>20130604</td>\n",
       "      <td>20130515</td>\n",
       "      <td>[H04W4/00, H04L67/12, H04W4/029, H04L67/2857, ...</td>\n",
       "      <td>Embodiments of the present invention include s...</td>\n",
       "      <td>In-vehicleapplicationplatformforvehicle-to-bus...</td>\n",
       "      <td>The present invention relates to computing, an...</td>\n",
       "      <td>[1.Acomputer-implementedmethodcomprisingoperat...</td>\n",
       "      <td>[US, EP]</td>\n",
       "      <td>[{'pto': 'US', 'patentNumber': '7382289', 'kin...</td>\n",
       "      <td>None</td>\n",
       "      <td>[{'pto': 'US', 'patentNumber': '9098312', 'kin...</td>\n",
       "      <td>[{'pto': 'DE', 'patentNumber': '102011107111',...</td>\n",
       "      <td>[{'publication': 'US8458315B2', 'time': '2013-...</td>\n",
       "      <td>US12/961,300</td>\n",
       "    </tr>\n",
       "    <tr>\n",
       "      <th>2</th>\n",
       "      <td>6200b2f77b73c16636b31110</td>\n",
       "      <td>US10198333B2</td>\n",
       "      <td>[Mark B. Trobough, Keshavan K. Tiruvallur, Chi...</td>\n",
       "      <td>[Intel Corp]</td>\n",
       "      <td>[Intel Corp]</td>\n",
       "      <td>2010-12-23 05:00:00</td>\n",
       "      <td>20190205</td>\n",
       "      <td>20190116</td>\n",
       "      <td>[G06F11/36, G06F11/2733, G06F11/22, G06F11/267...</td>\n",
       "      <td>An apparatus and method is described herein fo...</td>\n",
       "      <td>Test,validation,anddebugarchitecture</td>\n",
       "      <td>This patent application is a U.S. National Pha...</td>\n",
       "      <td>[1.Anapparatuscomprising:atleastonehardwaretes...</td>\n",
       "      <td>[US, JP, KR, CN, DE, GB, WO]</td>\n",
       "      <td>[{'pto': 'JP', 'patentNumber': 'H0831559', 'ki...</td>\n",
       "      <td>[{'pto': 'JP', 'patentNumber': '200108561', 'k...</td>\n",
       "      <td>[{'pto': 'US', 'patentNumber': '20180348301', ...</td>\n",
       "      <td>[{'pto': 'US', 'patentNumber': '7895565', 'kin...</td>\n",
       "      <td>[{'publication': 'US10198333B2', 'time': '2019...</td>\n",
       "      <td>PCT/US2010/061995</td>\n",
       "    </tr>\n",
       "    <tr>\n",
       "      <th>3</th>\n",
       "      <td>6200c24e7b73c16636b311ac</td>\n",
       "      <td>US9030941B2</td>\n",
       "      <td>[Juergen Michel, Clemens Suerbaum]</td>\n",
       "      <td>[Nokia Solutions and Networks Oy]</td>\n",
       "      <td>[Nokia Solutions and Networks Oy]</td>\n",
       "      <td>2010-06-16 04:00:00</td>\n",
       "      <td>20150512</td>\n",
       "      <td>20150422</td>\n",
       "      <td>[H04W52/0206, H04W24/02, H04W24/08, H04W88/08,...</td>\n",
       "      <td>There is proposed a mechanism for power saving...</td>\n",
       "      <td>Powersavingprocedureincommunicationsnetwork</td>\n",
       "      <td>1. Field of the InventionThe present invention...</td>\n",
       "      <td>[1.Apparatuscomprising:memorycomprisingcompute...</td>\n",
       "      <td>[US, EP, WO]</td>\n",
       "      <td>[{'pto': 'US', 'patentNumber': '6259681', 'kin...</td>\n",
       "      <td>None</td>\n",
       "      <td>[{'pto': 'US', 'patentNumber': '20140105056', ...</td>\n",
       "      <td>[{'pto': 'US', 'patentNumber': '20110312359', ...</td>\n",
       "      <td>[{'publication': 'US9030941B2', 'time': '2015-...</td>\n",
       "      <td>PCT/EP2010/058450</td>\n",
       "    </tr>\n",
       "    <tr>\n",
       "      <th>4</th>\n",
       "      <td>6200c3ae7b73c16636b311d2</td>\n",
       "      <td>US9198185B2</td>\n",
       "      <td>[Istvan Zsolt Kovacs, Frank Frederiksen, Klaus...</td>\n",
       "      <td>[Nokia Solutions and Networks Oy]</td>\n",
       "      <td>[Nokia Solutions and Networks Oy]</td>\n",
       "      <td>2010-02-10 05:00:00</td>\n",
       "      <td>20151124</td>\n",
       "      <td>20151104</td>\n",
       "      <td>[H04W72/082, H04B1/707, H04L5/0007, H04L5/001,...</td>\n",
       "      <td>There is proposed a mechanism by means of whic...</td>\n",
       "      <td>Mechanismforaggregatinguplinkinterferenceinfor...</td>\n",
       "      <td>1. Field of the InventionThe present invention...</td>\n",
       "      <td>[1.Amethodcomprising:monitoringuplinkanddownli...</td>\n",
       "      <td>[US, EP, WO]</td>\n",
       "      <td>[{'pto': 'US', 'patentNumber': '20080247375', ...</td>\n",
       "      <td>None</td>\n",
       "      <td>[{'pto': 'CN', 'patentNumber': '11213163', 'ki...</td>\n",
       "      <td>[{'pto': 'EP', 'patentNumber': '2534866', 'kin...</td>\n",
       "      <td>[{'publication': 'US9198185B2', 'time': '2015-...</td>\n",
       "      <td>PCT/EP2010/051662</td>\n",
       "    </tr>\n",
       "    <tr>\n",
       "      <th>5</th>\n",
       "      <td>6200c56e7b73c16636b311fa</td>\n",
       "      <td>US8891436B2</td>\n",
       "      <td>[Jianqiang Zhang, Mingxi Fan, Jiming Guo, Bo C...</td>\n",
       "      <td>[Qualcomm Inc]</td>\n",
       "      <td>[Qualcomm Inc]</td>\n",
       "      <td>2010-10-12 04:00:00</td>\n",
       "      <td>20141118</td>\n",
       "      <td>20141029</td>\n",
       "      <td>[H04B7/216, H04W52/365, H04W72/14, H04W80/04, ...</td>\n",
       "      <td>A method and apparatus for effectively facilit...</td>\n",
       "      <td>Methodandapparatusforfacilitatingeffectivesche...</td>\n",
       "      <td>This application claims the benefit of Interna...</td>\n",
       "      <td>[1.Amethodofwirelesscommunicationinatimedivisi...</td>\n",
       "      <td>[US, WO]</td>\n",
       "      <td>[{'pto': 'CN', 'patentNumber': '171993', 'kind...</td>\n",
       "      <td>None</td>\n",
       "      <td>[{'pto': 'US', 'patentNumber': '20140329551', ...</td>\n",
       "      <td>[{'pto': 'US', 'patentNumber': '20140369312', ...</td>\n",
       "      <td>[{'publication': 'US8891436B2', 'time': '2014-...</td>\n",
       "      <td>PCT/CN2010/073047</td>\n",
       "    </tr>\n",
       "    <tr>\n",
       "      <th>6</th>\n",
       "      <td>6200cbcf7b73c16636b31212</td>\n",
       "      <td>US20110195731A1</td>\n",
       "      <td>[Yun-Jik Jang, Seung-Hyun Min, Seung-Joo Maeng...</td>\n",
       "      <td>[Samsung Electronics Co Ltd]</td>\n",
       "      <td>[Samsung Electronics Co Ltd]</td>\n",
       "      <td>2010-11-26 05:00:00</td>\n",
       "      <td>20110811</td>\n",
       "      <td>N/A</td>\n",
       "      <td>[H04W52/243, H04W36/0022, H04W36/00835, H04W52...</td>\n",
       "      <td>An apparatus of a Base Station (BS) and a meth...</td>\n",
       "      <td>Methodandapparatusforuplinkinterferencecancell...</td>\n",
       "      <td>This application claims the benefit under 35 U...</td>\n",
       "      <td>[1.Amethodforcancellinguplinkinterferenceinawi...</td>\n",
       "      <td>[US, JP, KR, WO]</td>\n",
       "      <td>[{'pto': 'US', 'patentNumber': '20080175185', ...</td>\n",
       "      <td>[{'pto': 'US', 'patentNumber': '8848574', 'kin...</td>\n",
       "      <td>[{'pto': 'US', 'patentNumber': '20130045771', ...</td>\n",
       "      <td>[{'pto': 'GB', 'patentNumber': '249977', 'kind...</td>\n",
       "      <td>[{'publication': 'US20110195731A1', 'time': '2...</td>\n",
       "      <td>KR10-2010-0010750</td>\n",
       "    </tr>\n",
       "    <tr>\n",
       "      <th>7</th>\n",
       "      <td>6200cc3c7b73c16636b31220</td>\n",
       "      <td>US20120087337A1</td>\n",
       "      <td>[Rongzhen Yang, Hujun Yin]</td>\n",
       "      <td>[Intel Corp]</td>\n",
       "      <td>[Intel Corp]</td>\n",
       "      <td>2010-10-12 04:00:00</td>\n",
       "      <td>20120412</td>\n",
       "      <td>N/A</td>\n",
       "      <td>[H04W52/146, H04W52/243, H04W52/283, H04W52/36...</td>\n",
       "      <td>A method for an uplink power control mechanism...</td>\n",
       "      <td>Methodsforanuplinkpowercontrolmechanism</td>\n",
       "      <td>Embodiments of the invention relate to the fie...</td>\n",
       "      <td>[1.Amethodforawirelesscommunicationnetworkcomp...</td>\n",
       "      <td>[US, EP, CN, WO]</td>\n",
       "      <td>[{'pto': 'US', 'patentNumber': '7397871', 'kin...</td>\n",
       "      <td>[{'pto': 'KR', 'patentNumber': '100600674', 'k...</td>\n",
       "      <td>[{'pto': 'CN', 'patentNumber': '10289219', 'ki...</td>\n",
       "      <td>[{'pto': 'CA', 'patentNumber': '2791612', 'kin...</td>\n",
       "      <td>[{'publication': 'US8675602B2', 'time': '2014-...</td>\n",
       "      <td>US12/903,009</td>\n",
       "    </tr>\n",
       "    <tr>\n",
       "      <th>8</th>\n",
       "      <td>6200cc597b73c16636b31228</td>\n",
       "      <td>US8587819B2</td>\n",
       "      <td>[Yoshihiro CHIDA]</td>\n",
       "      <td>[Fujifilm Business Innovation Corp]</td>\n",
       "      <td>[Fuji Xerox Co Ltd]</td>\n",
       "      <td>2010-08-06 04:00:00</td>\n",
       "      <td>20131119</td>\n",
       "      <td>20131030</td>\n",
       "      <td>[G03G15/36, G06F3/1208, G06F3/1237, G06F3/125,...</td>\n",
       "      <td>A page layout control device having a receivin...</td>\n",
       "      <td>Pagelayoutcontroldevice,imageprocessingapparat...</td>\n",
       "      <td>This application is based on and claims priori...</td>\n",
       "      <td>[1.Apagelayoutcontroldevicecomprising:areceivi...</td>\n",
       "      <td>[US, JP, CN]</td>\n",
       "      <td>[{'pto': 'US', 'patentNumber': '6844940', 'kin...</td>\n",
       "      <td>[{'pto': 'JP', 'patentNumber': '200015197', 'k...</td>\n",
       "      <td>[{'pto': 'US', 'patentNumber': '10298788', 'ki...</td>\n",
       "      <td>[{'pto': 'US', 'patentNumber': '9389775', 'kin...</td>\n",
       "      <td>[{'publication': 'US8587819B2', 'time': '2013-...</td>\n",
       "      <td>JP2010035395A</td>\n",
       "    </tr>\n",
       "    <tr>\n",
       "      <th>9</th>\n",
       "      <td>6200ccdc7b73c16636b31234</td>\n",
       "      <td>US20120108916A1</td>\n",
       "      <td>[Alexander Riftine]</td>\n",
       "      <td>[]</td>\n",
       "      <td>[Alexander Riftine]</td>\n",
       "      <td>2010-10-31 04:00:00</td>\n",
       "      <td>20120503</td>\n",
       "      <td>20140305</td>\n",
       "      <td>[A61B5/0006, A61B5/02405, A61B5/02438, A61B5/4...</td>\n",
       "      <td>This invention relates to fitness monitors and...</td>\n",
       "      <td>Fitnessscoreassessmentbasedonheartratevariabil...</td>\n",
       "      <td></td>\n",
       "      <td>[1.Ahand-heldorwatchtypedeviceforuseincomplete...</td>\n",
       "      <td>[US]</td>\n",
       "      <td>[{'pto': 'US', 'patentNumber': '6212427', 'kin...</td>\n",
       "      <td>None</td>\n",
       "      <td>[{'pto': 'US', 'patentNumber': '20140081092', ...</td>\n",
       "      <td>[{'pto': 'US', 'patentNumber': '9901266', 'kin...</td>\n",
       "      <td>[{'publication': 'US8682421B2', 'time': '2014-...</td>\n",
       "      <td>US12/916,559</td>\n",
       "    </tr>\n",
       "    <tr>\n",
       "      <th>10</th>\n",
       "      <td>6200ce337b73c16636b31278</td>\n",
       "      <td>US20110243629A1</td>\n",
       "      <td>[Aldwin Andrew Roberts, Michele Donna Cleary, ...</td>\n",
       "      <td>[Xerox Corp]</td>\n",
       "      <td>[Xerox Corp]</td>\n",
       "      <td>2010-03-31 04:00:00</td>\n",
       "      <td>20111006</td>\n",
       "      <td>N/A</td>\n",
       "      <td>[B41J3/32, B41J11/0015, B41J11/00214]</td>\n",
       "      <td>A method for forming Braille images on a subst...</td>\n",
       "      <td>ProcessForPreparingBrailleImagesUsingInlineDig...</td>\n",
       "      <td>Commonly assigned, co-pending U.S. patent appl...</td>\n",
       "      <td>[1.AmethodforformingBrailleimagesonasubstratec...</td>\n",
       "      <td>[US]</td>\n",
       "      <td>None</td>\n",
       "      <td>None</td>\n",
       "      <td>[{'pto': 'US', 'patentNumber': '20090257805', ...</td>\n",
       "      <td>None</td>\n",
       "      <td>[{'publication': 'CA2676889C', 'time': '2014-1...</td>\n",
       "      <td>US12/751,653</td>\n",
       "    </tr>\n",
       "    <tr>\n",
       "      <th>11</th>\n",
       "      <td>6200ce517b73c16636b31280</td>\n",
       "      <td>US20110183702A1</td>\n",
       "      <td>[Carl F. Weaver, Yang Yang, Anil M. Rao]</td>\n",
       "      <td>[Alcatel Lucent SAS]</td>\n",
       "      <td>[Nokia of America Corp]</td>\n",
       "      <td>2010-01-28 05:00:00</td>\n",
       "      <td>20110728</td>\n",
       "      <td>20130417</td>\n",
       "      <td>[H04W52/14, H04W52/146, H04W52/16, H04W52/24, ...</td>\n",
       "      <td>Example embodiments are directed to a method o...</td>\n",
       "      <td>Methodsofdetermininguplinktargetsignal-to-inte...</td>\n",
       "      <td></td>\n",
       "      <td>[1.Amethodofuplinkpowercontrol,themethodcompri...</td>\n",
       "      <td>[US, EP, JP, KR, CN, BR, TW, WO]</td>\n",
       "      <td>[{'pto': 'US', 'patentNumber': '20060233222', ...</td>\n",
       "      <td>[{'pto': 'MY', 'patentNumber': '12863', 'kindc...</td>\n",
       "      <td>[{'pto': 'US', 'patentNumber': '20120275425', ...</td>\n",
       "      <td>[{'pto': 'US', 'patentNumber': '9414327', 'kin...</td>\n",
       "      <td>[{'publication': 'US8437794B2', 'time': '2013-...</td>\n",
       "      <td>US12/656,389</td>\n",
       "    </tr>\n",
       "    <tr>\n",
       "      <th>12</th>\n",
       "      <td>6200ceba7b73c16636b31290</td>\n",
       "      <td>US8629975B1</td>\n",
       "      <td>[Matthew P. Dierking, Bradley D. Duncan]</td>\n",
       "      <td>[United States, AS REPRENSENTED BY SECRETARY O...</td>\n",
       "      <td>[US Air Force]</td>\n",
       "      <td>2010-08-18 04:00:00</td>\n",
       "      <td>20140114</td>\n",
       "      <td>20131224</td>\n",
       "      <td>[G01S17/90, G01S17/87, G01S7/4818]</td>\n",
       "      <td>A multi-function, range-Doppler, synthetic ape...</td>\n",
       "      <td>Apparatusandmethodforamultipleaperturecoherent...</td>\n",
       "      <td>The invention described herein may be manufact...</td>\n",
       "      <td>[1.Amulti-functioncoherentladarsystemhavingimp...</td>\n",
       "      <td>[US]</td>\n",
       "      <td>[{'pto': 'US', 'patentNumber': '411577', 'kind...</td>\n",
       "      <td>None</td>\n",
       "      <td>[{'pto': 'CN', 'patentNumber': '10398397', 'ki...</td>\n",
       "      <td>None</td>\n",
       "      <td>[{'publication': 'US8629975B1', 'time': '2014-...</td>\n",
       "      <td>US12/858,680</td>\n",
       "    </tr>\n",
       "    <tr>\n",
       "      <th>13</th>\n",
       "      <td>6200ceea7b73c16636b312a6</td>\n",
       "      <td>US8493612B2</td>\n",
       "      <td>[James M. Sweet, William E. Nelson]</td>\n",
       "      <td>[Xerox Corp]</td>\n",
       "      <td>[Xerox Corp]</td>\n",
       "      <td>2010-01-29 05:00:00</td>\n",
       "      <td>20130723</td>\n",
       "      <td>20130703</td>\n",
       "      <td>[G06F3/12, G06K15/02]</td>\n",
       "      <td>A method and system for predicting expansion d...</td>\n",
       "      <td>Predictinganexpansiondifficultyandanexpansiont...</td>\n",
       "      <td>Embodiments are generally related to rendering...</td>\n",
       "      <td>[1.Acomputer-implementedmethod,saidmethodcompr...</td>\n",
       "      <td>[US]</td>\n",
       "      <td>[{'pto': 'US', 'patentNumber': '6330363', 'kin...</td>\n",
       "      <td>None</td>\n",
       "      <td>[{'pto': 'US', 'patentNumber': '20130003101', ...</td>\n",
       "      <td>[{'pto': 'JP', 'patentNumber': '5782731', 'kin...</td>\n",
       "      <td>[{'publication': 'US8493612B2', 'time': '2013-...</td>\n",
       "      <td>US12/696,194</td>\n",
       "    </tr>\n",
       "    <tr>\n",
       "      <th>14</th>\n",
       "      <td>6200cf137b73c16636b312b8</td>\n",
       "      <td>US20120329466A1</td>\n",
       "      <td>[Xiaoming Su, Yujie Li]</td>\n",
       "      <td>[ZTE Corp]</td>\n",
       "      <td>[ZTE Corp]</td>\n",
       "      <td>2010-06-09 04:00:00</td>\n",
       "      <td>20121227</td>\n",
       "      <td>20150127</td>\n",
       "      <td>[H04B17/345, H04L5/0073, H04B17/26, H04L5/0007]</td>\n",
       "      <td>A method and system for measuring noise of a m...</td>\n",
       "      <td>MethodandSystemforMeasuringBackgroundNoiseofMa...</td>\n",
       "      <td></td>\n",
       "      <td>[1.Amethodformeasuringnoiseofamachine,comprisi...</td>\n",
       "      <td>[US, EP, JP, CN, RU, WO]</td>\n",
       "      <td>[{'pto': 'WO', 'patentNumber': '2009026561', '...</td>\n",
       "      <td>[{'pto': 'JP', 'patentNumber': '200134994', 'k...</td>\n",
       "      <td>[{'pto': 'US', 'patentNumber': '20170079070', ...</td>\n",
       "      <td>None</td>\n",
       "      <td>[{'publication': 'US9008718B2', 'time': '2015-...</td>\n",
       "      <td>CN201010127487.1</td>\n",
       "    </tr>\n",
       "    <tr>\n",
       "      <th>15</th>\n",
       "      <td>6200cf197b73c16636b312ba</td>\n",
       "      <td>US8792822B2</td>\n",
       "      <td>[Weizheng W. Wang, Bruce A. Tomei, Stephen F. ...</td>\n",
       "      <td>[Boeing Co]</td>\n",
       "      <td>[Boeing Co]</td>\n",
       "      <td>2010-12-07 05:00:00</td>\n",
       "      <td>20140729</td>\n",
       "      <td>20140709</td>\n",
       "      <td>[H04B7/18519]</td>\n",
       "      <td>A system for protecting a power unit on a spac...</td>\n",
       "      <td>Powermanagementschemeforprotectingcomponentson...</td>\n",
       "      <td>The present disclosure relates to spacecraft a...</td>\n",
       "      <td>[1.Asystemforprotectingapowerunitonaspacecraft...</td>\n",
       "      <td>[US, EP, JP, CN, CA]</td>\n",
       "      <td>[{'pto': 'US', 'patentNumber': '490700', 'kind...</td>\n",
       "      <td>[{'pto': 'JP', 'patentNumber': 'S6218982', 'ki...</td>\n",
       "      <td>[{'pto': 'US', 'patentNumber': '9848370', 'kin...</td>\n",
       "      <td>[{'pto': 'US', 'patentNumber': '9553473', 'kin...</td>\n",
       "      <td>[{'publication': 'CA2757070C', 'time': '2018-0...</td>\n",
       "      <td>US12/961,712</td>\n",
       "    </tr>\n",
       "    <tr>\n",
       "      <th>16</th>\n",
       "      <td>6200cf217b73c16636b312be</td>\n",
       "      <td>US20110188388A1</td>\n",
       "      <td>[Jae-Yun Ko, Sung-Ho Lee, Soon-Young Yoon, Jun...</td>\n",
       "      <td>[Samsung Electronics Co Ltd]</td>\n",
       "      <td>[Samsung Electronics Co Ltd]</td>\n",
       "      <td>2010-11-10 05:00:00</td>\n",
       "      <td>20110804</td>\n",
       "      <td>20140910</td>\n",
       "      <td>[H04W72/082, H04J11/0023, H04J11/0053, H04W52/...</td>\n",
       "      <td>A method and an apparatus maximize the capacit...</td>\n",
       "      <td>Userequipmentschedulingmethodincellularuplinkc...</td>\n",
       "      <td></td>\n",
       "      <td>[1.Auserequipment(UE)schedulingmethodbyabasest...</td>\n",
       "      <td>[US, KR, WO]</td>\n",
       "      <td>[{'pto': 'US', 'patentNumber': '20020058513', ...</td>\n",
       "      <td>[{'pto': 'US', 'patentNumber': '8346265', 'kin...</td>\n",
       "      <td>[{'pto': 'US', 'patentNumber': '9414393', 'kin...</td>\n",
       "      <td>[{'pto': 'CN', 'patentNumber': '10300245', 'ki...</td>\n",
       "      <td>[{'publication': 'US9854535B2', 'time': '2017-...</td>\n",
       "      <td>KR1020100008743A</td>\n",
       "    </tr>\n",
       "    <tr>\n",
       "      <th>17</th>\n",
       "      <td>6200cf287b73c16636b312c0</td>\n",
       "      <td>US20120116935A1</td>\n",
       "      <td>[Ramesh Nagarajan]</td>\n",
       "      <td>[Xerox Corp]</td>\n",
       "      <td>[Xerox Corp]</td>\n",
       "      <td>2010-11-05 04:00:00</td>\n",
       "      <td>20120510</td>\n",
       "      <td>20121017</td>\n",
       "      <td>[G06Q30/04]</td>\n",
       "      <td>Disclosed is a method and a system for automat...</td>\n",
       "      <td>Systemandmethodfordeterminingcolorusagelimitsw...</td>\n",
       "      <td></td>\n",
       "      <td>[1.Amethodforautomaticallyoutputtingdocumentsc...</td>\n",
       "      <td>[US]</td>\n",
       "      <td>[{'pto': 'JP', 'patentNumber': '200620206', 'k...</td>\n",
       "      <td>[{'pto': 'US', 'patentNumber': '406503', 'kind...</td>\n",
       "      <td>[{'pto': 'US', 'patentNumber': '20110225022', ...</td>\n",
       "      <td>[{'pto': 'WO', 'patentNumber': '2014178824', '...</td>\n",
       "      <td>[{'publication': 'US8306878B2', 'time': '2012-...</td>\n",
       "      <td>US12/941,002</td>\n",
       "    </tr>\n",
       "    <tr>\n",
       "      <th>18</th>\n",
       "      <td>6200cf3e7b73c16636b312cc</td>\n",
       "      <td>US20120014620A1</td>\n",
       "      <td>[Ryan Metcalfe, Clara Cuciurean-Zapan]</td>\n",
       "      <td>[Xerox Corp]</td>\n",
       "      <td>[Xerox Corp]</td>\n",
       "      <td>2010-07-13 04:00:00</td>\n",
       "      <td>20120119</td>\n",
       "      <td>20121121</td>\n",
       "      <td>[G06V30/10]</td>\n",
       "      <td>A method for performing binary image reduction...</td>\n",
       "      <td>Binaryreductionwithstructurepreservationandden...</td>\n",
       "      <td></td>\n",
       "      <td>[1.Acomputer-implementedmethodforperformingbin...</td>\n",
       "      <td>[US]</td>\n",
       "      <td>[{'pto': 'US', 'patentNumber': '6999619', 'kin...</td>\n",
       "      <td>[{'pto': 'JP', 'patentNumber': 'H087951', 'kin...</td>\n",
       "      <td>None</td>\n",
       "      <td>[{'pto': 'US', 'patentNumber': '10650496', 'ki...</td>\n",
       "      <td>[{'publication': 'EP1317134B1', 'time': '2009-...</td>\n",
       "      <td>US12/835,239</td>\n",
       "    </tr>\n",
       "    <tr>\n",
       "      <th>19</th>\n",
       "      <td>6200cf777b73c16636b312d0</td>\n",
       "      <td>US8924001B2</td>\n",
       "      <td>[Toshihiro Morisawa, Daisuke Shiraishi, Satomi...</td>\n",
       "      <td>[Hitachi High Tech Corp]</td>\n",
       "      <td>[Hitachi High Technologies Corp]</td>\n",
       "      <td>2010-12-03 05:00:00</td>\n",
       "      <td>20141230</td>\n",
       "      <td>20141210</td>\n",
       "      <td>[H01J37/32972, H01J37/32935]</td>\n",
       "      <td>None</td>\n",
       "      <td>Etchingapparatus,controlsimulator,andsemicondu...</td>\n",
       "      <td>The present invention relates to techniques us...</td>\n",
       "      <td>[1.Anetchingapparatuscomprisinganopticalemissi...</td>\n",
       "      <td>[US, JP, TW, WO]</td>\n",
       "      <td>[{'pto': 'US', 'patentNumber': '6400458', 'kin...</td>\n",
       "      <td>[{'pto': 'JP', 'patentNumber': '200411985', 'k...</td>\n",
       "      <td>[{'pto': 'US', 'patentNumber': '20130133832', ...</td>\n",
       "      <td>[{'pto': 'JP', 'patentNumber': '6158111', 'kin...</td>\n",
       "      <td>[{'publication': 'US8924001B2', 'time': '2014-...</td>\n",
       "      <td>JP2010-041975</td>\n",
       "    </tr>\n",
       "    <tr>\n",
       "      <th>20</th>\n",
       "      <td>6200cf8d7b73c16636b312d6</td>\n",
       "      <td>US20120003982A1</td>\n",
       "      <td>[Venkataraman Natarajan, Arun Ananth Bhatji, M...</td>\n",
       "      <td>[T Mobile USA Inc]</td>\n",
       "      <td>[T Mobile USA Inc]</td>\n",
       "      <td>2010-07-02 04:00:00</td>\n",
       "      <td>20120105</td>\n",
       "      <td>20150902</td>\n",
       "      <td>[H04W16/22, H04B17/391, H04W24/06]</td>\n",
       "      <td>A switching matrix and testing platform may en...</td>\n",
       "      <td>SwitchingMatrixandTestPlatform</td>\n",
       "      <td></td>\n",
       "      <td>[1.Amethodcomprising:selecting,viaaswitchingma...</td>\n",
       "      <td>[US, EP, JP, KR, CN, CA, WO]</td>\n",
       "      <td>[{'pto': 'US', 'patentNumber': '6272337', 'kin...</td>\n",
       "      <td>[{'pto': 'US', 'patentNumber': '6389010', 'kin...</td>\n",
       "      <td>[{'pto': 'US', 'patentNumber': '20140282023', ...</td>\n",
       "      <td>[{'pto': 'CN', 'patentNumber': '10947601', 'ki...</td>\n",
       "      <td>[{'publication': 'JP6793420B2', 'time': '2020-...</td>\n",
       "      <td>US12/830,142</td>\n",
       "    </tr>\n",
       "    <tr>\n",
       "      <th>21</th>\n",
       "      <td>6200cf9b7b73c16636b312dc</td>\n",
       "      <td>US20110267641A1</td>\n",
       "      <td>[Raymond C. Stacy]</td>\n",
       "      <td>[Xerox Corp]</td>\n",
       "      <td>[Xerox Corp]</td>\n",
       "      <td>2010-04-29 04:00:00</td>\n",
       "      <td>20111103</td>\n",
       "      <td>N/A</td>\n",
       "      <td>[G06F3/1204, G06F3/1237, G06F3/1264, G06F3/1282]</td>\n",
       "      <td>None</td>\n",
       "      <td>ReprographicSystemHavingBluetoothSupportforOff...</td>\n",
       "      <td>This disclosure relates generally to reprograp...</td>\n",
       "      <td>[1.Areprographicsystemcomprising:animageoutput...</td>\n",
       "      <td>[US]</td>\n",
       "      <td>[{'pto': 'US', 'patentNumber': '20030096576', ...</td>\n",
       "      <td>None</td>\n",
       "      <td>[{'pto': 'US', 'patentNumber': '20120113459', ...</td>\n",
       "      <td>None</td>\n",
       "      <td>[{'publication': 'US9658812B2', 'time': '2017-...</td>\n",
       "      <td>US12/770,023</td>\n",
       "    </tr>\n",
       "    <tr>\n",
       "      <th>22</th>\n",
       "      <td>6200cfaf7b73c16636b312e2</td>\n",
       "      <td>US20120143736A1</td>\n",
       "      <td>[Xing Li]</td>\n",
       "      <td>[Xerox Corp]</td>\n",
       "      <td>[Xerox Corp]</td>\n",
       "      <td>2010-12-07 05:00:00</td>\n",
       "      <td>20120607</td>\n",
       "      <td>20140618</td>\n",
       "      <td>[G06Q30/04, H04N1/56]</td>\n",
       "      <td>Disclosed herein are a method and an image pro...</td>\n",
       "      <td>Colordetectionfortieredbillingincopyandprintjobs</td>\n",
       "      <td></td>\n",
       "      <td>[1.Aprocessor-implementedmethodfordetermininga...</td>\n",
       "      <td>[US]</td>\n",
       "      <td>[{'pto': 'US', 'patentNumber': '6249592', 'kin...</td>\n",
       "      <td>[{'pto': 'US', 'patentNumber': '406503', 'kind...</td>\n",
       "      <td>[{'pto': 'US', 'patentNumber': '20130066756', ...</td>\n",
       "      <td>[{'pto': 'US', 'patentNumber': '10764470', 'ki...</td>\n",
       "      <td>[{'publication': 'US8751411B2', 'time': '2014-...</td>\n",
       "      <td>US12/962,298</td>\n",
       "    </tr>\n",
       "    <tr>\n",
       "      <th>23</th>\n",
       "      <td>6200cfb37b73c16636b312e4</td>\n",
       "      <td>US8559081B2</td>\n",
       "      <td>[Peter A. Crean]</td>\n",
       "      <td>[Xerox Corp]</td>\n",
       "      <td>[Xerox Corp]</td>\n",
       "      <td>2010-05-28 04:00:00</td>\n",
       "      <td>20131015</td>\n",
       "      <td>20130925</td>\n",
       "      <td>[H04N1/6033, H04N1/00015, H04N1/00023, H04N1/0...</td>\n",
       "      <td>Disclosed is a method for processing raster im...</td>\n",
       "      <td>Systemandmethodfordeterminingabillingstructure...</td>\n",
       "      <td>1. FieldThe present disclosure is generally re...</td>\n",
       "      <td>[1.Amethodfordetermininganamountofmarkingmediu...</td>\n",
       "      <td>[US]</td>\n",
       "      <td>[{'pto': 'US', 'patentNumber': '406503', 'kind...</td>\n",
       "      <td>None</td>\n",
       "      <td>[{'pto': 'US', 'patentNumber': '20130101328', ...</td>\n",
       "      <td>[{'pto': 'JP', 'patentNumber': '5811712', 'kin...</td>\n",
       "      <td>[{'publication': 'US8751411B2', 'time': '2014-...</td>\n",
       "      <td>US12/790,388</td>\n",
       "    </tr>\n",
       "    <tr>\n",
       "      <th>24</th>\n",
       "      <td>6200d00d7b73c16636b312f6</td>\n",
       "      <td>US8547006B1</td>\n",
       "      <td>[R. Lawrence Ives, Hien T. Tran, Thuc Bui, Ada...</td>\n",
       "      <td>[CALABAZAS CREEK RESEARCH Inc, Calabazas Creek...</td>\n",
       "      <td>[Calabazas Creek Res Center Inc]</td>\n",
       "      <td>2010-02-12 05:00:00</td>\n",
       "      <td>20131001</td>\n",
       "      <td>20130911</td>\n",
       "      <td>[H01J23/06, H01J25/10, H01J3/027]</td>\n",
       "      <td>A multi-beam electron gun provides a plurality...</td>\n",
       "      <td>Electrongunforamultiplebeamklystronwithmagneti...</td>\n",
       "      <td>The present invention was developed under the ...</td>\n",
       "      <td>[1.Amultiplebeamelectrongunhaving:amagneticfie...</td>\n",
       "      <td>[US]</td>\n",
       "      <td>[{'pto': 'US', 'patentNumber': '450899', 'kind...</td>\n",
       "      <td>None</td>\n",
       "      <td>[{'pto': 'US', 'patentNumber': '20130229109', ...</td>\n",
       "      <td>None</td>\n",
       "      <td>[{'publication': 'US6847168B1', 'time': '2005-...</td>\n",
       "      <td>US12/705,160</td>\n",
       "    </tr>\n",
       "    <tr>\n",
       "      <th>25</th>\n",
       "      <td>6200d0167b73c16636b312fa</td>\n",
       "      <td>US8508758B2</td>\n",
       "      <td>[Yuki Hara, Takashi Kondo]</td>\n",
       "      <td>[Fujifilm Business Innovation Corp]</td>\n",
       "      <td>[Fuji Xerox Co Ltd]</td>\n",
       "      <td>2010-09-23 04:00:00</td>\n",
       "      <td>20130813</td>\n",
       "      <td>20130724</td>\n",
       "      <td>[G06F3/1211, G06F3/1237, G06F3/124, G06F3/1244...</td>\n",
       "      <td>An image processing apparatus includes a recon...</td>\n",
       "      <td>Imageprocessingapparatus,imageprocessingmethod...</td>\n",
       "      <td>This application is based on and claims priori...</td>\n",
       "      <td>[1.Animageprocessingapparatuscomprising:arecon...</td>\n",
       "      <td>[US, JP, CN]</td>\n",
       "      <td>[{'pto': 'US', 'patentNumber': '20050174444', ...</td>\n",
       "      <td>[{'pto': 'JP', 'patentNumber': '200225161', 'k...</td>\n",
       "      <td>[{'pto': 'US', 'patentNumber': '20150229804', ...</td>\n",
       "      <td>[{'pto': 'JP', 'patentNumber': '201604229', 'k...</td>\n",
       "      <td>[{'publication': 'US8508758B2', 'time': '2013-...</td>\n",
       "      <td>JP2010-069749</td>\n",
       "    </tr>\n",
       "    <tr>\n",
       "      <th>26</th>\n",
       "      <td>6200d01f7b73c16636b312fe</td>\n",
       "      <td>US20110235079A1</td>\n",
       "      <td>[Yuki Hara, Yozo Yamaguchi]</td>\n",
       "      <td>[Fujifilm Business Innovation Corp]</td>\n",
       "      <td>[Fuji Xerox Co Ltd]</td>\n",
       "      <td>2010-09-30 04:00:00</td>\n",
       "      <td>20110929</td>\n",
       "      <td>20140618</td>\n",
       "      <td>[G06K15/1856, G06K15/022, G06K15/1857, H04N1/3...</td>\n",
       "      <td>An image forming apparatus includes a print en...</td>\n",
       "      <td>Imageformingapparatus,imageformingmethod,andco...</td>\n",
       "      <td></td>\n",
       "      <td>[1.Animageformingapparatuscomprising:aprinteng...</td>\n",
       "      <td>[US, JP, CN]</td>\n",
       "      <td>[{'pto': 'US', 'patentNumber': '20070083733', ...</td>\n",
       "      <td>[{'pto': 'JP', 'patentNumber': '4246018', 'kin...</td>\n",
       "      <td>[{'pto': 'US', 'patentNumber': '20120256922', ...</td>\n",
       "      <td>None</td>\n",
       "      <td>[{'publication': 'US8508758B2', 'time': '2013-...</td>\n",
       "      <td>JP2010069748A</td>\n",
       "    </tr>\n",
       "    <tr>\n",
       "      <th>27</th>\n",
       "      <td>6200d0a37b73c16636b31318</td>\n",
       "      <td>US8374533B2</td>\n",
       "      <td>[Thomas Edward Higgins, Kenneth Wayne Luff]</td>\n",
       "      <td>[Xerox Corp]</td>\n",
       "      <td>[Xerox Corp]</td>\n",
       "      <td>2010-10-27 04:00:00</td>\n",
       "      <td>20130212</td>\n",
       "      <td>20130123</td>\n",
       "      <td>[G03G15/1695]</td>\n",
       "      <td>When calibrating a transfer assist blade (TAB)...</td>\n",
       "      <td>Methodtoautomateatransferassistbladedevicetimi...</td>\n",
       "      <td>The present exemplary embodiments broadly rela...</td>\n",
       "      <td>[1.Amethodofautomatingatransferassistblade(TAB...</td>\n",
       "      <td>[US, GB]</td>\n",
       "      <td>[{'pto': 'US', 'patentNumber': '524733', 'kind...</td>\n",
       "      <td>None</td>\n",
       "      <td>[{'pto': 'US', 'patentNumber': '20120237239', ...</td>\n",
       "      <td>[{'pto': 'US', 'patentNumber': '10437179', 'ki...</td>\n",
       "      <td>[{'publication': 'US7800799B2', 'time': '2010-...</td>\n",
       "      <td>US12/913,051</td>\n",
       "    </tr>\n",
       "    <tr>\n",
       "      <th>28</th>\n",
       "      <td>6200d1077b73c16636b3132a</td>\n",
       "      <td>US8867437B2</td>\n",
       "      <td>[Zhengwei Liu, Xiaoxia Zhang, Christian O. The...</td>\n",
       "      <td>[Qualcomm Inc]</td>\n",
       "      <td>[Qualcomm Inc]</td>\n",
       "      <td>2010-10-27 04:00:00</td>\n",
       "      <td>20141021</td>\n",
       "      <td>20141001</td>\n",
       "      <td>[H04W80/02, H04L29/10, H04W76/021, H04W76/11, ...</td>\n",
       "      <td>Certain aspects of the present disclosure rela...</td>\n",
       "      <td>Cellsitemodemapplicationmessageinterface</td>\n",
       "      <td>1. FieldCertain aspects of the present disclos...</td>\n",
       "      <td>[1.Amethodforcommunications,comprising:interfa...</td>\n",
       "      <td>[US, EP, JP, KR, CN, WO]</td>\n",
       "      <td>[{'pto': 'EP', 'patentNumber': '0991208', 'kin...</td>\n",
       "      <td>[{'pto': 'CN', 'patentNumber': '10154109', 'ki...</td>\n",
       "      <td>None</td>\n",
       "      <td>[{'pto': 'EP', 'patentNumber': '2777314', 'kin...</td>\n",
       "      <td>[{'publication': 'US9392605B2', 'time': '2016-...</td>\n",
       "      <td>US12/913,689</td>\n",
       "    </tr>\n",
       "    <tr>\n",
       "      <th>29</th>\n",
       "      <td>6200d12e7b73c16636b31344</td>\n",
       "      <td>US8335457B2</td>\n",
       "      <td>[David A. Hughes, Michael B. Monahan]</td>\n",
       "      <td>[Xerox Corp]</td>\n",
       "      <td>[Xerox Corp]</td>\n",
       "      <td>2010-04-01 04:00:00</td>\n",
       "      <td>20121218</td>\n",
       "      <td>20121128</td>\n",
       "      <td>[G03G15/50, G03G2215/00021]</td>\n",
       "      <td>Disclosed are image processing methods and sys...</td>\n",
       "      <td>Methods,systemsandapparatusforsynchronizingtwo...</td>\n",
       "      <td>U.S. Pat. No. 6,219,516, by Furst et al., enti...</td>\n",
       "      <td>[1.Amethodofcontrollingthesynchronizationofthe...</td>\n",
       "      <td>[US]</td>\n",
       "      <td>[{'pto': 'US', 'patentNumber': '483763', 'kind...</td>\n",
       "      <td>None</td>\n",
       "      <td>None</td>\n",
       "      <td>None</td>\n",
       "      <td>[{'publication': 'US6219516B1', 'time': '2001-...</td>\n",
       "      <td>US12/752,426</td>\n",
       "    </tr>\n",
       "  </tbody>\n",
       "</table>\n",
       "</div>"
      ],
      "text/plain": [
       "                         _id     patentNumber  \\\n",
       "0   62009c0f7b73c16636b3109a  US20130223235A1   \n",
       "1   6200a1987b73c16636b310d8      US8458315B2   \n",
       "2   6200b2f77b73c16636b31110     US10198333B2   \n",
       "3   6200c24e7b73c16636b311ac      US9030941B2   \n",
       "4   6200c3ae7b73c16636b311d2      US9198185B2   \n",
       "5   6200c56e7b73c16636b311fa      US8891436B2   \n",
       "6   6200cbcf7b73c16636b31212  US20110195731A1   \n",
       "7   6200cc3c7b73c16636b31220  US20120087337A1   \n",
       "8   6200cc597b73c16636b31228      US8587819B2   \n",
       "9   6200ccdc7b73c16636b31234  US20120108916A1   \n",
       "10  6200ce337b73c16636b31278  US20110243629A1   \n",
       "11  6200ce517b73c16636b31280  US20110183702A1   \n",
       "12  6200ceba7b73c16636b31290      US8629975B1   \n",
       "13  6200ceea7b73c16636b312a6      US8493612B2   \n",
       "14  6200cf137b73c16636b312b8  US20120329466A1   \n",
       "15  6200cf197b73c16636b312ba      US8792822B2   \n",
       "16  6200cf217b73c16636b312be  US20110188388A1   \n",
       "17  6200cf287b73c16636b312c0  US20120116935A1   \n",
       "18  6200cf3e7b73c16636b312cc  US20120014620A1   \n",
       "19  6200cf777b73c16636b312d0      US8924001B2   \n",
       "20  6200cf8d7b73c16636b312d6  US20120003982A1   \n",
       "21  6200cf9b7b73c16636b312dc  US20110267641A1   \n",
       "22  6200cfaf7b73c16636b312e2  US20120143736A1   \n",
       "23  6200cfb37b73c16636b312e4      US8559081B2   \n",
       "24  6200d00d7b73c16636b312f6      US8547006B1   \n",
       "25  6200d0167b73c16636b312fa      US8508758B2   \n",
       "26  6200d01f7b73c16636b312fe  US20110235079A1   \n",
       "27  6200d0a37b73c16636b31318      US8374533B2   \n",
       "28  6200d1077b73c16636b3132a      US8867437B2   \n",
       "29  6200d12e7b73c16636b31344      US8335457B2   \n",
       "\n",
       "                                         inventorName  \\\n",
       "0   [Rose Qingyang Hu, Zhijun Cai, Chandra Sekhar ...   \n",
       "1   [Markus Miche, Oliver Baecker, Tobias Bauer, D...   \n",
       "2   [Mark B. Trobough, Keshavan K. Tiruvallur, Chi...   \n",
       "3                  [Juergen Michel, Clemens Suerbaum]   \n",
       "4   [Istvan Zsolt Kovacs, Frank Frederiksen, Klaus...   \n",
       "5   [Jianqiang Zhang, Mingxi Fan, Jiming Guo, Bo C...   \n",
       "6   [Yun-Jik Jang, Seung-Hyun Min, Seung-Joo Maeng...   \n",
       "7                          [Rongzhen Yang, Hujun Yin]   \n",
       "8                                   [Yoshihiro CHIDA]   \n",
       "9                                 [Alexander Riftine]   \n",
       "10  [Aldwin Andrew Roberts, Michele Donna Cleary, ...   \n",
       "11           [Carl F. Weaver, Yang Yang, Anil M. Rao]   \n",
       "12           [Matthew P. Dierking, Bradley D. Duncan]   \n",
       "13                [James M. Sweet, William E. Nelson]   \n",
       "14                            [Xiaoming Su, Yujie Li]   \n",
       "15  [Weizheng W. Wang, Bruce A. Tomei, Stephen F. ...   \n",
       "16  [Jae-Yun Ko, Sung-Ho Lee, Soon-Young Yoon, Jun...   \n",
       "17                                 [Ramesh Nagarajan]   \n",
       "18             [Ryan Metcalfe, Clara Cuciurean-Zapan]   \n",
       "19  [Toshihiro Morisawa, Daisuke Shiraishi, Satomi...   \n",
       "20  [Venkataraman Natarajan, Arun Ananth Bhatji, M...   \n",
       "21                                 [Raymond C. Stacy]   \n",
       "22                                          [Xing Li]   \n",
       "23                                   [Peter A. Crean]   \n",
       "24  [R. Lawrence Ives, Hien T. Tran, Thuc Bui, Ada...   \n",
       "25                         [Yuki Hara, Takashi Kondo]   \n",
       "26                        [Yuki Hara, Yozo Yamaguchi]   \n",
       "27        [Thomas Edward Higgins, Kenneth Wayne Luff]   \n",
       "28  [Zhengwei Liu, Xiaoxia Zhang, Christian O. The...   \n",
       "29              [David A. Hughes, Michael B. Monahan]   \n",
       "\n",
       "                                     current_assignee  \\\n",
       "0                                    [BlackBerry Ltd]   \n",
       "1                                            [SAP SE]   \n",
       "2                                        [Intel Corp]   \n",
       "3                   [Nokia Solutions and Networks Oy]   \n",
       "4                   [Nokia Solutions and Networks Oy]   \n",
       "5                                      [Qualcomm Inc]   \n",
       "6                        [Samsung Electronics Co Ltd]   \n",
       "7                                        [Intel Corp]   \n",
       "8                 [Fujifilm Business Innovation Corp]   \n",
       "9                                                  []   \n",
       "10                                       [Xerox Corp]   \n",
       "11                               [Alcatel Lucent SAS]   \n",
       "12  [United States, AS REPRENSENTED BY SECRETARY O...   \n",
       "13                                       [Xerox Corp]   \n",
       "14                                         [ZTE Corp]   \n",
       "15                                        [Boeing Co]   \n",
       "16                       [Samsung Electronics Co Ltd]   \n",
       "17                                       [Xerox Corp]   \n",
       "18                                       [Xerox Corp]   \n",
       "19                           [Hitachi High Tech Corp]   \n",
       "20                                 [T Mobile USA Inc]   \n",
       "21                                       [Xerox Corp]   \n",
       "22                                       [Xerox Corp]   \n",
       "23                                       [Xerox Corp]   \n",
       "24  [CALABAZAS CREEK RESEARCH Inc, Calabazas Creek...   \n",
       "25                [Fujifilm Business Innovation Corp]   \n",
       "26                [Fujifilm Business Innovation Corp]   \n",
       "27                                       [Xerox Corp]   \n",
       "28                                     [Qualcomm Inc]   \n",
       "29                                       [Xerox Corp]   \n",
       "\n",
       "                    original_assignee             appDate   pubDate   graDate  \\\n",
       "0            [Research in Motion Ltd] 2010-07-14 04:00:00  20130829       N/A   \n",
       "1                           [SAP SE ] 2010-12-06 05:00:00  20130604  20130515   \n",
       "2                        [Intel Corp] 2010-12-23 05:00:00  20190205  20190116   \n",
       "3   [Nokia Solutions and Networks Oy] 2010-06-16 04:00:00  20150512  20150422   \n",
       "4   [Nokia Solutions and Networks Oy] 2010-02-10 05:00:00  20151124  20151104   \n",
       "5                      [Qualcomm Inc] 2010-10-12 04:00:00  20141118  20141029   \n",
       "6        [Samsung Electronics Co Ltd] 2010-11-26 05:00:00  20110811       N/A   \n",
       "7                        [Intel Corp] 2010-10-12 04:00:00  20120412       N/A   \n",
       "8                 [Fuji Xerox Co Ltd] 2010-08-06 04:00:00  20131119  20131030   \n",
       "9                 [Alexander Riftine] 2010-10-31 04:00:00  20120503  20140305   \n",
       "10                       [Xerox Corp] 2010-03-31 04:00:00  20111006       N/A   \n",
       "11            [Nokia of America Corp] 2010-01-28 05:00:00  20110728  20130417   \n",
       "12                     [US Air Force] 2010-08-18 04:00:00  20140114  20131224   \n",
       "13                       [Xerox Corp] 2010-01-29 05:00:00  20130723  20130703   \n",
       "14                         [ZTE Corp] 2010-06-09 04:00:00  20121227  20150127   \n",
       "15                        [Boeing Co] 2010-12-07 05:00:00  20140729  20140709   \n",
       "16       [Samsung Electronics Co Ltd] 2010-11-10 05:00:00  20110804  20140910   \n",
       "17                       [Xerox Corp] 2010-11-05 04:00:00  20120510  20121017   \n",
       "18                       [Xerox Corp] 2010-07-13 04:00:00  20120119  20121121   \n",
       "19   [Hitachi High Technologies Corp] 2010-12-03 05:00:00  20141230  20141210   \n",
       "20                 [T Mobile USA Inc] 2010-07-02 04:00:00  20120105  20150902   \n",
       "21                       [Xerox Corp] 2010-04-29 04:00:00  20111103       N/A   \n",
       "22                       [Xerox Corp] 2010-12-07 05:00:00  20120607  20140618   \n",
       "23                       [Xerox Corp] 2010-05-28 04:00:00  20131015  20130925   \n",
       "24   [Calabazas Creek Res Center Inc] 2010-02-12 05:00:00  20131001  20130911   \n",
       "25                [Fuji Xerox Co Ltd] 2010-09-23 04:00:00  20130813  20130724   \n",
       "26                [Fuji Xerox Co Ltd] 2010-09-30 04:00:00  20110929  20140618   \n",
       "27                       [Xerox Corp] 2010-10-27 04:00:00  20130212  20130123   \n",
       "28                     [Qualcomm Inc] 2010-10-27 04:00:00  20141021  20141001   \n",
       "29                       [Xerox Corp] 2010-04-01 04:00:00  20121218  20121128   \n",
       "\n",
       "                                       classification  \\\n",
       "0       [H04W36/30, H04W48/20, H04W36/04, H04W84/045]   \n",
       "1   [H04W4/00, H04L67/12, H04W4/029, H04L67/2857, ...   \n",
       "2   [G06F11/36, G06F11/2733, G06F11/22, G06F11/267...   \n",
       "3   [H04W52/0206, H04W24/02, H04W24/08, H04W88/08,...   \n",
       "4   [H04W72/082, H04B1/707, H04L5/0007, H04L5/001,...   \n",
       "5   [H04B7/216, H04W52/365, H04W72/14, H04W80/04, ...   \n",
       "6   [H04W52/243, H04W36/0022, H04W36/00835, H04W52...   \n",
       "7   [H04W52/146, H04W52/243, H04W52/283, H04W52/36...   \n",
       "8   [G03G15/36, G06F3/1208, G06F3/1237, G06F3/125,...   \n",
       "9   [A61B5/0006, A61B5/02405, A61B5/02438, A61B5/4...   \n",
       "10              [B41J3/32, B41J11/0015, B41J11/00214]   \n",
       "11  [H04W52/14, H04W52/146, H04W52/16, H04W52/24, ...   \n",
       "12                 [G01S17/90, G01S17/87, G01S7/4818]   \n",
       "13                              [G06F3/12, G06K15/02]   \n",
       "14    [H04B17/345, H04L5/0073, H04B17/26, H04L5/0007]   \n",
       "15                                      [H04B7/18519]   \n",
       "16  [H04W72/082, H04J11/0023, H04J11/0053, H04W52/...   \n",
       "17                                        [G06Q30/04]   \n",
       "18                                        [G06V30/10]   \n",
       "19                       [H01J37/32972, H01J37/32935]   \n",
       "20                 [H04W16/22, H04B17/391, H04W24/06]   \n",
       "21   [G06F3/1204, G06F3/1237, G06F3/1264, G06F3/1282]   \n",
       "22                              [G06Q30/04, H04N1/56]   \n",
       "23  [H04N1/6033, H04N1/00015, H04N1/00023, H04N1/0...   \n",
       "24                  [H01J23/06, H01J25/10, H01J3/027]   \n",
       "25  [G06F3/1211, G06F3/1237, G06F3/124, G06F3/1244...   \n",
       "26  [G06K15/1856, G06K15/022, G06K15/1857, H04N1/3...   \n",
       "27                                      [G03G15/1695]   \n",
       "28  [H04W80/02, H04L29/10, H04W76/021, H04W76/11, ...   \n",
       "29                        [G03G15/50, G03G2215/00021]   \n",
       "\n",
       "                                                brief  \\\n",
       "0   A UE comprising a processor configured to perf...   \n",
       "1   Embodiments of the present invention include s...   \n",
       "2   An apparatus and method is described herein fo...   \n",
       "3   There is proposed a mechanism for power saving...   \n",
       "4   There is proposed a mechanism by means of whic...   \n",
       "5   A method and apparatus for effectively facilit...   \n",
       "6   An apparatus of a Base Station (BS) and a meth...   \n",
       "7   A method for an uplink power control mechanism...   \n",
       "8   A page layout control device having a receivin...   \n",
       "9   This invention relates to fitness monitors and...   \n",
       "10  A method for forming Braille images on a subst...   \n",
       "11  Example embodiments are directed to a method o...   \n",
       "12  A multi-function, range-Doppler, synthetic ape...   \n",
       "13  A method and system for predicting expansion d...   \n",
       "14  A method and system for measuring noise of a m...   \n",
       "15  A system for protecting a power unit on a spac...   \n",
       "16  A method and an apparatus maximize the capacit...   \n",
       "17  Disclosed is a method and a system for automat...   \n",
       "18  A method for performing binary image reduction...   \n",
       "19                                               None   \n",
       "20  A switching matrix and testing platform may en...   \n",
       "21                                               None   \n",
       "22  Disclosed herein are a method and an image pro...   \n",
       "23  Disclosed is a method for processing raster im...   \n",
       "24  A multi-beam electron gun provides a plurality...   \n",
       "25  An image processing apparatus includes a recon...   \n",
       "26  An image forming apparatus includes a print en...   \n",
       "27  When calibrating a transfer assist blade (TAB)...   \n",
       "28  Certain aspects of the present disclosure rela...   \n",
       "29  Disclosed are image processing methods and sys...   \n",
       "\n",
       "                                                title  \\\n",
       "0   IdleModeHybridMobilityProcedureinaHeterogeneou...   \n",
       "1   In-vehicleapplicationplatformforvehicle-to-bus...   \n",
       "2                Test,validation,anddebugarchitecture   \n",
       "3         Powersavingprocedureincommunicationsnetwork   \n",
       "4   Mechanismforaggregatinguplinkinterferenceinfor...   \n",
       "5   Methodandapparatusforfacilitatingeffectivesche...   \n",
       "6   Methodandapparatusforuplinkinterferencecancell...   \n",
       "7             Methodsforanuplinkpowercontrolmechanism   \n",
       "8   Pagelayoutcontroldevice,imageprocessingapparat...   \n",
       "9   Fitnessscoreassessmentbasedonheartratevariabil...   \n",
       "10  ProcessForPreparingBrailleImagesUsingInlineDig...   \n",
       "11  Methodsofdetermininguplinktargetsignal-to-inte...   \n",
       "12  Apparatusandmethodforamultipleaperturecoherent...   \n",
       "13  Predictinganexpansiondifficultyandanexpansiont...   \n",
       "14  MethodandSystemforMeasuringBackgroundNoiseofMa...   \n",
       "15  Powermanagementschemeforprotectingcomponentson...   \n",
       "16  Userequipmentschedulingmethodincellularuplinkc...   \n",
       "17  Systemandmethodfordeterminingcolorusagelimitsw...   \n",
       "18  Binaryreductionwithstructurepreservationandden...   \n",
       "19  Etchingapparatus,controlsimulator,andsemicondu...   \n",
       "20                     SwitchingMatrixandTestPlatform   \n",
       "21  ReprographicSystemHavingBluetoothSupportforOff...   \n",
       "22   Colordetectionfortieredbillingincopyandprintjobs   \n",
       "23  Systemandmethodfordeterminingabillingstructure...   \n",
       "24  Electrongunforamultiplebeamklystronwithmagneti...   \n",
       "25  Imageprocessingapparatus,imageprocessingmethod...   \n",
       "26  Imageformingapparatus,imageformingmethod,andco...   \n",
       "27  Methodtoautomateatransferassistbladedevicetimi...   \n",
       "28           Cellsitemodemapplicationmessageinterface   \n",
       "29  Methods,systemsandapparatusforsynchronizingtwo...   \n",
       "\n",
       "                                          description  \\\n",
       "0   This application is a filing under 35 U.S.C. 3...   \n",
       "1   The present invention relates to computing, an...   \n",
       "2   This patent application is a U.S. National Pha...   \n",
       "3   1. Field of the InventionThe present invention...   \n",
       "4   1. Field of the InventionThe present invention...   \n",
       "5   This application claims the benefit of Interna...   \n",
       "6   This application claims the benefit under 35 U...   \n",
       "7   Embodiments of the invention relate to the fie...   \n",
       "8   This application is based on and claims priori...   \n",
       "9                                                       \n",
       "10  Commonly assigned, co-pending U.S. patent appl...   \n",
       "11                                                      \n",
       "12  The invention described herein may be manufact...   \n",
       "13  Embodiments are generally related to rendering...   \n",
       "14                                                      \n",
       "15  The present disclosure relates to spacecraft a...   \n",
       "16                                                      \n",
       "17                                                      \n",
       "18                                                      \n",
       "19  The present invention relates to techniques us...   \n",
       "20                                                      \n",
       "21  This disclosure relates generally to reprograp...   \n",
       "22                                                      \n",
       "23  1. FieldThe present disclosure is generally re...   \n",
       "24  The present invention was developed under the ...   \n",
       "25  This application is based on and claims priori...   \n",
       "26                                                      \n",
       "27  The present exemplary embodiments broadly rela...   \n",
       "28  1. FieldCertain aspects of the present disclos...   \n",
       "29  U.S. Pat. No. 6,219,516, by Furst et al., enti...   \n",
       "\n",
       "                                                claim  \\\n",
       "0   [1.AUEcomprising:aprocessorconfiguredtoperform...   \n",
       "1   [1.Acomputer-implementedmethodcomprisingoperat...   \n",
       "2   [1.Anapparatuscomprising:atleastonehardwaretes...   \n",
       "3   [1.Apparatuscomprising:memorycomprisingcompute...   \n",
       "4   [1.Amethodcomprising:monitoringuplinkanddownli...   \n",
       "5   [1.Amethodofwirelesscommunicationinatimedivisi...   \n",
       "6   [1.Amethodforcancellinguplinkinterferenceinawi...   \n",
       "7   [1.Amethodforawirelesscommunicationnetworkcomp...   \n",
       "8   [1.Apagelayoutcontroldevicecomprising:areceivi...   \n",
       "9   [1.Ahand-heldorwatchtypedeviceforuseincomplete...   \n",
       "10  [1.AmethodforformingBrailleimagesonasubstratec...   \n",
       "11  [1.Amethodofuplinkpowercontrol,themethodcompri...   \n",
       "12  [1.Amulti-functioncoherentladarsystemhavingimp...   \n",
       "13  [1.Acomputer-implementedmethod,saidmethodcompr...   \n",
       "14  [1.Amethodformeasuringnoiseofamachine,comprisi...   \n",
       "15  [1.Asystemforprotectingapowerunitonaspacecraft...   \n",
       "16  [1.Auserequipment(UE)schedulingmethodbyabasest...   \n",
       "17  [1.Amethodforautomaticallyoutputtingdocumentsc...   \n",
       "18  [1.Acomputer-implementedmethodforperformingbin...   \n",
       "19  [1.Anetchingapparatuscomprisinganopticalemissi...   \n",
       "20  [1.Amethodcomprising:selecting,viaaswitchingma...   \n",
       "21  [1.Areprographicsystemcomprising:animageoutput...   \n",
       "22  [1.Aprocessor-implementedmethodfordetermininga...   \n",
       "23  [1.Amethodfordetermininganamountofmarkingmediu...   \n",
       "24  [1.Amultiplebeamelectrongunhaving:amagneticfie...   \n",
       "25  [1.Animageprocessingapparatuscomprising:arecon...   \n",
       "26  [1.Animageformingapparatuscomprising:aprinteng...   \n",
       "27  [1.Amethodofautomatingatransferassistblade(TAB...   \n",
       "28  [1.Amethodforcommunications,comprising:interfa...   \n",
       "29  [1.Amethodofcontrollingthesynchronizationofthe...   \n",
       "\n",
       "                           countrystatus  \\\n",
       "0   [US, EP, JP, KR, CN, CA, IN, TW, WO]   \n",
       "1                               [US, EP]   \n",
       "2           [US, JP, KR, CN, DE, GB, WO]   \n",
       "3                           [US, EP, WO]   \n",
       "4                           [US, EP, WO]   \n",
       "5                               [US, WO]   \n",
       "6                       [US, JP, KR, WO]   \n",
       "7                       [US, EP, CN, WO]   \n",
       "8                           [US, JP, CN]   \n",
       "9                                   [US]   \n",
       "10                                  [US]   \n",
       "11      [US, EP, JP, KR, CN, BR, TW, WO]   \n",
       "12                                  [US]   \n",
       "13                                  [US]   \n",
       "14              [US, EP, JP, CN, RU, WO]   \n",
       "15                  [US, EP, JP, CN, CA]   \n",
       "16                          [US, KR, WO]   \n",
       "17                                  [US]   \n",
       "18                                  [US]   \n",
       "19                      [US, JP, TW, WO]   \n",
       "20          [US, EP, JP, KR, CN, CA, WO]   \n",
       "21                                  [US]   \n",
       "22                                  [US]   \n",
       "23                                  [US]   \n",
       "24                                  [US]   \n",
       "25                          [US, JP, CN]   \n",
       "26                          [US, JP, CN]   \n",
       "27                              [US, GB]   \n",
       "28              [US, EP, JP, KR, CN, WO]   \n",
       "29                                  [US]   \n",
       "\n",
       "                                       patentCitation  \\\n",
       "0   [{'pto': 'US', 'patentNumber': '20070123252', ...   \n",
       "1   [{'pto': 'US', 'patentNumber': '7382289', 'kin...   \n",
       "2   [{'pto': 'JP', 'patentNumber': 'H0831559', 'ki...   \n",
       "3   [{'pto': 'US', 'patentNumber': '6259681', 'kin...   \n",
       "4   [{'pto': 'US', 'patentNumber': '20080247375', ...   \n",
       "5   [{'pto': 'CN', 'patentNumber': '171993', 'kind...   \n",
       "6   [{'pto': 'US', 'patentNumber': '20080175185', ...   \n",
       "7   [{'pto': 'US', 'patentNumber': '7397871', 'kin...   \n",
       "8   [{'pto': 'US', 'patentNumber': '6844940', 'kin...   \n",
       "9   [{'pto': 'US', 'patentNumber': '6212427', 'kin...   \n",
       "10                                               None   \n",
       "11  [{'pto': 'US', 'patentNumber': '20060233222', ...   \n",
       "12  [{'pto': 'US', 'patentNumber': '411577', 'kind...   \n",
       "13  [{'pto': 'US', 'patentNumber': '6330363', 'kin...   \n",
       "14  [{'pto': 'WO', 'patentNumber': '2009026561', '...   \n",
       "15  [{'pto': 'US', 'patentNumber': '490700', 'kind...   \n",
       "16  [{'pto': 'US', 'patentNumber': '20020058513', ...   \n",
       "17  [{'pto': 'JP', 'patentNumber': '200620206', 'k...   \n",
       "18  [{'pto': 'US', 'patentNumber': '6999619', 'kin...   \n",
       "19  [{'pto': 'US', 'patentNumber': '6400458', 'kin...   \n",
       "20  [{'pto': 'US', 'patentNumber': '6272337', 'kin...   \n",
       "21  [{'pto': 'US', 'patentNumber': '20030096576', ...   \n",
       "22  [{'pto': 'US', 'patentNumber': '6249592', 'kin...   \n",
       "23  [{'pto': 'US', 'patentNumber': '406503', 'kind...   \n",
       "24  [{'pto': 'US', 'patentNumber': '450899', 'kind...   \n",
       "25  [{'pto': 'US', 'patentNumber': '20050174444', ...   \n",
       "26  [{'pto': 'US', 'patentNumber': '20070083733', ...   \n",
       "27  [{'pto': 'US', 'patentNumber': '524733', 'kind...   \n",
       "28  [{'pto': 'EP', 'patentNumber': '0991208', 'kin...   \n",
       "29  [{'pto': 'US', 'patentNumber': '483763', 'kind...   \n",
       "\n",
       "                              family_to_family_citing  \\\n",
       "0   [{'pto': 'GB', 'patentNumber': '0413534', 'kin...   \n",
       "1                                                None   \n",
       "2   [{'pto': 'JP', 'patentNumber': '200108561', 'k...   \n",
       "3                                                None   \n",
       "4                                                None   \n",
       "5                                                None   \n",
       "6   [{'pto': 'US', 'patentNumber': '8848574', 'kin...   \n",
       "7   [{'pto': 'KR', 'patentNumber': '100600674', 'k...   \n",
       "8   [{'pto': 'JP', 'patentNumber': '200015197', 'k...   \n",
       "9                                                None   \n",
       "10                                               None   \n",
       "11  [{'pto': 'MY', 'patentNumber': '12863', 'kindc...   \n",
       "12                                               None   \n",
       "13                                               None   \n",
       "14  [{'pto': 'JP', 'patentNumber': '200134994', 'k...   \n",
       "15  [{'pto': 'JP', 'patentNumber': 'S6218982', 'ki...   \n",
       "16  [{'pto': 'US', 'patentNumber': '8346265', 'kin...   \n",
       "17  [{'pto': 'US', 'patentNumber': '406503', 'kind...   \n",
       "18  [{'pto': 'JP', 'patentNumber': 'H087951', 'kin...   \n",
       "19  [{'pto': 'JP', 'patentNumber': '200411985', 'k...   \n",
       "20  [{'pto': 'US', 'patentNumber': '6389010', 'kin...   \n",
       "21                                               None   \n",
       "22  [{'pto': 'US', 'patentNumber': '406503', 'kind...   \n",
       "23                                               None   \n",
       "24                                               None   \n",
       "25  [{'pto': 'JP', 'patentNumber': '200225161', 'k...   \n",
       "26  [{'pto': 'JP', 'patentNumber': '4246018', 'kin...   \n",
       "27                                               None   \n",
       "28  [{'pto': 'CN', 'patentNumber': '10154109', 'ki...   \n",
       "29                                               None   \n",
       "\n",
       "                                                cited  \\\n",
       "0   [{'pto': 'US', 'patentNumber': '20120276933', ...   \n",
       "1   [{'pto': 'US', 'patentNumber': '9098312', 'kin...   \n",
       "2   [{'pto': 'US', 'patentNumber': '20180348301', ...   \n",
       "3   [{'pto': 'US', 'patentNumber': '20140105056', ...   \n",
       "4   [{'pto': 'CN', 'patentNumber': '11213163', 'ki...   \n",
       "5   [{'pto': 'US', 'patentNumber': '20140329551', ...   \n",
       "6   [{'pto': 'US', 'patentNumber': '20130045771', ...   \n",
       "7   [{'pto': 'CN', 'patentNumber': '10289219', 'ki...   \n",
       "8   [{'pto': 'US', 'patentNumber': '10298788', 'ki...   \n",
       "9   [{'pto': 'US', 'patentNumber': '20140081092', ...   \n",
       "10  [{'pto': 'US', 'patentNumber': '20090257805', ...   \n",
       "11  [{'pto': 'US', 'patentNumber': '20120275425', ...   \n",
       "12  [{'pto': 'CN', 'patentNumber': '10398397', 'ki...   \n",
       "13  [{'pto': 'US', 'patentNumber': '20130003101', ...   \n",
       "14  [{'pto': 'US', 'patentNumber': '20170079070', ...   \n",
       "15  [{'pto': 'US', 'patentNumber': '9848370', 'kin...   \n",
       "16  [{'pto': 'US', 'patentNumber': '9414393', 'kin...   \n",
       "17  [{'pto': 'US', 'patentNumber': '20110225022', ...   \n",
       "18                                               None   \n",
       "19  [{'pto': 'US', 'patentNumber': '20130133832', ...   \n",
       "20  [{'pto': 'US', 'patentNumber': '20140282023', ...   \n",
       "21  [{'pto': 'US', 'patentNumber': '20120113459', ...   \n",
       "22  [{'pto': 'US', 'patentNumber': '20130066756', ...   \n",
       "23  [{'pto': 'US', 'patentNumber': '20130101328', ...   \n",
       "24  [{'pto': 'US', 'patentNumber': '20130229109', ...   \n",
       "25  [{'pto': 'US', 'patentNumber': '20150229804', ...   \n",
       "26  [{'pto': 'US', 'patentNumber': '20120256922', ...   \n",
       "27  [{'pto': 'US', 'patentNumber': '20120237239', ...   \n",
       "28                                               None   \n",
       "29                                               None   \n",
       "\n",
       "                               family_to_family_cited  \\\n",
       "0   [{'pto': 'KR', 'patentNumber': '2012003490', '...   \n",
       "1   [{'pto': 'DE', 'patentNumber': '102011107111',...   \n",
       "2   [{'pto': 'US', 'patentNumber': '7895565', 'kin...   \n",
       "3   [{'pto': 'US', 'patentNumber': '20110312359', ...   \n",
       "4   [{'pto': 'EP', 'patentNumber': '2534866', 'kin...   \n",
       "5   [{'pto': 'US', 'patentNumber': '20140369312', ...   \n",
       "6   [{'pto': 'GB', 'patentNumber': '249977', 'kind...   \n",
       "7   [{'pto': 'CA', 'patentNumber': '2791612', 'kin...   \n",
       "8   [{'pto': 'US', 'patentNumber': '9389775', 'kin...   \n",
       "9   [{'pto': 'US', 'patentNumber': '9901266', 'kin...   \n",
       "10                                               None   \n",
       "11  [{'pto': 'US', 'patentNumber': '9414327', 'kin...   \n",
       "12                                               None   \n",
       "13  [{'pto': 'JP', 'patentNumber': '5782731', 'kin...   \n",
       "14                                               None   \n",
       "15  [{'pto': 'US', 'patentNumber': '9553473', 'kin...   \n",
       "16  [{'pto': 'CN', 'patentNumber': '10300245', 'ki...   \n",
       "17  [{'pto': 'WO', 'patentNumber': '2014178824', '...   \n",
       "18  [{'pto': 'US', 'patentNumber': '10650496', 'ki...   \n",
       "19  [{'pto': 'JP', 'patentNumber': '6158111', 'kin...   \n",
       "20  [{'pto': 'CN', 'patentNumber': '10947601', 'ki...   \n",
       "21                                               None   \n",
       "22  [{'pto': 'US', 'patentNumber': '10764470', 'ki...   \n",
       "23  [{'pto': 'JP', 'patentNumber': '5811712', 'kin...   \n",
       "24                                               None   \n",
       "25  [{'pto': 'JP', 'patentNumber': '201604229', 'k...   \n",
       "26                                               None   \n",
       "27  [{'pto': 'US', 'patentNumber': '10437179', 'ki...   \n",
       "28  [{'pto': 'EP', 'patentNumber': '2777314', 'kin...   \n",
       "29                                               None   \n",
       "\n",
       "                                     similarDocuments           priority  \n",
       "0   [{'publication': 'US20130223235A1', 'time': '2...  PCT/US2010/042018  \n",
       "1   [{'publication': 'US8458315B2', 'time': '2013-...       US12/961,300  \n",
       "2   [{'publication': 'US10198333B2', 'time': '2019...  PCT/US2010/061995  \n",
       "3   [{'publication': 'US9030941B2', 'time': '2015-...  PCT/EP2010/058450  \n",
       "4   [{'publication': 'US9198185B2', 'time': '2015-...  PCT/EP2010/051662  \n",
       "5   [{'publication': 'US8891436B2', 'time': '2014-...  PCT/CN2010/073047  \n",
       "6   [{'publication': 'US20110195731A1', 'time': '2...  KR10-2010-0010750  \n",
       "7   [{'publication': 'US8675602B2', 'time': '2014-...       US12/903,009  \n",
       "8   [{'publication': 'US8587819B2', 'time': '2013-...      JP2010035395A  \n",
       "9   [{'publication': 'US8682421B2', 'time': '2014-...       US12/916,559  \n",
       "10  [{'publication': 'CA2676889C', 'time': '2014-1...       US12/751,653  \n",
       "11  [{'publication': 'US8437794B2', 'time': '2013-...       US12/656,389  \n",
       "12  [{'publication': 'US8629975B1', 'time': '2014-...       US12/858,680  \n",
       "13  [{'publication': 'US8493612B2', 'time': '2013-...       US12/696,194  \n",
       "14  [{'publication': 'US9008718B2', 'time': '2015-...   CN201010127487.1  \n",
       "15  [{'publication': 'CA2757070C', 'time': '2018-0...       US12/961,712  \n",
       "16  [{'publication': 'US9854535B2', 'time': '2017-...   KR1020100008743A  \n",
       "17  [{'publication': 'US8306878B2', 'time': '2012-...       US12/941,002  \n",
       "18  [{'publication': 'EP1317134B1', 'time': '2009-...       US12/835,239  \n",
       "19  [{'publication': 'US8924001B2', 'time': '2014-...      JP2010-041975  \n",
       "20  [{'publication': 'JP6793420B2', 'time': '2020-...       US12/830,142  \n",
       "21  [{'publication': 'US9658812B2', 'time': '2017-...       US12/770,023  \n",
       "22  [{'publication': 'US8751411B2', 'time': '2014-...       US12/962,298  \n",
       "23  [{'publication': 'US8751411B2', 'time': '2014-...       US12/790,388  \n",
       "24  [{'publication': 'US6847168B1', 'time': '2005-...       US12/705,160  \n",
       "25  [{'publication': 'US8508758B2', 'time': '2013-...      JP2010-069749  \n",
       "26  [{'publication': 'US8508758B2', 'time': '2013-...      JP2010069748A  \n",
       "27  [{'publication': 'US7800799B2', 'time': '2010-...       US12/913,051  \n",
       "28  [{'publication': 'US9392605B2', 'time': '2016-...       US12/913,689  \n",
       "29  [{'publication': 'US6219516B1', 'time': '2001-...       US12/752,426  "
      ]
     },
     "execution_count": 18,
     "metadata": {},
     "output_type": "execute_result"
    }
   ],
   "source": [
    "db_us_2010"
   ]
  },
  {
   "cell_type": "code",
   "execution_count": 19,
   "id": "2546de09-c4e7-44c4-9ea0-60c3ec7b322e",
   "metadata": {},
   "outputs": [
    {
     "data": {
      "text/plain": [
       "<pymongo.results.InsertManyResult at 0x7f126c6fe740>"
      ]
     },
     "execution_count": 19,
     "metadata": {},
     "output_type": "execute_result"
    }
   ],
   "source": [
    "# 存進MongoDB\n",
    "db.rm_patent_us_2010.insert_many(db_us_2010.to_dict('records'))"
   ]
  },
  {
   "cell_type": "code",
   "execution_count": null,
   "id": "c7d9e1c4-b6f8-48fa-9dc4-25499e91d3e0",
   "metadata": {},
   "outputs": [],
   "source": []
  },
  {
   "cell_type": "code",
   "execution_count": null,
   "id": "ff9fd899-5a43-4f26-b815-b34d0286d7fe",
   "metadata": {},
   "outputs": [],
   "source": []
  },
  {
   "cell_type": "markdown",
   "id": "5a995520-9fe9-4e71-bd9a-33e97d6b9b65",
   "metadata": {
    "tags": []
   },
   "source": [
    "## 2011"
   ]
  },
  {
   "cell_type": "markdown",
   "id": "30019a2c-fa43-4e7f-8156-280537ba3993",
   "metadata": {},
   "source": [
    "### CN"
   ]
  },
  {
   "cell_type": "code",
   "execution_count": 20,
   "id": "5fabb9ca-4d9a-417d-9b6b-57010e844925",
   "metadata": {},
   "outputs": [],
   "source": [
    "dateStr = \"2011-01-01T00:00:00.000Z\"\n",
    "start = dateutil.parser.parse(dateStr)\n",
    "\n",
    "dateEnd = \"2011-12-31T00:00:00.000Z\"\n",
    "end = dateutil.parser.parse(dateEnd)"
   ]
  },
  {
   "cell_type": "code",
   "execution_count": 21,
   "id": "e6aead8d-456e-49c4-87a2-d948b1553820",
   "metadata": {},
   "outputs": [],
   "source": [
    "db_cn_2010 = pd.DataFrame(db_rm_cn.aggregate( [ \n",
    "    {\"$addFields\": { \"appDate\":\n",
    "            { \"$dateFromString\": {\n",
    "            \"dateString\": '$appDate',\n",
    "            \"timezone\": 'America/New_York'}\n",
    "            }}\n",
    "        },\n",
    "        {\"$match\": {\n",
    "            \"appDate\": { \"$gte\": start, \"$lte\": end }}\n",
    "        }\n",
    "\n",
    " ] ))"
   ]
  },
  {
   "cell_type": "code",
   "execution_count": 22,
   "id": "e142afdc-a68a-4f97-8d26-7a991c70c6ab",
   "metadata": {},
   "outputs": [
    {
     "data": {
      "text/plain": [
       "<pymongo.results.InsertManyResult at 0x7f126c1ce2c0>"
      ]
     },
     "execution_count": 22,
     "metadata": {},
     "output_type": "execute_result"
    }
   ],
   "source": [
    "# 存進MongoDB\n",
    "db.rm_patent_cn_2011.insert_many(db_cn_2010.to_dict('records'))"
   ]
  },
  {
   "cell_type": "code",
   "execution_count": null,
   "id": "f9554c24-7378-4dba-8380-b30400a71187",
   "metadata": {},
   "outputs": [],
   "source": []
  },
  {
   "cell_type": "markdown",
   "id": "92d42bde-7301-402e-a5d0-d349cc476c02",
   "metadata": {},
   "source": [
    "### DE"
   ]
  },
  {
   "cell_type": "code",
   "execution_count": 23,
   "id": "9b8286a4-7f6d-4979-9a6d-8d62d9ffe514",
   "metadata": {},
   "outputs": [],
   "source": [
    "dateStr = \"2011-01-01T00:00:00.000Z\"\n",
    "start = dateutil.parser.parse(dateStr)\n",
    "\n",
    "dateEnd = \"2011-12-31T00:00:00.000Z\"\n",
    "end = dateutil.parser.parse(dateEnd)"
   ]
  },
  {
   "cell_type": "code",
   "execution_count": 24,
   "id": "2bbd6f93-0865-470e-89a9-83db556177f0",
   "metadata": {},
   "outputs": [],
   "source": [
    "db_de_2010 = pd.DataFrame(db_rm_de.aggregate( [ \n",
    "    {\"$addFields\": { \"appDate\":\n",
    "            { \"$dateFromString\": {\n",
    "            \"dateString\": '$appDate',\n",
    "            \"timezone\": 'America/New_York'}\n",
    "            }}\n",
    "        },\n",
    "        {\"$match\": {\n",
    "            \"appDate\": { \"$gte\": start, \"$lte\": end }}\n",
    "        }\n",
    "\n",
    " ] ))"
   ]
  },
  {
   "cell_type": "code",
   "execution_count": 25,
   "id": "fd3badba-5677-4d40-96c3-17a09e8f7583",
   "metadata": {
    "scrolled": true,
    "tags": []
   },
   "outputs": [
    {
     "ename": "TypeError",
     "evalue": "documents must be a non-empty list",
     "output_type": "error",
     "traceback": [
      "\u001b[0;31m---------------------------------------------------------------------------\u001b[0m",
      "\u001b[0;31mTypeError\u001b[0m                                 Traceback (most recent call last)",
      "Input \u001b[0;32mIn [25]\u001b[0m, in \u001b[0;36m<cell line: 2>\u001b[0;34m()\u001b[0m\n\u001b[1;32m      1\u001b[0m \u001b[38;5;66;03m# 存進MongoDB\u001b[39;00m\n\u001b[0;32m----> 2\u001b[0m \u001b[43mdb\u001b[49m\u001b[38;5;241;43m.\u001b[39;49m\u001b[43mrm_patent_de_2011\u001b[49m\u001b[38;5;241;43m.\u001b[39;49m\u001b[43minsert_many\u001b[49m\u001b[43m(\u001b[49m\u001b[43mdb_de_2010\u001b[49m\u001b[38;5;241;43m.\u001b[39;49m\u001b[43mto_dict\u001b[49m\u001b[43m(\u001b[49m\u001b[38;5;124;43m'\u001b[39;49m\u001b[38;5;124;43mrecords\u001b[39;49m\u001b[38;5;124;43m'\u001b[39;49m\u001b[43m)\u001b[49m\u001b[43m)\u001b[49m\n",
      "File \u001b[0;32m/usr/local/anaconda3/envs/test/lib/python3.8/site-packages/pymongo/collection.py:599\u001b[0m, in \u001b[0;36mCollection.insert_many\u001b[0;34m(self, documents, ordered, bypass_document_validation, session)\u001b[0m\n\u001b[1;32m    555\u001b[0m \u001b[38;5;124;03m\"\"\"Insert an iterable of documents.\u001b[39;00m\n\u001b[1;32m    556\u001b[0m \n\u001b[1;32m    557\u001b[0m \u001b[38;5;124;03m  >>> db.test.count_documents({})\u001b[39;00m\n\u001b[0;32m   (...)\u001b[0m\n\u001b[1;32m    592\u001b[0m \u001b[38;5;124;03m.. versionadded:: 3.0\u001b[39;00m\n\u001b[1;32m    593\u001b[0m \u001b[38;5;124;03m\"\"\"\u001b[39;00m\n\u001b[1;32m    594\u001b[0m \u001b[38;5;28;01mif\u001b[39;00m (\n\u001b[1;32m    595\u001b[0m     \u001b[38;5;129;01mnot\u001b[39;00m \u001b[38;5;28misinstance\u001b[39m(documents, abc\u001b[38;5;241m.\u001b[39mIterable)\n\u001b[1;32m    596\u001b[0m     \u001b[38;5;129;01mor\u001b[39;00m \u001b[38;5;28misinstance\u001b[39m(documents, abc\u001b[38;5;241m.\u001b[39mMapping)\n\u001b[1;32m    597\u001b[0m     \u001b[38;5;129;01mor\u001b[39;00m \u001b[38;5;129;01mnot\u001b[39;00m documents\n\u001b[1;32m    598\u001b[0m ):\n\u001b[0;32m--> 599\u001b[0m     \u001b[38;5;28;01mraise\u001b[39;00m \u001b[38;5;167;01mTypeError\u001b[39;00m(\u001b[38;5;124m\"\u001b[39m\u001b[38;5;124mdocuments must be a non-empty list\u001b[39m\u001b[38;5;124m\"\u001b[39m)\n\u001b[1;32m    600\u001b[0m inserted_ids \u001b[38;5;241m=\u001b[39m []\n\u001b[1;32m    602\u001b[0m \u001b[38;5;28;01mdef\u001b[39;00m \u001b[38;5;21mgen\u001b[39m():\n",
      "\u001b[0;31mTypeError\u001b[0m: documents must be a non-empty list"
     ]
    }
   ],
   "source": [
    "# 存進MongoDB\n",
    "db.rm_patent_de_2011.insert_many(db_de_2010.to_dict('records'))"
   ]
  },
  {
   "cell_type": "code",
   "execution_count": null,
   "id": "c9dcc9a3-ff41-4500-b3f4-96959b51adef",
   "metadata": {},
   "outputs": [],
   "source": []
  },
  {
   "cell_type": "markdown",
   "id": "e73bfa24-1213-43ad-9900-7305735e7167",
   "metadata": {},
   "source": [
    "### US"
   ]
  },
  {
   "cell_type": "code",
   "execution_count": 26,
   "id": "541174a8-28e1-4c1c-8d67-f8ccdd73d06e",
   "metadata": {},
   "outputs": [],
   "source": [
    "dateStr = \"2011-01-01T00:00:00.000Z\"\n",
    "start = dateutil.parser.parse(dateStr)\n",
    "\n",
    "dateEnd = \"2011-12-31T00:00:00.000Z\"\n",
    "end = dateutil.parser.parse(dateEnd)"
   ]
  },
  {
   "cell_type": "code",
   "execution_count": 27,
   "id": "6a52228a-9b8f-483a-97a5-a8448c9251ae",
   "metadata": {},
   "outputs": [],
   "source": [
    "db_us_2010 = pd.DataFrame(db_rm_us.aggregate( [ \n",
    "    {\"$addFields\": { \"appDate\":\n",
    "            { \"$dateFromString\": {\n",
    "            \"dateString\": '$appDate',\n",
    "            \"timezone\": 'America/New_York'}\n",
    "            }}\n",
    "        },\n",
    "        {\"$match\": {\n",
    "            \"appDate\": { \"$gte\": start, \"$lte\": end }}\n",
    "        }\n",
    "\n",
    " ] ))"
   ]
  },
  {
   "cell_type": "code",
   "execution_count": 28,
   "id": "2ad769b0-427e-4002-8e56-54840da244b2",
   "metadata": {},
   "outputs": [
    {
     "data": {
      "text/plain": [
       "<pymongo.results.InsertManyResult at 0x7f1257c50c40>"
      ]
     },
     "execution_count": 28,
     "metadata": {},
     "output_type": "execute_result"
    }
   ],
   "source": [
    "# 存進MongoDB\n",
    "db.rm_patent_us_2011.insert_many(db_us_2010.to_dict('records'))"
   ]
  },
  {
   "cell_type": "code",
   "execution_count": null,
   "id": "7e80e54e-b0a6-4e21-94fe-c7ff1fad68ce",
   "metadata": {},
   "outputs": [],
   "source": []
  },
  {
   "cell_type": "code",
   "execution_count": null,
   "id": "6950bfb8-d8bd-4d47-bdcf-f9f765331491",
   "metadata": {},
   "outputs": [],
   "source": []
  },
  {
   "cell_type": "markdown",
   "id": "b582174e-0576-4ec1-bd7d-d64dc0bc1fe8",
   "metadata": {
    "tags": []
   },
   "source": [
    "## 2012"
   ]
  },
  {
   "cell_type": "markdown",
   "id": "4e9a309f-964b-4c81-892f-0f0406ea4c5a",
   "metadata": {},
   "source": [
    "### CN"
   ]
  },
  {
   "cell_type": "code",
   "execution_count": 29,
   "id": "547e1425-40a7-40b4-9047-af9f8a094d56",
   "metadata": {},
   "outputs": [],
   "source": [
    "dateStr = \"2012-01-01T00:00:00.000Z\"\n",
    "start = dateutil.parser.parse(dateStr)\n",
    "\n",
    "dateEnd = \"2012-12-31T00:00:00.000Z\"\n",
    "end = dateutil.parser.parse(dateEnd)"
   ]
  },
  {
   "cell_type": "code",
   "execution_count": 30,
   "id": "a05e345b-3f9f-49aa-a506-7041cd304b58",
   "metadata": {},
   "outputs": [],
   "source": [
    "db_cn_2010 = pd.DataFrame(db_rm_cn.aggregate( [ \n",
    "    {\"$addFields\": { \"appDate\":\n",
    "            { \"$dateFromString\": {\n",
    "            \"dateString\": '$appDate',\n",
    "            \"timezone\": 'America/New_York'}\n",
    "            }}\n",
    "        },\n",
    "        {\"$match\": {\n",
    "            \"appDate\": { \"$gte\": start, \"$lte\": end }}\n",
    "        }\n",
    "\n",
    " ] ))"
   ]
  },
  {
   "cell_type": "code",
   "execution_count": 31,
   "id": "47d3ac2b-cd2e-413c-bf10-273fc449a292",
   "metadata": {},
   "outputs": [
    {
     "data": {
      "text/plain": [
       "<pymongo.results.InsertManyResult at 0x7f123dfa93c0>"
      ]
     },
     "execution_count": 31,
     "metadata": {},
     "output_type": "execute_result"
    }
   ],
   "source": [
    "# 存進MongoDB\n",
    "db.rm_patent_cn_2012.insert_many(db_cn_2010.to_dict('records'))"
   ]
  },
  {
   "cell_type": "code",
   "execution_count": null,
   "id": "65f343e3-f766-4efd-82e9-fb3d89466f7a",
   "metadata": {},
   "outputs": [],
   "source": []
  },
  {
   "cell_type": "markdown",
   "id": "77d2d7c8-179f-468b-9a9a-fda3a729860b",
   "metadata": {},
   "source": [
    "### DE"
   ]
  },
  {
   "cell_type": "code",
   "execution_count": 32,
   "id": "d7889f30-c4fa-436e-b251-a0d9f4074ae0",
   "metadata": {},
   "outputs": [],
   "source": [
    "dateStr = \"2012-01-01T00:00:00.000Z\"\n",
    "start = dateutil.parser.parse(dateStr)\n",
    "\n",
    "dateEnd = \"2012-12-31T00:00:00.000Z\"\n",
    "end = dateutil.parser.parse(dateEnd)"
   ]
  },
  {
   "cell_type": "code",
   "execution_count": 33,
   "id": "0f679421-0536-4976-96d2-351b853ba7ea",
   "metadata": {},
   "outputs": [],
   "source": [
    "db_de_2010 = pd.DataFrame(db_rm_de.aggregate( [ \n",
    "    {\"$addFields\": { \"appDate\":\n",
    "            { \"$dateFromString\": {\n",
    "            \"dateString\": '$appDate',\n",
    "            \"timezone\": 'America/New_York'}\n",
    "            }}\n",
    "        },\n",
    "        {\"$match\": {\n",
    "            \"appDate\": { \"$gte\": start, \"$lte\": end }}\n",
    "        }\n",
    "\n",
    " ] ))"
   ]
  },
  {
   "cell_type": "code",
   "execution_count": 34,
   "id": "69280d2e-22c8-48ec-9a1b-bdd4090bc83d",
   "metadata": {},
   "outputs": [
    {
     "data": {
      "text/plain": [
       "<pymongo.results.InsertManyResult at 0x7f124e0dfec0>"
      ]
     },
     "execution_count": 34,
     "metadata": {},
     "output_type": "execute_result"
    }
   ],
   "source": [
    "# 存進MongoDB\n",
    "db.rm_patent_de_2012.insert_many(db_de_2010.to_dict('records'))"
   ]
  },
  {
   "cell_type": "code",
   "execution_count": null,
   "id": "7efeeb74-1dd7-4fb2-9eb3-bc4dc6b89eb7",
   "metadata": {},
   "outputs": [],
   "source": []
  },
  {
   "cell_type": "markdown",
   "id": "0bbe5a5a-dfcc-46f8-ace0-028fdfcc9918",
   "metadata": {},
   "source": [
    "### US"
   ]
  },
  {
   "cell_type": "code",
   "execution_count": 35,
   "id": "98e22f70-a668-4cea-b931-42f1dd508332",
   "metadata": {},
   "outputs": [],
   "source": [
    "dateStr = \"2012-01-01T00:00:00.000Z\"\n",
    "start = dateutil.parser.parse(dateStr)\n",
    "\n",
    "dateEnd = \"2012-12-31T00:00:00.000Z\"\n",
    "end = dateutil.parser.parse(dateEnd)"
   ]
  },
  {
   "cell_type": "code",
   "execution_count": 36,
   "id": "d060ac87-562d-4db2-9f9e-57a35518632c",
   "metadata": {},
   "outputs": [],
   "source": [
    "db_us_2010 = pd.DataFrame(db_rm_us.aggregate( [ \n",
    "    {\"$addFields\": { \"appDate\":\n",
    "            { \"$dateFromString\": {\n",
    "            \"dateString\": '$appDate',\n",
    "            \"timezone\": 'America/New_York'}\n",
    "            }}\n",
    "        },\n",
    "        {\"$match\": {\n",
    "            \"appDate\": { \"$gte\": start, \"$lte\": end }}\n",
    "        }\n",
    "\n",
    " ] ))"
   ]
  },
  {
   "cell_type": "code",
   "execution_count": 37,
   "id": "41ad76ca-992c-4a10-9b5a-bd4fe2e6e32a",
   "metadata": {},
   "outputs": [
    {
     "data": {
      "text/plain": [
       "<pymongo.results.InsertManyResult at 0x7f124e7d9540>"
      ]
     },
     "execution_count": 37,
     "metadata": {},
     "output_type": "execute_result"
    }
   ],
   "source": [
    "# 存進MongoDB\n",
    "db.rm_patent_us_2012.insert_many(db_us_2010.to_dict('records'))"
   ]
  },
  {
   "cell_type": "code",
   "execution_count": null,
   "id": "81c33699-a375-469d-9774-3f7bacb88286",
   "metadata": {},
   "outputs": [],
   "source": []
  },
  {
   "cell_type": "code",
   "execution_count": null,
   "id": "025da30c-3200-49d1-a7ad-90945de4003f",
   "metadata": {},
   "outputs": [],
   "source": []
  },
  {
   "cell_type": "markdown",
   "id": "352e8823-2ec6-4687-8f1c-cc4bfb963113",
   "metadata": {
    "tags": []
   },
   "source": [
    "## 2013"
   ]
  },
  {
   "cell_type": "markdown",
   "id": "25e1f3fe-2a8c-48b0-8f38-796f4b912bd5",
   "metadata": {},
   "source": [
    "### CN"
   ]
  },
  {
   "cell_type": "code",
   "execution_count": 38,
   "id": "327ba4e3-491c-45bb-8152-e71b6d1fecfb",
   "metadata": {},
   "outputs": [],
   "source": [
    "dateStr = \"2013-01-01T00:00:00.000Z\"\n",
    "start = dateutil.parser.parse(dateStr)\n",
    "\n",
    "dateEnd = \"2013-12-31T00:00:00.000Z\"\n",
    "end = dateutil.parser.parse(dateEnd)"
   ]
  },
  {
   "cell_type": "code",
   "execution_count": 39,
   "id": "6f2db9b1-953b-4eb2-9bf3-697b38bf0bd2",
   "metadata": {},
   "outputs": [],
   "source": [
    "db_cn_2010 = pd.DataFrame(db_rm_cn.aggregate( [ \n",
    "    {\"$addFields\": { \"appDate\":\n",
    "            { \"$dateFromString\": {\n",
    "            \"dateString\": '$appDate',\n",
    "            \"timezone\": 'America/New_York'}\n",
    "            }}\n",
    "        },\n",
    "        {\"$match\": {\n",
    "            \"appDate\": { \"$gte\": start, \"$lte\": end }}\n",
    "        }\n",
    "\n",
    " ] ))"
   ]
  },
  {
   "cell_type": "code",
   "execution_count": 40,
   "id": "7b7c33a6-2e8e-4aa7-b479-e0b251c660c6",
   "metadata": {},
   "outputs": [
    {
     "data": {
      "text/plain": [
       "<pymongo.results.InsertManyResult at 0x7f11e601c040>"
      ]
     },
     "execution_count": 40,
     "metadata": {},
     "output_type": "execute_result"
    }
   ],
   "source": [
    "# 存進MongoDB\n",
    "db.rm_patent_cn_2013.insert_many(db_cn_2010.to_dict('records'))"
   ]
  },
  {
   "cell_type": "code",
   "execution_count": null,
   "id": "c59a77ee-c016-4ae1-8183-99d4d634a69c",
   "metadata": {},
   "outputs": [],
   "source": []
  },
  {
   "cell_type": "markdown",
   "id": "af1c7149-259a-4192-a78b-1b517588e54b",
   "metadata": {},
   "source": [
    "### DE"
   ]
  },
  {
   "cell_type": "code",
   "execution_count": 41,
   "id": "fe29319d-89a4-4618-980a-a267f2e474be",
   "metadata": {},
   "outputs": [],
   "source": [
    "dateStr = \"2013-01-01T00:00:00.000Z\"\n",
    "start = dateutil.parser.parse(dateStr)\n",
    "\n",
    "dateEnd = \"2013-12-31T00:00:00.000Z\"\n",
    "end = dateutil.parser.parse(dateEnd)"
   ]
  },
  {
   "cell_type": "code",
   "execution_count": 42,
   "id": "7b1cf328-0086-42c5-b8e0-1ace12b5b687",
   "metadata": {},
   "outputs": [],
   "source": [
    "db_de_2010 = pd.DataFrame(db_rm_de.aggregate( [ \n",
    "    {\"$addFields\": { \"appDate\":\n",
    "            { \"$dateFromString\": {\n",
    "            \"dateString\": '$appDate',\n",
    "            \"timezone\": 'America/New_York'}\n",
    "            }}\n",
    "        },\n",
    "        {\"$match\": {\n",
    "            \"appDate\": { \"$gte\": start, \"$lte\": end }}\n",
    "        }\n",
    "\n",
    " ] ))"
   ]
  },
  {
   "cell_type": "code",
   "execution_count": 43,
   "id": "120efdd3-696e-4f14-9e62-5dfe8c577b08",
   "metadata": {},
   "outputs": [
    {
     "data": {
      "text/plain": [
       "<pymongo.results.InsertManyResult at 0x7f12575ee3c0>"
      ]
     },
     "execution_count": 43,
     "metadata": {},
     "output_type": "execute_result"
    }
   ],
   "source": [
    "# 存進MongoDB\n",
    "db.rm_patent_de_2013.insert_many(db_de_2010.to_dict('records'))"
   ]
  },
  {
   "cell_type": "code",
   "execution_count": null,
   "id": "8d888864-dba4-402f-9a60-f026e1583919",
   "metadata": {},
   "outputs": [],
   "source": []
  },
  {
   "cell_type": "markdown",
   "id": "01b6bd4a-1183-43f0-aeac-740c6a540348",
   "metadata": {},
   "source": [
    "### US"
   ]
  },
  {
   "cell_type": "code",
   "execution_count": 44,
   "id": "f070609a-350c-4cf3-8972-0313d99c3923",
   "metadata": {},
   "outputs": [],
   "source": [
    "dateStr = \"2013-01-01T00:00:00.000Z\"\n",
    "start = dateutil.parser.parse(dateStr)\n",
    "\n",
    "dateEnd = \"2013-12-31T00:00:00.000Z\"\n",
    "end = dateutil.parser.parse(dateEnd)"
   ]
  },
  {
   "cell_type": "code",
   "execution_count": 45,
   "id": "0c62c106-a49d-4611-bd38-4e2b074a5015",
   "metadata": {},
   "outputs": [],
   "source": [
    "db_us_2010 = pd.DataFrame(db_rm_us.aggregate( [ \n",
    "    {\"$addFields\": { \"appDate\":\n",
    "            { \"$dateFromString\": {\n",
    "            \"dateString\": '$appDate',\n",
    "            \"timezone\": 'America/New_York'}\n",
    "            }}\n",
    "        },\n",
    "        {\"$match\": {\n",
    "            \"appDate\": { \"$gte\": start, \"$lte\": end }}\n",
    "        }\n",
    "\n",
    " ] ))"
   ]
  },
  {
   "cell_type": "code",
   "execution_count": 46,
   "id": "41ef662b-2eaf-4e41-8372-fc02c74bc3c5",
   "metadata": {},
   "outputs": [
    {
     "data": {
      "text/plain": [
       "<pymongo.results.InsertManyResult at 0x7f1257d70e80>"
      ]
     },
     "execution_count": 46,
     "metadata": {},
     "output_type": "execute_result"
    }
   ],
   "source": [
    "# 存進MongoDB\n",
    "db.rm_patent_us_2013.insert_many(db_us_2010.to_dict('records'))"
   ]
  },
  {
   "cell_type": "code",
   "execution_count": null,
   "id": "cdcd9c4b-2e33-4e3f-9424-41966845ba28",
   "metadata": {},
   "outputs": [],
   "source": []
  },
  {
   "cell_type": "code",
   "execution_count": null,
   "id": "8b981a06-b4a5-4c7e-9add-078fe46a41c1",
   "metadata": {},
   "outputs": [],
   "source": []
  },
  {
   "cell_type": "code",
   "execution_count": null,
   "id": "55c505bc-4e87-43ab-a482-3338b82640f9",
   "metadata": {},
   "outputs": [],
   "source": []
  },
  {
   "cell_type": "markdown",
   "id": "d5f31fe4-ed74-4929-9561-b828eeb0ace4",
   "metadata": {
    "tags": []
   },
   "source": [
    "## 2014"
   ]
  },
  {
   "cell_type": "markdown",
   "id": "bd050f6c-7be5-4ff9-b24a-ff8406ef5f3c",
   "metadata": {},
   "source": [
    "### CN"
   ]
  },
  {
   "cell_type": "code",
   "execution_count": 47,
   "id": "4292a80e-95a9-44d5-b265-8c7d7d19d6ef",
   "metadata": {},
   "outputs": [],
   "source": [
    "dateStr = \"2014-01-01T00:00:00.000Z\"\n",
    "start = dateutil.parser.parse(dateStr)\n",
    "\n",
    "dateEnd = \"2014-12-31T00:00:00.000Z\"\n",
    "end = dateutil.parser.parse(dateEnd)"
   ]
  },
  {
   "cell_type": "code",
   "execution_count": 48,
   "id": "35c9fccb-937e-46b6-9efc-e742d740e4a2",
   "metadata": {},
   "outputs": [],
   "source": [
    "db_cn_2010 = pd.DataFrame(db_rm_cn.aggregate( [ \n",
    "    {\"$addFields\": { \"appDate\":\n",
    "            { \"$dateFromString\": {\n",
    "            \"dateString\": '$appDate',\n",
    "            \"timezone\": 'America/New_York'}\n",
    "            }}\n",
    "        },\n",
    "        {\"$match\": {\n",
    "            \"appDate\": { \"$gte\": start, \"$lte\": end }}\n",
    "        }\n",
    "\n",
    " ] ))"
   ]
  },
  {
   "cell_type": "code",
   "execution_count": 49,
   "id": "3e0184b7-927a-4933-8c90-8ce8dacea6cf",
   "metadata": {},
   "outputs": [
    {
     "data": {
      "text/plain": [
       "<pymongo.results.InsertManyResult at 0x7f11e51c3680>"
      ]
     },
     "execution_count": 49,
     "metadata": {},
     "output_type": "execute_result"
    }
   ],
   "source": [
    "# 存進MongoDB\n",
    "db.rm_patent_cn_2014.insert_many(db_cn_2010.to_dict('records'))"
   ]
  },
  {
   "cell_type": "code",
   "execution_count": null,
   "id": "1127aaff-2388-4311-b4cb-91a78c03fbfc",
   "metadata": {},
   "outputs": [],
   "source": []
  },
  {
   "cell_type": "markdown",
   "id": "663517ba-1c03-4e4a-9b46-d5007fb9e4f9",
   "metadata": {},
   "source": [
    "### DE"
   ]
  },
  {
   "cell_type": "code",
   "execution_count": 50,
   "id": "d91c2ea0-d1cb-4240-8c01-1779e6e82b99",
   "metadata": {},
   "outputs": [],
   "source": [
    "db_de_2010 = pd.DataFrame(db_rm_de.aggregate( [ \n",
    "    {\"$addFields\": { \"appDate\":\n",
    "            { \"$dateFromString\": {\n",
    "            \"dateString\": '$appDate',\n",
    "            \"timezone\": 'America/New_York'}\n",
    "            }}\n",
    "        },\n",
    "        {\"$match\": {\n",
    "            \"appDate\": { \"$gte\": start, \"$lte\": end }}\n",
    "        }\n",
    "\n",
    " ] ))"
   ]
  },
  {
   "cell_type": "code",
   "execution_count": 51,
   "id": "eae49cf7-cc5c-41cb-8ecd-f24d55029bac",
   "metadata": {},
   "outputs": [
    {
     "data": {
      "text/plain": [
       "<pymongo.results.InsertManyResult at 0x7f11e51c3340>"
      ]
     },
     "execution_count": 51,
     "metadata": {},
     "output_type": "execute_result"
    }
   ],
   "source": [
    "# 存進MongoDB\n",
    "db.rm_patent_de_2014.insert_many(db_de_2010.to_dict('records'))"
   ]
  },
  {
   "cell_type": "code",
   "execution_count": null,
   "id": "edad88d6-71dd-4a5f-bdb3-b5628fa33379",
   "metadata": {},
   "outputs": [],
   "source": []
  },
  {
   "cell_type": "markdown",
   "id": "6c1f6178-c9b7-43ee-864c-62cf5ae95bb6",
   "metadata": {},
   "source": [
    "### US"
   ]
  },
  {
   "cell_type": "code",
   "execution_count": 52,
   "id": "2b2d5578-983f-4e2f-ad1b-65d75da72e8b",
   "metadata": {},
   "outputs": [],
   "source": [
    "db_us_2010 = pd.DataFrame(db_rm_us.aggregate( [ \n",
    "    {\"$addFields\": { \"appDate\":\n",
    "            { \"$dateFromString\": {\n",
    "            \"dateString\": '$appDate',\n",
    "            \"timezone\": 'America/New_York'}\n",
    "            }}\n",
    "        },\n",
    "        {\"$match\": {\n",
    "            \"appDate\": { \"$gte\": start, \"$lte\": end }}\n",
    "        }\n",
    "\n",
    " ] ))"
   ]
  },
  {
   "cell_type": "code",
   "execution_count": 53,
   "id": "9e830ad3-1a01-4b6a-be24-bc618c67cc76",
   "metadata": {},
   "outputs": [
    {
     "data": {
      "text/plain": [
       "<pymongo.results.InsertManyResult at 0x7f11e55a7c40>"
      ]
     },
     "execution_count": 53,
     "metadata": {},
     "output_type": "execute_result"
    }
   ],
   "source": [
    "# 存進MongoDB\n",
    "db.rm_patent_us_2014.insert_many(db_us_2010.to_dict('records'))"
   ]
  },
  {
   "cell_type": "code",
   "execution_count": null,
   "id": "23b6c194-a41c-46a0-8849-61224817c599",
   "metadata": {},
   "outputs": [],
   "source": []
  },
  {
   "cell_type": "code",
   "execution_count": null,
   "id": "7ba6c078-f3c0-4ad2-b2c7-e28cc21a951a",
   "metadata": {},
   "outputs": [],
   "source": []
  },
  {
   "cell_type": "markdown",
   "id": "3ab65b3c-be1b-4172-a9a6-32f82a36f5a6",
   "metadata": {
    "tags": []
   },
   "source": [
    "## 2015"
   ]
  },
  {
   "cell_type": "markdown",
   "id": "d34f9048-a03b-49f6-b38b-80df432bc137",
   "metadata": {},
   "source": [
    "### CN"
   ]
  },
  {
   "cell_type": "code",
   "execution_count": 54,
   "id": "4b944b36-b834-46c7-9bd3-3d0822e87b5d",
   "metadata": {},
   "outputs": [],
   "source": [
    "dateStr = \"2015-01-01T00:00:00.000Z\"\n",
    "start = dateutil.parser.parse(dateStr)\n",
    "\n",
    "dateEnd = \"2015-12-31T00:00:00.000Z\"\n",
    "end = dateutil.parser.parse(dateEnd)"
   ]
  },
  {
   "cell_type": "code",
   "execution_count": 55,
   "id": "47aa4f1b-1e9a-4521-98be-f854a93cc235",
   "metadata": {},
   "outputs": [],
   "source": [
    "db_cn_2010 = pd.DataFrame(db_rm_cn.aggregate( [ \n",
    "    {\"$addFields\": { \"appDate\":\n",
    "            { \"$dateFromString\": {\n",
    "            \"dateString\": '$appDate',\n",
    "            \"timezone\": 'America/New_York'}\n",
    "            }}\n",
    "        },\n",
    "        {\"$match\": {\n",
    "            \"appDate\": { \"$gte\": start, \"$lte\": end }}\n",
    "        }\n",
    "\n",
    " ] ))"
   ]
  },
  {
   "cell_type": "code",
   "execution_count": 56,
   "id": "ff3d2790-27de-4ef7-a5ed-c9189f4a22db",
   "metadata": {},
   "outputs": [
    {
     "data": {
      "text/plain": [
       "<pymongo.results.InsertManyResult at 0x7f123503bb00>"
      ]
     },
     "execution_count": 56,
     "metadata": {},
     "output_type": "execute_result"
    }
   ],
   "source": [
    "# 存進MongoDB\n",
    "db.rm_patent_cn_2015.insert_many(db_cn_2010.to_dict('records'))"
   ]
  },
  {
   "cell_type": "code",
   "execution_count": null,
   "id": "2f6043be-bf80-4f86-8435-eb463f1e38f5",
   "metadata": {},
   "outputs": [],
   "source": []
  },
  {
   "cell_type": "markdown",
   "id": "8eb47149-5b27-4485-ac18-933083624c08",
   "metadata": {},
   "source": [
    "### DE"
   ]
  },
  {
   "cell_type": "code",
   "execution_count": 57,
   "id": "df39a8dc-be57-4a6f-bfed-9051fadcf3e5",
   "metadata": {},
   "outputs": [],
   "source": [
    "db_de_2010 = pd.DataFrame(db_rm_de.aggregate( [ \n",
    "    {\"$addFields\": { \"appDate\":\n",
    "            { \"$dateFromString\": {\n",
    "            \"dateString\": '$appDate',\n",
    "            \"timezone\": 'America/New_York'}\n",
    "            }}\n",
    "        },\n",
    "        {\"$match\": {\n",
    "            \"appDate\": { \"$gte\": start, \"$lte\": end }}\n",
    "        }\n",
    "\n",
    " ] ))"
   ]
  },
  {
   "cell_type": "code",
   "execution_count": 58,
   "id": "73d778f5-89c0-46fe-909c-8dbf526d557e",
   "metadata": {},
   "outputs": [
    {
     "data": {
      "text/plain": [
       "<pymongo.results.InsertManyResult at 0x7f126c5ddbc0>"
      ]
     },
     "execution_count": 58,
     "metadata": {},
     "output_type": "execute_result"
    }
   ],
   "source": [
    "# 存進MongoDB\n",
    "db.rm_patent_de_2015.insert_many(db_de_2010.to_dict('records'))"
   ]
  },
  {
   "cell_type": "code",
   "execution_count": null,
   "id": "4e84fc26-90e3-4200-92e0-c35cc244a9bb",
   "metadata": {},
   "outputs": [],
   "source": []
  },
  {
   "cell_type": "markdown",
   "id": "4853dda4-219b-471a-ac22-0f960f6e59fc",
   "metadata": {},
   "source": [
    "### US"
   ]
  },
  {
   "cell_type": "code",
   "execution_count": 59,
   "id": "409c1363-d5e1-445e-9393-82eeedfbe58d",
   "metadata": {},
   "outputs": [],
   "source": [
    "db_us_2010 = pd.DataFrame(db_rm_us.aggregate( [ \n",
    "    {\"$addFields\": { \"appDate\":\n",
    "            { \"$dateFromString\": {\n",
    "            \"dateString\": '$appDate',\n",
    "            \"timezone\": 'America/New_York'}\n",
    "            }}\n",
    "        },\n",
    "        {\"$match\": {\n",
    "            \"appDate\": { \"$gte\": start, \"$lte\": end }}\n",
    "        }\n",
    "\n",
    " ] ))"
   ]
  },
  {
   "cell_type": "code",
   "execution_count": 60,
   "id": "b7f7c5b0-b340-45fe-b759-f1ef07b59e63",
   "metadata": {},
   "outputs": [
    {
     "data": {
      "text/plain": [
       "<pymongo.results.InsertManyResult at 0x7f11df485b40>"
      ]
     },
     "execution_count": 60,
     "metadata": {},
     "output_type": "execute_result"
    }
   ],
   "source": [
    "# 存進MongoDB\n",
    "db.rm_patent_us_2015.insert_many(db_us_2010.to_dict('records'))"
   ]
  },
  {
   "cell_type": "code",
   "execution_count": null,
   "id": "7c5a3ada-134d-4752-b997-1181a3f66396",
   "metadata": {},
   "outputs": [],
   "source": []
  },
  {
   "cell_type": "code",
   "execution_count": null,
   "id": "7bedb6af-3ec0-43a7-bcab-5d9a2294b60c",
   "metadata": {},
   "outputs": [],
   "source": []
  },
  {
   "cell_type": "markdown",
   "id": "b63fca10-33c3-4cd3-934a-5e4a6dbd373b",
   "metadata": {
    "tags": []
   },
   "source": [
    "## 2016"
   ]
  },
  {
   "cell_type": "markdown",
   "id": "0b17e23d-54f6-49f1-8842-143bfbfc41ed",
   "metadata": {},
   "source": [
    "### CN"
   ]
  },
  {
   "cell_type": "code",
   "execution_count": 61,
   "id": "a939367e-9559-42ef-b567-b85f6305829c",
   "metadata": {},
   "outputs": [],
   "source": [
    "dateStr = \"2016-01-01T00:00:00.000Z\"\n",
    "start = dateutil.parser.parse(dateStr)\n",
    "\n",
    "dateEnd = \"2016-12-31T00:00:00.000Z\"\n",
    "end = dateutil.parser.parse(dateEnd)"
   ]
  },
  {
   "cell_type": "code",
   "execution_count": 62,
   "id": "b39a25ad-bfce-4828-ad7d-68ed1f4d1623",
   "metadata": {},
   "outputs": [],
   "source": [
    "db_cn_2010 = pd.DataFrame(db_rm_cn.aggregate( [ \n",
    "    {\"$addFields\": { \"appDate\":\n",
    "            { \"$dateFromString\": {\n",
    "            \"dateString\": '$appDate',\n",
    "            \"timezone\": 'America/New_York'}\n",
    "            }}\n",
    "        },\n",
    "        {\"$match\": {\n",
    "            \"appDate\": { \"$gte\": start, \"$lte\": end }}\n",
    "        }\n",
    "\n",
    " ] ))"
   ]
  },
  {
   "cell_type": "code",
   "execution_count": 63,
   "id": "8adb286a-3f8c-444a-92f5-cc5ed7e7e279",
   "metadata": {},
   "outputs": [
    {
     "data": {
      "text/plain": [
       "<pymongo.results.InsertManyResult at 0x7f11de34dc80>"
      ]
     },
     "execution_count": 63,
     "metadata": {},
     "output_type": "execute_result"
    }
   ],
   "source": [
    "# 存進MongoDB\n",
    "db.rm_patent_cn_2016.insert_many(db_cn_2010.to_dict('records'))"
   ]
  },
  {
   "cell_type": "code",
   "execution_count": null,
   "id": "48fe4096-1301-47b1-bcd5-590602dac435",
   "metadata": {},
   "outputs": [],
   "source": []
  },
  {
   "cell_type": "markdown",
   "id": "f49c3a5a-32f2-4304-9135-920f181b9f7b",
   "metadata": {},
   "source": [
    "### DE"
   ]
  },
  {
   "cell_type": "code",
   "execution_count": 64,
   "id": "d047b86e-e005-4b32-ac7d-f6147dbe316a",
   "metadata": {},
   "outputs": [],
   "source": [
    "db_de_2010 = pd.DataFrame(db_rm_de.aggregate( [ \n",
    "    {\"$addFields\": { \"appDate\":\n",
    "            { \"$dateFromString\": {\n",
    "            \"dateString\": '$appDate',\n",
    "            \"timezone\": 'America/New_York'}\n",
    "            }}\n",
    "        },\n",
    "        {\"$match\": {\n",
    "            \"appDate\": { \"$gte\": start, \"$lte\": end }}\n",
    "        }\n",
    "\n",
    " ] ))"
   ]
  },
  {
   "cell_type": "code",
   "execution_count": 65,
   "id": "fc63fb56-6da0-47b7-8233-e3bea55b9275",
   "metadata": {},
   "outputs": [
    {
     "data": {
      "text/plain": [
       "<pymongo.results.InsertManyResult at 0x7f11dd5e51c0>"
      ]
     },
     "execution_count": 65,
     "metadata": {},
     "output_type": "execute_result"
    }
   ],
   "source": [
    "# 存進MongoDB\n",
    "db.rm_patent_de_2016.insert_many(db_de_2010.to_dict('records'))"
   ]
  },
  {
   "cell_type": "code",
   "execution_count": null,
   "id": "d3385793-017d-470e-be05-315969200926",
   "metadata": {},
   "outputs": [],
   "source": []
  },
  {
   "cell_type": "markdown",
   "id": "4e532148-0ae7-449c-86c7-9ee26c8afa22",
   "metadata": {},
   "source": [
    "### US"
   ]
  },
  {
   "cell_type": "code",
   "execution_count": 66,
   "id": "295f8fb5-df95-4d9a-954a-a98da4d271c9",
   "metadata": {},
   "outputs": [],
   "source": [
    "db_us_2010 = pd.DataFrame(db_rm_us.aggregate( [ \n",
    "    {\"$addFields\": { \"appDate\":\n",
    "            { \"$dateFromString\": {\n",
    "            \"dateString\": '$appDate',\n",
    "            \"timezone\": 'America/New_York'}\n",
    "            }}\n",
    "        },\n",
    "        {\"$match\": {\n",
    "            \"appDate\": { \"$gte\": start, \"$lte\": end }}\n",
    "        }\n",
    "\n",
    " ] ))"
   ]
  },
  {
   "cell_type": "code",
   "execution_count": 67,
   "id": "4c37c432-c740-4685-a035-fddbb98f7f7b",
   "metadata": {},
   "outputs": [
    {
     "data": {
      "text/plain": [
       "<pymongo.results.InsertManyResult at 0x7f11d3d18a80>"
      ]
     },
     "execution_count": 67,
     "metadata": {},
     "output_type": "execute_result"
    }
   ],
   "source": [
    "# 存進MongoDB\n",
    "db.rm_patent_us_2016.insert_many(db_us_2010.to_dict('records'))"
   ]
  },
  {
   "cell_type": "code",
   "execution_count": null,
   "id": "7a45cffd-fb61-4760-9dc3-0ccd76fbbd49",
   "metadata": {},
   "outputs": [],
   "source": []
  },
  {
   "cell_type": "code",
   "execution_count": null,
   "id": "da805c60-d0be-41c1-9086-55baae34eac1",
   "metadata": {},
   "outputs": [],
   "source": []
  },
  {
   "cell_type": "code",
   "execution_count": null,
   "id": "64f96d1d-9f7f-4019-a8b1-d8225dac3800",
   "metadata": {},
   "outputs": [],
   "source": []
  },
  {
   "cell_type": "markdown",
   "id": "205373ac-f95f-49d3-8552-32d6fcb381a1",
   "metadata": {
    "tags": []
   },
   "source": [
    "## 2017"
   ]
  },
  {
   "cell_type": "markdown",
   "id": "471c4f32-b0de-4e33-9826-a1a118a2c36a",
   "metadata": {},
   "source": [
    "### CN"
   ]
  },
  {
   "cell_type": "code",
   "execution_count": 68,
   "id": "8acfd5a6-fd2a-4f2d-9054-57e068fe8746",
   "metadata": {},
   "outputs": [],
   "source": [
    "dateStr = \"2017-01-01T00:00:00.000Z\"\n",
    "start = dateutil.parser.parse(dateStr)\n",
    "\n",
    "dateEnd = \"2017-12-31T00:00:00.000Z\"\n",
    "end = dateutil.parser.parse(dateEnd)"
   ]
  },
  {
   "cell_type": "code",
   "execution_count": 69,
   "id": "f9ad6e03-1f66-4766-a486-50b957e871de",
   "metadata": {},
   "outputs": [],
   "source": [
    "db_cn_2010 = pd.DataFrame(db_rm_cn.aggregate( [ \n",
    "    {\"$addFields\": { \"appDate\":\n",
    "            { \"$dateFromString\": {\n",
    "            \"dateString\": '$appDate',\n",
    "            \"timezone\": 'America/New_York'}\n",
    "            }}\n",
    "        },\n",
    "        {\"$match\": {\n",
    "            \"appDate\": { \"$gte\": start, \"$lte\": end }}\n",
    "        }\n",
    "\n",
    " ] ))"
   ]
  },
  {
   "cell_type": "code",
   "execution_count": 70,
   "id": "e035b15e-da8b-4ec3-9f1c-ad9fc1df1c21",
   "metadata": {},
   "outputs": [
    {
     "data": {
      "text/plain": [
       "<pymongo.results.InsertManyResult at 0x7f11cf28dd00>"
      ]
     },
     "execution_count": 70,
     "metadata": {},
     "output_type": "execute_result"
    }
   ],
   "source": [
    "# 存進MongoDB\n",
    "db.rm_patent_cn_2017.insert_many(db_cn_2010.to_dict('records'))"
   ]
  },
  {
   "cell_type": "code",
   "execution_count": null,
   "id": "b91eb215-3649-4668-bdb6-d6b4ab084d9b",
   "metadata": {},
   "outputs": [],
   "source": []
  },
  {
   "cell_type": "markdown",
   "id": "1b69cf75-4040-418b-92ac-4065aa62c5b1",
   "metadata": {},
   "source": [
    "### DE"
   ]
  },
  {
   "cell_type": "code",
   "execution_count": 71,
   "id": "286b43d3-d61d-455a-a476-33ba2521ae92",
   "metadata": {},
   "outputs": [],
   "source": [
    "db_de_2010 = pd.DataFrame(db_rm_de.aggregate( [ \n",
    "    {\"$addFields\": { \"appDate\":\n",
    "            { \"$dateFromString\": {\n",
    "            \"dateString\": '$appDate',\n",
    "            \"timezone\": 'America/New_York'}\n",
    "            }}\n",
    "        },\n",
    "        {\"$match\": {\n",
    "            \"appDate\": { \"$gte\": start, \"$lte\": end }}\n",
    "        }\n",
    "\n",
    " ] ))"
   ]
  },
  {
   "cell_type": "code",
   "execution_count": 72,
   "id": "b47e5135-39f9-4e14-b2aa-a0ce2c0553df",
   "metadata": {},
   "outputs": [
    {
     "data": {
      "text/plain": [
       "<pymongo.results.InsertManyResult at 0x7f11d3340040>"
      ]
     },
     "execution_count": 72,
     "metadata": {},
     "output_type": "execute_result"
    }
   ],
   "source": [
    "# 存進MongoDB\n",
    "db.rm_patent_de_2017.insert_many(db_de_2010.to_dict('records'))"
   ]
  },
  {
   "cell_type": "code",
   "execution_count": null,
   "id": "43fd4260-98f0-4568-ac55-e14e12bf5b7b",
   "metadata": {},
   "outputs": [],
   "source": []
  },
  {
   "cell_type": "markdown",
   "id": "78ee4380-66a9-45cf-94ed-0bf0fb8a269b",
   "metadata": {},
   "source": [
    "### US"
   ]
  },
  {
   "cell_type": "code",
   "execution_count": 73,
   "id": "175d61ea-3f69-4de0-bc36-72aafc52b00d",
   "metadata": {},
   "outputs": [],
   "source": [
    "db_us_2010 = pd.DataFrame(db_rm_us.aggregate( [ \n",
    "    {\"$addFields\": { \"appDate\":\n",
    "            { \"$dateFromString\": {\n",
    "            \"dateString\": '$appDate',\n",
    "            \"timezone\": 'America/New_York'}\n",
    "            }}\n",
    "        },\n",
    "        {\"$match\": {\n",
    "            \"appDate\": { \"$gte\": start, \"$lte\": end }}\n",
    "        }\n",
    "\n",
    " ] ))"
   ]
  },
  {
   "cell_type": "code",
   "execution_count": 74,
   "id": "ee9635b6-4f74-4991-9455-8326fb81ac19",
   "metadata": {},
   "outputs": [
    {
     "data": {
      "text/plain": [
       "<pymongo.results.InsertManyResult at 0x7f11c466e440>"
      ]
     },
     "execution_count": 74,
     "metadata": {},
     "output_type": "execute_result"
    }
   ],
   "source": [
    "# 存進MongoDB\n",
    "db.rm_patent_us_2017.insert_many(db_us_2010.to_dict('records'))"
   ]
  },
  {
   "cell_type": "code",
   "execution_count": null,
   "id": "dcc0b7ce-daf4-4617-acd2-29e09912df28",
   "metadata": {},
   "outputs": [],
   "source": []
  },
  {
   "cell_type": "code",
   "execution_count": null,
   "id": "6d2418ae-1432-4df3-aabc-e4c0ccf5ee00",
   "metadata": {},
   "outputs": [],
   "source": []
  },
  {
   "cell_type": "code",
   "execution_count": null,
   "id": "1ada0f31-5619-4315-9ec8-c218d3d0fed3",
   "metadata": {},
   "outputs": [],
   "source": []
  },
  {
   "cell_type": "markdown",
   "id": "df3b928f-f42d-44f0-95b7-e109b1bdea5d",
   "metadata": {
    "tags": []
   },
   "source": [
    "## 2018"
   ]
  },
  {
   "cell_type": "markdown",
   "id": "248b0ab8-750d-49d1-9781-89dedcb21a16",
   "metadata": {},
   "source": [
    "### CN"
   ]
  },
  {
   "cell_type": "code",
   "execution_count": 75,
   "id": "9ad17ef9-6cdf-4f63-a148-c0459fdfbd45",
   "metadata": {},
   "outputs": [],
   "source": [
    "dateStr = \"2018-01-01T00:00:00.000Z\"\n",
    "start = dateutil.parser.parse(dateStr)\n",
    "\n",
    "dateEnd = \"2018-12-31T00:00:00.000Z\"\n",
    "end = dateutil.parser.parse(dateEnd)"
   ]
  },
  {
   "cell_type": "code",
   "execution_count": 76,
   "id": "3ea55c12-fdca-409d-a5b8-9e18a484e91c",
   "metadata": {},
   "outputs": [],
   "source": [
    "db_cn_2010 = pd.DataFrame(db_rm_cn.aggregate( [ \n",
    "    {\"$addFields\": { \"appDate\":\n",
    "            { \"$dateFromString\": {\n",
    "            \"dateString\": '$appDate',\n",
    "            \"timezone\": 'America/New_York'}\n",
    "            }}\n",
    "        },\n",
    "        {\"$match\": {\n",
    "            \"appDate\": { \"$gte\": start, \"$lte\": end }}\n",
    "        }\n",
    "\n",
    " ] ))"
   ]
  },
  {
   "cell_type": "code",
   "execution_count": 77,
   "id": "882ebcd1-f531-4666-8a07-ba6356aa5e60",
   "metadata": {},
   "outputs": [
    {
     "data": {
      "text/plain": [
       "<pymongo.results.InsertManyResult at 0x7f11bd9aaa00>"
      ]
     },
     "execution_count": 77,
     "metadata": {},
     "output_type": "execute_result"
    }
   ],
   "source": [
    "# 存進MongoDB\n",
    "db.rm_patent_cn_2018.insert_many(db_cn_2010.to_dict('records'))"
   ]
  },
  {
   "cell_type": "code",
   "execution_count": null,
   "id": "cc7e35dd-6912-4188-b049-02bd55f684ed",
   "metadata": {},
   "outputs": [],
   "source": []
  },
  {
   "cell_type": "markdown",
   "id": "7061a8a1-dfb1-4b2c-b4bc-ac7583e75c0e",
   "metadata": {},
   "source": [
    "### DE"
   ]
  },
  {
   "cell_type": "code",
   "execution_count": 78,
   "id": "1b298806-762b-484d-af10-b089e074235f",
   "metadata": {},
   "outputs": [],
   "source": [
    "db_de_2010 = pd.DataFrame(db_rm_de.aggregate( [ \n",
    "    {\"$addFields\": { \"appDate\":\n",
    "            { \"$dateFromString\": {\n",
    "            \"dateString\": '$appDate',\n",
    "            \"timezone\": 'America/New_York'}\n",
    "            }}\n",
    "        },\n",
    "        {\"$match\": {\n",
    "            \"appDate\": { \"$gte\": start, \"$lte\": end }}\n",
    "        }\n",
    "\n",
    " ] ))"
   ]
  },
  {
   "cell_type": "code",
   "execution_count": 79,
   "id": "5ee88558-7de6-48b1-baa8-abdd3941a15a",
   "metadata": {},
   "outputs": [
    {
     "data": {
      "text/plain": [
       "<pymongo.results.InsertManyResult at 0x7f124e914540>"
      ]
     },
     "execution_count": 79,
     "metadata": {},
     "output_type": "execute_result"
    }
   ],
   "source": [
    "# 存進MongoDB\n",
    "db.rm_patent_de_2018.insert_many(db_de_2010.to_dict('records'))"
   ]
  },
  {
   "cell_type": "code",
   "execution_count": null,
   "id": "4bb78097-46dc-4913-8417-5dee10dd3bc5",
   "metadata": {},
   "outputs": [],
   "source": []
  },
  {
   "cell_type": "markdown",
   "id": "490ff20d-1134-4fba-947c-4686842275d0",
   "metadata": {},
   "source": [
    "### US"
   ]
  },
  {
   "cell_type": "code",
   "execution_count": 80,
   "id": "66a3ec4b-295e-477a-b420-31c0173ed26c",
   "metadata": {},
   "outputs": [],
   "source": [
    "db_us_2010 = pd.DataFrame(db_rm_us.aggregate( [ \n",
    "    {\"$addFields\": { \"appDate\":\n",
    "            { \"$dateFromString\": {\n",
    "            \"dateString\": '$appDate',\n",
    "            \"timezone\": 'America/New_York'}\n",
    "            }}\n",
    "        },\n",
    "        {\"$match\": {\n",
    "            \"appDate\": { \"$gte\": start, \"$lte\": end }}\n",
    "        }\n",
    "\n",
    " ] ))"
   ]
  },
  {
   "cell_type": "code",
   "execution_count": 81,
   "id": "9a5e3785-b7ed-4255-99e5-5d4ff7d14653",
   "metadata": {},
   "outputs": [
    {
     "data": {
      "text/plain": [
       "<pymongo.results.InsertManyResult at 0x7f11ba7ae280>"
      ]
     },
     "execution_count": 81,
     "metadata": {},
     "output_type": "execute_result"
    }
   ],
   "source": [
    "# 存進MongoDB\n",
    "db.rm_patent_us_2018.insert_many(db_us_2010.to_dict('records'))"
   ]
  },
  {
   "cell_type": "code",
   "execution_count": null,
   "id": "0fc4ed8b-017b-4c41-98d3-3bc2a7c2269a",
   "metadata": {},
   "outputs": [],
   "source": []
  },
  {
   "cell_type": "code",
   "execution_count": null,
   "id": "7c485aa6-2084-43b5-a806-a4d8c15585de",
   "metadata": {},
   "outputs": [],
   "source": []
  },
  {
   "cell_type": "markdown",
   "id": "8cfe84b8-9f77-463a-b15c-37217a0e847f",
   "metadata": {
    "tags": []
   },
   "source": [
    "## 2019"
   ]
  },
  {
   "cell_type": "markdown",
   "id": "0f9212dd-f91f-4225-b082-af958c45c6fe",
   "metadata": {},
   "source": [
    "### CN"
   ]
  },
  {
   "cell_type": "code",
   "execution_count": 82,
   "id": "351d5d16-6348-4aa5-a536-cf5b2e536960",
   "metadata": {},
   "outputs": [],
   "source": [
    "dateStr = \"2019-01-01T00:00:00.000Z\"\n",
    "start = dateutil.parser.parse(dateStr)\n",
    "\n",
    "dateEnd = \"2019-12-31T00:00:00.000Z\"\n",
    "end = dateutil.parser.parse(dateEnd)"
   ]
  },
  {
   "cell_type": "code",
   "execution_count": 83,
   "id": "e088f66c-888d-41de-bb61-f4d90d3b2d51",
   "metadata": {},
   "outputs": [],
   "source": [
    "db_cn_2010 = pd.DataFrame(db_rm_cn.aggregate( [ \n",
    "    {\"$addFields\": { \"appDate\":\n",
    "            { \"$dateFromString\": {\n",
    "            \"dateString\": '$appDate',\n",
    "            \"timezone\": 'America/New_York'}\n",
    "            }}\n",
    "        },\n",
    "        {\"$match\": {\n",
    "            \"appDate\": { \"$gte\": start, \"$lte\": end }}\n",
    "        }\n",
    "\n",
    " ] ))"
   ]
  },
  {
   "cell_type": "code",
   "execution_count": 84,
   "id": "0329b219-9fb5-4cbd-b401-d9898a2eeaeb",
   "metadata": {},
   "outputs": [
    {
     "data": {
      "text/plain": [
       "<pymongo.results.InsertManyResult at 0x7f11ce843140>"
      ]
     },
     "execution_count": 84,
     "metadata": {},
     "output_type": "execute_result"
    }
   ],
   "source": [
    "# 存進MongoDB\n",
    "db.rm_patent_cn_2019.insert_many(db_cn_2010.to_dict('records'))"
   ]
  },
  {
   "cell_type": "code",
   "execution_count": null,
   "id": "e3fa3894-6bbb-48d5-b3c9-54e3eeb7d9de",
   "metadata": {},
   "outputs": [],
   "source": []
  },
  {
   "cell_type": "markdown",
   "id": "69a130ba-442a-42f7-8f58-0401e8a64dc3",
   "metadata": {},
   "source": [
    "### DE"
   ]
  },
  {
   "cell_type": "code",
   "execution_count": 85,
   "id": "69fc1b28-afba-4beb-b334-ef0113bdec57",
   "metadata": {},
   "outputs": [],
   "source": [
    "db_de_2010 = pd.DataFrame(db_rm_de.aggregate( [ \n",
    "    {\"$addFields\": { \"appDate\":\n",
    "            { \"$dateFromString\": {\n",
    "            \"dateString\": '$appDate',\n",
    "            \"timezone\": 'America/New_York'}\n",
    "            }}\n",
    "        },\n",
    "        {\"$match\": {\n",
    "            \"appDate\": { \"$gte\": start, \"$lte\": end }}\n",
    "        }\n",
    "\n",
    " ] ))"
   ]
  },
  {
   "cell_type": "code",
   "execution_count": 86,
   "id": "2e90d4ba-76ee-469b-91e4-2c7b2c5c8957",
   "metadata": {},
   "outputs": [
    {
     "data": {
      "text/plain": [
       "<pymongo.results.InsertManyResult at 0x7f125744d900>"
      ]
     },
     "execution_count": 86,
     "metadata": {},
     "output_type": "execute_result"
    }
   ],
   "source": [
    "# 存進MongoDB\n",
    "db.rm_patent_de_2019.insert_many(db_de_2010.to_dict('records'))"
   ]
  },
  {
   "cell_type": "code",
   "execution_count": null,
   "id": "c68412ba-2478-49c6-ba66-f666bb34d780",
   "metadata": {},
   "outputs": [],
   "source": []
  },
  {
   "cell_type": "markdown",
   "id": "e51f6f26-a124-4e17-82b8-3c0119f44723",
   "metadata": {},
   "source": [
    "### US"
   ]
  },
  {
   "cell_type": "code",
   "execution_count": 87,
   "id": "716ed169-b653-4b6b-9a58-2036148c5f1f",
   "metadata": {},
   "outputs": [],
   "source": [
    "db_us_2010 = pd.DataFrame(db_rm_us.aggregate( [ \n",
    "    {\"$addFields\": { \"appDate\":\n",
    "            { \"$dateFromString\": {\n",
    "            \"dateString\": '$appDate',\n",
    "            \"timezone\": 'America/New_York'}\n",
    "            }}\n",
    "        },\n",
    "        {\"$match\": {\n",
    "            \"appDate\": { \"$gte\": start, \"$lte\": end }}\n",
    "        }\n",
    "\n",
    " ] ))"
   ]
  },
  {
   "cell_type": "code",
   "execution_count": 88,
   "id": "980695af-9269-4075-a6b6-cbe05a4045f7",
   "metadata": {},
   "outputs": [
    {
     "data": {
      "text/plain": [
       "<pymongo.results.InsertManyResult at 0x7f11a71db480>"
      ]
     },
     "execution_count": 88,
     "metadata": {},
     "output_type": "execute_result"
    }
   ],
   "source": [
    "# 存進MongoDB\n",
    "db.rm_patent_us_2019.insert_many(db_us_2010.to_dict('records'))"
   ]
  },
  {
   "cell_type": "code",
   "execution_count": null,
   "id": "d070b39d-bb85-477a-9a2e-7bb1fee94f79",
   "metadata": {},
   "outputs": [],
   "source": []
  },
  {
   "cell_type": "code",
   "execution_count": null,
   "id": "fed5875b-e3e4-4ba2-8e77-a0e8c963d7bd",
   "metadata": {},
   "outputs": [],
   "source": []
  },
  {
   "cell_type": "code",
   "execution_count": null,
   "id": "f74c727a-acb2-499a-b74a-befe55004069",
   "metadata": {},
   "outputs": [],
   "source": []
  },
  {
   "cell_type": "markdown",
   "id": "ba95b982-3b28-44dd-9b04-15539a9b752d",
   "metadata": {
    "tags": []
   },
   "source": [
    "## 2020"
   ]
  },
  {
   "cell_type": "markdown",
   "id": "b642b090-c983-4cae-b0b3-e6897e3f6e6f",
   "metadata": {},
   "source": [
    "### CN"
   ]
  },
  {
   "cell_type": "code",
   "execution_count": 89,
   "id": "321f8863-72e5-4694-9b47-d209a202c2f3",
   "metadata": {},
   "outputs": [],
   "source": [
    "dateStr = \"2020-01-01T00:00:00.000Z\"\n",
    "start = dateutil.parser.parse(dateStr)\n",
    "\n",
    "dateEnd = \"2020-12-31T00:00:00.000Z\"\n",
    "end = dateutil.parser.parse(dateEnd)"
   ]
  },
  {
   "cell_type": "code",
   "execution_count": 90,
   "id": "6055776b-ac9d-4941-b999-58b58d2882da",
   "metadata": {},
   "outputs": [],
   "source": [
    "db_cn_2010 = pd.DataFrame(db_rm_cn.aggregate( [ \n",
    "    {\"$addFields\": { \"appDate\":\n",
    "            { \"$dateFromString\": {\n",
    "            \"dateString\": '$appDate',\n",
    "            \"timezone\": 'America/New_York'}\n",
    "            }}\n",
    "        },\n",
    "        {\"$match\": {\n",
    "            \"appDate\": { \"$gte\": start, \"$lte\": end }}\n",
    "        }\n",
    "\n",
    " ] ))"
   ]
  },
  {
   "cell_type": "code",
   "execution_count": 91,
   "id": "ec3f0fec-9122-49e4-9723-5592783bfb4b",
   "metadata": {},
   "outputs": [
    {
     "data": {
      "text/plain": [
       "<pymongo.results.InsertManyResult at 0x7f11b6a62ec0>"
      ]
     },
     "execution_count": 91,
     "metadata": {},
     "output_type": "execute_result"
    }
   ],
   "source": [
    "# 存進MongoDB\n",
    "db.rm_patent_cn_2020.insert_many(db_cn_2010.to_dict('records'))"
   ]
  },
  {
   "cell_type": "code",
   "execution_count": null,
   "id": "8bfbdc75-f2ad-4924-a6be-0b48acd010d2",
   "metadata": {},
   "outputs": [],
   "source": []
  },
  {
   "cell_type": "markdown",
   "id": "2b398b69-c4fe-478d-8d8e-91848a6c2164",
   "metadata": {},
   "source": [
    "### DE"
   ]
  },
  {
   "cell_type": "code",
   "execution_count": 92,
   "id": "92775d1a-b48b-4e0b-a7df-461fd5613122",
   "metadata": {},
   "outputs": [],
   "source": [
    "db_de_2010 = pd.DataFrame(db_rm_de.aggregate( [ \n",
    "    {\"$addFields\": { \"appDate\":\n",
    "            { \"$dateFromString\": {\n",
    "            \"dateString\": '$appDate',\n",
    "            \"timezone\": 'America/New_York'}\n",
    "            }}\n",
    "        },\n",
    "        {\"$match\": {\n",
    "            \"appDate\": { \"$gte\": start, \"$lte\": end }}\n",
    "        }\n",
    "\n",
    " ] ))"
   ]
  },
  {
   "cell_type": "code",
   "execution_count": 93,
   "id": "91fe16f5-674f-4868-905b-ad89e98fe255",
   "metadata": {},
   "outputs": [
    {
     "data": {
      "text/plain": [
       "<pymongo.results.InsertManyResult at 0x7f11c3b71540>"
      ]
     },
     "execution_count": 93,
     "metadata": {},
     "output_type": "execute_result"
    }
   ],
   "source": [
    "# 存進MongoDB\n",
    "db.rm_patent_de_2020.insert_many(db_de_2010.to_dict('records'))"
   ]
  },
  {
   "cell_type": "code",
   "execution_count": null,
   "id": "603455ce-d3fa-4a4c-a7b9-42a7d11b3848",
   "metadata": {},
   "outputs": [],
   "source": []
  },
  {
   "cell_type": "markdown",
   "id": "75e0e155-852f-4d38-9da3-2cf714f3d548",
   "metadata": {},
   "source": [
    "### US"
   ]
  },
  {
   "cell_type": "code",
   "execution_count": 94,
   "id": "41c19538-0ac8-4fc2-8633-c6511e7364c6",
   "metadata": {},
   "outputs": [],
   "source": [
    "db_us_2010 = pd.DataFrame(db_rm_us.aggregate( [ \n",
    "    {\"$addFields\": { \"appDate\":\n",
    "            { \"$dateFromString\": {\n",
    "            \"dateString\": '$appDate',\n",
    "            \"timezone\": 'America/New_York'}\n",
    "            }}\n",
    "        },\n",
    "        {\"$match\": {\n",
    "            \"appDate\": { \"$gte\": start, \"$lte\": end }}\n",
    "        }\n",
    "\n",
    " ] ))"
   ]
  },
  {
   "cell_type": "code",
   "execution_count": 95,
   "id": "8199e883-362f-4fa4-857a-ff78a5e9f4cb",
   "metadata": {},
   "outputs": [
    {
     "data": {
      "text/plain": [
       "<pymongo.results.InsertManyResult at 0x7f119da9f080>"
      ]
     },
     "execution_count": 95,
     "metadata": {},
     "output_type": "execute_result"
    }
   ],
   "source": [
    "# 存進MongoDB\n",
    "db.rm_patent_us_2020.insert_many(db_us_2010.to_dict('records'))"
   ]
  },
  {
   "cell_type": "code",
   "execution_count": null,
   "id": "64978a58-3f60-435d-ba8c-5a90ae7e7233",
   "metadata": {},
   "outputs": [],
   "source": []
  },
  {
   "cell_type": "code",
   "execution_count": null,
   "id": "9a798135-bafa-4d1b-989a-86e79c67c67a",
   "metadata": {},
   "outputs": [],
   "source": []
  },
  {
   "cell_type": "code",
   "execution_count": null,
   "id": "8c9ee540-5484-42e5-aa99-246bb80448a1",
   "metadata": {},
   "outputs": [],
   "source": []
  }
 ],
 "metadata": {
  "kernelspec": {
   "display_name": "for_paper",
   "language": "python",
   "name": "for_paper"
  },
  "language_info": {
   "codemirror_mode": {
    "name": "ipython",
    "version": 3
   },
   "file_extension": ".py",
   "mimetype": "text/x-python",
   "name": "python",
   "nbconvert_exporter": "python",
   "pygments_lexer": "ipython3",
   "version": "3.8.12"
  }
 },
 "nbformat": 4,
 "nbformat_minor": 5
}
