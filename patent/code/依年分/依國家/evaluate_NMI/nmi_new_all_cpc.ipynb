{
 "cells": [
  {
   "cell_type": "code",
   "execution_count": 1,
   "id": "e45fc67b-4173-4557-8efc-ec5d80208b3a",
   "metadata": {},
   "outputs": [],
   "source": [
    "import numpy as np\n",
    "import pandas as pd\n",
    "import os\n",
    "from sklearn.metrics.cluster import normalized_mutual_info_score, adjusted_rand_score"
   ]
  },
  {
   "cell_type": "code",
   "execution_count": null,
   "id": "84446d5d-ae97-4677-96c0-7131691c5309",
   "metadata": {},
   "outputs": [],
   "source": []
  },
  {
   "cell_type": "markdown",
   "id": "84843f57-5cfa-4f8c-9234-dbef831d1f24",
   "metadata": {},
   "source": [
    "# CN 2015-2020"
   ]
  },
  {
   "cell_type": "code",
   "execution_count": 2,
   "id": "c223b782-f777-48ee-bb6e-a6ebe68dc11c",
   "metadata": {},
   "outputs": [],
   "source": [
    "# CN 2015-2020\n",
    "competitor_ls_cn=[\n",
    "    [4, 3, 4, 1, 1, 1, 2, 1, 1, 1, 1, 1, 1, 2],\n",
    "    [4, 2, 3, 3, 4, 3, 3, 3, 2, 1, 1, 1, 1, 1],\n",
    "    [4, 2, 2, 1, 3, 3, 4, 4, 4, 2, 3, 3, 4, 3],\n",
    "    [2, 2, 1, 2, 2, 2, 2, 2, 2, 4, 3, 4, 4, 3],\n",
    "    [4, 2, 2, 4, 2, 3, 3, 2, 3, 4, 3, 3, 4, 3],\n",
    "    [4, 2, 2, 1, 4, 3, 3, 2, 3, 3, 3, 2, 4, 4]\n",
    "]"
   ]
  },
  {
   "cell_type": "code",
   "execution_count": 3,
   "id": "e2f6066d-cecf-4c2e-9510-557cd9e9bbeb",
   "metadata": {},
   "outputs": [],
   "source": [
    "# CN 2015-2020\n",
    "forb_ls_cn=[\n",
    "    [4, 4, 4, 4, 4, 4, 4, 4, 4, 4, 4, 4, 4, 4],\n",
    "    [2, 4, 4, 4, 4, 4, 4, 4, 3, 4, 4, 4, 4, 4],\n",
    "    [4, 4, 1, 4, 4, 4, 3, 2, 4, 2, 4, 4, 1, 4],\n",
    "    [1, 4, 4, 4, 4, 3, 4, 2, 4, 2, 1, 2, 3, 4],\n",
    "    [4, 4, 4, 3, 4, 4, 4, 2, 4, 4, 4, 4, 2, 4],\n",
    "    [4, 2, 4, 1, 4, 3, 4, 3, 4, 2, 4, 2, 3, 3]\n",
    "]"
   ]
  },
  {
   "cell_type": "code",
   "execution_count": 4,
   "id": "5ed45113-17d8-4399-9e0a-7f5aff5fb43b",
   "metadata": {
    "scrolled": true,
    "tags": []
   },
   "outputs": [
    {
     "name": "stdout",
     "output_type": "stream",
     "text": [
      "0\n",
      "forb_ls [4, 4, 4, 4, 4, 4, 4, 4, 4, 4, 4, 4]\n",
      "competitor_ls [3, 1, 1, 1, 2, 1, 1, 1, 1, 1, 1, 2]\n",
      "1\n",
      "forb_ls [4, 4, 4, 4, 4, 4, 3, 4, 4, 4, 4, 4]\n",
      "competitor_ls [2, 3, 3, 3, 3, 3, 2, 1, 1, 1, 1, 1]\n",
      "2\n",
      "forb_ls [4, 1, 4, 4, 4, 2, 4, 4, 4]\n",
      "competitor_ls [2, 2, 1, 3, 3, 2, 3, 3, 3]\n",
      "3\n",
      "forb_ls [1, 4, 4, 4, 4, 3, 4, 2, 4, 1, 4]\n",
      "competitor_ls [2, 2, 1, 2, 2, 2, 2, 2, 2, 3, 3]\n",
      "4\n",
      "forb_ls [4, 4, 4, 4, 4, 2, 4, 4, 4, 4]\n",
      "competitor_ls [2, 2, 2, 3, 3, 2, 3, 3, 3, 3]\n",
      "5\n",
      "forb_ls [2, 4, 1, 3, 4, 3, 4, 2, 4, 2]\n",
      "competitor_ls [2, 2, 1, 3, 3, 2, 3, 3, 3, 2]\n"
     ]
    }
   ],
   "source": [
    "nmi_ls=[]\n",
    "ari_ls=[]\n",
    "for i in range(len(competitor_ls_cn)):\n",
    "    c_index = [i for i,v in enumerate(competitor_ls_cn[i]) if v!=4]\n",
    "    \n",
    "    competitor_ls = [i for i in competitor_ls_cn[i] if i != 4]\n",
    "    forb_ls = [forb_ls_cn[i][k] for k in c_index]\n",
    "    \n",
    "    nmi = normalized_mutual_info_score(forb_ls,competitor_ls)\n",
    "    nmi_ls.append(nmi)\n",
    "    \n",
    "    ari = adjusted_rand_score(forb_ls,competitor_ls)\n",
    "    ari_ls.append(ari)\n",
    "    \n",
    "    print(i)\n",
    "    print(\"forb_ls\",forb_ls)\n",
    "    print(\"competitor_ls\",competitor_ls)"
   ]
  },
  {
   "cell_type": "code",
   "execution_count": 5,
   "id": "7bd4465c-7074-4877-80cf-4fb51d344d7c",
   "metadata": {},
   "outputs": [
    {
     "data": {
      "text/plain": [
       "[0.0,\n",
       " 0.260545806900682,\n",
       " 0.39186656499772504,\n",
       " 0.14140448666830754,\n",
       " 0.20068019903146317,\n",
       " 0.3497932619406679]"
      ]
     },
     "execution_count": 5,
     "metadata": {},
     "output_type": "execute_result"
    }
   ],
   "source": [
    "nmi_ls"
   ]
  },
  {
   "cell_type": "code",
   "execution_count": 6,
   "id": "c5aff693-9339-4d79-a88d-635a04ceef90",
   "metadata": {},
   "outputs": [
    {
     "data": {
      "text/plain": [
       "[0.0,\n",
       " 0.12195121951219512,\n",
       " 0.25663716814159293,\n",
       " -0.11510791366906475,\n",
       " 0.10256410256410256,\n",
       " 0.047058823529411764]"
      ]
     },
     "execution_count": 6,
     "metadata": {},
     "output_type": "execute_result"
    }
   ],
   "source": [
    "ari_ls"
   ]
  },
  {
   "cell_type": "code",
   "execution_count": null,
   "id": "7770f862-693a-4de9-b5f2-5f5123e1daee",
   "metadata": {},
   "outputs": [],
   "source": []
  },
  {
   "cell_type": "markdown",
   "id": "6ca89862-decf-4134-bbc8-2afc61e14fc1",
   "metadata": {
    "tags": []
   },
   "source": [
    "# DE 2015-2020"
   ]
  },
  {
   "cell_type": "code",
   "execution_count": 7,
   "id": "3a1094c7-42e4-4e5f-8927-d347a7be4bab",
   "metadata": {},
   "outputs": [],
   "source": [
    "# DE 2015-2020\n",
    "competitor_ls_de=[\n",
    "    [1, 2, 2, 1, 3, 3, 1, 3, 1, 3, 3, 3, 1, 3],\n",
    "    [2, 4, 2, 4, 3, 2, 1, 1, 3, 4, 4, 4, 3, 4],\n",
    "    [4, 4, 3, 1, 1, 1, 1, 1, 1, 1, 1, 1, 1, 1],\n",
    "    [4, 1, 1, 1, 1, 1, 1, 2, 1, 1, 2, 3, 1, 4],\n",
    "    [2, 1, 1, 1, 1, 1, 1, 2, 2, 4, 4, 4, 3, 4],\n",
    "    [2, 1, 1, 1, 1, 1, 1, 2, 1, 3, 3, 4, 4, 4]\n",
    "]"
   ]
  },
  {
   "cell_type": "code",
   "execution_count": 8,
   "id": "de1a786a-83b1-4746-9e5b-82ffe4372cc3",
   "metadata": {},
   "outputs": [],
   "source": [
    "# DE 2015-2020\n",
    "forb_ls_de=[\n",
    "    [4, 3, 2, 4, 4, 4, 4, 4, 4, 4, 3, 4, 4, 4],\n",
    "    [3, 1, 3, 4, 4, 4, 4, 4, 4, 2, 3, 4, 4, 2],\n",
    "    [1, 4, 2, 4, 3, 4, 4, 4, 4, 4, 1, 4, 2, 4],\n",
    "    [1, 4, 2, 4, 4, 4, 4, 4, 1, 3, 4, 4, 2, 4],\n",
    "    [1, 3, 3, 4, 4, 2, 4, 4, 4, 3, 4, 4, 4, 3],\n",
    "    [1, 4, 2, 3, 3, 4, 2, 1, 3, 3, 4, 4, 4, 4]\n",
    "]"
   ]
  },
  {
   "cell_type": "code",
   "execution_count": 9,
   "id": "de73e5e2-a228-47e1-bdef-e09796644548",
   "metadata": {
    "scrolled": true,
    "tags": []
   },
   "outputs": [
    {
     "name": "stdout",
     "output_type": "stream",
     "text": [
      "0\n",
      "forb_ls [4, 3, 2, 4, 4, 4, 4, 4, 4, 4, 3, 4, 4, 4]\n",
      "competitor_ls [1, 2, 2, 1, 3, 3, 1, 3, 1, 3, 3, 3, 1, 3]\n",
      "1\n",
      "forb_ls [3, 3, 4, 4, 4, 4, 4, 4]\n",
      "competitor_ls [2, 2, 3, 2, 1, 1, 3, 3]\n",
      "2\n",
      "forb_ls [2, 4, 3, 4, 4, 4, 4, 4, 1, 4, 2, 4]\n",
      "competitor_ls [3, 1, 1, 1, 1, 1, 1, 1, 1, 1, 1, 1]\n",
      "3\n",
      "forb_ls [4, 2, 4, 4, 4, 4, 4, 1, 3, 4, 4, 2]\n",
      "competitor_ls [1, 1, 1, 1, 1, 1, 2, 1, 1, 2, 3, 1]\n",
      "4\n",
      "forb_ls [1, 3, 3, 4, 4, 2, 4, 4, 4, 4]\n",
      "competitor_ls [2, 1, 1, 1, 1, 1, 1, 2, 2, 3]\n",
      "5\n",
      "forb_ls [1, 4, 2, 3, 3, 4, 2, 1, 3, 3, 4]\n",
      "competitor_ls [2, 1, 1, 1, 1, 1, 1, 2, 1, 3, 3]\n"
     ]
    }
   ],
   "source": [
    "nmi_ls=[]\n",
    "ari_ls=[]\n",
    "for i in range(len(competitor_ls_de)):\n",
    "    c_index = [i for i,v in enumerate(competitor_ls_de[i]) if v!=4]\n",
    "    \n",
    "    competitor_ls = [i for i in competitor_ls_de[i] if i != 4]\n",
    "    forb_ls = [forb_ls_de[i][k] for k in c_index]\n",
    "    \n",
    "    nmi = normalized_mutual_info_score(forb_ls,competitor_ls)\n",
    "    nmi_ls.append(nmi)\n",
    "    \n",
    "    ari = adjusted_rand_score(forb_ls,competitor_ls)\n",
    "    ari_ls.append(ari)\n",
    "    \n",
    "    print(i)\n",
    "    print(\"forb_ls\",forb_ls)\n",
    "    print(\"competitor_ls\",competitor_ls)"
   ]
  },
  {
   "cell_type": "code",
   "execution_count": 10,
   "id": "4d1ef128-d5eb-457d-9ba2-007a23314686",
   "metadata": {},
   "outputs": [
    {
     "data": {
      "text/plain": [
       "[0.4269921455403666,\n",
       " 0.39359841259956124,\n",
       " 0.26979801597034936,\n",
       " 0.1423166032138149,\n",
       " 0.2930304713675272,\n",
       " 0.47070021841142695]"
      ]
     },
     "execution_count": 10,
     "metadata": {},
     "output_type": "execute_result"
    }
   ],
   "source": [
    "nmi_ls"
   ]
  },
  {
   "cell_type": "code",
   "execution_count": 11,
   "id": "ce5144a6-224b-4d26-ba51-ac7810abbae1",
   "metadata": {},
   "outputs": [
    {
     "data": {
      "text/plain": [
       "[0.21835443037974683,\n",
       " 0.13333333333333333,\n",
       " 0.21495327102803738,\n",
       " -0.25429864253393664,\n",
       " -0.1320754716981132,\n",
       " 0.11290322580645161]"
      ]
     },
     "execution_count": 11,
     "metadata": {},
     "output_type": "execute_result"
    }
   ],
   "source": [
    "ari_ls"
   ]
  },
  {
   "cell_type": "code",
   "execution_count": null,
   "id": "c005550d-3c83-46c6-8c39-532bd08be238",
   "metadata": {},
   "outputs": [],
   "source": []
  },
  {
   "cell_type": "markdown",
   "id": "cf26c944-9d56-4c1a-a9e1-cf7a8bee7bce",
   "metadata": {},
   "source": [
    "# US 2010-2020"
   ]
  },
  {
   "cell_type": "code",
   "execution_count": 12,
   "id": "aad5616d-0ae8-4174-a8d9-fab81930cfe9",
   "metadata": {},
   "outputs": [],
   "source": [
    "# US 2015-2020\n",
    "competitor_ls_us=[\n",
    "    [3, 1, 2, 1, 2, 2, 3, 3, 2, 2, 2, 1, 3, 3],\n",
    "    [2, 3, 2, 2, 2, 1, 2, 2, 2, 1, 4, 3, 4, 3],\n",
    "    [4, 3, 2, 2, 2, 2, 2, 1, 2, 2, 2, 2, 1, 1],\n",
    "    [4, 2, 2, 2, 2, 2, 1, 1, 2, 2, 2, 2, 2, 2],\n",
    "    [4, 1, 2, 2, 2, 2, 1, 4, 1, 4, 2, 2, 2, 3],\n",
    "    [1, 1, 1, 4, 4, 3, 3, 4, 4, 4, 4, 4, 4, 4],\n",
    "    [1, 1, 1, 1, 1, 1, 4, 4, 4, 4, 4, 4, 4, 4],\n",
    "    [1, 1, 1, 1, 3, 3, 4, 2, 4, 4, 4, 4, 4, 4],\n",
    "    [1, 1, 1, 1, 1, 1, 2, 2, 4, 4, 4, 4, 4, 4],\n",
    "    [1, 1, 1, 2, 1, 2, 1, 4, 4, 3, 2, 4, 4, 4],\n",
    "    [1, 1, 1, 1, 1, 1, 1, 1, 3, 1, 4, 4, 4, 4]\n",
    "]"
   ]
  },
  {
   "cell_type": "code",
   "execution_count": 13,
   "id": "13dca4b6-a6ce-4509-9a77-804c31299cc3",
   "metadata": {},
   "outputs": [],
   "source": [
    "# US 2015-2020\n",
    "forb_ls_us=[\n",
    "    [3, 3, 4, 1, 3, 4, 4, 4, 4, 4, 4, 4, 4, 4],\n",
    "    [3, 3, 3, 4, 3, 3, 3, 3, 3, 3, 4, 4, 4, 4],\n",
    "    [3, 3, 3, 4, 4, 4, 3, 3, 4, 4, 3, 4, 3, 4],\n",
    "    [3, 3, 1, 3, 4, 3, 3, 4, 1, 4, 4, 4, 3, 4],\n",
    "    [2, 1, 1, 2, 4, 3, 2, 4, 2, 4, 4, 4, 4, 3],\n",
    "    [1, 2, 1, 2, 4, 2, 2, 4, 2, 4, 3, 4, 3, 2],\n",
    "    [1, 1, 2, 3, 2, 2, 2, 3, 2, 4, 4, 4, 4, 2],\n",
    "    [1, 2, 1, 2, 2, 2, 3, 4, 2, 2, 4, 2, 3, 3],\n",
    "    [1, 2, 1, 2, 2, 2, 2, 2, 3, 3, 3, 2, 4, 3],\n",
    "    [1, 3, 2, 2, 1, 2, 2, 2, 3, 1, 4, 3, 3, 2],\n",
    "    [1, 1, 3, 2, 4, 1, 3, 2, 3, 2, 4, 4, 2, 4]\n",
    "]"
   ]
  },
  {
   "cell_type": "code",
   "execution_count": 14,
   "id": "f17a1c9c-0714-49db-8f4c-382a404a1fc7",
   "metadata": {
    "scrolled": true,
    "tags": []
   },
   "outputs": [
    {
     "name": "stdout",
     "output_type": "stream",
     "text": [
      "0\n",
      "forb_ls [3, 3, 4, 1, 3, 4, 4, 4, 4, 4, 4, 4, 4, 4]\n",
      "competitor_ls [3, 1, 2, 1, 2, 2, 3, 3, 2, 2, 2, 1, 3, 3]\n",
      "1\n",
      "forb_ls [3, 3, 3, 4, 3, 3, 3, 3, 3, 3, 4, 4]\n",
      "competitor_ls [2, 3, 2, 2, 2, 1, 2, 2, 2, 1, 3, 3]\n",
      "2\n",
      "forb_ls [3, 3, 4, 4, 4, 3, 3, 4, 4, 3, 4, 3, 4]\n",
      "competitor_ls [3, 2, 2, 2, 2, 2, 1, 2, 2, 2, 2, 1, 1]\n",
      "3\n",
      "forb_ls [3, 1, 3, 4, 3, 3, 4, 1, 4, 4, 4, 3, 4]\n",
      "competitor_ls [2, 2, 2, 2, 2, 1, 1, 2, 2, 2, 2, 2, 2]\n",
      "4\n",
      "forb_ls [1, 1, 2, 4, 3, 2, 2, 4, 4, 4, 3]\n",
      "competitor_ls [1, 2, 2, 2, 2, 1, 1, 2, 2, 2, 3]\n",
      "5\n",
      "forb_ls [1, 2, 1, 2, 2]\n",
      "competitor_ls [1, 1, 1, 3, 3]\n",
      "6\n",
      "forb_ls [1, 1, 2, 3, 2, 2]\n",
      "competitor_ls [1, 1, 1, 1, 1, 1]\n",
      "7\n",
      "forb_ls [1, 2, 1, 2, 2, 2, 4]\n",
      "competitor_ls [1, 1, 1, 1, 3, 3, 2]\n",
      "8\n",
      "forb_ls [1, 2, 1, 2, 2, 2, 2, 2]\n",
      "competitor_ls [1, 1, 1, 1, 1, 1, 2, 2]\n",
      "9\n",
      "forb_ls [1, 3, 2, 2, 1, 2, 2, 1, 4]\n",
      "competitor_ls [1, 1, 1, 2, 1, 2, 1, 3, 2]\n",
      "10\n",
      "forb_ls [1, 1, 3, 2, 4, 1, 3, 2, 3, 2]\n",
      "competitor_ls [1, 1, 1, 1, 1, 1, 1, 1, 3, 1]\n"
     ]
    }
   ],
   "source": [
    "nmi_ls = []\n",
    "ari_ls = []\n",
    "for i in range(len(competitor_ls_us)):\n",
    "    c_index = [i for i,v in enumerate(competitor_ls_us[i]) if v!=4]\n",
    "    \n",
    "    competitor_ls = [i for i in competitor_ls_us[i] if i != 4]\n",
    "    forb_ls = [forb_ls_us[i][k] for k in c_index]\n",
    "    \n",
    "    nmi = normalized_mutual_info_score(forb_ls,competitor_ls)\n",
    "    nmi_ls.append(nmi)\n",
    "    \n",
    "    ari = adjusted_rand_score(forb_ls,competitor_ls)\n",
    "    ari_ls.append(ari)\n",
    "    \n",
    "    print(i)\n",
    "    print(\"forb_ls\",forb_ls)\n",
    "    print(\"competitor_ls\",competitor_ls)"
   ]
  },
  {
   "cell_type": "code",
   "execution_count": 15,
   "id": "b455e28e-25a8-485b-a26e-31d0de52aa38",
   "metadata": {},
   "outputs": [
    {
     "data": {
      "text/plain": [
       "[0.16672193448432587,\n",
       " 0.2154763167858412,\n",
       " 0.13865227927107865,\n",
       " 0.04010563832459946,\n",
       " 0.3944624145754022,\n",
       " 0.43253806776631243,\n",
       " 0.0,\n",
       " 0.5855559816837183,\n",
       " 0.1510656397890329,\n",
       " 0.38726254472563154,\n",
       " 0.1636797011247732]"
      ]
     },
     "execution_count": 15,
     "metadata": {},
     "output_type": "execute_result"
    }
   ],
   "source": [
    "nmi_ls"
   ]
  },
  {
   "cell_type": "code",
   "execution_count": 16,
   "id": "5934ca51-b4bb-4406-9f95-8957cfee4c75",
   "metadata": {},
   "outputs": [
    {
     "data": {
      "text/plain": [
       "[0.052980132450331126,\n",
       " 0.12928759894459102,\n",
       " 0.05128205128205128,\n",
       " -0.07462686567164178,\n",
       " 0.1732283464566929,\n",
       " 0.16666666666666666,\n",
       " 0.0,\n",
       " 0.14285714285714285,\n",
       " -0.16666666666666666,\n",
       " -0.03225806451612903,\n",
       " -0.013071895424836602]"
      ]
     },
     "execution_count": 16,
     "metadata": {},
     "output_type": "execute_result"
    }
   ],
   "source": [
    "ari_ls"
   ]
  },
  {
   "cell_type": "code",
   "execution_count": null,
   "id": "fa3cfa75-c0a4-446a-a6b4-e473f9fcb96e",
   "metadata": {},
   "outputs": [],
   "source": []
  },
  {
   "cell_type": "code",
   "execution_count": null,
   "id": "66436383-2b3a-4139-9f54-7ddbcb7c4811",
   "metadata": {},
   "outputs": [],
   "source": []
  }
 ],
 "metadata": {
  "kernelspec": {
   "display_name": "for_paper",
   "language": "python",
   "name": "for_paper"
  },
  "language_info": {
   "codemirror_mode": {
    "name": "ipython",
    "version": 3
   },
   "file_extension": ".py",
   "mimetype": "text/x-python",
   "name": "python",
   "nbconvert_exporter": "python",
   "pygments_lexer": "ipython3",
   "version": "3.8.12"
  }
 },
 "nbformat": 4,
 "nbformat_minor": 5
}
