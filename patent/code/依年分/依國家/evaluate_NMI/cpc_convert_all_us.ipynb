{
 "cells": [
  {
   "cell_type": "code",
   "execution_count": 1,
   "id": "070b9153-6eb0-4b01-a781-6cf087d93357",
   "metadata": {},
   "outputs": [],
   "source": [
    "import numpy as np\n",
    "import pandas as pd\n",
    "import os"
   ]
  },
  {
   "cell_type": "code",
   "execution_count": 2,
   "id": "667eedfc-4566-4b06-a323-ad280f1993dd",
   "metadata": {
    "scrolled": true,
    "tags": []
   },
   "outputs": [
    {
     "name": "stdout",
     "output_type": "stream",
     "text": [
      "Wed Jun 29 02:20:39 2022       \n",
      "+-----------------------------------------------------------------------------+\n",
      "| NVIDIA-SMI 470.129.06   Driver Version: 470.129.06   CUDA Version: 11.4     |\n",
      "|-------------------------------+----------------------+----------------------+\n",
      "| GPU  Name        Persistence-M| Bus-Id        Disp.A | Volatile Uncorr. ECC |\n",
      "| Fan  Temp  Perf  Pwr:Usage/Cap|         Memory-Usage | GPU-Util  Compute M. |\n",
      "|                               |                      |               MIG M. |\n",
      "|===============================+======================+======================|\n",
      "|   0  NVIDIA GeForce ...  Off  | 00000000:01:00.0 Off |                  N/A |\n",
      "| 32%   41C    P8    21W / 260W |     22MiB / 11019MiB |      0%      Default |\n",
      "|                               |                      |                  N/A |\n",
      "+-------------------------------+----------------------+----------------------+\n",
      "|   1  NVIDIA GeForce ...  Off  | 00000000:02:00.0 Off |                  N/A |\n",
      "| 30%   38C    P8    24W / 260W |      8MiB / 11019MiB |      0%      Default |\n",
      "|                               |                      |                  N/A |\n",
      "+-------------------------------+----------------------+----------------------+\n",
      "                                                                               \n",
      "+-----------------------------------------------------------------------------+\n",
      "| Processes:                                                                  |\n",
      "|  GPU   GI   CI        PID   Type   Process name                  GPU Memory |\n",
      "|        ID   ID                                                   Usage      |\n",
      "|=============================================================================|\n",
      "|    0   N/A  N/A      6976      G   /usr/lib/xorg/Xorg                  9MiB |\n",
      "|    0   N/A  N/A      7277      G   /usr/bin/gnome-shell                7MiB |\n",
      "|    1   N/A  N/A      6976      G   /usr/lib/xorg/Xorg                  4MiB |\n",
      "+-----------------------------------------------------------------------------+\n"
     ]
    }
   ],
   "source": [
    "! nvidia-smi"
   ]
  },
  {
   "cell_type": "code",
   "execution_count": 3,
   "id": "6c0e7703-b610-4ddf-8ac2-aa491d8b6f88",
   "metadata": {},
   "outputs": [],
   "source": [
    "# 使用GPU\n",
    "os.environ[\"CUDA_VISIBLE_DEVICES\"]=\"1\""
   ]
  },
  {
   "cell_type": "code",
   "execution_count": null,
   "id": "b9e525a6-1c97-4687-816c-aa87c169e3a0",
   "metadata": {},
   "outputs": [],
   "source": []
  },
  {
   "cell_type": "markdown",
   "id": "5bedc508-f3a9-4ebc-9c85-fdf8ff498030",
   "metadata": {},
   "source": [
    "# Data"
   ]
  },
  {
   "cell_type": "code",
   "execution_count": 4,
   "id": "3891390f-2477-41b8-98f1-e922d1a7b345",
   "metadata": {},
   "outputs": [],
   "source": [
    "def get_forb(f_data,com_ls):\n",
    "    forb_ls =[]\n",
    "\n",
    "    for i in com_ls:\n",
    "        if (f_data[\"Company\"]==i).any():\n",
    "            if (f_data[f_data.Company==i][\"Industry\"]==\"Semiconductors\").any():\n",
    "                forb_ls.append(1)\n",
    "            elif (f_data[f_data.Company==i][\"Sector\"]==\"Information Technology\").any():\n",
    "                forb_ls.append(2)\n",
    "            else:\n",
    "                forb_ls.append(3)\n",
    "        else:\n",
    "            forb_ls.append(4)\n",
    "    \n",
    "    return forb_ls"
   ]
  },
  {
   "cell_type": "code",
   "execution_count": 5,
   "id": "5cbb986b-93a5-49d4-b678-99ae9265547c",
   "metadata": {
    "scrolled": true,
    "tags": []
   },
   "outputs": [
    {
     "name": "stdout",
     "output_type": "stream",
     "text": [
      "2015\n",
      "2016\n",
      "2017\n",
      "2018\n",
      "2019\n",
      "2020\n"
     ]
    }
   ],
   "source": [
    "correct_ls = []\n",
    "correct_ls2 = []\n",
    "\n",
    "for i in range(2015,2021):\n",
    "    now = \"../competitor_df/cpc_us_{year}.csv\".format(year=i)\n",
    "    cpc_now = pd.read_csv(now)\n",
    "    f = \"../../Forbes/Forbes_{year}.csv\".format(year=i)\n",
    "    f_data = pd.read_csv(f)\n",
    "    \n",
    "    com_ls = list(cpc_now.company)\n",
    "    \n",
    "    forb_ls = get_forb(f_data,com_ls)\n",
    "    \n",
    "    cpc_now[\"forb\"] = forb_ls\n",
    "    \n",
    "    print(i)\n",
    "    # 當年度正確預測比例\n",
    "    # year_correct = len(cpc_all[cpc_all.iloc[:,2]==cpc_all.iloc[:,3]])/len(cpc_all)\n",
    "    year_correct = len(cpc_now[cpc_now.iloc[:,1]==cpc_now.iloc[:,2]])/len(cpc_now)\n",
    "    correct_ls.append(year_correct)\n",
    "    \n",
    "    # 當年度正確預測比例 去除4\n",
    "    cpc_now2 = cpc_now[cpc_now.iloc[:,1]==cpc_now.iloc[:,2]]\n",
    "    year_correct2 = len(cpc_now2[cpc_now2.iloc[:,2]!=4])/len(cpc_now)\n",
    "    correct_ls2.append(year_correct2)\n",
    "    "
   ]
  },
  {
   "cell_type": "code",
   "execution_count": 6,
   "id": "8cee7bc0-8ddf-47ac-9cc6-84977b4fe68d",
   "metadata": {},
   "outputs": [
    {
     "data": {
      "text/plain": [
       "[0.42857142857142855,\n",
       " 0.42857142857142855,\n",
       " 0.21428571428571427,\n",
       " 0.35714285714285715,\n",
       " 0.2857142857142857,\n",
       " 0.5]"
      ]
     },
     "execution_count": 6,
     "metadata": {},
     "output_type": "execute_result"
    }
   ],
   "source": [
    "correct_ls"
   ]
  },
  {
   "cell_type": "code",
   "execution_count": 7,
   "id": "5a120f7a-e8f4-4011-982a-3f431630e8e5",
   "metadata": {},
   "outputs": [
    {
     "data": {
      "text/plain": [
       "[0.14285714285714285,\n",
       " 0.14285714285714285,\n",
       " 0.14285714285714285,\n",
       " 0.2857142857142857,\n",
       " 0.2857142857142857,\n",
       " 0.2857142857142857]"
      ]
     },
     "execution_count": 7,
     "metadata": {},
     "output_type": "execute_result"
    }
   ],
   "source": [
    "correct_ls2"
   ]
  },
  {
   "cell_type": "code",
   "execution_count": null,
   "id": "bed6c842-52f6-48e0-a963-7053d0e1f67b",
   "metadata": {},
   "outputs": [],
   "source": []
  },
  {
   "cell_type": "code",
   "execution_count": null,
   "id": "39c032db-0884-4281-85e0-9615c064948f",
   "metadata": {},
   "outputs": [],
   "source": []
  },
  {
   "cell_type": "code",
   "execution_count": null,
   "id": "046d1550-ad34-4fa9-b0be-2ec14b106be1",
   "metadata": {},
   "outputs": [],
   "source": []
  },
  {
   "cell_type": "code",
   "execution_count": null,
   "id": "ae583bb4-da15-408b-977b-6c19e8145697",
   "metadata": {},
   "outputs": [],
   "source": []
  },
  {
   "cell_type": "code",
   "execution_count": 8,
   "id": "ef5d3d8f-6421-4308-afc8-ebedaf4fd04d",
   "metadata": {},
   "outputs": [
    {
     "name": "stdout",
     "output_type": "stream",
     "text": [
      "2016\n",
      "2017\n",
      "2018\n",
      "2019\n",
      "2020\n"
     ]
    }
   ],
   "source": [
    "change_ls = []\n",
    "\n",
    "for i in range(2016,2021):\n",
    "    now = \"../competitor_df/cpc_us_{year}.csv\".format(year=i)\n",
    "    befor = \"../competitor_df/cpc_us_{year}.csv\".format(year=i-1)\n",
    "    cpc_now = pd.read_csv(now)\n",
    "    cpc_befor = pd.read_csv(befor)\n",
    "    f = \"../../Forbes/Forbes_{year}.csv\".format(year=i)\n",
    "    f_data = pd.read_csv(f)\n",
    "    \n",
    "    cpc_all = cpc_befor.iloc[:,0:2].merge(cpc_now.iloc[:,0:2],on = 'company',how = 'outer')\n",
    "    com_ls = list(cpc_all.company)\n",
    "    \n",
    "    forb_ls = get_forb(f_data,com_ls)\n",
    "    \n",
    "    cpc_all[\"forb\"] = forb_ls \n",
    "    \n",
    "    print(i)\n",
    "    # 有變動且正確預測比例\n",
    "    cpc_all2 = cpc_all[cpc_all.iloc[:,2]==cpc_all.iloc[:,3]] #先找出和forb相同的\n",
    "    chan_correct = len(cpc_all2[cpc_all2.iloc[:,1]!=cpc_all2.iloc[:,2]])/len(cpc_all) #找出今年和前一年有變動的\n",
    "    change_ls.append(chan_correct)"
   ]
  },
  {
   "cell_type": "code",
   "execution_count": 9,
   "id": "2a40c99f-0bb9-43c8-be45-7148aa59b8d0",
   "metadata": {},
   "outputs": [
    {
     "data": {
      "text/plain": [
       "[0.1111111111111111, 0.0, 0.125, 0.125, 0.29411764705882354]"
      ]
     },
     "execution_count": 9,
     "metadata": {},
     "output_type": "execute_result"
    }
   ],
   "source": [
    "change_ls"
   ]
  },
  {
   "cell_type": "code",
   "execution_count": null,
   "id": "7b339063-4e02-4617-a9e7-b5bb35ebf9b4",
   "metadata": {},
   "outputs": [],
   "source": []
  },
  {
   "cell_type": "code",
   "execution_count": null,
   "id": "2da7b8a7-da40-4209-ab22-4555cb7555ec",
   "metadata": {},
   "outputs": [],
   "source": []
  },
  {
   "cell_type": "code",
   "execution_count": null,
   "id": "48c8069c-2dc9-4715-b540-4a810bc213eb",
   "metadata": {},
   "outputs": [],
   "source": []
  },
  {
   "cell_type": "code",
   "execution_count": null,
   "id": "6b79eb80-7958-4dee-b2c0-fd7604505fce",
   "metadata": {},
   "outputs": [],
   "source": []
  },
  {
   "cell_type": "code",
   "execution_count": null,
   "id": "d70049c1-b0be-4027-a57b-32a8b088ffe1",
   "metadata": {},
   "outputs": [],
   "source": []
  },
  {
   "cell_type": "code",
   "execution_count": 38,
   "id": "99e593b1-c9a1-474f-894b-774f8cb983a6",
   "metadata": {
    "scrolled": true,
    "tags": []
   },
   "outputs": [
    {
     "data": {
      "text/html": [
       "<div>\n",
       "<style scoped>\n",
       "    .dataframe tbody tr th:only-of-type {\n",
       "        vertical-align: middle;\n",
       "    }\n",
       "\n",
       "    .dataframe tbody tr th {\n",
       "        vertical-align: top;\n",
       "    }\n",
       "\n",
       "    .dataframe thead th {\n",
       "        text-align: right;\n",
       "    }\n",
       "</style>\n",
       "<table border=\"1\" class=\"dataframe\">\n",
       "  <thead>\n",
       "    <tr style=\"text-align: right;\">\n",
       "      <th></th>\n",
       "      <th>company</th>\n",
       "      <th>2018_competitor</th>\n",
       "      <th>2019_competitor</th>\n",
       "      <th>forb</th>\n",
       "    </tr>\n",
       "  </thead>\n",
       "  <tbody>\n",
       "    <tr>\n",
       "      <th>0</th>\n",
       "      <td>Qualcomm</td>\n",
       "      <td>1.0</td>\n",
       "      <td>1.0</td>\n",
       "      <td>1</td>\n",
       "    </tr>\n",
       "    <tr>\n",
       "      <th>1</th>\n",
       "      <td>Ericsson</td>\n",
       "      <td>1.0</td>\n",
       "      <td>2.0</td>\n",
       "      <td>2</td>\n",
       "    </tr>\n",
       "    <tr>\n",
       "      <th>2</th>\n",
       "      <td>Intel</td>\n",
       "      <td>1.0</td>\n",
       "      <td>1.0</td>\n",
       "      <td>1</td>\n",
       "    </tr>\n",
       "    <tr>\n",
       "      <th>4</th>\n",
       "      <td>Cisco Systems</td>\n",
       "      <td>1.0</td>\n",
       "      <td>2.0</td>\n",
       "      <td>2</td>\n",
       "    </tr>\n",
       "  </tbody>\n",
       "</table>\n",
       "</div>"
      ],
      "text/plain": [
       "         company  2018_competitor  2019_competitor  forb\n",
       "0       Qualcomm              1.0              1.0     1\n",
       "1       Ericsson              1.0              2.0     2\n",
       "2          Intel              1.0              1.0     1\n",
       "4  Cisco Systems              1.0              2.0     2"
      ]
     },
     "execution_count": 38,
     "metadata": {},
     "output_type": "execute_result"
    }
   ],
   "source": [
    "cpc_all2 = cpc_all[cpc_all.iloc[:,2]==cpc_all.iloc[:,3]]\n",
    "cpc_all2"
   ]
  },
  {
   "cell_type": "code",
   "execution_count": 42,
   "id": "8bdf2187-28fe-4060-bc23-1dfaf797c8f6",
   "metadata": {},
   "outputs": [
    {
     "data": {
      "text/html": [
       "<div>\n",
       "<style scoped>\n",
       "    .dataframe tbody tr th:only-of-type {\n",
       "        vertical-align: middle;\n",
       "    }\n",
       "\n",
       "    .dataframe tbody tr th {\n",
       "        vertical-align: top;\n",
       "    }\n",
       "\n",
       "    .dataframe thead th {\n",
       "        text-align: right;\n",
       "    }\n",
       "</style>\n",
       "<table border=\"1\" class=\"dataframe\">\n",
       "  <thead>\n",
       "    <tr style=\"text-align: right;\">\n",
       "      <th></th>\n",
       "      <th>company</th>\n",
       "      <th>2018_competitor</th>\n",
       "      <th>2019_competitor</th>\n",
       "      <th>forb</th>\n",
       "    </tr>\n",
       "  </thead>\n",
       "  <tbody>\n",
       "    <tr>\n",
       "      <th>1</th>\n",
       "      <td>Ericsson</td>\n",
       "      <td>1.0</td>\n",
       "      <td>2.0</td>\n",
       "      <td>2</td>\n",
       "    </tr>\n",
       "    <tr>\n",
       "      <th>4</th>\n",
       "      <td>Cisco Systems</td>\n",
       "      <td>1.0</td>\n",
       "      <td>2.0</td>\n",
       "      <td>2</td>\n",
       "    </tr>\n",
       "  </tbody>\n",
       "</table>\n",
       "</div>"
      ],
      "text/plain": [
       "         company  2018_competitor  2019_competitor  forb\n",
       "1       Ericsson              1.0              2.0     2\n",
       "4  Cisco Systems              1.0              2.0     2"
      ]
     },
     "execution_count": 42,
     "metadata": {},
     "output_type": "execute_result"
    }
   ],
   "source": [
    "cpc_all2[(cpc_all2.iloc[:,1]!=cpc_all2.iloc[:,2])]"
   ]
  },
  {
   "cell_type": "code",
   "execution_count": 41,
   "id": "3c69adb7-32cc-47bc-8fa0-66e9ca274cbd",
   "metadata": {},
   "outputs": [
    {
     "data": {
      "text/html": [
       "<div>\n",
       "<style scoped>\n",
       "    .dataframe tbody tr th:only-of-type {\n",
       "        vertical-align: middle;\n",
       "    }\n",
       "\n",
       "    .dataframe tbody tr th {\n",
       "        vertical-align: top;\n",
       "    }\n",
       "\n",
       "    .dataframe thead th {\n",
       "        text-align: right;\n",
       "    }\n",
       "</style>\n",
       "<table border=\"1\" class=\"dataframe\">\n",
       "  <thead>\n",
       "    <tr style=\"text-align: right;\">\n",
       "      <th></th>\n",
       "      <th>company</th>\n",
       "      <th>2018_competitor</th>\n",
       "      <th>2019_competitor</th>\n",
       "      <th>forb</th>\n",
       "    </tr>\n",
       "  </thead>\n",
       "  <tbody>\n",
       "    <tr>\n",
       "      <th>0</th>\n",
       "      <td>Qualcomm</td>\n",
       "      <td>1.0</td>\n",
       "      <td>1.0</td>\n",
       "      <td>1</td>\n",
       "    </tr>\n",
       "    <tr>\n",
       "      <th>1</th>\n",
       "      <td>Ericsson</td>\n",
       "      <td>1.0</td>\n",
       "      <td>2.0</td>\n",
       "      <td>2</td>\n",
       "    </tr>\n",
       "    <tr>\n",
       "      <th>2</th>\n",
       "      <td>Intel</td>\n",
       "      <td>1.0</td>\n",
       "      <td>1.0</td>\n",
       "      <td>1</td>\n",
       "    </tr>\n",
       "    <tr>\n",
       "      <th>4</th>\n",
       "      <td>Cisco Systems</td>\n",
       "      <td>1.0</td>\n",
       "      <td>2.0</td>\n",
       "      <td>2</td>\n",
       "    </tr>\n",
       "  </tbody>\n",
       "</table>\n",
       "</div>"
      ],
      "text/plain": [
       "         company  2018_competitor  2019_competitor  forb\n",
       "0       Qualcomm              1.0              1.0     1\n",
       "1       Ericsson              1.0              2.0     2\n",
       "2          Intel              1.0              1.0     1\n",
       "4  Cisco Systems              1.0              2.0     2"
      ]
     },
     "execution_count": 41,
     "metadata": {},
     "output_type": "execute_result"
    }
   ],
   "source": [
    "cpc_all2[(cpc_all2.iloc[:,1]!=cpc_all2.iloc[:,2])|(cpc_all2.iloc[:,1]==cpc_all2.iloc[:,2])]"
   ]
  },
  {
   "cell_type": "code",
   "execution_count": 40,
   "id": "6cdb05c2-515c-4c06-93c6-1b958edefa1a",
   "metadata": {},
   "outputs": [
    {
     "data": {
      "text/html": [
       "<div>\n",
       "<style scoped>\n",
       "    .dataframe tbody tr th:only-of-type {\n",
       "        vertical-align: middle;\n",
       "    }\n",
       "\n",
       "    .dataframe tbody tr th {\n",
       "        vertical-align: top;\n",
       "    }\n",
       "\n",
       "    .dataframe thead th {\n",
       "        text-align: right;\n",
       "    }\n",
       "</style>\n",
       "<table border=\"1\" class=\"dataframe\">\n",
       "  <thead>\n",
       "    <tr style=\"text-align: right;\">\n",
       "      <th></th>\n",
       "      <th>company</th>\n",
       "      <th>2018_competitor</th>\n",
       "      <th>2019_competitor</th>\n",
       "      <th>forb</th>\n",
       "    </tr>\n",
       "  </thead>\n",
       "  <tbody>\n",
       "    <tr>\n",
       "      <th>0</th>\n",
       "      <td>Qualcomm</td>\n",
       "      <td>1.0</td>\n",
       "      <td>1.0</td>\n",
       "      <td>1</td>\n",
       "    </tr>\n",
       "    <tr>\n",
       "      <th>2</th>\n",
       "      <td>Intel</td>\n",
       "      <td>1.0</td>\n",
       "      <td>1.0</td>\n",
       "      <td>1</td>\n",
       "    </tr>\n",
       "  </tbody>\n",
       "</table>\n",
       "</div>"
      ],
      "text/plain": [
       "    company  2018_competitor  2019_competitor  forb\n",
       "0  Qualcomm              1.0              1.0     1\n",
       "2     Intel              1.0              1.0     1"
      ]
     },
     "execution_count": 40,
     "metadata": {},
     "output_type": "execute_result"
    }
   ],
   "source": [
    "cpc_all2[cpc_all2.iloc[:,1]==cpc_all2.iloc[:,2]]"
   ]
  },
  {
   "cell_type": "code",
   "execution_count": null,
   "id": "eba6a31e-73b9-4ed1-9c44-439ecf491bdb",
   "metadata": {},
   "outputs": [],
   "source": []
  },
  {
   "cell_type": "code",
   "execution_count": null,
   "id": "40c7d3b5-4519-4332-82f9-09683280da95",
   "metadata": {},
   "outputs": [],
   "source": []
  },
  {
   "cell_type": "code",
   "execution_count": 27,
   "id": "801b2a00-890e-4379-bec8-a3b2e418776d",
   "metadata": {},
   "outputs": [
    {
     "data": {
      "text/html": [
       "<div>\n",
       "<style scoped>\n",
       "    .dataframe tbody tr th:only-of-type {\n",
       "        vertical-align: middle;\n",
       "    }\n",
       "\n",
       "    .dataframe tbody tr th {\n",
       "        vertical-align: top;\n",
       "    }\n",
       "\n",
       "    .dataframe thead th {\n",
       "        text-align: right;\n",
       "    }\n",
       "</style>\n",
       "<table border=\"1\" class=\"dataframe\">\n",
       "  <thead>\n",
       "    <tr style=\"text-align: right;\">\n",
       "      <th></th>\n",
       "      <th>company</th>\n",
       "      <th>2018_competitor</th>\n",
       "      <th>2019_competitor</th>\n",
       "      <th>forb</th>\n",
       "    </tr>\n",
       "  </thead>\n",
       "  <tbody>\n",
       "    <tr>\n",
       "      <th>1</th>\n",
       "      <td>Ericsson</td>\n",
       "      <td>1.0</td>\n",
       "      <td>2.0</td>\n",
       "      <td>2</td>\n",
       "    </tr>\n",
       "    <tr>\n",
       "      <th>4</th>\n",
       "      <td>Cisco Systems</td>\n",
       "      <td>1.0</td>\n",
       "      <td>2.0</td>\n",
       "      <td>2</td>\n",
       "    </tr>\n",
       "    <tr>\n",
       "      <th>6</th>\n",
       "      <td>Apple</td>\n",
       "      <td>2.0</td>\n",
       "      <td>4.0</td>\n",
       "      <td>2</td>\n",
       "    </tr>\n",
       "    <tr>\n",
       "      <th>7</th>\n",
       "      <td>Nokia</td>\n",
       "      <td>2.0</td>\n",
       "      <td>4.0</td>\n",
       "      <td>2</td>\n",
       "    </tr>\n",
       "    <tr>\n",
       "      <th>8</th>\n",
       "      <td>LG Electronics</td>\n",
       "      <td>4.0</td>\n",
       "      <td>1.0</td>\n",
       "      <td>3</td>\n",
       "    </tr>\n",
       "    <tr>\n",
       "      <th>11</th>\n",
       "      <td>NEC</td>\n",
       "      <td>4.0</td>\n",
       "      <td>NaN</td>\n",
       "      <td>2</td>\n",
       "    </tr>\n",
       "    <tr>\n",
       "      <th>12</th>\n",
       "      <td>Amazon Technologies</td>\n",
       "      <td>4.0</td>\n",
       "      <td>NaN</td>\n",
       "      <td>4</td>\n",
       "    </tr>\n",
       "    <tr>\n",
       "      <th>14</th>\n",
       "      <td>Micron Technology</td>\n",
       "      <td>NaN</td>\n",
       "      <td>3.0</td>\n",
       "      <td>1</td>\n",
       "    </tr>\n",
       "    <tr>\n",
       "      <th>15</th>\n",
       "      <td>Huawei Technologies</td>\n",
       "      <td>NaN</td>\n",
       "      <td>2.0</td>\n",
       "      <td>4</td>\n",
       "    </tr>\n",
       "  </tbody>\n",
       "</table>\n",
       "</div>"
      ],
      "text/plain": [
       "                company  2018_competitor  2019_competitor  forb\n",
       "1              Ericsson              1.0              2.0     2\n",
       "4         Cisco Systems              1.0              2.0     2\n",
       "6                 Apple              2.0              4.0     2\n",
       "7                 Nokia              2.0              4.0     2\n",
       "8        LG Electronics              4.0              1.0     3\n",
       "11                  NEC              4.0              NaN     2\n",
       "12  Amazon Technologies              4.0              NaN     4\n",
       "14    Micron Technology              NaN              3.0     1\n",
       "15  Huawei Technologies              NaN              2.0     4"
      ]
     },
     "execution_count": 27,
     "metadata": {},
     "output_type": "execute_result"
    }
   ],
   "source": [
    "cpc_all[cpc_all.iloc[:,1]!=cpc_all.iloc[:,2]]"
   ]
  },
  {
   "cell_type": "code",
   "execution_count": null,
   "id": "93d8d9c1-2416-468e-a686-db1283a3d014",
   "metadata": {},
   "outputs": [],
   "source": []
  },
  {
   "cell_type": "code",
   "execution_count": 9,
   "id": "1febce35-3e19-4f4f-bc7d-e23e28d77657",
   "metadata": {
    "scrolled": true,
    "tags": []
   },
   "outputs": [],
   "source": [
    "cpc_us = \"../competitor_df/cpc_us_{year}.csv\".format(year=\"2019\") \n",
    "cpc_early = pd.read_csv(cpc_us)"
   ]
  },
  {
   "cell_type": "code",
   "execution_count": 10,
   "id": "7409c291-cbe0-43b5-997c-2c9f4aa50869",
   "metadata": {},
   "outputs": [
    {
     "data": {
      "text/html": [
       "<div>\n",
       "<style scoped>\n",
       "    .dataframe tbody tr th:only-of-type {\n",
       "        vertical-align: middle;\n",
       "    }\n",
       "\n",
       "    .dataframe tbody tr th {\n",
       "        vertical-align: top;\n",
       "    }\n",
       "\n",
       "    .dataframe thead th {\n",
       "        text-align: right;\n",
       "    }\n",
       "</style>\n",
       "<table border=\"1\" class=\"dataframe\">\n",
       "  <thead>\n",
       "    <tr style=\"text-align: right;\">\n",
       "      <th></th>\n",
       "      <th>company</th>\n",
       "      <th>2019_competitor</th>\n",
       "      <th>2019_forb</th>\n",
       "    </tr>\n",
       "  </thead>\n",
       "  <tbody>\n",
       "    <tr>\n",
       "      <th>0</th>\n",
       "      <td>Qualcomm</td>\n",
       "      <td>1</td>\n",
       "      <td>1</td>\n",
       "    </tr>\n",
       "    <tr>\n",
       "      <th>1</th>\n",
       "      <td>LG Electronics</td>\n",
       "      <td>1</td>\n",
       "      <td>3</td>\n",
       "    </tr>\n",
       "    <tr>\n",
       "      <th>2</th>\n",
       "      <td>IBM</td>\n",
       "      <td>1</td>\n",
       "      <td>2</td>\n",
       "    </tr>\n",
       "    <tr>\n",
       "      <th>3</th>\n",
       "      <td>Ericsson</td>\n",
       "      <td>2</td>\n",
       "      <td>2</td>\n",
       "    </tr>\n",
       "    <tr>\n",
       "      <th>4</th>\n",
       "      <td>Intel</td>\n",
       "      <td>1</td>\n",
       "      <td>1</td>\n",
       "    </tr>\n",
       "    <tr>\n",
       "      <th>5</th>\n",
       "      <td>Cisco Systems</td>\n",
       "      <td>2</td>\n",
       "      <td>2</td>\n",
       "    </tr>\n",
       "    <tr>\n",
       "      <th>6</th>\n",
       "      <td>Microsoft</td>\n",
       "      <td>1</td>\n",
       "      <td>2</td>\n",
       "    </tr>\n",
       "    <tr>\n",
       "      <th>7</th>\n",
       "      <td>Apple</td>\n",
       "      <td>4</td>\n",
       "      <td>2</td>\n",
       "    </tr>\n",
       "    <tr>\n",
       "      <th>8</th>\n",
       "      <td>AT&amp;T</td>\n",
       "      <td>4</td>\n",
       "      <td>3</td>\n",
       "    </tr>\n",
       "    <tr>\n",
       "      <th>9</th>\n",
       "      <td>Micron Technology</td>\n",
       "      <td>3</td>\n",
       "      <td>1</td>\n",
       "    </tr>\n",
       "    <tr>\n",
       "      <th>10</th>\n",
       "      <td>Huawei Technologies</td>\n",
       "      <td>2</td>\n",
       "      <td>4</td>\n",
       "    </tr>\n",
       "    <tr>\n",
       "      <th>11</th>\n",
       "      <td>Sony</td>\n",
       "      <td>4</td>\n",
       "      <td>3</td>\n",
       "    </tr>\n",
       "    <tr>\n",
       "      <th>12</th>\n",
       "      <td>Verizon Communications</td>\n",
       "      <td>4</td>\n",
       "      <td>3</td>\n",
       "    </tr>\n",
       "    <tr>\n",
       "      <th>13</th>\n",
       "      <td>Nokia</td>\n",
       "      <td>4</td>\n",
       "      <td>2</td>\n",
       "    </tr>\n",
       "  </tbody>\n",
       "</table>\n",
       "</div>"
      ],
      "text/plain": [
       "                   company  2019_competitor  2019_forb\n",
       "0                 Qualcomm                1          1\n",
       "1           LG Electronics                1          3\n",
       "2                      IBM                1          2\n",
       "3                 Ericsson                2          2\n",
       "4                    Intel                1          1\n",
       "5            Cisco Systems                2          2\n",
       "6                Microsoft                1          2\n",
       "7                    Apple                4          2\n",
       "8                     AT&T                4          3\n",
       "9        Micron Technology                3          1\n",
       "10     Huawei Technologies                2          4\n",
       "11                    Sony                4          3\n",
       "12  Verizon Communications                4          3\n",
       "13                   Nokia                4          2"
      ]
     },
     "execution_count": 10,
     "metadata": {},
     "output_type": "execute_result"
    }
   ],
   "source": [
    "cpc_early"
   ]
  },
  {
   "cell_type": "code",
   "execution_count": null,
   "id": "e0fb1f24-6eb5-48c8-a32a-add917316166",
   "metadata": {},
   "outputs": [],
   "source": []
  }
 ],
 "metadata": {
  "kernelspec": {
   "display_name": "Python 3",
   "language": "python",
   "name": "python3"
  },
  "language_info": {
   "codemirror_mode": {
    "name": "ipython",
    "version": 3
   },
   "file_extension": ".py",
   "mimetype": "text/x-python",
   "name": "python",
   "nbconvert_exporter": "python",
   "pygments_lexer": "ipython3",
   "version": "3.8.12"
  }
 },
 "nbformat": 4,
 "nbformat_minor": 5
}
