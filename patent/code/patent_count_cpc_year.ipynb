{
 "cells": [
  {
   "cell_type": "code",
   "execution_count": 32,
   "metadata": {},
   "outputs": [],
   "source": [
    "from pymongo import MongoClient\n",
    "# from sshtunnel import SSHTunnelForwarder\n",
    "import pymongo\n",
    "from tqdm import tqdm\n",
    "import os\n",
    "import re\n",
    "\n",
    "import numpy as np\n",
    "import pandas as pd\n",
    "\n",
    "import dateutil.parser"
   ]
  },
  {
   "cell_type": "code",
   "execution_count": 33,
   "metadata": {},
   "outputs": [],
   "source": [
    "# 使用GPU\n",
    "os.environ[\"CUDA_VISIBLE_DEVICES\"]=\"1\""
   ]
  },
  {
   "cell_type": "code",
   "execution_count": 34,
   "metadata": {
    "tags": []
   },
   "outputs": [
    {
     "name": "stdout",
     "output_type": "stream",
     "text": [
      "Sun May 15 18:04:06 2022       \n",
      "+-----------------------------------------------------------------------------+\n",
      "| NVIDIA-SMI 470.103.01   Driver Version: 470.103.01   CUDA Version: 11.4     |\n",
      "|-------------------------------+----------------------+----------------------+\n",
      "| GPU  Name        Persistence-M| Bus-Id        Disp.A | Volatile Uncorr. ECC |\n",
      "| Fan  Temp  Perf  Pwr:Usage/Cap|         Memory-Usage | GPU-Util  Compute M. |\n",
      "|                               |                      |               MIG M. |\n",
      "|===============================+======================+======================|\n",
      "|   0  NVIDIA GeForce ...  Off  | 00000000:01:00.0 Off |                  N/A |\n",
      "| 35%   45C    P8    40W / 260W |     22MiB / 11019MiB |      0%      Default |\n",
      "|                               |                      |                  N/A |\n",
      "+-------------------------------+----------------------+----------------------+\n",
      "|   1  NVIDIA GeForce ...  Off  | 00000000:02:00.0 Off |                  N/A |\n",
      "| 30%   39C    P8    39W / 260W |      8MiB / 11019MiB |      0%      Default |\n",
      "|                               |                      |                  N/A |\n",
      "+-------------------------------+----------------------+----------------------+\n",
      "                                                                               \n",
      "+-----------------------------------------------------------------------------+\n",
      "| Processes:                                                                  |\n",
      "|  GPU   GI   CI        PID   Type   Process name                  GPU Memory |\n",
      "|        ID   ID                                                   Usage      |\n",
      "|=============================================================================|\n",
      "|    0   N/A  N/A      1741      G   /usr/lib/xorg/Xorg                  9MiB |\n",
      "|    0   N/A  N/A      2265      G   /usr/bin/gnome-shell                7MiB |\n",
      "|    1   N/A  N/A      1741      G   /usr/lib/xorg/Xorg                  4MiB |\n",
      "+-----------------------------------------------------------------------------+\n"
     ]
    }
   ],
   "source": [
    "! nvidia-smi"
   ]
  },
  {
   "cell_type": "markdown",
   "metadata": {
    "tags": []
   },
   "source": [
    "# MongoDB"
   ]
  },
  {
   "cell_type": "code",
   "execution_count": 35,
   "metadata": {},
   "outputs": [],
   "source": [
    "mongoURI = \"mongodb://%s:%s@%s/%s?authMechanism=SCRAM-SHA-1\" % (\"eva\", \"eva_30241\", \"140.117.69.70:30241\", \"eva\")\n",
    "\n",
    "try:\n",
    "    conn = pymongo.MongoClient(mongoURI)\n",
    "    db = conn.eva\n",
    "    db_de = db.patent_de\n",
    "    db_us = db.patent_us\n",
    "    db_cn = db.patent_cn\n",
    "    # db_test1 = db.test_1\n",
    "    # db_test2 = db.test_2\n",
    "    # db_rm_us = db.rm_patent_us\n",
    "    # db_rm_cn = db.rm_patent_cn\n",
    "    # db_rm_de = db.rm_patent_de\n",
    "    \n",
    "    db_cn_5 = db.w_patent_cn_5\n",
    "    db_cn_10 = db.w_patent_cn_10\n",
    "    db_us_5 = db.w_patent_us_5\n",
    "    db_us_10 = db.w_patent_us_10\n",
    "    db_de_5 = db.w_patent_de_5\n",
    "    db_de_10 = db.w_patent_de_10\n",
    "except errors.ConnectionFailure as err:\n",
    "    print(err)"
   ]
  },
  {
   "cell_type": "code",
   "execution_count": 36,
   "metadata": {},
   "outputs": [
    {
     "data": {
      "text/plain": [
       "Collection(Database(MongoClient(host=['140.117.69.70:30241'], document_class=dict, tz_aware=False, connect=True, authmechanism='SCRAM-SHA-1'), 'eva'), 'patent_de')"
      ]
     },
     "execution_count": 36,
     "metadata": {},
     "output_type": "execute_result"
    }
   ],
   "source": [
    "db_de"
   ]
  },
  {
   "cell_type": "code",
   "execution_count": 19,
   "metadata": {},
   "outputs": [],
   "source": [
    "test1 = pd.DataFrame(list(db_test1.find()))"
   ]
  },
  {
   "cell_type": "code",
   "execution_count": 20,
   "metadata": {},
   "outputs": [
    {
     "data": {
      "text/html": [
       "<div>\n",
       "<style scoped>\n",
       "    .dataframe tbody tr th:only-of-type {\n",
       "        vertical-align: middle;\n",
       "    }\n",
       "\n",
       "    .dataframe tbody tr th {\n",
       "        vertical-align: top;\n",
       "    }\n",
       "\n",
       "    .dataframe thead th {\n",
       "        text-align: right;\n",
       "    }\n",
       "</style>\n",
       "<table border=\"1\" class=\"dataframe\">\n",
       "  <thead>\n",
       "    <tr style=\"text-align: right;\">\n",
       "      <th></th>\n",
       "      <th>_id</th>\n",
       "      <th>appDate</th>\n",
       "      <th>priority</th>\n",
       "    </tr>\n",
       "  </thead>\n",
       "  <tbody>\n",
       "    <tr>\n",
       "      <th>0</th>\n",
       "      <td>626d580bb9455959c69fc4b3</td>\n",
       "      <td>20100501</td>\n",
       "      <td>1</td>\n",
       "    </tr>\n",
       "    <tr>\n",
       "      <th>1</th>\n",
       "      <td>626d580bb9455959c69fc4b4</td>\n",
       "      <td>20100701</td>\n",
       "      <td>2</td>\n",
       "    </tr>\n",
       "    <tr>\n",
       "      <th>2</th>\n",
       "      <td>626d580bb9455959c69fc4b5</td>\n",
       "      <td>20100801</td>\n",
       "      <td>3</td>\n",
       "    </tr>\n",
       "    <tr>\n",
       "      <th>3</th>\n",
       "      <td>6272409c5477582d912a27fb</td>\n",
       "      <td>20100901</td>\n",
       "      <td>3</td>\n",
       "    </tr>\n",
       "  </tbody>\n",
       "</table>\n",
       "</div>"
      ],
      "text/plain": [
       "                        _id   appDate priority\n",
       "0  626d580bb9455959c69fc4b3  20100501        1\n",
       "1  626d580bb9455959c69fc4b4  20100701        2\n",
       "2  626d580bb9455959c69fc4b5  20100801        3\n",
       "3  6272409c5477582d912a27fb  20100901        3"
      ]
     },
     "execution_count": 20,
     "metadata": {},
     "output_type": "execute_result"
    }
   ],
   "source": [
    "test1.head()"
   ]
  },
  {
   "cell_type": "code",
   "execution_count": 17,
   "metadata": {},
   "outputs": [],
   "source": [
    "test2 = pd.DataFrame(db_test2.aggregate([{\"$project\":{\"priority\":1}}]))"
   ]
  },
  {
   "cell_type": "code",
   "execution_count": 18,
   "metadata": {},
   "outputs": [
    {
     "data": {
      "text/html": [
       "<div>\n",
       "<style scoped>\n",
       "    .dataframe tbody tr th:only-of-type {\n",
       "        vertical-align: middle;\n",
       "    }\n",
       "\n",
       "    .dataframe tbody tr th {\n",
       "        vertical-align: top;\n",
       "    }\n",
       "\n",
       "    .dataframe thead th {\n",
       "        text-align: right;\n",
       "    }\n",
       "</style>\n",
       "<table border=\"1\" class=\"dataframe\">\n",
       "  <thead>\n",
       "    <tr style=\"text-align: right;\">\n",
       "      <th></th>\n",
       "      <th>_id</th>\n",
       "      <th>priority</th>\n",
       "    </tr>\n",
       "  </thead>\n",
       "  <tbody>\n",
       "    <tr>\n",
       "      <th>0</th>\n",
       "      <td>626d576432510447df0abe89</td>\n",
       "      <td>1</td>\n",
       "    </tr>\n",
       "    <tr>\n",
       "      <th>1</th>\n",
       "      <td>626d576432510447df0abe8a</td>\n",
       "      <td>21</td>\n",
       "    </tr>\n",
       "    <tr>\n",
       "      <th>2</th>\n",
       "      <td>626d576432510447df0abe8b</td>\n",
       "      <td>3</td>\n",
       "    </tr>\n",
       "  </tbody>\n",
       "</table>\n",
       "</div>"
      ],
      "text/plain": [
       "                        _id priority\n",
       "0  626d576432510447df0abe89        1\n",
       "1  626d576432510447df0abe8a       21\n",
       "2  626d576432510447df0abe8b        3"
      ]
     },
     "execution_count": 18,
     "metadata": {},
     "output_type": "execute_result"
    }
   ],
   "source": [
    "test2"
   ]
  },
  {
   "cell_type": "code",
   "execution_count": 21,
   "metadata": {},
   "outputs": [
    {
     "name": "stderr",
     "output_type": "stream",
     "text": [
      "/tmp/ipykernel_31739/1407032937.py:1: FutureWarning: The frame.append method is deprecated and will be removed from pandas in a future version. Use pandas.concat instead.\n",
      "  a = test1.append(test2)\n"
     ]
    }
   ],
   "source": [
    "a = test1.append(test2)"
   ]
  },
  {
   "cell_type": "code",
   "execution_count": 22,
   "metadata": {},
   "outputs": [
    {
     "data": {
      "text/html": [
       "<div>\n",
       "<style scoped>\n",
       "    .dataframe tbody tr th:only-of-type {\n",
       "        vertical-align: middle;\n",
       "    }\n",
       "\n",
       "    .dataframe tbody tr th {\n",
       "        vertical-align: top;\n",
       "    }\n",
       "\n",
       "    .dataframe thead th {\n",
       "        text-align: right;\n",
       "    }\n",
       "</style>\n",
       "<table border=\"1\" class=\"dataframe\">\n",
       "  <thead>\n",
       "    <tr style=\"text-align: right;\">\n",
       "      <th></th>\n",
       "      <th>_id</th>\n",
       "      <th>appDate</th>\n",
       "      <th>priority</th>\n",
       "    </tr>\n",
       "  </thead>\n",
       "  <tbody>\n",
       "    <tr>\n",
       "      <th>0</th>\n",
       "      <td>626d580bb9455959c69fc4b3</td>\n",
       "      <td>20100501</td>\n",
       "      <td>1</td>\n",
       "    </tr>\n",
       "    <tr>\n",
       "      <th>1</th>\n",
       "      <td>626d580bb9455959c69fc4b4</td>\n",
       "      <td>20100701</td>\n",
       "      <td>2</td>\n",
       "    </tr>\n",
       "    <tr>\n",
       "      <th>2</th>\n",
       "      <td>626d580bb9455959c69fc4b5</td>\n",
       "      <td>20100801</td>\n",
       "      <td>3</td>\n",
       "    </tr>\n",
       "    <tr>\n",
       "      <th>3</th>\n",
       "      <td>6272409c5477582d912a27fb</td>\n",
       "      <td>20100901</td>\n",
       "      <td>3</td>\n",
       "    </tr>\n",
       "    <tr>\n",
       "      <th>0</th>\n",
       "      <td>626d576432510447df0abe89</td>\n",
       "      <td>NaN</td>\n",
       "      <td>1</td>\n",
       "    </tr>\n",
       "    <tr>\n",
       "      <th>1</th>\n",
       "      <td>626d576432510447df0abe8a</td>\n",
       "      <td>NaN</td>\n",
       "      <td>21</td>\n",
       "    </tr>\n",
       "    <tr>\n",
       "      <th>2</th>\n",
       "      <td>626d576432510447df0abe8b</td>\n",
       "      <td>NaN</td>\n",
       "      <td>3</td>\n",
       "    </tr>\n",
       "  </tbody>\n",
       "</table>\n",
       "</div>"
      ],
      "text/plain": [
       "                        _id   appDate priority\n",
       "0  626d580bb9455959c69fc4b3  20100501        1\n",
       "1  626d580bb9455959c69fc4b4  20100701        2\n",
       "2  626d580bb9455959c69fc4b5  20100801        3\n",
       "3  6272409c5477582d912a27fb  20100901        3\n",
       "0  626d576432510447df0abe89       NaN        1\n",
       "1  626d576432510447df0abe8a       NaN       21\n",
       "2  626d576432510447df0abe8b       NaN        3"
      ]
     },
     "execution_count": 22,
     "metadata": {},
     "output_type": "execute_result"
    }
   ],
   "source": [
    "a"
   ]
  },
  {
   "cell_type": "code",
   "execution_count": 23,
   "metadata": {},
   "outputs": [],
   "source": [
    "result = a.drop_duplicates(subset=['priority'],keep=False)"
   ]
  },
  {
   "cell_type": "code",
   "execution_count": 24,
   "metadata": {},
   "outputs": [
    {
     "data": {
      "text/html": [
       "<div>\n",
       "<style scoped>\n",
       "    .dataframe tbody tr th:only-of-type {\n",
       "        vertical-align: middle;\n",
       "    }\n",
       "\n",
       "    .dataframe tbody tr th {\n",
       "        vertical-align: top;\n",
       "    }\n",
       "\n",
       "    .dataframe thead th {\n",
       "        text-align: right;\n",
       "    }\n",
       "</style>\n",
       "<table border=\"1\" class=\"dataframe\">\n",
       "  <thead>\n",
       "    <tr style=\"text-align: right;\">\n",
       "      <th></th>\n",
       "      <th>_id</th>\n",
       "      <th>appDate</th>\n",
       "      <th>priority</th>\n",
       "    </tr>\n",
       "  </thead>\n",
       "  <tbody>\n",
       "    <tr>\n",
       "      <th>1</th>\n",
       "      <td>626d580bb9455959c69fc4b4</td>\n",
       "      <td>20100701</td>\n",
       "      <td>2</td>\n",
       "    </tr>\n",
       "    <tr>\n",
       "      <th>1</th>\n",
       "      <td>626d576432510447df0abe8a</td>\n",
       "      <td>NaN</td>\n",
       "      <td>21</td>\n",
       "    </tr>\n",
       "  </tbody>\n",
       "</table>\n",
       "</div>"
      ],
      "text/plain": [
       "                        _id   appDate priority\n",
       "1  626d580bb9455959c69fc4b4  20100701        2\n",
       "1  626d576432510447df0abe8a       NaN       21"
      ]
     },
     "execution_count": 24,
     "metadata": {},
     "output_type": "execute_result"
    }
   ],
   "source": [
    "result"
   ]
  },
  {
   "cell_type": "code",
   "execution_count": 27,
   "metadata": {},
   "outputs": [],
   "source": [
    "r = pd.concat([test1,test2,test2]).drop_duplicates(subset=['priority'],keep=False)"
   ]
  },
  {
   "cell_type": "code",
   "execution_count": 28,
   "metadata": {},
   "outputs": [
    {
     "data": {
      "text/html": [
       "<div>\n",
       "<style scoped>\n",
       "    .dataframe tbody tr th:only-of-type {\n",
       "        vertical-align: middle;\n",
       "    }\n",
       "\n",
       "    .dataframe tbody tr th {\n",
       "        vertical-align: top;\n",
       "    }\n",
       "\n",
       "    .dataframe thead th {\n",
       "        text-align: right;\n",
       "    }\n",
       "</style>\n",
       "<table border=\"1\" class=\"dataframe\">\n",
       "  <thead>\n",
       "    <tr style=\"text-align: right;\">\n",
       "      <th></th>\n",
       "      <th>_id</th>\n",
       "      <th>appDate</th>\n",
       "      <th>priority</th>\n",
       "    </tr>\n",
       "  </thead>\n",
       "  <tbody>\n",
       "    <tr>\n",
       "      <th>1</th>\n",
       "      <td>626d580bb9455959c69fc4b4</td>\n",
       "      <td>20100701</td>\n",
       "      <td>2</td>\n",
       "    </tr>\n",
       "  </tbody>\n",
       "</table>\n",
       "</div>"
      ],
      "text/plain": [
       "                        _id   appDate priority\n",
       "1  626d580bb9455959c69fc4b4  20100701        2"
      ]
     },
     "execution_count": 28,
     "metadata": {},
     "output_type": "execute_result"
    }
   ],
   "source": [
    "r"
   ]
  },
  {
   "cell_type": "code",
   "execution_count": null,
   "metadata": {},
   "outputs": [],
   "source": []
  },
  {
   "cell_type": "code",
   "execution_count": null,
   "metadata": {},
   "outputs": [],
   "source": []
  },
  {
   "cell_type": "code",
   "execution_count": null,
   "metadata": {},
   "outputs": [],
   "source": []
  },
  {
   "cell_type": "markdown",
   "metadata": {
    "tags": []
   },
   "source": [
    "# 切成前後五年存"
   ]
  },
  {
   "cell_type": "markdown",
   "metadata": {},
   "source": [
    "## 前五年"
   ]
  },
  {
   "cell_type": "markdown",
   "metadata": {},
   "source": [
    "### CN"
   ]
  },
  {
   "cell_type": "code",
   "execution_count": 6,
   "metadata": {},
   "outputs": [],
   "source": [
    "dateStr = \"2010-01-01T00:00:00.000Z\"\n",
    "start = dateutil.parser.parse(dateStr)\n",
    "\n",
    "dateEnd = \"2015-12-31T00:00:00.000Z\"\n",
    "end = dateutil.parser.parse(dateEnd)"
   ]
  },
  {
   "cell_type": "code",
   "execution_count": 7,
   "metadata": {},
   "outputs": [],
   "source": [
    "db_cn_5 = pd.DataFrame(db_cn.aggregate( [ \n",
    "    {\"$addFields\": { \"appDate\":\n",
    "            { \"$dateFromString\": {\n",
    "            \"dateString\": '$appDate',\n",
    "            \"timezone\": 'America/New_York'}\n",
    "            }}\n",
    "        },\n",
    "        {\"$match\": {\n",
    "            \"appDate\": { \"$gte\": start, \"$lte\": end }}\n",
    "        }\n",
    "\n",
    " ] ))"
   ]
  },
  {
   "cell_type": "code",
   "execution_count": 8,
   "metadata": {},
   "outputs": [
    {
     "data": {
      "text/plain": [
       "<pymongo.results.InsertManyResult at 0x7f8d6c4638c0>"
      ]
     },
     "execution_count": 8,
     "metadata": {},
     "output_type": "execute_result"
    }
   ],
   "source": [
    "# 存進MongoDB\n",
    "db.w_patent_cn_5.insert_many(db_cn_5.to_dict('records'))"
   ]
  },
  {
   "cell_type": "code",
   "execution_count": null,
   "metadata": {},
   "outputs": [],
   "source": []
  },
  {
   "cell_type": "code",
   "execution_count": null,
   "metadata": {},
   "outputs": [],
   "source": []
  },
  {
   "cell_type": "markdown",
   "metadata": {},
   "source": [
    "### DE"
   ]
  },
  {
   "cell_type": "code",
   "execution_count": 9,
   "metadata": {},
   "outputs": [],
   "source": [
    "dateStr = \"2010-01-01T00:00:00.000Z\"\n",
    "start = dateutil.parser.parse(dateStr)\n",
    "\n",
    "dateEnd = \"2015-12-31T00:00:00.000Z\"\n",
    "end = dateutil.parser.parse(dateEnd)"
   ]
  },
  {
   "cell_type": "code",
   "execution_count": 10,
   "metadata": {},
   "outputs": [],
   "source": [
    "db_de_5 = pd.DataFrame(db_de.aggregate( [ \n",
    "    {\"$addFields\": { \"appDate\":\n",
    "            { \"$dateFromString\": {\n",
    "            \"dateString\": '$appDate',\n",
    "            \"timezone\": 'America/New_York'}\n",
    "            }}\n",
    "        },\n",
    "        {\"$match\": {\n",
    "            \"appDate\": { \"$gte\": start, \"$lte\": end }}\n",
    "        }\n",
    "\n",
    " ] ))"
   ]
  },
  {
   "cell_type": "code",
   "execution_count": 11,
   "metadata": {},
   "outputs": [
    {
     "data": {
      "text/plain": [
       "<pymongo.results.InsertManyResult at 0x7f8d6d3f8200>"
      ]
     },
     "execution_count": 11,
     "metadata": {},
     "output_type": "execute_result"
    }
   ],
   "source": [
    "# 存進MongoDB\n",
    "db.w_patent_de_5.insert_many(db_de_5.to_dict('records'))"
   ]
  },
  {
   "cell_type": "code",
   "execution_count": null,
   "metadata": {},
   "outputs": [],
   "source": []
  },
  {
   "cell_type": "code",
   "execution_count": null,
   "metadata": {},
   "outputs": [],
   "source": []
  },
  {
   "cell_type": "markdown",
   "metadata": {},
   "source": [
    "### US"
   ]
  },
  {
   "cell_type": "code",
   "execution_count": 12,
   "metadata": {},
   "outputs": [],
   "source": [
    "dateStr = \"2010-01-01T00:00:00.000Z\"\n",
    "start = dateutil.parser.parse(dateStr)\n",
    "\n",
    "dateEnd = \"2015-12-31T00:00:00.000Z\"\n",
    "end = dateutil.parser.parse(dateEnd)"
   ]
  },
  {
   "cell_type": "code",
   "execution_count": 13,
   "metadata": {},
   "outputs": [],
   "source": [
    "db_us_5 = pd.DataFrame(db_us.aggregate( [ \n",
    "    {\"$addFields\": { \"appDate\":\n",
    "            { \"$dateFromString\": {\n",
    "            \"dateString\": '$appDate',\n",
    "            \"timezone\": 'America/New_York'}\n",
    "            }}\n",
    "        },\n",
    "        {\"$match\": {\n",
    "            \"appDate\": { \"$gte\": start, \"$lte\": end }}\n",
    "        }\n",
    "\n",
    " ] ))"
   ]
  },
  {
   "cell_type": "code",
   "execution_count": 14,
   "metadata": {},
   "outputs": [
    {
     "data": {
      "text/plain": [
       "<pymongo.results.InsertManyResult at 0x7f8cd11f1380>"
      ]
     },
     "execution_count": 14,
     "metadata": {},
     "output_type": "execute_result"
    }
   ],
   "source": [
    "# 存進MongoDB\n",
    "db.w_patent_us_5.insert_many(db_us_5.to_dict('records'))"
   ]
  },
  {
   "cell_type": "code",
   "execution_count": null,
   "metadata": {},
   "outputs": [],
   "source": []
  },
  {
   "cell_type": "markdown",
   "metadata": {},
   "source": [
    "## 後五年"
   ]
  },
  {
   "cell_type": "markdown",
   "metadata": {},
   "source": [
    "### CN"
   ]
  },
  {
   "cell_type": "code",
   "execution_count": 15,
   "metadata": {},
   "outputs": [],
   "source": [
    "dateStr = \"2016-01-01T00:00:00.000Z\"\n",
    "start = dateutil.parser.parse(dateStr)\n",
    "\n",
    "dateEnd = \"2020-12-31T00:00:00.000Z\"\n",
    "end = dateutil.parser.parse(dateEnd)"
   ]
  },
  {
   "cell_type": "code",
   "execution_count": 16,
   "metadata": {},
   "outputs": [],
   "source": [
    "db_cn_10 = pd.DataFrame(db_cn.aggregate( [ \n",
    "    {\"$addFields\": { \"appDate\":\n",
    "            { \"$dateFromString\": {\n",
    "            \"dateString\": '$appDate',\n",
    "            \"timezone\": 'America/New_York'}\n",
    "            }}\n",
    "        },\n",
    "        {\"$match\": {\n",
    "            \"appDate\": { \"$gte\": start, \"$lte\": end }}\n",
    "        }\n",
    "\n",
    " ] ))"
   ]
  },
  {
   "cell_type": "code",
   "execution_count": 17,
   "metadata": {},
   "outputs": [
    {
     "data": {
      "text/plain": [
       "<pymongo.results.InsertManyResult at 0x7f8cbe9b8e00>"
      ]
     },
     "execution_count": 17,
     "metadata": {},
     "output_type": "execute_result"
    }
   ],
   "source": [
    "# 存進MongoDB\n",
    "db.w_patent_cn_10.insert_many(db_cn_10.to_dict('records'))"
   ]
  },
  {
   "cell_type": "code",
   "execution_count": null,
   "metadata": {},
   "outputs": [],
   "source": []
  },
  {
   "cell_type": "code",
   "execution_count": null,
   "metadata": {},
   "outputs": [],
   "source": []
  },
  {
   "cell_type": "markdown",
   "metadata": {},
   "source": [
    "### DE"
   ]
  },
  {
   "cell_type": "code",
   "execution_count": 18,
   "metadata": {},
   "outputs": [],
   "source": [
    "dateStr = \"2016-01-01T00:00:00.000Z\"\n",
    "start = dateutil.parser.parse(dateStr)\n",
    "\n",
    "dateEnd = \"2020-12-31T00:00:00.000Z\"\n",
    "end = dateutil.parser.parse(dateEnd)"
   ]
  },
  {
   "cell_type": "code",
   "execution_count": 19,
   "metadata": {},
   "outputs": [],
   "source": [
    "db_de_10 = pd.DataFrame(db_de.aggregate( [ \n",
    "    {\"$addFields\": { \"appDate\":\n",
    "            { \"$dateFromString\": {\n",
    "            \"dateString\": '$appDate',\n",
    "            \"timezone\": 'America/New_York'}\n",
    "            }}\n",
    "        },\n",
    "        {\"$match\": {\n",
    "            \"appDate\": { \"$gte\": start, \"$lte\": end }}\n",
    "        }\n",
    "\n",
    " ] ))"
   ]
  },
  {
   "cell_type": "code",
   "execution_count": 20,
   "metadata": {},
   "outputs": [
    {
     "data": {
      "text/plain": [
       "<pymongo.results.InsertManyResult at 0x7f8cced5eb40>"
      ]
     },
     "execution_count": 20,
     "metadata": {},
     "output_type": "execute_result"
    }
   ],
   "source": [
    "# 存進MongoDB\n",
    "db.w_patent_de_10.insert_many(db_de_10.to_dict('records'))"
   ]
  },
  {
   "cell_type": "code",
   "execution_count": null,
   "metadata": {},
   "outputs": [],
   "source": []
  },
  {
   "cell_type": "code",
   "execution_count": null,
   "metadata": {},
   "outputs": [],
   "source": []
  },
  {
   "cell_type": "markdown",
   "metadata": {},
   "source": [
    "### US"
   ]
  },
  {
   "cell_type": "code",
   "execution_count": 21,
   "metadata": {},
   "outputs": [],
   "source": [
    "dateStr = \"2016-01-01T00:00:00.000Z\"\n",
    "start = dateutil.parser.parse(dateStr)\n",
    "\n",
    "dateEnd = \"2020-12-31T00:00:00.000Z\"\n",
    "end = dateutil.parser.parse(dateEnd)"
   ]
  },
  {
   "cell_type": "code",
   "execution_count": 22,
   "metadata": {},
   "outputs": [],
   "source": [
    "db_us_10 = pd.DataFrame(db_us.aggregate( [ \n",
    "    {\"$addFields\": { \"appDate\":\n",
    "            { \"$dateFromString\": {\n",
    "            \"dateString\": '$appDate',\n",
    "            \"timezone\": 'America/New_York'}\n",
    "            }}\n",
    "        },\n",
    "        {\"$match\": {\n",
    "            \"appDate\": { \"$gte\": start, \"$lte\": end }}\n",
    "        }\n",
    "\n",
    " ] ))"
   ]
  },
  {
   "cell_type": "code",
   "execution_count": 23,
   "metadata": {},
   "outputs": [
    {
     "data": {
      "text/plain": [
       "<pymongo.results.InsertManyResult at 0x7f8c60ba3f40>"
      ]
     },
     "execution_count": 23,
     "metadata": {},
     "output_type": "execute_result"
    }
   ],
   "source": [
    "# 存進MongoDB\n",
    "db.w_patent_us_10.insert_many(db_us_10.to_dict('records'))"
   ]
  },
  {
   "cell_type": "code",
   "execution_count": null,
   "metadata": {},
   "outputs": [],
   "source": []
  },
  {
   "cell_type": "code",
   "execution_count": null,
   "metadata": {},
   "outputs": [],
   "source": []
  },
  {
   "cell_type": "markdown",
   "metadata": {},
   "source": [
    "# CPC計算"
   ]
  },
  {
   "cell_type": "markdown",
   "metadata": {},
   "source": [
    "## 前五年"
   ]
  },
  {
   "cell_type": "markdown",
   "metadata": {},
   "source": [
    "### DE"
   ]
  },
  {
   "cell_type": "code",
   "execution_count": 26,
   "metadata": {
    "tags": []
   },
   "outputs": [],
   "source": [
    "data_assignee = db_de_5.aggregate([\n",
    "    {\"$unwind\" : \"$current_assignee\"},\n",
    "    {\"$group\" : {\"_id\" : \"$current_assignee\", \"count\":{\"$sum\":1}}},\n",
    "    {\"$sort\": {\"count\":-1}}\n",
    "    # {\"$limit\":10}\n",
    "])\n",
    "\n",
    "ls_company = []\n",
    "ls_count = []\n",
    "for data in data_assignee:\n",
    "    #print(data[\"_id\"])\n",
    "    ls_company.append(data[\"_id\"])\n",
    "    ls_count.append(data[\"count\"])"
   ]
  },
  {
   "cell_type": "code",
   "execution_count": 27,
   "metadata": {},
   "outputs": [
    {
     "data": {
      "text/plain": [
       "63"
      ]
     },
     "execution_count": 27,
     "metadata": {},
     "output_type": "execute_result"
    }
   ],
   "source": [
    "len(ls_company)"
   ]
  },
  {
   "cell_type": "code",
   "execution_count": 28,
   "metadata": {
    "tags": []
   },
   "outputs": [
    {
     "data": {
      "text/html": [
       "<div>\n",
       "<style scoped>\n",
       "    .dataframe tbody tr th:only-of-type {\n",
       "        vertical-align: middle;\n",
       "    }\n",
       "\n",
       "    .dataframe tbody tr th {\n",
       "        vertical-align: top;\n",
       "    }\n",
       "\n",
       "    .dataframe thead th {\n",
       "        text-align: right;\n",
       "    }\n",
       "</style>\n",
       "<table border=\"1\" class=\"dataframe\">\n",
       "  <thead>\n",
       "    <tr style=\"text-align: right;\">\n",
       "      <th></th>\n",
       "      <th>company</th>\n",
       "      <th>cpc</th>\n",
       "      <th>count</th>\n",
       "    </tr>\n",
       "  </thead>\n",
       "  <tbody>\n",
       "    <tr>\n",
       "      <th>0</th>\n",
       "      <td>Robert Bosch GmbH</td>\n",
       "      <td>12</td>\n",
       "      <td>9</td>\n",
       "    </tr>\n",
       "    <tr>\n",
       "      <th>1</th>\n",
       "      <td>Robert Bosch GmbH</td>\n",
       "      <td>H01L2224</td>\n",
       "      <td>8</td>\n",
       "    </tr>\n",
       "    <tr>\n",
       "      <th>2</th>\n",
       "      <td>Robert Bosch GmbH</td>\n",
       "      <td>H04L9</td>\n",
       "      <td>7</td>\n",
       "    </tr>\n",
       "    <tr>\n",
       "      <th>3</th>\n",
       "      <td>Robert Bosch GmbH</td>\n",
       "      <td>G08G1</td>\n",
       "      <td>7</td>\n",
       "    </tr>\n",
       "    <tr>\n",
       "      <th>4</th>\n",
       "      <td>Robert Bosch GmbH</td>\n",
       "      <td>F01N2610</td>\n",
       "      <td>7</td>\n",
       "    </tr>\n",
       "    <tr>\n",
       "      <th>...</th>\n",
       "      <td>...</td>\n",
       "      <td>...</td>\n",
       "      <td>...</td>\n",
       "    </tr>\n",
       "    <tr>\n",
       "      <th>1202</th>\n",
       "      <td>MOOREDOLL Inc</td>\n",
       "      <td>A63H2200</td>\n",
       "      <td>1</td>\n",
       "    </tr>\n",
       "    <tr>\n",
       "      <th>1203</th>\n",
       "      <td>MOOREDOLL Inc</td>\n",
       "      <td>36</td>\n",
       "      <td>1</td>\n",
       "    </tr>\n",
       "    <tr>\n",
       "      <th>1204</th>\n",
       "      <td>MOOREDOLL Inc</td>\n",
       "      <td>04</td>\n",
       "      <td>1</td>\n",
       "    </tr>\n",
       "    <tr>\n",
       "      <th>1205</th>\n",
       "      <td>MOOREDOLL Inc</td>\n",
       "      <td>28</td>\n",
       "      <td>1</td>\n",
       "    </tr>\n",
       "    <tr>\n",
       "      <th>1206</th>\n",
       "      <td>MOOREDOLL Inc</td>\n",
       "      <td>A63H30</td>\n",
       "      <td>1</td>\n",
       "    </tr>\n",
       "  </tbody>\n",
       "</table>\n",
       "<p>1207 rows × 3 columns</p>\n",
       "</div>"
      ],
      "text/plain": [
       "                company       cpc  count\n",
       "0     Robert Bosch GmbH        12      9\n",
       "1     Robert Bosch GmbH  H01L2224      8\n",
       "2     Robert Bosch GmbH     H04L9      7\n",
       "3     Robert Bosch GmbH     G08G1      7\n",
       "4     Robert Bosch GmbH  F01N2610      7\n",
       "...                 ...       ...    ...\n",
       "1202      MOOREDOLL Inc  A63H2200      1\n",
       "1203      MOOREDOLL Inc        36      1\n",
       "1204      MOOREDOLL Inc        04      1\n",
       "1205      MOOREDOLL Inc        28      1\n",
       "1206      MOOREDOLL Inc    A63H30      1\n",
       "\n",
       "[1207 rows x 3 columns]"
      ]
     },
     "execution_count": 28,
     "metadata": {},
     "output_type": "execute_result"
    }
   ],
   "source": [
    "ls_c = []\n",
    "ls_cpc = []\n",
    "ls_count = []\n",
    "\n",
    "for c in ls_company:\n",
    "    data_cpc = db_de_5.aggregate([\n",
    "        {\"$match\" : {\"current_assignee\":{\"$regex\":c}}},\n",
    "        {\"$unwind\" : \"$current_assignee\"},\n",
    "        {\"$unwind\" : \"$classification\"},\n",
    "        {\"$project\" : {\"class\": {\"$split\": [\"$classification\", \"/\"]}, \"qty\":1}},\n",
    "        {\"$unwind\" : \"$class\"},\n",
    "        {\"$group\" : {\"_id\" : \"$class\", \"count\":{\"$sum\":1}}},\n",
    "        {\"$sort\": {\"count\":-1}}\n",
    "        # {\"$limit\":5}\n",
    "    ])\n",
    "    \n",
    "\n",
    "    for data in data_cpc:\n",
    "        #print(data)\n",
    "        ls_c.append(c)\n",
    "        ls_cpc.append(data[\"_id\"])\n",
    "        ls_count.append(data[\"count\"])\n",
    "        \n",
    "df_cpc_de = pd.DataFrame((zip(ls_c, ls_cpc, ls_count)), columns = ['company', 'cpc', 'count'])\n",
    "df_cpc_de"
   ]
  },
  {
   "cell_type": "code",
   "execution_count": 29,
   "metadata": {},
   "outputs": [
    {
     "data": {
      "text/plain": [
       "(1207, 3)"
      ]
     },
     "execution_count": 29,
     "metadata": {},
     "output_type": "execute_result"
    }
   ],
   "source": [
    "df_cpc_de.shape"
   ]
  },
  {
   "cell_type": "code",
   "execution_count": 30,
   "metadata": {},
   "outputs": [],
   "source": [
    "# 取cpc前3碼\n",
    "df_cpc_de[\"cpc_n\"] = df_cpc_de.cpc.apply(lambda x: x[0:3])"
   ]
  },
  {
   "cell_type": "code",
   "execution_count": 31,
   "metadata": {},
   "outputs": [],
   "source": [
    "# df_cpc_de"
   ]
  },
  {
   "cell_type": "code",
   "execution_count": 32,
   "metadata": {},
   "outputs": [],
   "source": [
    "# 轉成company-cpc 的總數表格\n",
    "table_de = df_cpc_de.pivot_table(index='company', values='count', columns='cpc_n',aggfunc=['sum']).fillna(0).reset_index()\n",
    "table_de = table_de.droplevel(level=0, axis=1)\n",
    "table_de = table_de.rename(columns={'':'company'})"
   ]
  },
  {
   "cell_type": "code",
   "execution_count": 33,
   "metadata": {},
   "outputs": [
    {
     "data": {
      "text/html": [
       "<div>\n",
       "<style scoped>\n",
       "    .dataframe tbody tr th:only-of-type {\n",
       "        vertical-align: middle;\n",
       "    }\n",
       "\n",
       "    .dataframe tbody tr th {\n",
       "        vertical-align: top;\n",
       "    }\n",
       "\n",
       "    .dataframe thead th {\n",
       "        text-align: right;\n",
       "    }\n",
       "</style>\n",
       "<table border=\"1\" class=\"dataframe\">\n",
       "  <thead>\n",
       "    <tr style=\"text-align: right;\">\n",
       "      <th>cpc_n</th>\n",
       "      <th>company</th>\n",
       "      <th>A42</th>\n",
       "      <th>A61</th>\n",
       "      <th>A63</th>\n",
       "      <th>B05</th>\n",
       "      <th>B25</th>\n",
       "      <th>B27</th>\n",
       "      <th>B41</th>\n",
       "      <th>B42</th>\n",
       "      <th>B60</th>\n",
       "      <th>...</th>\n",
       "      <th>G09</th>\n",
       "      <th>G10</th>\n",
       "      <th>H01</th>\n",
       "      <th>H02</th>\n",
       "      <th>H03</th>\n",
       "      <th>H04</th>\n",
       "      <th>H05</th>\n",
       "      <th>Y02</th>\n",
       "      <th>Y04</th>\n",
       "      <th>Y10</th>\n",
       "    </tr>\n",
       "  </thead>\n",
       "  <tbody>\n",
       "    <tr>\n",
       "      <th>0</th>\n",
       "      <td>ABB Schweiz AG</td>\n",
       "      <td>0.0</td>\n",
       "      <td>0.0</td>\n",
       "      <td>0.0</td>\n",
       "      <td>0.0</td>\n",
       "      <td>0.0</td>\n",
       "      <td>0.0</td>\n",
       "      <td>0.0</td>\n",
       "      <td>0.0</td>\n",
       "      <td>0.0</td>\n",
       "      <td>...</td>\n",
       "      <td>0.0</td>\n",
       "      <td>0.0</td>\n",
       "      <td>0.0</td>\n",
       "      <td>0.0</td>\n",
       "      <td>0.0</td>\n",
       "      <td>4.0</td>\n",
       "      <td>0.0</td>\n",
       "      <td>0.0</td>\n",
       "      <td>0.0</td>\n",
       "      <td>0.0</td>\n",
       "    </tr>\n",
       "    <tr>\n",
       "      <th>1</th>\n",
       "      <td>Accuragen Inc</td>\n",
       "      <td>0.0</td>\n",
       "      <td>9.0</td>\n",
       "      <td>0.0</td>\n",
       "      <td>0.0</td>\n",
       "      <td>0.0</td>\n",
       "      <td>0.0</td>\n",
       "      <td>0.0</td>\n",
       "      <td>0.0</td>\n",
       "      <td>0.0</td>\n",
       "      <td>...</td>\n",
       "      <td>0.0</td>\n",
       "      <td>0.0</td>\n",
       "      <td>0.0</td>\n",
       "      <td>0.0</td>\n",
       "      <td>0.0</td>\n",
       "      <td>0.0</td>\n",
       "      <td>0.0</td>\n",
       "      <td>0.0</td>\n",
       "      <td>0.0</td>\n",
       "      <td>0.0</td>\n",
       "    </tr>\n",
       "    <tr>\n",
       "      <th>2</th>\n",
       "      <td>Advantech Service IoT GmbH</td>\n",
       "      <td>0.0</td>\n",
       "      <td>0.0</td>\n",
       "      <td>0.0</td>\n",
       "      <td>0.0</td>\n",
       "      <td>0.0</td>\n",
       "      <td>0.0</td>\n",
       "      <td>0.0</td>\n",
       "      <td>0.0</td>\n",
       "      <td>0.0</td>\n",
       "      <td>...</td>\n",
       "      <td>0.0</td>\n",
       "      <td>0.0</td>\n",
       "      <td>24.0</td>\n",
       "      <td>0.0</td>\n",
       "      <td>0.0</td>\n",
       "      <td>3.0</td>\n",
       "      <td>0.0</td>\n",
       "      <td>0.0</td>\n",
       "      <td>0.0</td>\n",
       "      <td>0.0</td>\n",
       "    </tr>\n",
       "    <tr>\n",
       "      <th>3</th>\n",
       "      <td>Apple Inc</td>\n",
       "      <td>0.0</td>\n",
       "      <td>0.0</td>\n",
       "      <td>0.0</td>\n",
       "      <td>0.0</td>\n",
       "      <td>0.0</td>\n",
       "      <td>0.0</td>\n",
       "      <td>0.0</td>\n",
       "      <td>0.0</td>\n",
       "      <td>0.0</td>\n",
       "      <td>...</td>\n",
       "      <td>0.0</td>\n",
       "      <td>0.0</td>\n",
       "      <td>0.0</td>\n",
       "      <td>0.0</td>\n",
       "      <td>0.0</td>\n",
       "      <td>100.0</td>\n",
       "      <td>0.0</td>\n",
       "      <td>1.0</td>\n",
       "      <td>0.0</td>\n",
       "      <td>0.0</td>\n",
       "    </tr>\n",
       "    <tr>\n",
       "      <th>4</th>\n",
       "      <td>Armstrong DLW GmbH</td>\n",
       "      <td>0.0</td>\n",
       "      <td>0.0</td>\n",
       "      <td>0.0</td>\n",
       "      <td>2.0</td>\n",
       "      <td>0.0</td>\n",
       "      <td>0.0</td>\n",
       "      <td>0.0</td>\n",
       "      <td>0.0</td>\n",
       "      <td>0.0</td>\n",
       "      <td>...</td>\n",
       "      <td>0.0</td>\n",
       "      <td>0.0</td>\n",
       "      <td>0.0</td>\n",
       "      <td>0.0</td>\n",
       "      <td>0.0</td>\n",
       "      <td>0.0</td>\n",
       "      <td>0.0</td>\n",
       "      <td>0.0</td>\n",
       "      <td>0.0</td>\n",
       "      <td>0.0</td>\n",
       "    </tr>\n",
       "  </tbody>\n",
       "</table>\n",
       "<p>5 rows × 36 columns</p>\n",
       "</div>"
      ],
      "text/plain": [
       "cpc_n                     company  A42  A61  A63  B05  B25  B27  B41  B42  \\\n",
       "0                  ABB Schweiz AG  0.0  0.0  0.0  0.0  0.0  0.0  0.0  0.0   \n",
       "1                   Accuragen Inc  0.0  9.0  0.0  0.0  0.0  0.0  0.0  0.0   \n",
       "2      Advantech Service IoT GmbH  0.0  0.0  0.0  0.0  0.0  0.0  0.0  0.0   \n",
       "3                       Apple Inc  0.0  0.0  0.0  0.0  0.0  0.0  0.0  0.0   \n",
       "4              Armstrong DLW GmbH  0.0  0.0  0.0  2.0  0.0  0.0  0.0  0.0   \n",
       "\n",
       "cpc_n  B60  ...  G09  G10   H01  H02  H03    H04  H05  Y02  Y04  Y10  \n",
       "0      0.0  ...  0.0  0.0   0.0  0.0  0.0    4.0  0.0  0.0  0.0  0.0  \n",
       "1      0.0  ...  0.0  0.0   0.0  0.0  0.0    0.0  0.0  0.0  0.0  0.0  \n",
       "2      0.0  ...  0.0  0.0  24.0  0.0  0.0    3.0  0.0  0.0  0.0  0.0  \n",
       "3      0.0  ...  0.0  0.0   0.0  0.0  0.0  100.0  0.0  1.0  0.0  0.0  \n",
       "4      0.0  ...  0.0  0.0   0.0  0.0  0.0    0.0  0.0  0.0  0.0  0.0  \n",
       "\n",
       "[5 rows x 36 columns]"
      ]
     },
     "execution_count": 33,
     "metadata": {},
     "output_type": "execute_result"
    }
   ],
   "source": [
    "# 取有英文的部份\n",
    "c_ls_de = [c for c in table_de.columns if re.search('[A-Za-z]', c)]\n",
    "final_table_de = table_de[c_ls_de]\n",
    "final_table_de.head()"
   ]
  },
  {
   "cell_type": "code",
   "execution_count": 34,
   "metadata": {},
   "outputs": [
    {
     "data": {
      "text/plain": [
       "(62, 36)"
      ]
     },
     "execution_count": 34,
     "metadata": {},
     "output_type": "execute_result"
    }
   ],
   "source": [
    "final_table_de.shape"
   ]
  },
  {
   "cell_type": "code",
   "execution_count": 35,
   "metadata": {},
   "outputs": [],
   "source": [
    "final_table_de.to_csv('w_company_cpc_de_5.csv',index=0)"
   ]
  },
  {
   "cell_type": "code",
   "execution_count": null,
   "metadata": {},
   "outputs": [],
   "source": []
  },
  {
   "cell_type": "code",
   "execution_count": 36,
   "metadata": {},
   "outputs": [],
   "source": [
    "mongoURI = \"mongodb://%s:%s@%s/%s?authMechanism=SCRAM-SHA-1\" % (\"eva\", \"eva_30241\", \"140.117.69.70:30241\", \"eva\")\n",
    "\n",
    "conn = pymongo.MongoClient(mongoURI)\n",
    "db = conn.eva\n",
    "conn_db_collection = db.w_company_cpc_de_5"
   ]
  },
  {
   "cell_type": "code",
   "execution_count": 37,
   "metadata": {},
   "outputs": [
    {
     "data": {
      "text/plain": [
       "<pymongo.results.InsertOneResult at 0x7f8c2cea7ac0>"
      ]
     },
     "execution_count": 37,
     "metadata": {},
     "output_type": "execute_result"
    }
   ],
   "source": [
    "# title\n",
    "conn_db_collection.insert_one({\"company\":final_table_de.columns.tolist()[0],\"cpc\":final_table_de.columns.tolist()[1:]})"
   ]
  },
  {
   "cell_type": "code",
   "execution_count": 38,
   "metadata": {},
   "outputs": [],
   "source": [
    "# 內容\n",
    "for k in final_table_de.values.tolist():\n",
    "    # print({\"company\":k[0],\"cpc\":k[1:]})\n",
    "    conn_db_collection.insert_one({\"company\":k[0],\"cpc\":k[1:]})"
   ]
  },
  {
   "cell_type": "code",
   "execution_count": null,
   "metadata": {},
   "outputs": [],
   "source": []
  },
  {
   "cell_type": "code",
   "execution_count": null,
   "metadata": {},
   "outputs": [],
   "source": []
  },
  {
   "cell_type": "markdown",
   "metadata": {},
   "source": [
    "### CN"
   ]
  },
  {
   "cell_type": "code",
   "execution_count": 37,
   "metadata": {},
   "outputs": [],
   "source": [
    "data_assignee = db_cn_5.aggregate([\n",
    "    {\"$unwind\" : \"$current_assignee\"},\n",
    "    {\"$group\" : {\"_id\" : \"$current_assignee\", \"count\":{\"$sum\":1}}},\n",
    "    {\"$sort\": {\"count\":-1}}\n",
    "    # {\"$limit\":10}\n",
    "])\n",
    "\n",
    "ls_company = []\n",
    "ls_count = []\n",
    "for data in data_assignee:\n",
    "    # print(data[\"_id\"])\n",
    "    ls_company.append(data[\"_id\"])\n",
    "    ls_count.append(data[\"count\"])"
   ]
  },
  {
   "cell_type": "code",
   "execution_count": 38,
   "metadata": {},
   "outputs": [
    {
     "data": {
      "text/plain": [
       "2077"
      ]
     },
     "execution_count": 38,
     "metadata": {},
     "output_type": "execute_result"
    }
   ],
   "source": [
    "len(ls_company)"
   ]
  },
  {
   "cell_type": "code",
   "execution_count": 39,
   "metadata": {},
   "outputs": [
    {
     "data": {
      "text/html": [
       "<div>\n",
       "<style scoped>\n",
       "    .dataframe tbody tr th:only-of-type {\n",
       "        vertical-align: middle;\n",
       "    }\n",
       "\n",
       "    .dataframe tbody tr th {\n",
       "        vertical-align: top;\n",
       "    }\n",
       "\n",
       "    .dataframe thead th {\n",
       "        text-align: right;\n",
       "    }\n",
       "</style>\n",
       "<table border=\"1\" class=\"dataframe\">\n",
       "  <thead>\n",
       "    <tr style=\"text-align: right;\">\n",
       "      <th></th>\n",
       "      <th>company</th>\n",
       "      <th>cpc</th>\n",
       "      <th>count</th>\n",
       "    </tr>\n",
       "  </thead>\n",
       "  <tbody>\n",
       "    <tr>\n",
       "      <th>0</th>\n",
       "      <td>Jiangsu IoT Research and Development Center</td>\n",
       "      <td>H01L29</td>\n",
       "      <td>156</td>\n",
       "    </tr>\n",
       "    <tr>\n",
       "      <th>1</th>\n",
       "      <td>Jiangsu IoT Research and Development Center</td>\n",
       "      <td>H01L21</td>\n",
       "      <td>24</td>\n",
       "    </tr>\n",
       "    <tr>\n",
       "      <th>2</th>\n",
       "      <td>Jiangsu IoT Research and Development Center</td>\n",
       "      <td>66325</td>\n",
       "      <td>21</td>\n",
       "    </tr>\n",
       "    <tr>\n",
       "      <th>3</th>\n",
       "      <td>Jiangsu IoT Research and Development Center</td>\n",
       "      <td>G06F16</td>\n",
       "      <td>18</td>\n",
       "    </tr>\n",
       "    <tr>\n",
       "      <th>4</th>\n",
       "      <td>Jiangsu IoT Research and Development Center</td>\n",
       "      <td>7393</td>\n",
       "      <td>15</td>\n",
       "    </tr>\n",
       "  </tbody>\n",
       "</table>\n",
       "</div>"
      ],
      "text/plain": [
       "                                       company     cpc  count\n",
       "0  Jiangsu IoT Research and Development Center  H01L29    156\n",
       "1  Jiangsu IoT Research and Development Center  H01L21     24\n",
       "2  Jiangsu IoT Research and Development Center   66325     21\n",
       "3  Jiangsu IoT Research and Development Center  G06F16     18\n",
       "4  Jiangsu IoT Research and Development Center    7393     15"
      ]
     },
     "execution_count": 39,
     "metadata": {},
     "output_type": "execute_result"
    }
   ],
   "source": [
    "ls_c = []\n",
    "ls_cpc = []\n",
    "ls_count = []\n",
    "\n",
    "for c in ls_company:\n",
    "    data_cpc = db_cn_5.aggregate([\n",
    "        {\"$match\" : {\"current_assignee\":{\"$regex\":c}}},\n",
    "        {\"$unwind\" : \"$current_assignee\"},\n",
    "        {\"$unwind\" : \"$classification\"},\n",
    "        {\"$project\" : {\"class\": {\"$split\": [\"$classification\", \"/\"]}, \"qty\":1}},\n",
    "        {\"$unwind\" : \"$class\"},\n",
    "        {\"$group\" : {\"_id\" : \"$class\", \"count\":{\"$sum\":1}}},\n",
    "        {\"$sort\": {\"count\":-1}}\n",
    "        # {\"$limit\":5}\n",
    "    ])\n",
    "    \n",
    "\n",
    "    for data in data_cpc:\n",
    "        #print(data)\n",
    "        ls_c.append(c)\n",
    "        ls_cpc.append(data[\"_id\"])\n",
    "        ls_count.append(data[\"count\"])\n",
    "        \n",
    "df_cpc = pd.DataFrame((zip(ls_c, ls_cpc, ls_count)), columns = ['company', 'cpc', 'count'])\n",
    "df_cpc.head()"
   ]
  },
  {
   "cell_type": "code",
   "execution_count": 40,
   "metadata": {},
   "outputs": [
    {
     "data": {
      "text/html": [
       "<div>\n",
       "<style scoped>\n",
       "    .dataframe tbody tr th:only-of-type {\n",
       "        vertical-align: middle;\n",
       "    }\n",
       "\n",
       "    .dataframe tbody tr th {\n",
       "        vertical-align: top;\n",
       "    }\n",
       "\n",
       "    .dataframe thead th {\n",
       "        text-align: right;\n",
       "    }\n",
       "</style>\n",
       "<table border=\"1\" class=\"dataframe\">\n",
       "  <thead>\n",
       "    <tr style=\"text-align: right;\">\n",
       "      <th></th>\n",
       "      <th>company</th>\n",
       "      <th>cpc</th>\n",
       "      <th>count</th>\n",
       "    </tr>\n",
       "  </thead>\n",
       "  <tbody>\n",
       "    <tr>\n",
       "      <th>0</th>\n",
       "      <td>Jiangsu IoT Research and Development Center</td>\n",
       "      <td>H01L29</td>\n",
       "      <td>156</td>\n",
       "    </tr>\n",
       "    <tr>\n",
       "      <th>1</th>\n",
       "      <td>Jiangsu IoT Research and Development Center</td>\n",
       "      <td>H01L21</td>\n",
       "      <td>24</td>\n",
       "    </tr>\n",
       "    <tr>\n",
       "      <th>2</th>\n",
       "      <td>Jiangsu IoT Research and Development Center</td>\n",
       "      <td>66325</td>\n",
       "      <td>21</td>\n",
       "    </tr>\n",
       "    <tr>\n",
       "      <th>3</th>\n",
       "      <td>Jiangsu IoT Research and Development Center</td>\n",
       "      <td>G06F16</td>\n",
       "      <td>18</td>\n",
       "    </tr>\n",
       "    <tr>\n",
       "      <th>4</th>\n",
       "      <td>Jiangsu IoT Research and Development Center</td>\n",
       "      <td>7393</td>\n",
       "      <td>15</td>\n",
       "    </tr>\n",
       "  </tbody>\n",
       "</table>\n",
       "</div>"
      ],
      "text/plain": [
       "                                       company     cpc  count\n",
       "0  Jiangsu IoT Research and Development Center  H01L29    156\n",
       "1  Jiangsu IoT Research and Development Center  H01L21     24\n",
       "2  Jiangsu IoT Research and Development Center   66325     21\n",
       "3  Jiangsu IoT Research and Development Center  G06F16     18\n",
       "4  Jiangsu IoT Research and Development Center    7393     15"
      ]
     },
     "execution_count": 40,
     "metadata": {},
     "output_type": "execute_result"
    }
   ],
   "source": [
    "df_cpc.head()"
   ]
  },
  {
   "cell_type": "code",
   "execution_count": 41,
   "metadata": {},
   "outputs": [
    {
     "data": {
      "text/plain": [
       "(17823, 3)"
      ]
     },
     "execution_count": 41,
     "metadata": {},
     "output_type": "execute_result"
    }
   ],
   "source": [
    "df_cpc.shape"
   ]
  },
  {
   "cell_type": "code",
   "execution_count": null,
   "metadata": {},
   "outputs": [],
   "source": []
  },
  {
   "cell_type": "code",
   "execution_count": 42,
   "metadata": {},
   "outputs": [],
   "source": [
    "# 取cpc前3碼\n",
    "df_cpc[\"cpc_n\"] = df_cpc.cpc.apply(lambda x: x[0:3])"
   ]
  },
  {
   "cell_type": "code",
   "execution_count": 43,
   "metadata": {},
   "outputs": [],
   "source": [
    "# 轉成company-cpc 的總數表格\n",
    "table_cn = df_cpc.pivot_table(index='company', values='count', columns='cpc_n',aggfunc=['sum']).fillna(0).reset_index()\n",
    "table_cn = table_cn.droplevel(level=0, axis=1)\n",
    "table_cn = table_cn.rename(columns={'':'company'})"
   ]
  },
  {
   "cell_type": "code",
   "execution_count": null,
   "metadata": {
    "scrolled": true,
    "tags": []
   },
   "outputs": [],
   "source": []
  },
  {
   "cell_type": "code",
   "execution_count": 44,
   "metadata": {
    "scrolled": true,
    "tags": []
   },
   "outputs": [
    {
     "data": {
      "text/html": [
       "<div>\n",
       "<style scoped>\n",
       "    .dataframe tbody tr th:only-of-type {\n",
       "        vertical-align: middle;\n",
       "    }\n",
       "\n",
       "    .dataframe tbody tr th {\n",
       "        vertical-align: top;\n",
       "    }\n",
       "\n",
       "    .dataframe thead th {\n",
       "        text-align: right;\n",
       "    }\n",
       "</style>\n",
       "<table border=\"1\" class=\"dataframe\">\n",
       "  <thead>\n",
       "    <tr style=\"text-align: right;\">\n",
       "      <th>cpc_n</th>\n",
       "      <th>company</th>\n",
       "      <th>A01</th>\n",
       "      <th>A23</th>\n",
       "      <th>A24</th>\n",
       "      <th>A41</th>\n",
       "      <th>A42</th>\n",
       "      <th>A43</th>\n",
       "      <th>A44</th>\n",
       "      <th>A45</th>\n",
       "      <th>A46</th>\n",
       "      <th>...</th>\n",
       "      <th>G16</th>\n",
       "      <th>G21</th>\n",
       "      <th>H01</th>\n",
       "      <th>H02</th>\n",
       "      <th>H03</th>\n",
       "      <th>H04</th>\n",
       "      <th>H05</th>\n",
       "      <th>Y02</th>\n",
       "      <th>Y04</th>\n",
       "      <th>Y10</th>\n",
       "    </tr>\n",
       "  </thead>\n",
       "  <tbody>\n",
       "    <tr>\n",
       "      <th>0</th>\n",
       "      <td>3M Innovative Properties Co</td>\n",
       "      <td>0.0</td>\n",
       "      <td>0.0</td>\n",
       "      <td>0.0</td>\n",
       "      <td>0.0</td>\n",
       "      <td>0.0</td>\n",
       "      <td>0.0</td>\n",
       "      <td>0.0</td>\n",
       "      <td>0.0</td>\n",
       "      <td>0.0</td>\n",
       "      <td>...</td>\n",
       "      <td>0.0</td>\n",
       "      <td>0.0</td>\n",
       "      <td>0.0</td>\n",
       "      <td>0.0</td>\n",
       "      <td>0.0</td>\n",
       "      <td>0.0</td>\n",
       "      <td>0.0</td>\n",
       "      <td>0.0</td>\n",
       "      <td>0.0</td>\n",
       "      <td>1.0</td>\n",
       "    </tr>\n",
       "    <tr>\n",
       "      <th>1</th>\n",
       "      <td>3M innovation intellectual property Co.</td>\n",
       "      <td>0.0</td>\n",
       "      <td>0.0</td>\n",
       "      <td>0.0</td>\n",
       "      <td>0.0</td>\n",
       "      <td>0.0</td>\n",
       "      <td>0.0</td>\n",
       "      <td>0.0</td>\n",
       "      <td>0.0</td>\n",
       "      <td>0.0</td>\n",
       "      <td>...</td>\n",
       "      <td>0.0</td>\n",
       "      <td>0.0</td>\n",
       "      <td>0.0</td>\n",
       "      <td>0.0</td>\n",
       "      <td>0.0</td>\n",
       "      <td>0.0</td>\n",
       "      <td>0.0</td>\n",
       "      <td>0.0</td>\n",
       "      <td>0.0</td>\n",
       "      <td>0.0</td>\n",
       "    </tr>\n",
       "    <tr>\n",
       "      <th>2</th>\n",
       "      <td>3b Technology Co</td>\n",
       "      <td>0.0</td>\n",
       "      <td>0.0</td>\n",
       "      <td>0.0</td>\n",
       "      <td>0.0</td>\n",
       "      <td>0.0</td>\n",
       "      <td>0.0</td>\n",
       "      <td>0.0</td>\n",
       "      <td>0.0</td>\n",
       "      <td>0.0</td>\n",
       "      <td>...</td>\n",
       "      <td>0.0</td>\n",
       "      <td>0.0</td>\n",
       "      <td>20.0</td>\n",
       "      <td>0.0</td>\n",
       "      <td>0.0</td>\n",
       "      <td>0.0</td>\n",
       "      <td>0.0</td>\n",
       "      <td>0.0</td>\n",
       "      <td>0.0</td>\n",
       "      <td>0.0</td>\n",
       "    </tr>\n",
       "    <tr>\n",
       "      <th>3</th>\n",
       "      <td>3d-Oxset Co</td>\n",
       "      <td>0.0</td>\n",
       "      <td>0.0</td>\n",
       "      <td>0.0</td>\n",
       "      <td>0.0</td>\n",
       "      <td>0.0</td>\n",
       "      <td>0.0</td>\n",
       "      <td>0.0</td>\n",
       "      <td>0.0</td>\n",
       "      <td>0.0</td>\n",
       "      <td>...</td>\n",
       "      <td>0.0</td>\n",
       "      <td>0.0</td>\n",
       "      <td>0.0</td>\n",
       "      <td>0.0</td>\n",
       "      <td>0.0</td>\n",
       "      <td>0.0</td>\n",
       "      <td>0.0</td>\n",
       "      <td>0.0</td>\n",
       "      <td>0.0</td>\n",
       "      <td>0.0</td>\n",
       "    </tr>\n",
       "    <tr>\n",
       "      <th>4</th>\n",
       "      <td>A Mo Technology Co Ltd</td>\n",
       "      <td>0.0</td>\n",
       "      <td>0.0</td>\n",
       "      <td>0.0</td>\n",
       "      <td>0.0</td>\n",
       "      <td>0.0</td>\n",
       "      <td>0.0</td>\n",
       "      <td>0.0</td>\n",
       "      <td>0.0</td>\n",
       "      <td>0.0</td>\n",
       "      <td>...</td>\n",
       "      <td>0.0</td>\n",
       "      <td>0.0</td>\n",
       "      <td>3.0</td>\n",
       "      <td>0.0</td>\n",
       "      <td>0.0</td>\n",
       "      <td>0.0</td>\n",
       "      <td>0.0</td>\n",
       "      <td>0.0</td>\n",
       "      <td>0.0</td>\n",
       "      <td>0.0</td>\n",
       "    </tr>\n",
       "  </tbody>\n",
       "</table>\n",
       "<p>5 rows × 107 columns</p>\n",
       "</div>"
      ],
      "text/plain": [
       "cpc_n                                  company  A01  A23  A24  A41  A42  A43  \\\n",
       "0                  3M Innovative Properties Co  0.0  0.0  0.0  0.0  0.0  0.0   \n",
       "1      3M innovation intellectual property Co.  0.0  0.0  0.0  0.0  0.0  0.0   \n",
       "2                             3b Technology Co  0.0  0.0  0.0  0.0  0.0  0.0   \n",
       "3                                  3d-Oxset Co  0.0  0.0  0.0  0.0  0.0  0.0   \n",
       "4                       A Mo Technology Co Ltd  0.0  0.0  0.0  0.0  0.0  0.0   \n",
       "\n",
       "cpc_n  A44  A45  A46  ...  G16  G21   H01  H02  H03  H04  H05  Y02  Y04  Y10  \n",
       "0      0.0  0.0  0.0  ...  0.0  0.0   0.0  0.0  0.0  0.0  0.0  0.0  0.0  1.0  \n",
       "1      0.0  0.0  0.0  ...  0.0  0.0   0.0  0.0  0.0  0.0  0.0  0.0  0.0  0.0  \n",
       "2      0.0  0.0  0.0  ...  0.0  0.0  20.0  0.0  0.0  0.0  0.0  0.0  0.0  0.0  \n",
       "3      0.0  0.0  0.0  ...  0.0  0.0   0.0  0.0  0.0  0.0  0.0  0.0  0.0  0.0  \n",
       "4      0.0  0.0  0.0  ...  0.0  0.0   3.0  0.0  0.0  0.0  0.0  0.0  0.0  0.0  \n",
       "\n",
       "[5 rows x 107 columns]"
      ]
     },
     "execution_count": 44,
     "metadata": {},
     "output_type": "execute_result"
    }
   ],
   "source": [
    "# 取有英文的部份\n",
    "c_ls_cn = [c for c in table_cn.columns if re.search('[A-Za-z]', c)]\n",
    "final_table_cn = table_cn[c_ls_cn]\n",
    "final_table_cn.head()"
   ]
  },
  {
   "cell_type": "code",
   "execution_count": 45,
   "metadata": {},
   "outputs": [
    {
     "data": {
      "text/plain": [
       "(1006, 107)"
      ]
     },
     "execution_count": 45,
     "metadata": {},
     "output_type": "execute_result"
    }
   ],
   "source": [
    "final_table_cn.shape"
   ]
  },
  {
   "cell_type": "code",
   "execution_count": 30,
   "metadata": {},
   "outputs": [],
   "source": [
    "final_table_cn.to_csv('w_company_cpc_cn_5.csv',index=0)"
   ]
  },
  {
   "cell_type": "code",
   "execution_count": null,
   "metadata": {},
   "outputs": [],
   "source": []
  },
  {
   "cell_type": "code",
   "execution_count": 17,
   "metadata": {},
   "outputs": [],
   "source": [
    "mongoURI = \"mongodb://%s:%s@%s/%s?authMechanism=SCRAM-SHA-1\" % (\"eva\", \"eva_30241\", \"140.117.69.70:30241\", \"eva\")\n",
    "\n",
    "conn = pymongo.MongoClient(mongoURI)\n",
    "db = conn.eva\n",
    "conn_db_collection = db.w_company_cpc_cn_5"
   ]
  },
  {
   "cell_type": "code",
   "execution_count": 18,
   "metadata": {},
   "outputs": [
    {
     "data": {
      "text/plain": [
       "<pymongo.results.InsertOneResult at 0x7fa95529fe80>"
      ]
     },
     "execution_count": 18,
     "metadata": {},
     "output_type": "execute_result"
    }
   ],
   "source": [
    "# title\n",
    "conn_db_collection.insert_one({\"company\":final_table_cn.columns.tolist()[0],\"cpc\":final_table_cn.columns.tolist()[1:]})"
   ]
  },
  {
   "cell_type": "code",
   "execution_count": 19,
   "metadata": {},
   "outputs": [],
   "source": [
    "# 內容\n",
    "for k in final_table_cn.values.tolist():\n",
    "    # print({\"company\":k[0],\"cpc\":k[1:]})\n",
    "    conn_db_collection.insert_one({\"company\":k[0],\"cpc\":k[1:]})"
   ]
  },
  {
   "cell_type": "code",
   "execution_count": null,
   "metadata": {},
   "outputs": [],
   "source": []
  },
  {
   "cell_type": "code",
   "execution_count": null,
   "metadata": {},
   "outputs": [],
   "source": []
  },
  {
   "cell_type": "code",
   "execution_count": null,
   "metadata": {},
   "outputs": [],
   "source": []
  },
  {
   "cell_type": "markdown",
   "metadata": {},
   "source": [
    "### US"
   ]
  },
  {
   "cell_type": "code",
   "execution_count": 52,
   "metadata": {
    "tags": []
   },
   "outputs": [],
   "source": [
    "data_assignee = db_us_5.aggregate([\n",
    "    {\"$unwind\" : \"$current_assignee\"},\n",
    "    {\"$group\" : {\"_id\" : \"$current_assignee\", \"count\":{\"$sum\":1}}},\n",
    "    {\"$sort\": {\"count\":-1}}#,\n",
    "    #{\"$limit\":10}\n",
    "])\n",
    "\n",
    "ls_company = []\n",
    "ls_count = []\n",
    "for data in data_assignee:\n",
    "    # print(data[\"_id\"])\n",
    "    ls_company.append(data[\"_id\"].replace(\"))\",\")\"))\n",
    "    ls_count.append(data[\"count\"])"
   ]
  },
  {
   "cell_type": "code",
   "execution_count": 53,
   "metadata": {},
   "outputs": [
    {
     "data": {
      "text/plain": [
       "705"
      ]
     },
     "execution_count": 53,
     "metadata": {},
     "output_type": "execute_result"
    }
   ],
   "source": [
    "len(ls_company)"
   ]
  },
  {
   "cell_type": "code",
   "execution_count": 54,
   "metadata": {
    "tags": []
   },
   "outputs": [
    {
     "data": {
      "text/html": [
       "<div>\n",
       "<style scoped>\n",
       "    .dataframe tbody tr th:only-of-type {\n",
       "        vertical-align: middle;\n",
       "    }\n",
       "\n",
       "    .dataframe tbody tr th {\n",
       "        vertical-align: top;\n",
       "    }\n",
       "\n",
       "    .dataframe thead th {\n",
       "        text-align: right;\n",
       "    }\n",
       "</style>\n",
       "<table border=\"1\" class=\"dataframe\">\n",
       "  <thead>\n",
       "    <tr style=\"text-align: right;\">\n",
       "      <th></th>\n",
       "      <th>company</th>\n",
       "      <th>cpc</th>\n",
       "      <th>count</th>\n",
       "    </tr>\n",
       "  </thead>\n",
       "  <tbody>\n",
       "    <tr>\n",
       "      <th>0</th>\n",
       "      <td>Samsung Electronics Co Ltd</td>\n",
       "      <td>H04W4</td>\n",
       "      <td>266</td>\n",
       "    </tr>\n",
       "    <tr>\n",
       "      <th>1</th>\n",
       "      <td>Samsung Electronics Co Ltd</td>\n",
       "      <td>G06F3</td>\n",
       "      <td>252</td>\n",
       "    </tr>\n",
       "    <tr>\n",
       "      <th>2</th>\n",
       "      <td>Samsung Electronics Co Ltd</td>\n",
       "      <td>H01L27</td>\n",
       "      <td>126</td>\n",
       "    </tr>\n",
       "    <tr>\n",
       "      <th>3</th>\n",
       "      <td>Samsung Electronics Co Ltd</td>\n",
       "      <td>H04W52</td>\n",
       "      <td>119</td>\n",
       "    </tr>\n",
       "    <tr>\n",
       "      <th>4</th>\n",
       "      <td>Samsung Electronics Co Ltd</td>\n",
       "      <td>02</td>\n",
       "      <td>105</td>\n",
       "    </tr>\n",
       "  </tbody>\n",
       "</table>\n",
       "</div>"
      ],
      "text/plain": [
       "                      company     cpc  count\n",
       "0  Samsung Electronics Co Ltd   H04W4    266\n",
       "1  Samsung Electronics Co Ltd   G06F3    252\n",
       "2  Samsung Electronics Co Ltd  H01L27    126\n",
       "3  Samsung Electronics Co Ltd  H04W52    119\n",
       "4  Samsung Electronics Co Ltd      02    105"
      ]
     },
     "execution_count": 54,
     "metadata": {},
     "output_type": "execute_result"
    }
   ],
   "source": [
    "ls_c = []\n",
    "ls_cpc = []\n",
    "ls_count = []\n",
    "\n",
    "for c in ls_company:\n",
    "    try:\n",
    "        data_cpc = db_us_5.aggregate([\n",
    "            {\"$match\" : {\"current_assignee\":{\"$regex\":c}}},\n",
    "            {\"$unwind\" : \"$current_assignee\"},\n",
    "            {\"$unwind\" : \"$classification\"},\n",
    "            {\"$project\" : {\"class\": {\"$split\": [\"$classification\", \"/\"]}, \"qty\":1}},\n",
    "            {\"$unwind\" : \"$class\"},\n",
    "            {\"$group\" : {\"_id\" : \"$class\", \"count\":{\"$sum\":1}}},\n",
    "            {\"$sort\": {\"count\":-1}}\n",
    "            # {\"$limit\":5}\n",
    "        ])\n",
    "    except:\n",
    "        print(c)\n",
    "\n",
    "    for data in data_cpc:\n",
    "        #print(data)\n",
    "        ls_c.append(c)\n",
    "        ls_cpc.append(data[\"_id\"])\n",
    "        ls_count.append(data[\"count\"])\n",
    "        \n",
    "df_cpc_us = pd.DataFrame((zip(ls_c, ls_cpc, ls_count)), columns = ['company', 'cpc', 'count'])\n",
    "df_cpc_us.head()"
   ]
  },
  {
   "cell_type": "code",
   "execution_count": 55,
   "metadata": {},
   "outputs": [
    {
     "data": {
      "text/plain": [
       "(22211, 3)"
      ]
     },
     "execution_count": 55,
     "metadata": {},
     "output_type": "execute_result"
    }
   ],
   "source": [
    "df_cpc_us.shape"
   ]
  },
  {
   "cell_type": "code",
   "execution_count": null,
   "metadata": {},
   "outputs": [],
   "source": []
  },
  {
   "cell_type": "code",
   "execution_count": 56,
   "metadata": {},
   "outputs": [],
   "source": [
    "# 取cpc前3碼\n",
    "df_cpc_us[\"cpc_n\"] = df_cpc_us.cpc.apply(lambda x: x[0:3])"
   ]
  },
  {
   "cell_type": "code",
   "execution_count": 57,
   "metadata": {},
   "outputs": [],
   "source": [
    "# 轉成company-cpc 的總數表格\n",
    "table_us = df_cpc_us.pivot_table(index='company', values='count', columns='cpc_n',aggfunc=['sum']).fillna(0).reset_index()\n",
    "table_us = table_us.droplevel(level=0, axis=1)\n",
    "table_us = table_us.rename(columns={'':'company'})"
   ]
  },
  {
   "cell_type": "code",
   "execution_count": 58,
   "metadata": {},
   "outputs": [
    {
     "data": {
      "text/html": [
       "<div>\n",
       "<style scoped>\n",
       "    .dataframe tbody tr th:only-of-type {\n",
       "        vertical-align: middle;\n",
       "    }\n",
       "\n",
       "    .dataframe tbody tr th {\n",
       "        vertical-align: top;\n",
       "    }\n",
       "\n",
       "    .dataframe thead th {\n",
       "        text-align: right;\n",
       "    }\n",
       "</style>\n",
       "<table border=\"1\" class=\"dataframe\">\n",
       "  <thead>\n",
       "    <tr style=\"text-align: right;\">\n",
       "      <th>cpc_n</th>\n",
       "      <th>company</th>\n",
       "      <th>A01</th>\n",
       "      <th>A23</th>\n",
       "      <th>A41</th>\n",
       "      <th>A42</th>\n",
       "      <th>A44</th>\n",
       "      <th>A46</th>\n",
       "      <th>A47</th>\n",
       "      <th>A61</th>\n",
       "      <th>A62</th>\n",
       "      <th>...</th>\n",
       "      <th>G16</th>\n",
       "      <th>G21</th>\n",
       "      <th>H01</th>\n",
       "      <th>H02</th>\n",
       "      <th>H03</th>\n",
       "      <th>H04</th>\n",
       "      <th>H05</th>\n",
       "      <th>Y02</th>\n",
       "      <th>Y04</th>\n",
       "      <th>Y10</th>\n",
       "    </tr>\n",
       "  </thead>\n",
       "  <tbody>\n",
       "    <tr>\n",
       "      <th>0</th>\n",
       "      <td>3d-Oxides</td>\n",
       "      <td>0.0</td>\n",
       "      <td>0.0</td>\n",
       "      <td>0.0</td>\n",
       "      <td>0.0</td>\n",
       "      <td>0.0</td>\n",
       "      <td>0.0</td>\n",
       "      <td>0.0</td>\n",
       "      <td>0.0</td>\n",
       "      <td>0.0</td>\n",
       "      <td>...</td>\n",
       "      <td>0.0</td>\n",
       "      <td>0.0</td>\n",
       "      <td>0.0</td>\n",
       "      <td>0.0</td>\n",
       "      <td>0.0</td>\n",
       "      <td>0.0</td>\n",
       "      <td>0.0</td>\n",
       "      <td>0.0</td>\n",
       "      <td>0.0</td>\n",
       "      <td>0.0</td>\n",
       "    </tr>\n",
       "    <tr>\n",
       "      <th>1</th>\n",
       "      <td>ABB Schweiz AG</td>\n",
       "      <td>0.0</td>\n",
       "      <td>0.0</td>\n",
       "      <td>0.0</td>\n",
       "      <td>0.0</td>\n",
       "      <td>0.0</td>\n",
       "      <td>0.0</td>\n",
       "      <td>0.0</td>\n",
       "      <td>0.0</td>\n",
       "      <td>0.0</td>\n",
       "      <td>...</td>\n",
       "      <td>0.0</td>\n",
       "      <td>0.0</td>\n",
       "      <td>0.0</td>\n",
       "      <td>7.0</td>\n",
       "      <td>0.0</td>\n",
       "      <td>0.0</td>\n",
       "      <td>0.0</td>\n",
       "      <td>1.0</td>\n",
       "      <td>1.0</td>\n",
       "      <td>0.0</td>\n",
       "    </tr>\n",
       "    <tr>\n",
       "      <th>2</th>\n",
       "      <td>ADVANERGY Inc</td>\n",
       "      <td>0.0</td>\n",
       "      <td>0.0</td>\n",
       "      <td>0.0</td>\n",
       "      <td>0.0</td>\n",
       "      <td>0.0</td>\n",
       "      <td>0.0</td>\n",
       "      <td>0.0</td>\n",
       "      <td>0.0</td>\n",
       "      <td>0.0</td>\n",
       "      <td>...</td>\n",
       "      <td>0.0</td>\n",
       "      <td>0.0</td>\n",
       "      <td>1.0</td>\n",
       "      <td>1.0</td>\n",
       "      <td>0.0</td>\n",
       "      <td>8.0</td>\n",
       "      <td>0.0</td>\n",
       "      <td>3.0</td>\n",
       "      <td>4.0</td>\n",
       "      <td>0.0</td>\n",
       "    </tr>\n",
       "    <tr>\n",
       "      <th>3</th>\n",
       "      <td>AFI Licensing LLC</td>\n",
       "      <td>0.0</td>\n",
       "      <td>0.0</td>\n",
       "      <td>0.0</td>\n",
       "      <td>0.0</td>\n",
       "      <td>0.0</td>\n",
       "      <td>0.0</td>\n",
       "      <td>0.0</td>\n",
       "      <td>0.0</td>\n",
       "      <td>0.0</td>\n",
       "      <td>...</td>\n",
       "      <td>0.0</td>\n",
       "      <td>0.0</td>\n",
       "      <td>0.0</td>\n",
       "      <td>0.0</td>\n",
       "      <td>0.0</td>\n",
       "      <td>0.0</td>\n",
       "      <td>0.0</td>\n",
       "      <td>0.0</td>\n",
       "      <td>0.0</td>\n",
       "      <td>3.0</td>\n",
       "    </tr>\n",
       "    <tr>\n",
       "      <th>4</th>\n",
       "      <td>AFIRMA CONSULTING &amp; TECHNOLOGIES SL</td>\n",
       "      <td>0.0</td>\n",
       "      <td>0.0</td>\n",
       "      <td>0.0</td>\n",
       "      <td>0.0</td>\n",
       "      <td>0.0</td>\n",
       "      <td>0.0</td>\n",
       "      <td>0.0</td>\n",
       "      <td>0.0</td>\n",
       "      <td>0.0</td>\n",
       "      <td>...</td>\n",
       "      <td>0.0</td>\n",
       "      <td>0.0</td>\n",
       "      <td>0.0</td>\n",
       "      <td>0.0</td>\n",
       "      <td>0.0</td>\n",
       "      <td>10.0</td>\n",
       "      <td>0.0</td>\n",
       "      <td>0.0</td>\n",
       "      <td>0.0</td>\n",
       "      <td>0.0</td>\n",
       "    </tr>\n",
       "  </tbody>\n",
       "</table>\n",
       "<p>5 rows × 73 columns</p>\n",
       "</div>"
      ],
      "text/plain": [
       "cpc_n                              company  A01  A23  A41  A42  A44  A46  A47  \\\n",
       "0                                3d-Oxides  0.0  0.0  0.0  0.0  0.0  0.0  0.0   \n",
       "1                           ABB Schweiz AG  0.0  0.0  0.0  0.0  0.0  0.0  0.0   \n",
       "2                            ADVANERGY Inc  0.0  0.0  0.0  0.0  0.0  0.0  0.0   \n",
       "3                        AFI Licensing LLC  0.0  0.0  0.0  0.0  0.0  0.0  0.0   \n",
       "4      AFIRMA CONSULTING & TECHNOLOGIES SL  0.0  0.0  0.0  0.0  0.0  0.0  0.0   \n",
       "\n",
       "cpc_n  A61  A62  ...  G16  G21  H01  H02  H03   H04  H05  Y02  Y04  Y10  \n",
       "0      0.0  0.0  ...  0.0  0.0  0.0  0.0  0.0   0.0  0.0  0.0  0.0  0.0  \n",
       "1      0.0  0.0  ...  0.0  0.0  0.0  7.0  0.0   0.0  0.0  1.0  1.0  0.0  \n",
       "2      0.0  0.0  ...  0.0  0.0  1.0  1.0  0.0   8.0  0.0  3.0  4.0  0.0  \n",
       "3      0.0  0.0  ...  0.0  0.0  0.0  0.0  0.0   0.0  0.0  0.0  0.0  3.0  \n",
       "4      0.0  0.0  ...  0.0  0.0  0.0  0.0  0.0  10.0  0.0  0.0  0.0  0.0  \n",
       "\n",
       "[5 rows x 73 columns]"
      ]
     },
     "execution_count": 58,
     "metadata": {},
     "output_type": "execute_result"
    }
   ],
   "source": [
    "# 取有英文的部份\n",
    "c_ls_us = [c for c in table_us.columns if re.search('[A-Za-z]', c)]\n",
    "final_table_us = table_us[c_ls_us]\n",
    "final_table_us.head()"
   ]
  },
  {
   "cell_type": "code",
   "execution_count": 59,
   "metadata": {},
   "outputs": [
    {
     "data": {
      "text/plain": [
       "(700, 73)"
      ]
     },
     "execution_count": 59,
     "metadata": {},
     "output_type": "execute_result"
    }
   ],
   "source": [
    "final_table_us.shape"
   ]
  },
  {
   "cell_type": "code",
   "execution_count": 60,
   "metadata": {},
   "outputs": [],
   "source": [
    "final_table_us.to_csv('w_company_cpc_us_5.csv',index=0)"
   ]
  },
  {
   "cell_type": "code",
   "execution_count": null,
   "metadata": {},
   "outputs": [],
   "source": []
  },
  {
   "cell_type": "code",
   "execution_count": 61,
   "metadata": {},
   "outputs": [],
   "source": [
    "mongoURI = \"mongodb://%s:%s@%s/%s?authMechanism=SCRAM-SHA-1\" % (\"eva\", \"eva_30241\", \"140.117.69.70:30241\", \"eva\")\n",
    "\n",
    "conn = pymongo.MongoClient(mongoURI)\n",
    "db = conn.eva\n",
    "conn_db_collection = db.w_company_cpc_us_5"
   ]
  },
  {
   "cell_type": "code",
   "execution_count": 62,
   "metadata": {},
   "outputs": [
    {
     "data": {
      "text/plain": [
       "<pymongo.results.InsertOneResult at 0x7f8c2f491f40>"
      ]
     },
     "execution_count": 62,
     "metadata": {},
     "output_type": "execute_result"
    }
   ],
   "source": [
    "# title\n",
    "conn_db_collection.insert_one({\"company\":final_table_us.columns.tolist()[0],\"cpc\":final_table_us.columns.tolist()[1:]})"
   ]
  },
  {
   "cell_type": "code",
   "execution_count": 63,
   "metadata": {},
   "outputs": [],
   "source": [
    "# 內容\n",
    "for k in final_table_us.values.tolist():\n",
    "    # print({\"company\":k[0],\"cpc\":k[1:]})\n",
    "    conn_db_collection.insert_one({\"company\":k[0],\"cpc\":k[1:]})"
   ]
  },
  {
   "cell_type": "code",
   "execution_count": null,
   "metadata": {},
   "outputs": [],
   "source": []
  },
  {
   "cell_type": "code",
   "execution_count": null,
   "metadata": {},
   "outputs": [],
   "source": []
  },
  {
   "cell_type": "markdown",
   "metadata": {},
   "source": [
    "## 後五年"
   ]
  },
  {
   "cell_type": "markdown",
   "metadata": {},
   "source": [
    "### DE"
   ]
  },
  {
   "cell_type": "code",
   "execution_count": 64,
   "metadata": {
    "tags": []
   },
   "outputs": [],
   "source": [
    "data_assignee = db_de_10.aggregate([\n",
    "    {\"$unwind\" : \"$current_assignee\"},\n",
    "    {\"$group\" : {\"_id\" : \"$current_assignee\", \"count\":{\"$sum\":1}}},\n",
    "    {\"$sort\": {\"count\":-1}}\n",
    "    # {\"$limit\":10}\n",
    "])\n",
    "\n",
    "ls_company = []\n",
    "ls_count = []\n",
    "for data in data_assignee:\n",
    "    #print(data[\"_id\"])\n",
    "    ls_company.append(data[\"_id\"])\n",
    "    ls_count.append(data[\"count\"])"
   ]
  },
  {
   "cell_type": "code",
   "execution_count": 65,
   "metadata": {},
   "outputs": [
    {
     "data": {
      "text/plain": [
       "390"
      ]
     },
     "execution_count": 65,
     "metadata": {},
     "output_type": "execute_result"
    }
   ],
   "source": [
    "len(ls_company)"
   ]
  },
  {
   "cell_type": "code",
   "execution_count": 66,
   "metadata": {
    "tags": []
   },
   "outputs": [
    {
     "data": {
      "text/html": [
       "<div>\n",
       "<style scoped>\n",
       "    .dataframe tbody tr th:only-of-type {\n",
       "        vertical-align: middle;\n",
       "    }\n",
       "\n",
       "    .dataframe tbody tr th {\n",
       "        vertical-align: top;\n",
       "    }\n",
       "\n",
       "    .dataframe thead th {\n",
       "        text-align: right;\n",
       "    }\n",
       "</style>\n",
       "<table border=\"1\" class=\"dataframe\">\n",
       "  <thead>\n",
       "    <tr style=\"text-align: right;\">\n",
       "      <th></th>\n",
       "      <th>company</th>\n",
       "      <th>cpc</th>\n",
       "      <th>count</th>\n",
       "    </tr>\n",
       "  </thead>\n",
       "  <tbody>\n",
       "    <tr>\n",
       "      <th>0</th>\n",
       "      <td>Intel Corp</td>\n",
       "      <td>G06F9</td>\n",
       "      <td>392</td>\n",
       "    </tr>\n",
       "    <tr>\n",
       "      <th>1</th>\n",
       "      <td>Intel Corp</td>\n",
       "      <td>H01L2224</td>\n",
       "      <td>228</td>\n",
       "    </tr>\n",
       "    <tr>\n",
       "      <th>2</th>\n",
       "      <td>Intel Corp</td>\n",
       "      <td>H04L67</td>\n",
       "      <td>156</td>\n",
       "    </tr>\n",
       "    <tr>\n",
       "      <th>3</th>\n",
       "      <td>Intel Corp</td>\n",
       "      <td>G06N3</td>\n",
       "      <td>152</td>\n",
       "    </tr>\n",
       "    <tr>\n",
       "      <th>4</th>\n",
       "      <td>Intel Corp</td>\n",
       "      <td>G06F12</td>\n",
       "      <td>134</td>\n",
       "    </tr>\n",
       "    <tr>\n",
       "      <th>...</th>\n",
       "      <td>...</td>\n",
       "      <td>...</td>\n",
       "      <td>...</td>\n",
       "    </tr>\n",
       "    <tr>\n",
       "      <th>13027</th>\n",
       "      <td>Kitz Corp</td>\n",
       "      <td>0642</td>\n",
       "      <td>1</td>\n",
       "    </tr>\n",
       "    <tr>\n",
       "      <th>13028</th>\n",
       "      <td>Kitz Corp</td>\n",
       "      <td>F16K5</td>\n",
       "      <td>1</td>\n",
       "    </tr>\n",
       "    <tr>\n",
       "      <th>13029</th>\n",
       "      <td>Kitz Corp</td>\n",
       "      <td>0025</td>\n",
       "      <td>1</td>\n",
       "    </tr>\n",
       "    <tr>\n",
       "      <th>13030</th>\n",
       "      <td>Kitz Corp</td>\n",
       "      <td>0283</td>\n",
       "      <td>1</td>\n",
       "    </tr>\n",
       "    <tr>\n",
       "      <th>13031</th>\n",
       "      <td>Kitz Corp</td>\n",
       "      <td>00</td>\n",
       "      <td>1</td>\n",
       "    </tr>\n",
       "  </tbody>\n",
       "</table>\n",
       "<p>13032 rows × 3 columns</p>\n",
       "</div>"
      ],
      "text/plain": [
       "          company       cpc  count\n",
       "0      Intel Corp     G06F9    392\n",
       "1      Intel Corp  H01L2224    228\n",
       "2      Intel Corp    H04L67    156\n",
       "3      Intel Corp     G06N3    152\n",
       "4      Intel Corp    G06F12    134\n",
       "...           ...       ...    ...\n",
       "13027   Kitz Corp      0642      1\n",
       "13028   Kitz Corp     F16K5      1\n",
       "13029   Kitz Corp      0025      1\n",
       "13030   Kitz Corp      0283      1\n",
       "13031   Kitz Corp        00      1\n",
       "\n",
       "[13032 rows x 3 columns]"
      ]
     },
     "execution_count": 66,
     "metadata": {},
     "output_type": "execute_result"
    }
   ],
   "source": [
    "ls_c = []\n",
    "ls_cpc = []\n",
    "ls_count = []\n",
    "\n",
    "for c in ls_company:\n",
    "    data_cpc = db_de_10.aggregate([\n",
    "        {\"$match\" : {\"current_assignee\":{\"$regex\":c}}},\n",
    "        {\"$unwind\" : \"$current_assignee\"},\n",
    "        {\"$unwind\" : \"$classification\"},\n",
    "        {\"$project\" : {\"class\": {\"$split\": [\"$classification\", \"/\"]}, \"qty\":1}},\n",
    "        {\"$unwind\" : \"$class\"},\n",
    "        {\"$group\" : {\"_id\" : \"$class\", \"count\":{\"$sum\":1}}},\n",
    "        {\"$sort\": {\"count\":-1}}\n",
    "        # {\"$limit\":5}\n",
    "    ])\n",
    "    \n",
    "\n",
    "    for data in data_cpc:\n",
    "        #print(data)\n",
    "        ls_c.append(c)\n",
    "        ls_cpc.append(data[\"_id\"])\n",
    "        ls_count.append(data[\"count\"])\n",
    "        \n",
    "df_cpc_de = pd.DataFrame((zip(ls_c, ls_cpc, ls_count)), columns = ['company', 'cpc', 'count'])\n",
    "df_cpc_de"
   ]
  },
  {
   "cell_type": "code",
   "execution_count": 67,
   "metadata": {},
   "outputs": [
    {
     "data": {
      "text/plain": [
       "(13032, 3)"
      ]
     },
     "execution_count": 67,
     "metadata": {},
     "output_type": "execute_result"
    }
   ],
   "source": [
    "df_cpc_de.shape"
   ]
  },
  {
   "cell_type": "code",
   "execution_count": 68,
   "metadata": {},
   "outputs": [],
   "source": [
    "# 取cpc前3碼\n",
    "df_cpc_de[\"cpc_n\"] = df_cpc_de.cpc.apply(lambda x: x[0:3])"
   ]
  },
  {
   "cell_type": "code",
   "execution_count": 69,
   "metadata": {},
   "outputs": [],
   "source": [
    "# df_cpc_de"
   ]
  },
  {
   "cell_type": "code",
   "execution_count": 70,
   "metadata": {},
   "outputs": [],
   "source": [
    "# 轉成company-cpc 的總數表格\n",
    "table_de = df_cpc_de.pivot_table(index='company', values='count', columns='cpc_n',aggfunc=['sum']).fillna(0).reset_index()\n",
    "table_de = table_de.droplevel(level=0, axis=1)\n",
    "table_de = table_de.rename(columns={'':'company'})"
   ]
  },
  {
   "cell_type": "code",
   "execution_count": 71,
   "metadata": {},
   "outputs": [
    {
     "data": {
      "text/html": [
       "<div>\n",
       "<style scoped>\n",
       "    .dataframe tbody tr th:only-of-type {\n",
       "        vertical-align: middle;\n",
       "    }\n",
       "\n",
       "    .dataframe tbody tr th {\n",
       "        vertical-align: top;\n",
       "    }\n",
       "\n",
       "    .dataframe thead th {\n",
       "        text-align: right;\n",
       "    }\n",
       "</style>\n",
       "<table border=\"1\" class=\"dataframe\">\n",
       "  <thead>\n",
       "    <tr style=\"text-align: right;\">\n",
       "      <th>cpc_n</th>\n",
       "      <th>company</th>\n",
       "      <th>A01</th>\n",
       "      <th>A24</th>\n",
       "      <th>A41</th>\n",
       "      <th>A42</th>\n",
       "      <th>A43</th>\n",
       "      <th>A44</th>\n",
       "      <th>A45</th>\n",
       "      <th>A47</th>\n",
       "      <th>A61</th>\n",
       "      <th>...</th>\n",
       "      <th>G11</th>\n",
       "      <th>G16</th>\n",
       "      <th>H01</th>\n",
       "      <th>H02</th>\n",
       "      <th>H03</th>\n",
       "      <th>H04</th>\n",
       "      <th>H05</th>\n",
       "      <th>Y02</th>\n",
       "      <th>Y04</th>\n",
       "      <th>Y10</th>\n",
       "    </tr>\n",
       "  </thead>\n",
       "  <tbody>\n",
       "    <tr>\n",
       "      <th>0</th>\n",
       "      <td>ACO Severin Ahlmann GmbH and Co KG</td>\n",
       "      <td>0.0</td>\n",
       "      <td>0.0</td>\n",
       "      <td>0.0</td>\n",
       "      <td>0.0</td>\n",
       "      <td>0.0</td>\n",
       "      <td>0.0</td>\n",
       "      <td>0.0</td>\n",
       "      <td>0.0</td>\n",
       "      <td>0.0</td>\n",
       "      <td>...</td>\n",
       "      <td>0.0</td>\n",
       "      <td>0.0</td>\n",
       "      <td>0.0</td>\n",
       "      <td>0.0</td>\n",
       "      <td>0.0</td>\n",
       "      <td>0.0</td>\n",
       "      <td>0.0</td>\n",
       "      <td>3.0</td>\n",
       "      <td>0.0</td>\n",
       "      <td>0.0</td>\n",
       "    </tr>\n",
       "    <tr>\n",
       "      <th>1</th>\n",
       "      <td>ALBA GROUP PLC &amp; Co KG</td>\n",
       "      <td>0.0</td>\n",
       "      <td>0.0</td>\n",
       "      <td>0.0</td>\n",
       "      <td>0.0</td>\n",
       "      <td>0.0</td>\n",
       "      <td>0.0</td>\n",
       "      <td>0.0</td>\n",
       "      <td>0.0</td>\n",
       "      <td>0.0</td>\n",
       "      <td>...</td>\n",
       "      <td>0.0</td>\n",
       "      <td>0.0</td>\n",
       "      <td>0.0</td>\n",
       "      <td>0.0</td>\n",
       "      <td>0.0</td>\n",
       "      <td>0.0</td>\n",
       "      <td>0.0</td>\n",
       "      <td>1.0</td>\n",
       "      <td>0.0</td>\n",
       "      <td>0.0</td>\n",
       "    </tr>\n",
       "    <tr>\n",
       "      <th>2</th>\n",
       "      <td>AT&amp;S Austria Technologie and Systemtechnik AG</td>\n",
       "      <td>0.0</td>\n",
       "      <td>0.0</td>\n",
       "      <td>0.0</td>\n",
       "      <td>0.0</td>\n",
       "      <td>0.0</td>\n",
       "      <td>0.0</td>\n",
       "      <td>0.0</td>\n",
       "      <td>0.0</td>\n",
       "      <td>0.0</td>\n",
       "      <td>...</td>\n",
       "      <td>0.0</td>\n",
       "      <td>0.0</td>\n",
       "      <td>6.0</td>\n",
       "      <td>0.0</td>\n",
       "      <td>0.0</td>\n",
       "      <td>0.0</td>\n",
       "      <td>102.0</td>\n",
       "      <td>0.0</td>\n",
       "      <td>0.0</td>\n",
       "      <td>0.0</td>\n",
       "    </tr>\n",
       "    <tr>\n",
       "      <th>3</th>\n",
       "      <td>AU Optronics Corp</td>\n",
       "      <td>0.0</td>\n",
       "      <td>0.0</td>\n",
       "      <td>0.0</td>\n",
       "      <td>0.0</td>\n",
       "      <td>0.0</td>\n",
       "      <td>0.0</td>\n",
       "      <td>0.0</td>\n",
       "      <td>0.0</td>\n",
       "      <td>0.0</td>\n",
       "      <td>...</td>\n",
       "      <td>0.0</td>\n",
       "      <td>0.0</td>\n",
       "      <td>0.0</td>\n",
       "      <td>0.0</td>\n",
       "      <td>0.0</td>\n",
       "      <td>0.0</td>\n",
       "      <td>0.0</td>\n",
       "      <td>0.0</td>\n",
       "      <td>0.0</td>\n",
       "      <td>0.0</td>\n",
       "    </tr>\n",
       "    <tr>\n",
       "      <th>4</th>\n",
       "      <td>Accell Group NV</td>\n",
       "      <td>0.0</td>\n",
       "      <td>0.0</td>\n",
       "      <td>0.0</td>\n",
       "      <td>0.0</td>\n",
       "      <td>0.0</td>\n",
       "      <td>0.0</td>\n",
       "      <td>0.0</td>\n",
       "      <td>0.0</td>\n",
       "      <td>0.0</td>\n",
       "      <td>...</td>\n",
       "      <td>0.0</td>\n",
       "      <td>0.0</td>\n",
       "      <td>0.0</td>\n",
       "      <td>0.0</td>\n",
       "      <td>0.0</td>\n",
       "      <td>0.0</td>\n",
       "      <td>0.0</td>\n",
       "      <td>0.0</td>\n",
       "      <td>0.0</td>\n",
       "      <td>0.0</td>\n",
       "    </tr>\n",
       "  </tbody>\n",
       "</table>\n",
       "<p>5 rows × 80 columns</p>\n",
       "</div>"
      ],
      "text/plain": [
       "cpc_n                                        company  A01  A24  A41  A42  A43  \\\n",
       "0                 ACO Severin Ahlmann GmbH and Co KG  0.0  0.0  0.0  0.0  0.0   \n",
       "1                             ALBA GROUP PLC & Co KG  0.0  0.0  0.0  0.0  0.0   \n",
       "2      AT&S Austria Technologie and Systemtechnik AG  0.0  0.0  0.0  0.0  0.0   \n",
       "3                                  AU Optronics Corp  0.0  0.0  0.0  0.0  0.0   \n",
       "4                                    Accell Group NV  0.0  0.0  0.0  0.0  0.0   \n",
       "\n",
       "cpc_n  A44  A45  A47  A61  ...  G11  G16  H01  H02  H03  H04    H05  Y02  Y04  \\\n",
       "0      0.0  0.0  0.0  0.0  ...  0.0  0.0  0.0  0.0  0.0  0.0    0.0  3.0  0.0   \n",
       "1      0.0  0.0  0.0  0.0  ...  0.0  0.0  0.0  0.0  0.0  0.0    0.0  1.0  0.0   \n",
       "2      0.0  0.0  0.0  0.0  ...  0.0  0.0  6.0  0.0  0.0  0.0  102.0  0.0  0.0   \n",
       "3      0.0  0.0  0.0  0.0  ...  0.0  0.0  0.0  0.0  0.0  0.0    0.0  0.0  0.0   \n",
       "4      0.0  0.0  0.0  0.0  ...  0.0  0.0  0.0  0.0  0.0  0.0    0.0  0.0  0.0   \n",
       "\n",
       "cpc_n  Y10  \n",
       "0      0.0  \n",
       "1      0.0  \n",
       "2      0.0  \n",
       "3      0.0  \n",
       "4      0.0  \n",
       "\n",
       "[5 rows x 80 columns]"
      ]
     },
     "execution_count": 71,
     "metadata": {},
     "output_type": "execute_result"
    }
   ],
   "source": [
    "# 取有英文的部份\n",
    "c_ls_de = [c for c in table_de.columns if re.search('[A-Za-z]', c)]\n",
    "final_table_de = table_de[c_ls_de]\n",
    "final_table_de.head()"
   ]
  },
  {
   "cell_type": "code",
   "execution_count": 72,
   "metadata": {},
   "outputs": [
    {
     "data": {
      "text/plain": [
       "(384, 80)"
      ]
     },
     "execution_count": 72,
     "metadata": {},
     "output_type": "execute_result"
    }
   ],
   "source": [
    "final_table_de.shape"
   ]
  },
  {
   "cell_type": "code",
   "execution_count": 73,
   "metadata": {},
   "outputs": [],
   "source": [
    "final_table_de.to_csv('w_company_cpc_de_10.csv',index=0)"
   ]
  },
  {
   "cell_type": "code",
   "execution_count": null,
   "metadata": {},
   "outputs": [],
   "source": []
  },
  {
   "cell_type": "code",
   "execution_count": 74,
   "metadata": {},
   "outputs": [],
   "source": [
    "mongoURI = \"mongodb://%s:%s@%s/%s?authMechanism=SCRAM-SHA-1\" % (\"eva\", \"eva_30241\", \"140.117.69.70:30241\", \"eva\")\n",
    "\n",
    "conn = pymongo.MongoClient(mongoURI)\n",
    "db = conn.eva\n",
    "conn_db_collection = db.w_company_cpc_de_10"
   ]
  },
  {
   "cell_type": "code",
   "execution_count": 75,
   "metadata": {},
   "outputs": [
    {
     "data": {
      "text/plain": [
       "<pymongo.results.InsertOneResult at 0x7f8c39096180>"
      ]
     },
     "execution_count": 75,
     "metadata": {},
     "output_type": "execute_result"
    }
   ],
   "source": [
    "# title\n",
    "conn_db_collection.insert_one({\"company\":final_table_de.columns.tolist()[0],\"cpc\":final_table_de.columns.tolist()[1:]})"
   ]
  },
  {
   "cell_type": "code",
   "execution_count": 76,
   "metadata": {},
   "outputs": [],
   "source": [
    "# 內容\n",
    "for k in final_table_de.values.tolist():\n",
    "    # print({\"company\":k[0],\"cpc\":k[1:]})\n",
    "    conn_db_collection.insert_one({\"company\":k[0],\"cpc\":k[1:]})"
   ]
  },
  {
   "cell_type": "code",
   "execution_count": null,
   "metadata": {},
   "outputs": [],
   "source": []
  },
  {
   "cell_type": "code",
   "execution_count": null,
   "metadata": {},
   "outputs": [],
   "source": []
  },
  {
   "cell_type": "markdown",
   "metadata": {},
   "source": [
    "### CN"
   ]
  },
  {
   "cell_type": "code",
   "execution_count": 77,
   "metadata": {},
   "outputs": [],
   "source": [
    "data_assignee = db_cn_10.aggregate([\n",
    "    {\"$unwind\" : \"$current_assignee\"},\n",
    "    {\"$group\" : {\"_id\" : \"$current_assignee\", \"count\":{\"$sum\":1}}},\n",
    "    {\"$sort\": {\"count\":-1}}\n",
    "    # {\"$limit\":10}\n",
    "])\n",
    "\n",
    "ls_company = []\n",
    "ls_count = []\n",
    "for data in data_assignee:\n",
    "    # print(data[\"_id\"])\n",
    "    ls_company.append(data[\"_id\"])\n",
    "    ls_count.append(data[\"count\"])"
   ]
  },
  {
   "cell_type": "code",
   "execution_count": 78,
   "metadata": {},
   "outputs": [
    {
     "data": {
      "text/plain": [
       "11480"
      ]
     },
     "execution_count": 78,
     "metadata": {},
     "output_type": "execute_result"
    }
   ],
   "source": [
    "len(ls_company)"
   ]
  },
  {
   "cell_type": "code",
   "execution_count": 79,
   "metadata": {},
   "outputs": [
    {
     "data": {
      "text/html": [
       "<div>\n",
       "<style scoped>\n",
       "    .dataframe tbody tr th:only-of-type {\n",
       "        vertical-align: middle;\n",
       "    }\n",
       "\n",
       "    .dataframe tbody tr th {\n",
       "        vertical-align: top;\n",
       "    }\n",
       "\n",
       "    .dataframe thead th {\n",
       "        text-align: right;\n",
       "    }\n",
       "</style>\n",
       "<table border=\"1\" class=\"dataframe\">\n",
       "  <thead>\n",
       "    <tr style=\"text-align: right;\">\n",
       "      <th></th>\n",
       "      <th>company</th>\n",
       "      <th>cpc</th>\n",
       "      <th>count</th>\n",
       "    </tr>\n",
       "  </thead>\n",
       "  <tbody>\n",
       "    <tr>\n",
       "      <th>0</th>\n",
       "      <td>Qualcomm Inc</td>\n",
       "      <td>H04L5</td>\n",
       "      <td>5511</td>\n",
       "    </tr>\n",
       "    <tr>\n",
       "      <th>1</th>\n",
       "      <td>Qualcomm Inc</td>\n",
       "      <td>H04W72</td>\n",
       "      <td>4354</td>\n",
       "    </tr>\n",
       "    <tr>\n",
       "      <th>2</th>\n",
       "      <td>Qualcomm Inc</td>\n",
       "      <td>H04L1</td>\n",
       "      <td>2475</td>\n",
       "    </tr>\n",
       "    <tr>\n",
       "      <th>3</th>\n",
       "      <td>Qualcomm Inc</td>\n",
       "      <td>H04B7</td>\n",
       "      <td>2160</td>\n",
       "    </tr>\n",
       "    <tr>\n",
       "      <th>4</th>\n",
       "      <td>Qualcomm Inc</td>\n",
       "      <td>H04L27</td>\n",
       "      <td>1105</td>\n",
       "    </tr>\n",
       "  </tbody>\n",
       "</table>\n",
       "</div>"
      ],
      "text/plain": [
       "        company     cpc  count\n",
       "0  Qualcomm Inc   H04L5   5511\n",
       "1  Qualcomm Inc  H04W72   4354\n",
       "2  Qualcomm Inc   H04L1   2475\n",
       "3  Qualcomm Inc   H04B7   2160\n",
       "4  Qualcomm Inc  H04L27   1105"
      ]
     },
     "execution_count": 79,
     "metadata": {},
     "output_type": "execute_result"
    }
   ],
   "source": [
    "ls_c = []\n",
    "ls_cpc = []\n",
    "ls_count = []\n",
    "\n",
    "for c in ls_company:\n",
    "    data_cpc = db_cn_10.aggregate([\n",
    "        {\"$match\" : {\"current_assignee\":{\"$regex\":c}}},\n",
    "        {\"$unwind\" : \"$current_assignee\"},\n",
    "        {\"$unwind\" : \"$classification\"},\n",
    "        {\"$project\" : {\"class\": {\"$split\": [\"$classification\", \"/\"]}, \"qty\":1}},\n",
    "        {\"$unwind\" : \"$class\"},\n",
    "        {\"$group\" : {\"_id\" : \"$class\", \"count\":{\"$sum\":1}}},\n",
    "        {\"$sort\": {\"count\":-1}}\n",
    "        # {\"$limit\":5}\n",
    "    ])\n",
    "    \n",
    "\n",
    "    for data in data_cpc:\n",
    "        #print(data)\n",
    "        ls_c.append(c)\n",
    "        ls_cpc.append(data[\"_id\"])\n",
    "        ls_count.append(data[\"count\"])\n",
    "        \n",
    "df_cpc = pd.DataFrame((zip(ls_c, ls_cpc, ls_count)), columns = ['company', 'cpc', 'count'])\n",
    "df_cpc.head()"
   ]
  },
  {
   "cell_type": "code",
   "execution_count": 80,
   "metadata": {},
   "outputs": [
    {
     "data": {
      "text/html": [
       "<div>\n",
       "<style scoped>\n",
       "    .dataframe tbody tr th:only-of-type {\n",
       "        vertical-align: middle;\n",
       "    }\n",
       "\n",
       "    .dataframe tbody tr th {\n",
       "        vertical-align: top;\n",
       "    }\n",
       "\n",
       "    .dataframe thead th {\n",
       "        text-align: right;\n",
       "    }\n",
       "</style>\n",
       "<table border=\"1\" class=\"dataframe\">\n",
       "  <thead>\n",
       "    <tr style=\"text-align: right;\">\n",
       "      <th></th>\n",
       "      <th>company</th>\n",
       "      <th>cpc</th>\n",
       "      <th>count</th>\n",
       "    </tr>\n",
       "  </thead>\n",
       "  <tbody>\n",
       "    <tr>\n",
       "      <th>0</th>\n",
       "      <td>Qualcomm Inc</td>\n",
       "      <td>H04L5</td>\n",
       "      <td>5511</td>\n",
       "    </tr>\n",
       "    <tr>\n",
       "      <th>1</th>\n",
       "      <td>Qualcomm Inc</td>\n",
       "      <td>H04W72</td>\n",
       "      <td>4354</td>\n",
       "    </tr>\n",
       "    <tr>\n",
       "      <th>2</th>\n",
       "      <td>Qualcomm Inc</td>\n",
       "      <td>H04L1</td>\n",
       "      <td>2475</td>\n",
       "    </tr>\n",
       "    <tr>\n",
       "      <th>3</th>\n",
       "      <td>Qualcomm Inc</td>\n",
       "      <td>H04B7</td>\n",
       "      <td>2160</td>\n",
       "    </tr>\n",
       "    <tr>\n",
       "      <th>4</th>\n",
       "      <td>Qualcomm Inc</td>\n",
       "      <td>H04L27</td>\n",
       "      <td>1105</td>\n",
       "    </tr>\n",
       "  </tbody>\n",
       "</table>\n",
       "</div>"
      ],
      "text/plain": [
       "        company     cpc  count\n",
       "0  Qualcomm Inc   H04L5   5511\n",
       "1  Qualcomm Inc  H04W72   4354\n",
       "2  Qualcomm Inc   H04L1   2475\n",
       "3  Qualcomm Inc   H04B7   2160\n",
       "4  Qualcomm Inc  H04L27   1105"
      ]
     },
     "execution_count": 80,
     "metadata": {},
     "output_type": "execute_result"
    }
   ],
   "source": [
    "df_cpc.head()"
   ]
  },
  {
   "cell_type": "code",
   "execution_count": 81,
   "metadata": {},
   "outputs": [
    {
     "data": {
      "text/plain": [
       "(163336, 3)"
      ]
     },
     "execution_count": 81,
     "metadata": {},
     "output_type": "execute_result"
    }
   ],
   "source": [
    "df_cpc.shape"
   ]
  },
  {
   "cell_type": "code",
   "execution_count": null,
   "metadata": {},
   "outputs": [],
   "source": []
  },
  {
   "cell_type": "code",
   "execution_count": 82,
   "metadata": {},
   "outputs": [],
   "source": [
    "# 取cpc前3碼\n",
    "df_cpc[\"cpc_n\"] = df_cpc.cpc.apply(lambda x: x[0:3])"
   ]
  },
  {
   "cell_type": "code",
   "execution_count": 83,
   "metadata": {},
   "outputs": [],
   "source": [
    "# 轉成company-cpc 的總數表格\n",
    "table_cn = df_cpc.pivot_table(index='company', values='count', columns='cpc_n',aggfunc=['sum']).fillna(0).reset_index()\n",
    "table_cn = table_cn.droplevel(level=0, axis=1)\n",
    "table_cn = table_cn.rename(columns={'':'company'})"
   ]
  },
  {
   "cell_type": "code",
   "execution_count": 84,
   "metadata": {},
   "outputs": [
    {
     "data": {
      "text/html": [
       "<div>\n",
       "<style scoped>\n",
       "    .dataframe tbody tr th:only-of-type {\n",
       "        vertical-align: middle;\n",
       "    }\n",
       "\n",
       "    .dataframe tbody tr th {\n",
       "        vertical-align: top;\n",
       "    }\n",
       "\n",
       "    .dataframe thead th {\n",
       "        text-align: right;\n",
       "    }\n",
       "</style>\n",
       "<table border=\"1\" class=\"dataframe\">\n",
       "  <thead>\n",
       "    <tr style=\"text-align: right;\">\n",
       "      <th>cpc_n</th>\n",
       "      <th>company</th>\n",
       "      <th>A01</th>\n",
       "      <th>A21</th>\n",
       "      <th>A23</th>\n",
       "      <th>A24</th>\n",
       "      <th>A41</th>\n",
       "      <th>A42</th>\n",
       "      <th>A43</th>\n",
       "      <th>A44</th>\n",
       "      <th>A45</th>\n",
       "      <th>...</th>\n",
       "      <th>G16</th>\n",
       "      <th>G21</th>\n",
       "      <th>H01</th>\n",
       "      <th>H02</th>\n",
       "      <th>H03</th>\n",
       "      <th>H04</th>\n",
       "      <th>H05</th>\n",
       "      <th>Y02</th>\n",
       "      <th>Y04</th>\n",
       "      <th>Y10</th>\n",
       "    </tr>\n",
       "  </thead>\n",
       "  <tbody>\n",
       "    <tr>\n",
       "      <th>0</th>\n",
       "      <td>(c-Dot)</td>\n",
       "      <td>0.0</td>\n",
       "      <td>0.0</td>\n",
       "      <td>0.0</td>\n",
       "      <td>0.0</td>\n",
       "      <td>0.0</td>\n",
       "      <td>0.0</td>\n",
       "      <td>0.0</td>\n",
       "      <td>0.0</td>\n",
       "      <td>0.0</td>\n",
       "      <td>...</td>\n",
       "      <td>0.0</td>\n",
       "      <td>0.0</td>\n",
       "      <td>0.0</td>\n",
       "      <td>0.0</td>\n",
       "      <td>0.0</td>\n",
       "      <td>16.0</td>\n",
       "      <td>0.0</td>\n",
       "      <td>0.0</td>\n",
       "      <td>0.0</td>\n",
       "      <td>0.0</td>\n",
       "    </tr>\n",
       "    <tr>\n",
       "      <th>1</th>\n",
       "      <td>01 Bulletin Laboratory Co</td>\n",
       "      <td>0.0</td>\n",
       "      <td>0.0</td>\n",
       "      <td>0.0</td>\n",
       "      <td>0.0</td>\n",
       "      <td>0.0</td>\n",
       "      <td>0.0</td>\n",
       "      <td>0.0</td>\n",
       "      <td>0.0</td>\n",
       "      <td>0.0</td>\n",
       "      <td>...</td>\n",
       "      <td>0.0</td>\n",
       "      <td>0.0</td>\n",
       "      <td>0.0</td>\n",
       "      <td>0.0</td>\n",
       "      <td>0.0</td>\n",
       "      <td>6.0</td>\n",
       "      <td>0.0</td>\n",
       "      <td>0.0</td>\n",
       "      <td>0.0</td>\n",
       "      <td>0.0</td>\n",
       "    </tr>\n",
       "    <tr>\n",
       "      <th>2</th>\n",
       "      <td>10757616 Canada Co</td>\n",
       "      <td>0.0</td>\n",
       "      <td>0.0</td>\n",
       "      <td>0.0</td>\n",
       "      <td>0.0</td>\n",
       "      <td>0.0</td>\n",
       "      <td>0.0</td>\n",
       "      <td>0.0</td>\n",
       "      <td>0.0</td>\n",
       "      <td>0.0</td>\n",
       "      <td>...</td>\n",
       "      <td>0.0</td>\n",
       "      <td>0.0</td>\n",
       "      <td>12.0</td>\n",
       "      <td>28.0</td>\n",
       "      <td>0.0</td>\n",
       "      <td>0.0</td>\n",
       "      <td>0.0</td>\n",
       "      <td>2.0</td>\n",
       "      <td>2.0</td>\n",
       "      <td>0.0</td>\n",
       "    </tr>\n",
       "    <tr>\n",
       "      <th>3</th>\n",
       "      <td>10757616加拿大公司</td>\n",
       "      <td>0.0</td>\n",
       "      <td>0.0</td>\n",
       "      <td>0.0</td>\n",
       "      <td>0.0</td>\n",
       "      <td>0.0</td>\n",
       "      <td>0.0</td>\n",
       "      <td>0.0</td>\n",
       "      <td>0.0</td>\n",
       "      <td>0.0</td>\n",
       "      <td>...</td>\n",
       "      <td>0.0</td>\n",
       "      <td>0.0</td>\n",
       "      <td>12.0</td>\n",
       "      <td>28.0</td>\n",
       "      <td>0.0</td>\n",
       "      <td>0.0</td>\n",
       "      <td>0.0</td>\n",
       "      <td>2.0</td>\n",
       "      <td>2.0</td>\n",
       "      <td>0.0</td>\n",
       "    </tr>\n",
       "    <tr>\n",
       "      <th>4</th>\n",
       "      <td>11th Street Co., Ltd.</td>\n",
       "      <td>0.0</td>\n",
       "      <td>0.0</td>\n",
       "      <td>0.0</td>\n",
       "      <td>0.0</td>\n",
       "      <td>0.0</td>\n",
       "      <td>0.0</td>\n",
       "      <td>0.0</td>\n",
       "      <td>0.0</td>\n",
       "      <td>0.0</td>\n",
       "      <td>...</td>\n",
       "      <td>0.0</td>\n",
       "      <td>0.0</td>\n",
       "      <td>0.0</td>\n",
       "      <td>0.0</td>\n",
       "      <td>0.0</td>\n",
       "      <td>9.0</td>\n",
       "      <td>0.0</td>\n",
       "      <td>1.0</td>\n",
       "      <td>0.0</td>\n",
       "      <td>0.0</td>\n",
       "    </tr>\n",
       "  </tbody>\n",
       "</table>\n",
       "<p>5 rows × 124 columns</p>\n",
       "</div>"
      ],
      "text/plain": [
       "cpc_n                    company  A01  A21  A23  A24  A41  A42  A43  A44  A45  \\\n",
       "0                        (c-Dot)  0.0  0.0  0.0  0.0  0.0  0.0  0.0  0.0  0.0   \n",
       "1      01 Bulletin Laboratory Co  0.0  0.0  0.0  0.0  0.0  0.0  0.0  0.0  0.0   \n",
       "2             10757616 Canada Co  0.0  0.0  0.0  0.0  0.0  0.0  0.0  0.0  0.0   \n",
       "3                  10757616加拿大公司  0.0  0.0  0.0  0.0  0.0  0.0  0.0  0.0  0.0   \n",
       "4          11th Street Co., Ltd.  0.0  0.0  0.0  0.0  0.0  0.0  0.0  0.0  0.0   \n",
       "\n",
       "cpc_n  ...  G16  G21   H01   H02  H03   H04  H05  Y02  Y04  Y10  \n",
       "0      ...  0.0  0.0   0.0   0.0  0.0  16.0  0.0  0.0  0.0  0.0  \n",
       "1      ...  0.0  0.0   0.0   0.0  0.0   6.0  0.0  0.0  0.0  0.0  \n",
       "2      ...  0.0  0.0  12.0  28.0  0.0   0.0  0.0  2.0  2.0  0.0  \n",
       "3      ...  0.0  0.0  12.0  28.0  0.0   0.0  0.0  2.0  2.0  0.0  \n",
       "4      ...  0.0  0.0   0.0   0.0  0.0   9.0  0.0  1.0  0.0  0.0  \n",
       "\n",
       "[5 rows x 124 columns]"
      ]
     },
     "execution_count": 84,
     "metadata": {},
     "output_type": "execute_result"
    }
   ],
   "source": [
    "# 取有英文的部份\n",
    "c_ls_cn = [c for c in table_cn.columns if re.search('[A-Za-z]', c)]\n",
    "final_table_cn = table_cn[c_ls_cn]\n",
    "final_table_cn.head()"
   ]
  },
  {
   "cell_type": "code",
   "execution_count": 85,
   "metadata": {},
   "outputs": [
    {
     "data": {
      "text/plain": [
       "(7917, 124)"
      ]
     },
     "execution_count": 85,
     "metadata": {},
     "output_type": "execute_result"
    }
   ],
   "source": [
    "final_table_cn.shape"
   ]
  },
  {
   "cell_type": "code",
   "execution_count": 86,
   "metadata": {},
   "outputs": [],
   "source": [
    "final_table_cn.to_csv('w_company_cpc_cn_10.csv',index=0)"
   ]
  },
  {
   "cell_type": "code",
   "execution_count": null,
   "metadata": {},
   "outputs": [],
   "source": []
  },
  {
   "cell_type": "code",
   "execution_count": 87,
   "metadata": {},
   "outputs": [],
   "source": [
    "mongoURI = \"mongodb://%s:%s@%s/%s?authMechanism=SCRAM-SHA-1\" % (\"eva\", \"eva_30241\", \"140.117.69.70:30241\", \"eva\")\n",
    "\n",
    "conn = pymongo.MongoClient(mongoURI)\n",
    "db = conn.eva\n",
    "conn_db_collection = db.w_company_cpc_cn_10"
   ]
  },
  {
   "cell_type": "code",
   "execution_count": 88,
   "metadata": {},
   "outputs": [
    {
     "data": {
      "text/plain": [
       "<pymongo.results.InsertOneResult at 0x7f8c34607b40>"
      ]
     },
     "execution_count": 88,
     "metadata": {},
     "output_type": "execute_result"
    }
   ],
   "source": [
    "# title\n",
    "conn_db_collection.insert_one({\"company\":final_table_cn.columns.tolist()[0],\"cpc\":final_table_cn.columns.tolist()[1:]})"
   ]
  },
  {
   "cell_type": "code",
   "execution_count": 89,
   "metadata": {},
   "outputs": [],
   "source": [
    "# 內容\n",
    "for k in final_table_cn.values.tolist():\n",
    "    # print({\"company\":k[0],\"cpc\":k[1:]})\n",
    "    conn_db_collection.insert_one({\"company\":k[0],\"cpc\":k[1:]})"
   ]
  },
  {
   "cell_type": "code",
   "execution_count": null,
   "metadata": {},
   "outputs": [],
   "source": []
  },
  {
   "cell_type": "code",
   "execution_count": null,
   "metadata": {},
   "outputs": [],
   "source": []
  },
  {
   "cell_type": "code",
   "execution_count": null,
   "metadata": {},
   "outputs": [],
   "source": []
  },
  {
   "cell_type": "markdown",
   "metadata": {},
   "source": [
    "### US"
   ]
  },
  {
   "cell_type": "code",
   "execution_count": 90,
   "metadata": {
    "tags": []
   },
   "outputs": [],
   "source": [
    "data_assignee = db_us_10.aggregate([\n",
    "    {\"$unwind\" : \"$current_assignee\"},\n",
    "    {\"$group\" : {\"_id\" : \"$current_assignee\", \"count\":{\"$sum\":1}}},\n",
    "    {\"$sort\": {\"count\":-1}}#,\n",
    "    #{\"$limit\":10}\n",
    "])\n",
    "\n",
    "ls_company = []\n",
    "ls_count = []\n",
    "for data in data_assignee:\n",
    "    # print(data[\"_id\"])\n",
    "    ls_company.append(data[\"_id\"].replace(\"))\",\")\"))\n",
    "    ls_count.append(data[\"count\"])"
   ]
  },
  {
   "cell_type": "code",
   "execution_count": 91,
   "metadata": {},
   "outputs": [
    {
     "data": {
      "text/plain": [
       "4957"
      ]
     },
     "execution_count": 91,
     "metadata": {},
     "output_type": "execute_result"
    }
   ],
   "source": [
    "len(ls_company)"
   ]
  },
  {
   "cell_type": "code",
   "execution_count": 92,
   "metadata": {
    "tags": []
   },
   "outputs": [
    {
     "data": {
      "text/html": [
       "<div>\n",
       "<style scoped>\n",
       "    .dataframe tbody tr th:only-of-type {\n",
       "        vertical-align: middle;\n",
       "    }\n",
       "\n",
       "    .dataframe tbody tr th {\n",
       "        vertical-align: top;\n",
       "    }\n",
       "\n",
       "    .dataframe thead th {\n",
       "        text-align: right;\n",
       "    }\n",
       "</style>\n",
       "<table border=\"1\" class=\"dataframe\">\n",
       "  <thead>\n",
       "    <tr style=\"text-align: right;\">\n",
       "      <th></th>\n",
       "      <th>company</th>\n",
       "      <th>cpc</th>\n",
       "      <th>count</th>\n",
       "    </tr>\n",
       "  </thead>\n",
       "  <tbody>\n",
       "    <tr>\n",
       "      <th>0</th>\n",
       "      <td>Qualcomm Inc</td>\n",
       "      <td>H04L5</td>\n",
       "      <td>8921</td>\n",
       "    </tr>\n",
       "    <tr>\n",
       "      <th>1</th>\n",
       "      <td>Qualcomm Inc</td>\n",
       "      <td>H04W72</td>\n",
       "      <td>7178</td>\n",
       "    </tr>\n",
       "    <tr>\n",
       "      <th>2</th>\n",
       "      <td>Qualcomm Inc</td>\n",
       "      <td>H04L1</td>\n",
       "      <td>3964</td>\n",
       "    </tr>\n",
       "    <tr>\n",
       "      <th>3</th>\n",
       "      <td>Qualcomm Inc</td>\n",
       "      <td>H04B7</td>\n",
       "      <td>3877</td>\n",
       "    </tr>\n",
       "    <tr>\n",
       "      <th>4</th>\n",
       "      <td>Qualcomm Inc</td>\n",
       "      <td>H04W52</td>\n",
       "      <td>2010</td>\n",
       "    </tr>\n",
       "  </tbody>\n",
       "</table>\n",
       "</div>"
      ],
      "text/plain": [
       "        company     cpc  count\n",
       "0  Qualcomm Inc   H04L5   8921\n",
       "1  Qualcomm Inc  H04W72   7178\n",
       "2  Qualcomm Inc   H04L1   3964\n",
       "3  Qualcomm Inc   H04B7   3877\n",
       "4  Qualcomm Inc  H04W52   2010"
      ]
     },
     "execution_count": 92,
     "metadata": {},
     "output_type": "execute_result"
    }
   ],
   "source": [
    "ls_c = []\n",
    "ls_cpc = []\n",
    "ls_count = []\n",
    "\n",
    "for c in ls_company:\n",
    "    try:\n",
    "        data_cpc = db_us_10.aggregate([\n",
    "            {\"$match\" : {\"current_assignee\":{\"$regex\":c}}},\n",
    "            {\"$unwind\" : \"$current_assignee\"},\n",
    "            {\"$unwind\" : \"$classification\"},\n",
    "            {\"$project\" : {\"class\": {\"$split\": [\"$classification\", \"/\"]}, \"qty\":1}},\n",
    "            {\"$unwind\" : \"$class\"},\n",
    "            {\"$group\" : {\"_id\" : \"$class\", \"count\":{\"$sum\":1}}},\n",
    "            {\"$sort\": {\"count\":-1}}\n",
    "            # {\"$limit\":5}\n",
    "        ])\n",
    "    except:\n",
    "        print(c)\n",
    "\n",
    "    for data in data_cpc:\n",
    "        #print(data)\n",
    "        ls_c.append(c)\n",
    "        ls_cpc.append(data[\"_id\"])\n",
    "        ls_count.append(data[\"count\"])\n",
    "        \n",
    "df_cpc_us = pd.DataFrame((zip(ls_c, ls_cpc, ls_count)), columns = ['company', 'cpc', 'count'])\n",
    "df_cpc_us.head()"
   ]
  },
  {
   "cell_type": "code",
   "execution_count": 93,
   "metadata": {},
   "outputs": [
    {
     "data": {
      "text/plain": [
       "(200793, 3)"
      ]
     },
     "execution_count": 93,
     "metadata": {},
     "output_type": "execute_result"
    }
   ],
   "source": [
    "df_cpc_us.shape"
   ]
  },
  {
   "cell_type": "code",
   "execution_count": null,
   "metadata": {},
   "outputs": [],
   "source": []
  },
  {
   "cell_type": "code",
   "execution_count": 94,
   "metadata": {},
   "outputs": [],
   "source": [
    "# 取cpc前3碼\n",
    "df_cpc_us[\"cpc_n\"] = df_cpc_us.cpc.apply(lambda x: x[0:3])"
   ]
  },
  {
   "cell_type": "code",
   "execution_count": 95,
   "metadata": {},
   "outputs": [],
   "source": [
    "# 轉成company-cpc 的總數表格\n",
    "table_us = df_cpc_us.pivot_table(index='company', values='count', columns='cpc_n',aggfunc=['sum']).fillna(0).reset_index()\n",
    "table_us = table_us.droplevel(level=0, axis=1)\n",
    "table_us = table_us.rename(columns={'':'company'})"
   ]
  },
  {
   "cell_type": "code",
   "execution_count": 96,
   "metadata": {},
   "outputs": [
    {
     "data": {
      "text/html": [
       "<div>\n",
       "<style scoped>\n",
       "    .dataframe tbody tr th:only-of-type {\n",
       "        vertical-align: middle;\n",
       "    }\n",
       "\n",
       "    .dataframe tbody tr th {\n",
       "        vertical-align: top;\n",
       "    }\n",
       "\n",
       "    .dataframe thead th {\n",
       "        text-align: right;\n",
       "    }\n",
       "</style>\n",
       "<table border=\"1\" class=\"dataframe\">\n",
       "  <thead>\n",
       "    <tr style=\"text-align: right;\">\n",
       "      <th>cpc_n</th>\n",
       "      <th>company</th>\n",
       "      <th>A01</th>\n",
       "      <th>A21</th>\n",
       "      <th>A22</th>\n",
       "      <th>A23</th>\n",
       "      <th>A24</th>\n",
       "      <th>A41</th>\n",
       "      <th>A42</th>\n",
       "      <th>A43</th>\n",
       "      <th>A44</th>\n",
       "      <th>...</th>\n",
       "      <th>G16</th>\n",
       "      <th>G21</th>\n",
       "      <th>H01</th>\n",
       "      <th>H02</th>\n",
       "      <th>H03</th>\n",
       "      <th>H04</th>\n",
       "      <th>H05</th>\n",
       "      <th>Y02</th>\n",
       "      <th>Y04</th>\n",
       "      <th>Y10</th>\n",
       "    </tr>\n",
       "  </thead>\n",
       "  <tbody>\n",
       "    <tr>\n",
       "      <th>0</th>\n",
       "      <td>#glowontech</td>\n",
       "      <td>0.0</td>\n",
       "      <td>0.0</td>\n",
       "      <td>0.0</td>\n",
       "      <td>0.0</td>\n",
       "      <td>0.0</td>\n",
       "      <td>0.0</td>\n",
       "      <td>0.0</td>\n",
       "      <td>0.0</td>\n",
       "      <td>0.0</td>\n",
       "      <td>...</td>\n",
       "      <td>0.0</td>\n",
       "      <td>0.0</td>\n",
       "      <td>0.0</td>\n",
       "      <td>0.0</td>\n",
       "      <td>0.0</td>\n",
       "      <td>0.0</td>\n",
       "      <td>0.0</td>\n",
       "      <td>0.0</td>\n",
       "      <td>0.0</td>\n",
       "      <td>0.0</td>\n",
       "    </tr>\n",
       "    <tr>\n",
       "      <th>1</th>\n",
       "      <td>0Chain LLC</td>\n",
       "      <td>0.0</td>\n",
       "      <td>0.0</td>\n",
       "      <td>0.0</td>\n",
       "      <td>0.0</td>\n",
       "      <td>0.0</td>\n",
       "      <td>0.0</td>\n",
       "      <td>0.0</td>\n",
       "      <td>0.0</td>\n",
       "      <td>0.0</td>\n",
       "      <td>...</td>\n",
       "      <td>0.0</td>\n",
       "      <td>0.0</td>\n",
       "      <td>0.0</td>\n",
       "      <td>0.0</td>\n",
       "      <td>0.0</td>\n",
       "      <td>5.0</td>\n",
       "      <td>0.0</td>\n",
       "      <td>0.0</td>\n",
       "      <td>0.0</td>\n",
       "      <td>0.0</td>\n",
       "    </tr>\n",
       "    <tr>\n",
       "      <th>2</th>\n",
       "      <td>10353744 Canada Ltd</td>\n",
       "      <td>0.0</td>\n",
       "      <td>0.0</td>\n",
       "      <td>0.0</td>\n",
       "      <td>0.0</td>\n",
       "      <td>0.0</td>\n",
       "      <td>0.0</td>\n",
       "      <td>0.0</td>\n",
       "      <td>0.0</td>\n",
       "      <td>0.0</td>\n",
       "      <td>...</td>\n",
       "      <td>0.0</td>\n",
       "      <td>0.0</td>\n",
       "      <td>0.0</td>\n",
       "      <td>0.0</td>\n",
       "      <td>0.0</td>\n",
       "      <td>5.0</td>\n",
       "      <td>0.0</td>\n",
       "      <td>0.0</td>\n",
       "      <td>0.0</td>\n",
       "      <td>0.0</td>\n",
       "    </tr>\n",
       "    <tr>\n",
       "      <th>3</th>\n",
       "      <td>10757616 Canada Corp</td>\n",
       "      <td>0.0</td>\n",
       "      <td>0.0</td>\n",
       "      <td>0.0</td>\n",
       "      <td>0.0</td>\n",
       "      <td>0.0</td>\n",
       "      <td>0.0</td>\n",
       "      <td>0.0</td>\n",
       "      <td>0.0</td>\n",
       "      <td>0.0</td>\n",
       "      <td>...</td>\n",
       "      <td>0.0</td>\n",
       "      <td>0.0</td>\n",
       "      <td>6.0</td>\n",
       "      <td>14.0</td>\n",
       "      <td>0.0</td>\n",
       "      <td>0.0</td>\n",
       "      <td>0.0</td>\n",
       "      <td>1.0</td>\n",
       "      <td>1.0</td>\n",
       "      <td>0.0</td>\n",
       "    </tr>\n",
       "    <tr>\n",
       "      <th>4</th>\n",
       "      <td>12a Systems Co Ltd</td>\n",
       "      <td>0.0</td>\n",
       "      <td>0.0</td>\n",
       "      <td>0.0</td>\n",
       "      <td>0.0</td>\n",
       "      <td>0.0</td>\n",
       "      <td>0.0</td>\n",
       "      <td>0.0</td>\n",
       "      <td>0.0</td>\n",
       "      <td>0.0</td>\n",
       "      <td>...</td>\n",
       "      <td>0.0</td>\n",
       "      <td>0.0</td>\n",
       "      <td>0.0</td>\n",
       "      <td>0.0</td>\n",
       "      <td>0.0</td>\n",
       "      <td>0.0</td>\n",
       "      <td>0.0</td>\n",
       "      <td>0.0</td>\n",
       "      <td>0.0</td>\n",
       "      <td>0.0</td>\n",
       "    </tr>\n",
       "  </tbody>\n",
       "</table>\n",
       "<p>5 rows × 119 columns</p>\n",
       "</div>"
      ],
      "text/plain": [
       "cpc_n               company  A01  A21  A22  A23  A24  A41  A42  A43  A44  ...  \\\n",
       "0               #glowontech  0.0  0.0  0.0  0.0  0.0  0.0  0.0  0.0  0.0  ...   \n",
       "1                0Chain LLC  0.0  0.0  0.0  0.0  0.0  0.0  0.0  0.0  0.0  ...   \n",
       "2       10353744 Canada Ltd  0.0  0.0  0.0  0.0  0.0  0.0  0.0  0.0  0.0  ...   \n",
       "3      10757616 Canada Corp  0.0  0.0  0.0  0.0  0.0  0.0  0.0  0.0  0.0  ...   \n",
       "4        12a Systems Co Ltd  0.0  0.0  0.0  0.0  0.0  0.0  0.0  0.0  0.0  ...   \n",
       "\n",
       "cpc_n  G16  G21  H01   H02  H03  H04  H05  Y02  Y04  Y10  \n",
       "0      0.0  0.0  0.0   0.0  0.0  0.0  0.0  0.0  0.0  0.0  \n",
       "1      0.0  0.0  0.0   0.0  0.0  5.0  0.0  0.0  0.0  0.0  \n",
       "2      0.0  0.0  0.0   0.0  0.0  5.0  0.0  0.0  0.0  0.0  \n",
       "3      0.0  0.0  6.0  14.0  0.0  0.0  0.0  1.0  1.0  0.0  \n",
       "4      0.0  0.0  0.0   0.0  0.0  0.0  0.0  0.0  0.0  0.0  \n",
       "\n",
       "[5 rows x 119 columns]"
      ]
     },
     "execution_count": 96,
     "metadata": {},
     "output_type": "execute_result"
    }
   ],
   "source": [
    "# 取有英文的部份\n",
    "c_ls_us = [c for c in table_us.columns if re.search('[A-Za-z]', c)]\n",
    "final_table_us = table_us[c_ls_us]\n",
    "final_table_us.head()"
   ]
  },
  {
   "cell_type": "code",
   "execution_count": 97,
   "metadata": {},
   "outputs": [
    {
     "data": {
      "text/plain": [
       "(4927, 119)"
      ]
     },
     "execution_count": 97,
     "metadata": {},
     "output_type": "execute_result"
    }
   ],
   "source": [
    "final_table_us.shape"
   ]
  },
  {
   "cell_type": "code",
   "execution_count": 98,
   "metadata": {},
   "outputs": [],
   "source": [
    "final_table_us.to_csv('w_company_cpc_us_10.csv',index=0)"
   ]
  },
  {
   "cell_type": "code",
   "execution_count": null,
   "metadata": {},
   "outputs": [],
   "source": []
  },
  {
   "cell_type": "code",
   "execution_count": 99,
   "metadata": {},
   "outputs": [],
   "source": [
    "mongoURI = \"mongodb://%s:%s@%s/%s?authMechanism=SCRAM-SHA-1\" % (\"eva\", \"eva_30241\", \"140.117.69.70:30241\", \"eva\")\n",
    "\n",
    "conn = pymongo.MongoClient(mongoURI)\n",
    "db = conn.eva\n",
    "conn_db_collection = db.w_company_cpc_us_10"
   ]
  },
  {
   "cell_type": "code",
   "execution_count": 100,
   "metadata": {},
   "outputs": [
    {
     "data": {
      "text/plain": [
       "<pymongo.results.InsertOneResult at 0x7f8c32f5c200>"
      ]
     },
     "execution_count": 100,
     "metadata": {},
     "output_type": "execute_result"
    }
   ],
   "source": [
    "# title\n",
    "conn_db_collection.insert_one({\"company\":final_table_us.columns.tolist()[0],\"cpc\":final_table_us.columns.tolist()[1:]})"
   ]
  },
  {
   "cell_type": "code",
   "execution_count": 101,
   "metadata": {},
   "outputs": [],
   "source": [
    "# 內容\n",
    "for k in final_table_us.values.tolist():\n",
    "    # print({\"company\":k[0],\"cpc\":k[1:]})\n",
    "    conn_db_collection.insert_one({\"company\":k[0],\"cpc\":k[1:]})"
   ]
  },
  {
   "cell_type": "code",
   "execution_count": null,
   "metadata": {},
   "outputs": [],
   "source": []
  },
  {
   "cell_type": "code",
   "execution_count": null,
   "metadata": {},
   "outputs": [],
   "source": []
  },
  {
   "cell_type": "code",
   "execution_count": null,
   "metadata": {},
   "outputs": [],
   "source": []
  },
  {
   "cell_type": "code",
   "execution_count": null,
   "metadata": {},
   "outputs": [],
   "source": []
  },
  {
   "cell_type": "code",
   "execution_count": null,
   "metadata": {},
   "outputs": [],
   "source": []
  },
  {
   "cell_type": "code",
   "execution_count": null,
   "metadata": {},
   "outputs": [],
   "source": []
  },
  {
   "cell_type": "code",
   "execution_count": null,
   "metadata": {},
   "outputs": [],
   "source": []
  }
 ],
 "metadata": {
  "kernelspec": {
   "display_name": "for_paper",
   "language": "python",
   "name": "for_paper"
  },
  "language_info": {
   "codemirror_mode": {
    "name": "ipython",
    "version": 3
   },
   "file_extension": ".py",
   "mimetype": "text/x-python",
   "name": "python",
   "nbconvert_exporter": "python",
   "pygments_lexer": "ipython3",
   "version": "3.8.12"
  },
  "toc-autonumbering": false,
  "toc-showcode": false,
  "toc-showmarkdowntxt": false,
  "toc-showtags": true
 },
 "nbformat": 4,
 "nbformat_minor": 4
}
