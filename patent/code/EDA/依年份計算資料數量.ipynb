{
 "cells": [
  {
   "cell_type": "code",
   "execution_count": 1,
   "id": "dc38da82-00ed-4415-8a5f-b58493fc3448",
   "metadata": {},
   "outputs": [],
   "source": [
    "from pymongo import MongoClient\n",
    "# from sshtunnel import SSHTunnelForwarder\n",
    "import pymongo\n",
    "from tqdm import tqdm\n",
    "import os\n",
    "import re\n",
    "\n",
    "import numpy as np\n",
    "import pandas as pd\n",
    "\n",
    "import dateutil.parser\n",
    "import matplotlib.pyplot as plt"
   ]
  },
  {
   "cell_type": "code",
   "execution_count": 2,
   "id": "2cf6accc-a5a6-4b3a-ab21-fc745172c993",
   "metadata": {},
   "outputs": [],
   "source": [
    "# 使用GPU\n",
    "os.environ[\"CUDA_VISIBLE_DEVICES\"]=\"1\""
   ]
  },
  {
   "cell_type": "code",
   "execution_count": 3,
   "id": "935b3c4e-b92e-4ef1-bc02-e1c5492dace4",
   "metadata": {
    "tags": []
   },
   "outputs": [
    {
     "name": "stdout",
     "output_type": "stream",
     "text": [
      "Sun Jul 17 15:41:31 2022       \n",
      "+-----------------------------------------------------------------------------+\n",
      "| NVIDIA-SMI 470.129.06   Driver Version: 470.129.06   CUDA Version: 11.4     |\n",
      "|-------------------------------+----------------------+----------------------+\n",
      "| GPU  Name        Persistence-M| Bus-Id        Disp.A | Volatile Uncorr. ECC |\n",
      "| Fan  Temp  Perf  Pwr:Usage/Cap|         Memory-Usage | GPU-Util  Compute M. |\n",
      "|                               |                      |               MIG M. |\n",
      "|===============================+======================+======================|\n",
      "|   0  NVIDIA GeForce ...  Off  | 00000000:01:00.0 Off |                  N/A |\n",
      "| 27%   35C    P8    22W / 260W |     22MiB / 11019MiB |      0%      Default |\n",
      "|                               |                      |                  N/A |\n",
      "+-------------------------------+----------------------+----------------------+\n",
      "|   1  NVIDIA GeForce ...  Off  | 00000000:02:00.0 Off |                  N/A |\n",
      "| 25%   33C    P8    25W / 260W |      8MiB / 11019MiB |      0%      Default |\n",
      "|                               |                      |                  N/A |\n",
      "+-------------------------------+----------------------+----------------------+\n",
      "                                                                               \n",
      "+-----------------------------------------------------------------------------+\n",
      "| Processes:                                                                  |\n",
      "|  GPU   GI   CI        PID   Type   Process name                  GPU Memory |\n",
      "|        ID   ID                                                   Usage      |\n",
      "|=============================================================================|\n",
      "|    0   N/A  N/A      1998      G   /usr/lib/xorg/Xorg                  9MiB |\n",
      "|    0   N/A  N/A      2463      G   /usr/bin/gnome-shell                7MiB |\n",
      "|    1   N/A  N/A      1998      G   /usr/lib/xorg/Xorg                  4MiB |\n",
      "+-----------------------------------------------------------------------------+\n"
     ]
    }
   ],
   "source": [
    "! nvidia-smi"
   ]
  },
  {
   "cell_type": "markdown",
   "id": "b60ab0b3-0076-4219-bd61-3b3c6c74e35b",
   "metadata": {
    "tags": []
   },
   "source": [
    "# MongoDB"
   ]
  },
  {
   "cell_type": "code",
   "execution_count": 4,
   "id": "493eab91-6cb2-4b0f-89f7-7cf0cf187897",
   "metadata": {},
   "outputs": [],
   "source": [
    "mongoURI = \"mongodb://%s:%s@%s/%s?authMechanism=SCRAM-SHA-1\" % (\"eva\", \"eva_30241\", \"140.117.69.70:30241\", \"eva\")\n",
    "\n",
    "try:\n",
    "    conn = pymongo.MongoClient(mongoURI)\n",
    "    db = conn.eva\n",
    "    # db_de = db.patent_de\n",
    "    # db_us = db.patent_us\n",
    "    # db_cn = db.patent_cn\n",
    "\n",
    "    db_us =  db.rm_patent_us\n",
    "    db_cn =  db.rm_patent_cn\n",
    "    db_de =  db.rm_patent_de\n",
    "    \n",
    "    # db_cn_5 = db.w_patent_cn_5\n",
    "    # db_cn_10 = db.w_patent_cn_10\n",
    "    # db_us_5 = db.w_patent_us_5\n",
    "    # db_us_10 = db.w_patent_us_10\n",
    "    # db_de_5 = db.w_patent_de_5\n",
    "    # db_de_10 = db.w_patent_de_10\n",
    "except errors.ConnectionFailure as err:\n",
    "    print(err)"
   ]
  },
  {
   "cell_type": "code",
   "execution_count": 5,
   "id": "b7674747-2ded-4c05-a9c7-a7e129f24db7",
   "metadata": {},
   "outputs": [
    {
     "data": {
      "text/plain": [
       "Collection(Database(MongoClient(host=['140.117.69.70:30241'], document_class=dict, tz_aware=False, connect=True, authmechanism='SCRAM-SHA-1'), 'eva'), 'rm_patent_de')"
      ]
     },
     "execution_count": 5,
     "metadata": {},
     "output_type": "execute_result"
    }
   ],
   "source": [
    "db_de"
   ]
  },
  {
   "cell_type": "code",
   "execution_count": null,
   "id": "17f689d8-296a-4de2-83b8-af5b980b5871",
   "metadata": {},
   "outputs": [],
   "source": []
  },
  {
   "cell_type": "markdown",
   "id": "ad481f55-68f9-41fb-a670-81919648b36e",
   "metadata": {
    "tags": []
   },
   "source": [
    "# 取得各年資料筆數"
   ]
  },
  {
   "cell_type": "code",
   "execution_count": 6,
   "id": "db580356",
   "metadata": {},
   "outputs": [
    {
     "name": "stdout",
     "output_type": "stream",
     "text": [
      "2010-01-01T00:00:00.000Z\n",
      "2011-01-01T00:00:00.000Z\n",
      "2012-01-01T00:00:00.000Z\n",
      "2013-01-01T00:00:00.000Z\n",
      "2014-01-01T00:00:00.000Z\n",
      "2015-01-01T00:00:00.000Z\n",
      "2016-01-01T00:00:00.000Z\n",
      "2017-01-01T00:00:00.000Z\n",
      "2018-01-01T00:00:00.000Z\n",
      "2019-01-01T00:00:00.000Z\n",
      "2020-01-01T00:00:00.000Z\n"
     ]
    }
   ],
   "source": [
    "cn_ls=[]\n",
    "de_ls=[]\n",
    "us_ls=[]\n",
    "\n",
    "for i in range(2010,2021):\n",
    "    dateStr = \"{}-01-01T00:00:00.000Z\".format(i)\n",
    "    start = dateutil.parser.parse(dateStr)\n",
    "\n",
    "    dateEnd = \"{}-12-31T00:00:00.000Z\".format(i)\n",
    "    end = dateutil.parser.parse(dateEnd)\n",
    "\n",
    "    db_cn_2010 = pd.DataFrame(db_cn.aggregate( [ \n",
    "        {\"$addFields\": { \"appDate\":\n",
    "                { \"$dateFromString\": {\n",
    "                \"dateString\": '$appDate',\n",
    "                \"timezone\": 'America/New_York'}\n",
    "                }}\n",
    "            },\n",
    "            {\"$match\": {\n",
    "                \"appDate\": { \"$gte\": start, \"$lte\": end }}\n",
    "            },\n",
    "        {\"$count\":\"total\"}\n",
    "    ] ))\n",
    "\n",
    "    cn_ls.append(db_cn_2010.values[0,0])\n",
    "\n",
    "    db_de_2010 = pd.DataFrame(db_de.aggregate( [ \n",
    "        {\"$addFields\": { \"appDate\":\n",
    "                { \"$dateFromString\": {\n",
    "                \"dateString\": '$appDate',\n",
    "                \"timezone\": 'America/New_York'}\n",
    "                }}\n",
    "            },\n",
    "            {\"$match\": {\n",
    "                \"appDate\": { \"$gte\": start, \"$lte\": end }}\n",
    "            },\n",
    "        {\"$count\":\"total\"}\n",
    "    ] ))\n",
    "    try:\n",
    "        de_ls.append(db_de_2010.values[0,0])\n",
    "    except:\n",
    "        de_ls.append(0)\n",
    "\n",
    "    db_us_2010 = pd.DataFrame(db_us.aggregate( [ \n",
    "        {\"$addFields\": { \"appDate\":\n",
    "                { \"$dateFromString\": {\n",
    "                \"dateString\": '$appDate',\n",
    "                \"timezone\": 'America/New_York'}\n",
    "                }}\n",
    "            },\n",
    "            {\"$match\": {\n",
    "                \"appDate\": { \"$gte\": start, \"$lte\": end }}\n",
    "            },\n",
    "        {\"$count\":\"total\"}\n",
    "    ] ))\n",
    "\n",
    "    us_ls.append(db_us_2010.values[0,0])\n",
    "\n",
    "\n",
    "\n",
    "    print(dateStr)"
   ]
  },
  {
   "cell_type": "code",
   "execution_count": 7,
   "id": "b4bd2e9f",
   "metadata": {},
   "outputs": [
    {
     "name": "stdout",
     "output_type": "stream",
     "text": [
      "us_ls [30, 123, 156, 178, 660, 2001, 3555, 5127, 7828, 10539, 8455]\n",
      "de_ls [0, 0, 7, 7, 12, 37, 88, 199, 230, 242, 243]\n",
      "cn_ls [266, 558, 852, 968, 845, 1486, 2884, 6557, 6741, 7486, 7692]\n"
     ]
    }
   ],
   "source": [
    "print(\"us_ls\",us_ls)\n",
    "print(\"de_ls\",de_ls)\n",
    "print(\"cn_ls\",cn_ls)"
   ]
  },
  {
   "cell_type": "markdown",
   "id": "961d658a",
   "metadata": {},
   "source": [
    "# 畫出歷年折線圖"
   ]
  },
  {
   "cell_type": "code",
   "execution_count": 8,
   "id": "64978a58-3f60-435d-ba8c-5a90ae7e7233",
   "metadata": {},
   "outputs": [
    {
     "data": {
      "image/png": "[encoded data removed]",
      "text/plain": [
       "<Figure size 576x432 with 1 Axes>"
      ]
     },
     "metadata": {
      "needs_background": "light"
     },
     "output_type": "display_data"
    }
   ],
   "source": [
    "plt.figure(figsize=(8,6))\n",
    "plt.style.use('ggplot')\n",
    "\n",
    "plt.plot(us_ls,\"-o\",label=\"USPTO\")\n",
    "plt.plot(cn_ls,\"-o\",label=\"CNIPA\")\n",
    "plt.plot(de_ls,\"-o\",label=\"DPMA\")\n",
    "plt.legend(bbox_to_anchor=(1.05, 1.0), loc='upper left')\n",
    "plt.xticks(range(0,11),labels=list(range(2010,2021)),rotation=30)\n",
    "plt.xlabel(\"Year\")\n",
    "plt.ylabel(\"Number of IoT Patents\")\n",
    "\n",
    "plt.show()"
   ]
  },
  {
   "cell_type": "code",
   "execution_count": null,
   "id": "9a798135-bafa-4d1b-989a-86e79c67c67a",
   "metadata": {},
   "outputs": [],
   "source": []
  },
  {
   "cell_type": "code",
   "execution_count": null,
   "id": "8c9ee540-5484-42e5-aa99-246bb80448a1",
   "metadata": {},
   "outputs": [],
   "source": []
  },
  {
   "cell_type": "code",
   "execution_count": null,
   "id": "93f9d46c",
   "metadata": {},
   "outputs": [],
   "source": []
  }
 ],
 "metadata": {
  "kernelspec": {
   "display_name": "for_paper",
   "language": "python",
   "name": "for_paper"
  },
  "language_info": {
   "codemirror_mode": {
    "name": "ipython",
    "version": 3
   },
   "file_extension": ".py",
   "mimetype": "text/x-python",
   "name": "python",
   "nbconvert_exporter": "python",
   "pygments_lexer": "ipython3",
   "version": "3.8.12"
  }
 },
 "nbformat": 4,
 "nbformat_minor": 5
}
