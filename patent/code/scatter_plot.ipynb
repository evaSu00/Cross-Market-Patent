{
 "cells": [
  {
   "cell_type": "code",
   "execution_count": 1,
   "id": "a0e47da6-e14f-4579-83cd-394ce006ea9a",
   "metadata": {},
   "outputs": [],
   "source": [
    "import numpy as np\n",
    "import pandas as pd\n",
    "import os\n",
    "\n",
    "from sklearn.decomposition import PCA\n",
    "import matplotlib.pyplot as plt\n",
    "\n",
    "from scipy.special import rel_entr\n",
    "from scipy.stats import entropy\n",
    "import scipy.stats\n",
    "import math\n",
    "import warnings \n",
    "warnings.filterwarnings(\"ignore\") "
   ]
  },
  {
   "cell_type": "code",
   "execution_count": 2,
   "id": "dbf8a015-c363-40d4-9edb-4421bbd83a4a",
   "metadata": {},
   "outputs": [],
   "source": [
    "# 使用GPU\n",
    "os.environ[\"CUDA_VISIBLE_DEVICES\"]=\"1\""
   ]
  },
  {
   "cell_type": "code",
   "execution_count": 3,
   "id": "a3ed0188-8198-49f6-9b45-2031dbb7a992",
   "metadata": {},
   "outputs": [
    {
     "name": "stdout",
     "output_type": "stream",
     "text": [
      "Tue Aug  2 12:33:06 2022       \n",
      "+-----------------------------------------------------------------------------+\n",
      "| NVIDIA-SMI 470.129.06   Driver Version: 470.129.06   CUDA Version: 11.4     |\n",
      "|-------------------------------+----------------------+----------------------+\n",
      "| GPU  Name        Persistence-M| Bus-Id        Disp.A | Volatile Uncorr. ECC |\n",
      "| Fan  Temp  Perf  Pwr:Usage/Cap|         Memory-Usage | GPU-Util  Compute M. |\n",
      "|                               |                      |               MIG M. |\n",
      "|===============================+======================+======================|\n",
      "|   0  NVIDIA GeForce ...  Off  | 00000000:01:00.0 Off |                  N/A |\n",
      "| 26%   34C    P8    19W / 260W |     22MiB / 11019MiB |      0%      Default |\n",
      "|                               |                      |                  N/A |\n",
      "+-------------------------------+----------------------+----------------------+\n",
      "|   1  NVIDIA GeForce ...  Off  | 00000000:02:00.0 Off |                  N/A |\n",
      "| 25%   33C    P8    24W / 260W |      8MiB / 11019MiB |      0%      Default |\n",
      "|                               |                      |                  N/A |\n",
      "+-------------------------------+----------------------+----------------------+\n",
      "                                                                               \n",
      "+-----------------------------------------------------------------------------+\n",
      "| Processes:                                                                  |\n",
      "|  GPU   GI   CI        PID   Type   Process name                  GPU Memory |\n",
      "|        ID   ID                                                   Usage      |\n",
      "|=============================================================================|\n",
      "|    0   N/A  N/A      1821      G   /usr/lib/xorg/Xorg                  9MiB |\n",
      "|    0   N/A  N/A      2145      G   /usr/bin/gnome-shell                7MiB |\n",
      "|    1   N/A  N/A      1821      G   /usr/lib/xorg/Xorg                  4MiB |\n",
      "+-----------------------------------------------------------------------------+\n"
     ]
    }
   ],
   "source": [
    "! nvidia-smi"
   ]
  },
  {
   "cell_type": "code",
   "execution_count": null,
   "id": "9ad9e519-023a-4257-a033-81899310b79d",
   "metadata": {},
   "outputs": [],
   "source": []
  },
  {
   "cell_type": "markdown",
   "id": "545a13ea-ae02-49c0-b72a-0b95fdc91e74",
   "metadata": {},
   "source": [
    "# Scattor plot"
   ]
  },
  {
   "cell_type": "markdown",
   "id": "827fa0df-bc91-4eec-bfb2-942e9ca7b053",
   "metadata": {},
   "source": [
    "AGR：Relative Patent Growth (y軸)  \n",
    "Relative Technology Share (x軸)"
   ]
  },
  {
   "cell_type": "code",
   "execution_count": 4,
   "id": "da643edb-f145-4511-a91e-2c879f90c791",
   "metadata": {},
   "outputs": [],
   "source": [
    "def NormalizeData(data):\n",
    "    return (data - np.min(data)) / (np.max(data) - np.min(data))"
   ]
  },
  {
   "cell_type": "markdown",
   "id": "5aeca580-dfa5-48dd-83ba-92866828229a",
   "metadata": {},
   "source": [
    "## DE"
   ]
  },
  {
   "cell_type": "code",
   "execution_count": 27,
   "id": "65072016-380a-43fb-87f2-866c63f2e771",
   "metadata": {
    "scrolled": true,
    "tags": []
   },
   "outputs": [],
   "source": [
    "cpc=[\"H04\\n-ELECTRIC COMMUNICATION TECHNIQUE\",\"G06\",\"H01\\n-BASIC ELECTRIC ELEMENTS\",\"G01\",\"A61\",\"Y02\",\"G08\",\"B60\",\"G05\",\"H03\\n-BASIC ELECTRONIC CIRCUITRY\"]\n",
    "y = [186,136,663,143,74,90,183,424,88,657]\n",
    "x = [0.443764346,0.224833315,0.092906329,0.036506722,0.019674281,0.027762597,0.019674281,0.074543666,0.025685867,0.034648595]"
   ]
  },
  {
   "cell_type": "code",
   "execution_count": 28,
   "id": "f6833963-b572-440f-8313-c1d649b46baa",
   "metadata": {},
   "outputs": [],
   "source": [
    "y=NormalizeData(y)\n",
    "x=NormalizeData(x)"
   ]
  },
  {
   "cell_type": "code",
   "execution_count": 29,
   "id": "36f58f30-4849-47d1-8add-c5c9691e089b",
   "metadata": {},
   "outputs": [],
   "source": [
    "y_1 = np.percentile(y, 33) \n",
    "y_2 = np.percentile(y, 66) \n",
    "x_1 = np.percentile(x, 33) \n",
    "x_2 = np.percentile(x, 66) "
   ]
  },
  {
   "cell_type": "code",
   "execution_count": 30,
   "id": "b43f97e4-de6d-4471-a289-f61e8d752f71",
   "metadata": {},
   "outputs": [
    {
     "data": {
      "text/plain": [
       "Text(0, 0.5, 'Relative Patent Groeth')"
      ]
     },
     "execution_count": 30,
     "metadata": {},
     "output_type": "execute_result"
    },
    {
     "data": {
      "image/png": "[encoded data removed]",
      "text/plain": [
       "<Figure size 432x432 with 1 Axes>"
      ]
     },
     "metadata": {},
     "output_type": "display_data"
    }
   ],
   "source": [
    "plt.figure(figsize=(6,6))\n",
    "\n",
    "plt.style.use('ggplot')\n",
    "    \n",
    "plt.scatter(x, y, c =\"blue\",s = 50)\n",
    "\n",
    "for i, txt in enumerate(cpc):\n",
    "    if i != 9:\n",
    "        plt.text(x[i]+0.02, y[i]-0.02,txt)\n",
    "    else:\n",
    "        pass\n",
    "    \n",
    "plt.text(x[9]+0.02, y[9]-0.06,txt)\n",
    "\n",
    "# plt.axhline(y_1, color = 'red')\n",
    "# plt.axhline(y_2, color = 'red')\n",
    "# plt.axvline(x_1, color = 'red')\n",
    "# plt.axvline(x_2, color = 'red')\n",
    "\n",
    "plt.title('Germany')\n",
    "plt.xlabel('Relative Technology Share')\n",
    "plt.ylabel('Relative Patent Groeth')"
   ]
  },
  {
   "cell_type": "code",
   "execution_count": null,
   "id": "04397f5a-af62-4d07-aa9c-e8f78e60cbe0",
   "metadata": {},
   "outputs": [],
   "source": []
  },
  {
   "cell_type": "code",
   "execution_count": null,
   "id": "807e8f13-7403-46ba-b04e-78501fcb5ac5",
   "metadata": {},
   "outputs": [],
   "source": []
  },
  {
   "cell_type": "code",
   "execution_count": null,
   "id": "b2559a0f-0a8b-4f04-9f40-ae5b332c5b37",
   "metadata": {},
   "outputs": [],
   "source": []
  },
  {
   "cell_type": "markdown",
   "id": "f7b38a9e-369a-48e0-8a47-9f958181fec0",
   "metadata": {},
   "source": [
    "## CN"
   ]
  },
  {
   "cell_type": "code",
   "execution_count": 31,
   "id": "38637272-72d9-48d7-890d-9d4d15ddd4cc",
   "metadata": {},
   "outputs": [],
   "source": [
    "cpc=[\"H04\\n-ELECTRIC COMMUNICATION TECHNIQUE\",\"G06\",\"H01\",\"G01\",\"A61\",\"Y02\",\"G08\",\"B60\",\"G05\",\"H03\\n-BASIC ELECTRONIC CIRCUITRY\"]\n",
    "y=[120,158,589,133,46,75,119,184,147,720]\n",
    "x=[0.625028198,0.142846094,0.044665588,0.050769241,0.02236502,0.04099824,0.032670976,0.01182059,0.020766598,0.008069454]"
   ]
  },
  {
   "cell_type": "code",
   "execution_count": 32,
   "id": "3338e6f2-ca10-40dd-a63e-45a09c779e9f",
   "metadata": {},
   "outputs": [],
   "source": [
    "y=NormalizeData(y)\n",
    "x=NormalizeData(x)"
   ]
  },
  {
   "cell_type": "code",
   "execution_count": 33,
   "id": "6138a96a-5681-4fd3-b170-7d69eb4e9fc9",
   "metadata": {},
   "outputs": [],
   "source": [
    "y_1 = np.percentile(y, 33) \n",
    "y_2 = np.percentile(y, 66) \n",
    "x_1 = np.percentile(x, 33) \n",
    "x_2 = np.percentile(x, 66) "
   ]
  },
  {
   "cell_type": "code",
   "execution_count": 35,
   "id": "901a81dc-8176-45b5-abe2-4658c52df87c",
   "metadata": {},
   "outputs": [
    {
     "data": {
      "text/plain": [
       "Text(0, 0.5, 'Relative Patent Groeth')"
      ]
     },
     "execution_count": 35,
     "metadata": {},
     "output_type": "execute_result"
    },
    {
     "data": {
      "image/png": "[encoded data removed]",
      "text/plain": [
       "<Figure size 432x432 with 1 Axes>"
      ]
     },
     "metadata": {},
     "output_type": "display_data"
    }
   ],
   "source": [
    "plt.figure(figsize=(6,6))\n",
    "\n",
    "plt.style.use('ggplot')\n",
    "    \n",
    "plt.scatter(x, y, c =\"blue\",s = 50)\n",
    "\n",
    "for i, txt in enumerate(cpc):\n",
    "    plt.text(x[i]+0.02, y[i]-0.02,txt)\n",
    "    \n",
    "# plt.axhline(y_1, color = 'red')\n",
    "# plt.axhline(y_2, color = 'red')\n",
    "# plt.axvline(x_1, color = 'red')\n",
    "# plt.axvline(x_2, color = 'red')\n",
    "\n",
    "plt.title('China')\n",
    "plt.xlabel('Relative Technology Share')\n",
    "plt.ylabel('Relative Patent Groeth')"
   ]
  },
  {
   "cell_type": "code",
   "execution_count": null,
   "id": "5dc17ae3-9903-4706-8e1f-ae2b97add541",
   "metadata": {},
   "outputs": [],
   "source": []
  },
  {
   "cell_type": "markdown",
   "id": "66ae1a29-02c4-4ba6-97b3-642c3c5627b4",
   "metadata": {},
   "source": [
    "## US"
   ]
  },
  {
   "cell_type": "code",
   "execution_count": 36,
   "id": "ef8aa130-664c-428f-b377-9adb9b0c6963",
   "metadata": {},
   "outputs": [],
   "source": [
    "cpc=[\"H04\\n-ELECTRIC COMMUNICATION TECHNIQUE\",\"G06\",\"H01\",\"G01\",\"A61\",\"Y02\",\"G08\",\"B60\",\"G05\\n-CONTROLLING; REGULATING\",\"H03\"]\n",
    "y=[131,158,154,101,57,127,112,76,162,148]\n",
    "x=[0.611818771,0.222262181,0.047594079,0.023603501,0.023016021,0.012842193,0.013984209,0.015892145,0.012427663,0.016559237]"
   ]
  },
  {
   "cell_type": "code",
   "execution_count": 37,
   "id": "5bac0ce7-2f7e-4e77-99f4-5dc8a51057f6",
   "metadata": {},
   "outputs": [],
   "source": [
    "y=NormalizeData(y)\n",
    "x=NormalizeData(x)"
   ]
  },
  {
   "cell_type": "code",
   "execution_count": 38,
   "id": "170d5258-6e56-4254-ba7d-987a80ea92a2",
   "metadata": {},
   "outputs": [],
   "source": [
    "y_1 = np.percentile(y, 33) \n",
    "y_2 = np.percentile(y, 66) \n",
    "x_1 = np.percentile(x, 33) \n",
    "x_2 = np.percentile(x, 66) "
   ]
  },
  {
   "cell_type": "code",
   "execution_count": 40,
   "id": "c40453e6-40bc-4df5-9478-c6280b4f3f45",
   "metadata": {},
   "outputs": [
    {
     "data": {
      "text/plain": [
       "Text(0, 0.5, 'Relative Patent Groeth')"
      ]
     },
     "execution_count": 40,
     "metadata": {},
     "output_type": "execute_result"
    },
    {
     "data": {
      "image/png": "[encoded data removed]",
      "text/plain": [
       "<Figure size 432x432 with 1 Axes>"
      ]
     },
     "metadata": {},
     "output_type": "display_data"
    }
   ],
   "source": [
    "plt.figure(figsize=(6,6))\n",
    "\n",
    "plt.style.use('ggplot')\n",
    "\n",
    "\n",
    "plt.scatter(x, y, c =\"blue\",s = 50)\n",
    "\n",
    "for i, txt in enumerate(cpc):\n",
    "    plt.text(x[i]+0.02, y[i]-0.02,txt)\n",
    "\n",
    "# plt.axhline(y_1, color = 'red')\n",
    "# plt.axhline(y_2, color = 'red')\n",
    "# plt.axvline(x_1, color = 'red')\n",
    "# plt.axvline(x_2, color = 'red')\n",
    "\n",
    "plt.title('US')\n",
    "plt.xlabel('Relative Technology Share')\n",
    "plt.ylabel('Relative Patent Groeth')"
   ]
  },
  {
   "cell_type": "code",
   "execution_count": null,
   "id": "6693acd7-3b46-46c3-bc18-3a841a0343d7",
   "metadata": {},
   "outputs": [],
   "source": []
  },
  {
   "cell_type": "code",
   "execution_count": null,
   "id": "59429e49-6b06-4471-82ed-252fe727ad3b",
   "metadata": {},
   "outputs": [],
   "source": []
  }
 ],
 "metadata": {
  "kernelspec": {
   "display_name": "for_paper",
   "language": "python",
   "name": "for_paper"
  },
  "language_info": {
   "codemirror_mode": {
    "name": "ipython",
    "version": 3
   },
   "file_extension": ".py",
   "mimetype": "text/x-python",
   "name": "python",
   "nbconvert_exporter": "python",
   "pygments_lexer": "ipython3",
   "version": "3.8.12"
  }
 },
 "nbformat": 4,
 "nbformat_minor": 5
}
