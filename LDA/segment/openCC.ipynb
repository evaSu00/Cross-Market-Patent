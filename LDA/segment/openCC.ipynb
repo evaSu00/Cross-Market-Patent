{
 "cells": [
  {
   "cell_type": "code",
   "execution_count": 1,
   "id": "fecc0b6e-ac04-4d34-a022-38bbcd1d91f1",
   "metadata": {
    "scrolled": true,
    "tags": []
   },
   "outputs": [
    {
     "name": "stdout",
     "output_type": "stream",
     "text": [
      "Defaulting to user installation because normal site-packages is not writeable\n",
      "Collecting opencc-python-reimplemented\n",
      "  Downloading opencc-python-reimplemented-0.1.6.tar.gz (484 kB)\n",
      "\u001b[K     |████████████████████████████████| 484 kB 324 kB/s eta 0:00:01\n",
      "\u001b[?25hBuilding wheels for collected packages: opencc-python-reimplemented\n",
      "  Building wheel for opencc-python-reimplemented (setup.py) ... \u001b[?25ldone\n",
      "\u001b[?25h  Created wheel for opencc-python-reimplemented: filename=opencc_python_reimplemented-0.1.6-py2.py3-none-any.whl size=493436 sha256=29b87ca0efe9adc11d37f165913cd9943403f47cd25519315f4365f9338f4fb8\n",
      "  Stored in directory: /home/evalogin/.cache/pip/wheels/79/e8/2f/9642fe8d6c9e05bec1a0876c912241c0480eb4cb5898b51e3c\n",
      "Successfully built opencc-python-reimplemented\n",
      "Installing collected packages: opencc-python-reimplemented\n",
      "Successfully installed opencc-python-reimplemented-0.1.6\n"
     ]
    }
   ],
   "source": [
    "# ! pip install opencc-python-reimplemented"
   ]
  },
  {
   "cell_type": "code",
   "execution_count": 1,
   "id": "bdb0ad58-f590-42fb-a4ba-9c425b7d75b1",
   "metadata": {},
   "outputs": [
    {
     "name": "stdout",
     "output_type": "stream",
     "text": [
      "国会议员 congressman\n",
      "\n"
     ]
    }
   ],
   "source": [
    "from opencc import OpenCC\n",
    "\n",
    "cc = OpenCC('tw2sp')\n",
    "text = '投票當天需攜帶投票通知單、國民身分證及印章，若沒有收到投票通知書 ABCDE apple'\n",
    "text2 = '國會議員 congressman\\n'\n",
    "\n",
    "print(cc.convert(text2))"
   ]
  },
  {
   "cell_type": "code",
   "execution_count": null,
   "id": "9ba9ecd2-cc8d-4f84-b953-85e9a8493be0",
   "metadata": {},
   "outputs": [],
   "source": []
  },
  {
   "cell_type": "markdown",
   "id": "98765c60-8d95-492b-a7e4-e94d874643f2",
   "metadata": {},
   "source": [
    "# 把字典中的繁體轉成簡體"
   ]
  },
  {
   "cell_type": "code",
   "execution_count": 3,
   "id": "c47964ff-4f8a-4a4d-b72d-a81362cbe2cc",
   "metadata": {},
   "outputs": [],
   "source": [
    "# 繁轉簡，包含慣用詞轉換\n",
    "cc = OpenCC('tw2sp')\n",
    "textfile = open(\"stopwords_new.txt\", \"w\")\n",
    "\n",
    "with open('stopwords.txt','r') as f:\n",
    "    f_lines = f.readlines()\n",
    "    # textfile.write(f_lines[0])\n",
    "    \n",
    "    # print(f_lines[0])\n",
    "    # print(f_lines[1])\n",
    "    # next(f)\n",
    "    \n",
    "    for line in f_lines[0:]:\n",
    "        # print(line)\n",
    "        textfile.write(cc.convert(line))\n",
    "textfile.close()"
   ]
  },
  {
   "cell_type": "code",
   "execution_count": 6,
   "id": "5aa4c36b-65f8-4f22-b3c0-ccaffdf331bd",
   "metadata": {},
   "outputs": [],
   "source": [
    "# 繁轉簡，包含慣用詞轉換\n",
    "cc = OpenCC('tw2sp')\n",
    "textfile = open(\"./data/crosslingual/dictionaries/cn-en.5000-6500.txt\", \"w\")\n",
    "\n",
    "with open('./data/crosslingual/dictionaries/zh-en.5000-6500.txt','r') as f:\n",
    "    f_lines = f.readlines()\n",
    "    # textfile.write(f_lines[0])\n",
    "    \n",
    "    # print(f_lines[0])\n",
    "    # print(f_lines[1])\n",
    "    # next(f)\n",
    "    \n",
    "    for line in f_lines[0:]:\n",
    "        # print(line)\n",
    "        textfile.write(cc.convert(line))\n",
    "textfile.close()"
   ]
  },
  {
   "cell_type": "code",
   "execution_count": 7,
   "id": "864bb64a-b375-4051-8647-c10f764ded70",
   "metadata": {
    "scrolled": true,
    "tags": []
   },
   "outputs": [],
   "source": [
    "cc = OpenCC('tw2sp')\n",
    "textfile = open(\"./data/crosslingual/dictionaries/cn-en.0-5000.txt\", \"w\")\n",
    "\n",
    "with open('./data/crosslingual/dictionaries/zh-en.0-5000.txt','r') as f:\n",
    "    f_lines = f.readlines()\n",
    "    # textfile.write(f_lines[0])\n",
    "    \n",
    "    # print(f_lines[0])\n",
    "    # print(f_lines[1])\n",
    "    # next(f)\n",
    "    \n",
    "    for line in f_lines[0:]:\n",
    "        # print(line)\n",
    "        textfile.write(cc.convert(line))\n",
    "textfile.close()"
   ]
  },
  {
   "cell_type": "code",
   "execution_count": 8,
   "id": "0563cdbd-a42a-42aa-92ce-8f2c994e925b",
   "metadata": {},
   "outputs": [],
   "source": [
    "cc = OpenCC('tw2sp')\n",
    "textfile = open(\"./data/crosslingual/dictionaries/cn-en.txt\", \"w\")\n",
    "\n",
    "with open('./data/crosslingual/dictionaries/zh-en.txt','r') as f:\n",
    "    f_lines = f.readlines()\n",
    "    # textfile.write(f_lines[0])\n",
    "    \n",
    "    # print(f_lines[0])\n",
    "    # print(f_lines[1])\n",
    "    # next(f)\n",
    "    \n",
    "    for line in f_lines[0:]:\n",
    "        # print(line)\n",
    "        textfile.write(cc.convert(line))\n",
    "textfile.close()"
   ]
  },
  {
   "cell_type": "code",
   "execution_count": null,
   "id": "7f00b965-08e5-4892-9849-1b7a4331023b",
   "metadata": {},
   "outputs": [],
   "source": []
  },
  {
   "cell_type": "code",
   "execution_count": null,
   "id": "81121c86-b4bf-49e9-9ede-25031fea8e25",
   "metadata": {},
   "outputs": [],
   "source": []
  },
  {
   "cell_type": "code",
   "execution_count": null,
   "id": "dcda85ba-ff8e-4405-bdd9-8aaaa913ce6e",
   "metadata": {},
   "outputs": [],
   "source": []
  },
  {
   "cell_type": "code",
   "execution_count": null,
   "id": "f6c1ee25-2b15-4e20-8aca-bfbb7324e673",
   "metadata": {},
   "outputs": [],
   "source": []
  }
 ],
 "metadata": {
  "kernelspec": {
   "display_name": "for_paper",
   "language": "python",
   "name": "for_paper"
  },
  "language_info": {
   "codemirror_mode": {
    "name": "ipython",
    "version": 3
   },
   "file_extension": ".py",
   "mimetype": "text/x-python",
   "name": "python",
   "nbconvert_exporter": "python",
   "pygments_lexer": "ipython3",
   "version": "3.8.12"
  }
 },
 "nbformat": 4,
 "nbformat_minor": 5
}
