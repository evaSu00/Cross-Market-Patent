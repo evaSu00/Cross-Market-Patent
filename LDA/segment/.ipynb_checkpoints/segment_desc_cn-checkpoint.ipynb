{
 "cells": [
  {
   "cell_type": "code",
   "execution_count": 1,
   "id": "8ef568fa-4b1b-4a81-b4f6-1c4016f1352f",
   "metadata": {},
   "outputs": [
    {
     "name": "stderr",
     "output_type": "stream",
     "text": [
      "[nltk_data] Downloading package punkt to /home/evalogin/nltk_data...\n",
      "[nltk_data]   Package punkt is already up-to-date!\n",
      "[nltk_data] Downloading package wordnet to /home/evalogin/nltk_data...\n",
      "[nltk_data]   Package wordnet is already up-to-date!\n",
      "[nltk_data] Downloading package omw-1.4 to /home/evalogin/nltk_data...\n",
      "[nltk_data]   Package omw-1.4 is already up-to-date!\n",
      "[nltk_data] Downloading package averaged_perceptron_tagger to\n",
      "[nltk_data]     /home/evalogin/nltk_data...\n",
      "[nltk_data]   Package averaged_perceptron_tagger is already up-to-\n",
      "[nltk_data]       date!\n"
     ]
    }
   ],
   "source": [
    "import numpy as np\n",
    "import pandas as pd\n",
    "import os\n",
    "\n",
    "from pymongo import MongoClient\n",
    "import pymongo\n",
    "\n",
    "import matplotlib.pyplot as plt \n",
    "import matplotlib\n",
    "import re\n",
    "import jieba\n",
    "import jieba.analyse\n",
    "import jieba.posseg as pseg\n",
    "\n",
    "import nltk\n",
    "from nltk.corpus import stopwords\n",
    "from nltk.stem import PorterStemmer\n",
    "from nltk.stem import WordNetLemmatizer\n",
    "from nltk.corpus import wordnet\n",
    "nltk.download(\"punkt\") # 下載需要用到的語料庫\n",
    "nltk.download('wordnet')\n",
    "nltk.download('omw-1.4')\n",
    "nltk.download('averaged_perceptron_tagger')\n",
    "\n",
    "import fasttext"
   ]
  },
  {
   "cell_type": "code",
   "execution_count": 2,
   "id": "38d38707-cb93-4444-afe3-800318328389",
   "metadata": {},
   "outputs": [
    {
     "name": "stdout",
     "output_type": "stream",
     "text": [
      "Thu Jun 23 14:48:17 2022       \n",
      "+-----------------------------------------------------------------------------+\n",
      "| NVIDIA-SMI 470.129.06   Driver Version: 470.129.06   CUDA Version: 11.4     |\n",
      "|-------------------------------+----------------------+----------------------+\n",
      "| GPU  Name        Persistence-M| Bus-Id        Disp.A | Volatile Uncorr. ECC |\n",
      "| Fan  Temp  Perf  Pwr:Usage/Cap|         Memory-Usage | GPU-Util  Compute M. |\n",
      "|                               |                      |               MIG M. |\n",
      "|===============================+======================+======================|\n",
      "|   0  NVIDIA GeForce ...  Off  | 00000000:01:00.0 Off |                  N/A |\n",
      "| 47%   52C    P8    23W / 260W |   1957MiB / 11019MiB |      0%      Default |\n",
      "|                               |                      |                  N/A |\n",
      "+-------------------------------+----------------------+----------------------+\n",
      "|   1  NVIDIA GeForce ...  Off  | 00000000:02:00.0 Off |                  N/A |\n",
      "| 29%   38C    P8    24W / 260W |   1795MiB / 11019MiB |      0%      Default |\n",
      "|                               |                      |                  N/A |\n",
      "+-------------------------------+----------------------+----------------------+\n",
      "                                                                               \n",
      "+-----------------------------------------------------------------------------+\n",
      "| Processes:                                                                  |\n",
      "|  GPU   GI   CI        PID   Type   Process name                  GPU Memory |\n",
      "|        ID   ID                                                   Usage      |\n",
      "|=============================================================================|\n",
      "|    0   N/A  N/A      6976      G   /usr/lib/xorg/Xorg                  9MiB |\n",
      "|    0   N/A  N/A      7277      G   /usr/bin/gnome-shell                7MiB |\n",
      "|    0   N/A  N/A     26709      C   ...nda3/envs/test/bin/python     1935MiB |\n",
      "|    1   N/A  N/A      6976      G   /usr/lib/xorg/Xorg                  4MiB |\n",
      "|    1   N/A  N/A     25574      C   ...nda/envs/assa/bin/python3     1787MiB |\n",
      "+-----------------------------------------------------------------------------+\n"
     ]
    }
   ],
   "source": [
    "# 使用GPU\n",
    "os.environ[\"CUDA_VISIBLE_DEVICES\"]=\"1\"\n",
    "! nvidia-smi"
   ]
  },
  {
   "cell_type": "code",
   "execution_count": null,
   "id": "076a208e-ea55-4d41-8221-7abe3290bef0",
   "metadata": {},
   "outputs": [],
   "source": []
  },
  {
   "cell_type": "code",
   "execution_count": null,
   "id": "7c7d27b5-0e66-454e-a2e5-379acd8b92e2",
   "metadata": {},
   "outputs": [],
   "source": []
  },
  {
   "cell_type": "markdown",
   "id": "ef29f03a-b125-44bf-adf5-557e322b029c",
   "metadata": {},
   "source": [
    "# 取得測試資料"
   ]
  },
  {
   "cell_type": "code",
   "execution_count": 3,
   "id": "6df912aa-e6a4-48ed-8b55-099acb5707b9",
   "metadata": {},
   "outputs": [],
   "source": [
    "mongoURI = \"mongodb://%s:%s@%s/%s?authMechanism=SCRAM-SHA-1\" % (\"eva\", \"eva_30241\", \"140.117.69.70:30241\", \"eva\")\n",
    "\n",
    "try:\n",
    "    conn = pymongo.MongoClient(mongoURI)\n",
    "    db = conn.eva\n",
    "    # db_de = db.patent_de\n",
    "    # db_us = db.patent_us\n",
    "    # db_cn = db.patent_cn\n",
    "    \n",
    "    db_rm_us = db.rm_patent_us\n",
    "    db_rm_cn = db.rm_patent_cn\n",
    "    db_rm_de = db.rm_patent_de\n",
    "    \n",
    "    db_rm_us_2020 = db.rm_patent_us_2020\n",
    "    db_rm_cn_2020 = db.rm_patent_cn_2020\n",
    "    db_rm_de_2020 = db.rm_patent_de_2020\n",
    "    \n",
    "except errors.ConnectionFailure as err:\n",
    "    print(err)"
   ]
  },
  {
   "cell_type": "code",
   "execution_count": null,
   "id": "68e518cb-a652-4a78-8863-d55146833016",
   "metadata": {},
   "outputs": [],
   "source": []
  },
  {
   "cell_type": "code",
   "execution_count": 4,
   "id": "9c5be90d-8c8d-4ce6-ab0f-69cbbe89d7f8",
   "metadata": {},
   "outputs": [],
   "source": [
    "data_cn_desc = db_rm_cn_2020.find({}, {\"patentNumber\":1, \"description\": 1})\n",
    "\n",
    "ls_id = []\n",
    "ls_pNo = []\n",
    "ls_desc = []\n",
    "for data in data_cn_desc:\n",
    "    # print(data[\"_id\"],data[\"count\"])\n",
    "    ls_id.append(data[\"_id\"])\n",
    "    ls_pNo.append(data[\"patentNumber\"])\n",
    "    ls_desc.append(data[\"description\"])"
   ]
  },
  {
   "cell_type": "code",
   "execution_count": 5,
   "id": "072eaff0-b85c-4a06-9021-f84a4dd482ad",
   "metadata": {},
   "outputs": [],
   "source": [
    "df_cn = pd.DataFrame((zip(ls_id, ls_pNo, ls_desc)), columns = ['id', 'patentNumber', 'description'])"
   ]
  },
  {
   "cell_type": "code",
   "execution_count": 6,
   "id": "c003d34a-859e-4914-a37d-6f451863af3e",
   "metadata": {},
   "outputs": [],
   "source": [
    "# df_cn.head()"
   ]
  },
  {
   "cell_type": "code",
   "execution_count": 7,
   "id": "0d71a51d-4edc-4eb6-91e9-3c9e721f3639",
   "metadata": {
    "scrolled": true,
    "tags": []
   },
   "outputs": [
    {
     "data": {
      "text/html": [
       "<div>\n",
       "<style scoped>\n",
       "    .dataframe tbody tr th:only-of-type {\n",
       "        vertical-align: middle;\n",
       "    }\n",
       "\n",
       "    .dataframe tbody tr th {\n",
       "        vertical-align: top;\n",
       "    }\n",
       "\n",
       "    .dataframe thead th {\n",
       "        text-align: right;\n",
       "    }\n",
       "</style>\n",
       "<table border=\"1\" class=\"dataframe\">\n",
       "  <thead>\n",
       "    <tr style=\"text-align: right;\">\n",
       "      <th></th>\n",
       "      <th>id</th>\n",
       "      <th>patentNumber</th>\n",
       "      <th>brief</th>\n",
       "    </tr>\n",
       "  </thead>\n",
       "  <tbody>\n",
       "    <tr>\n",
       "      <th>0</th>\n",
       "      <td>61fd2c79f4d57576a50216cd</td>\n",
       "      <td>CN102259231A</td>\n",
       "      <td>本发明提供一种回转窑筒体的高空焊接工艺，包括：装配能够使回转窑筒体实现分段转动的临时盘车措施...</td>\n",
       "    </tr>\n",
       "    <tr>\n",
       "      <th>1</th>\n",
       "      <td>61fd2c7ff4d57576a50216cf</td>\n",
       "      <td>CN102140507B</td>\n",
       "      <td>本发明提供了一种关于引起人类感染性腹泻的主要病原微生物的基因芯片及检测用试剂盒，其主要针对致...</td>\n",
       "    </tr>\n",
       "    <tr>\n",
       "      <th>2</th>\n",
       "      <td>61fd2ca2f4d57576a50216d5</td>\n",
       "      <td>CN101892395A</td>\n",
       "      <td>一种微波真空分解冶炼金属镁的方法，属于金属镁冶炼领域。首先将原料镁砂、石灰与硅铁破碎后按比例...</td>\n",
       "    </tr>\n",
       "    <tr>\n",
       "      <th>3</th>\n",
       "      <td>61fd2ca4f4d57576a50216d7</td>\n",
       "      <td>CN101831505A</td>\n",
       "      <td>本发明公开了一种检测临床常见病原微生物的基因芯片。该基因芯片包括固定在固相载体上的特异检测探...</td>\n",
       "    </tr>\n",
       "    <tr>\n",
       "      <th>4</th>\n",
       "      <td>61fd2ca7f4d57576a50216d9</td>\n",
       "      <td>CN102080127A</td>\n",
       "      <td>本发明公开了一种检测15种临床常见病原微生物的基因芯片。该基因芯片包括固定在固相载体上的特异...</td>\n",
       "    </tr>\n",
       "    <tr>\n",
       "      <th>...</th>\n",
       "      <td>...</td>\n",
       "      <td>...</td>\n",
       "      <td>...</td>\n",
       "    </tr>\n",
       "    <tr>\n",
       "      <th>261</th>\n",
       "      <td>61fd5134f4d57576a5021e9b</td>\n",
       "      <td>CN102238728A</td>\n",
       "      <td>本发明公开了一种组网方式的指示方法、频率分区的确定方法及系统，其中组网方式的指示方法包括：基...</td>\n",
       "    </tr>\n",
       "    <tr>\n",
       "      <th>262</th>\n",
       "      <td>61fd5135f4d57576a5021ea3</td>\n",
       "      <td>CN201863635U</td>\n",
       "      <td>本实用新型公开了一种具有强力齿轮的驱动车桥，包括桥壳、凸轮轴、半轴、轮毂，所述凸轮轴与半轴连...</td>\n",
       "    </tr>\n",
       "    <tr>\n",
       "      <th>263</th>\n",
       "      <td>61fd513cf4d57576a5021eaf</td>\n",
       "      <td>CN102335845A</td>\n",
       "      <td>一种磨床曲轴加工配重装置属于磨床曲轴加工配重装置的改进。本发明提供一种更适合长偏心曲轴加工、...</td>\n",
       "    </tr>\n",
       "    <tr>\n",
       "      <th>264</th>\n",
       "      <td>61fd513ef4d57576a5021eb9</td>\n",
       "      <td>CN102476015A</td>\n",
       "      <td>本发明挥发性有机物回收方法及装置。所述方法最好包括利用洗涤器在水中吸收在来自排放源的废气中的...</td>\n",
       "    </tr>\n",
       "    <tr>\n",
       "      <th>265</th>\n",
       "      <td>61fd5143f4d57576a5021ec3</td>\n",
       "      <td>CN201875052U</td>\n",
       "      <td>一种加强型双节距滚子链，具体为一种用于传动距离长、传动速度低的链传动装置上的220A型双节距...</td>\n",
       "    </tr>\n",
       "  </tbody>\n",
       "</table>\n",
       "<p>266 rows × 3 columns</p>\n",
       "</div>"
      ],
      "text/plain": [
       "                           id  patentNumber  \\\n",
       "0    61fd2c79f4d57576a50216cd  CN102259231A   \n",
       "1    61fd2c7ff4d57576a50216cf  CN102140507B   \n",
       "2    61fd2ca2f4d57576a50216d5  CN101892395A   \n",
       "3    61fd2ca4f4d57576a50216d7  CN101831505A   \n",
       "4    61fd2ca7f4d57576a50216d9  CN102080127A   \n",
       "..                        ...           ...   \n",
       "261  61fd5134f4d57576a5021e9b  CN102238728A   \n",
       "262  61fd5135f4d57576a5021ea3  CN201863635U   \n",
       "263  61fd513cf4d57576a5021eaf  CN102335845A   \n",
       "264  61fd513ef4d57576a5021eb9  CN102476015A   \n",
       "265  61fd5143f4d57576a5021ec3  CN201875052U   \n",
       "\n",
       "                                                 brief  \n",
       "0    本发明提供一种回转窑筒体的高空焊接工艺，包括：装配能够使回转窑筒体实现分段转动的临时盘车措施...  \n",
       "1    本发明提供了一种关于引起人类感染性腹泻的主要病原微生物的基因芯片及检测用试剂盒，其主要针对致...  \n",
       "2    一种微波真空分解冶炼金属镁的方法，属于金属镁冶炼领域。首先将原料镁砂、石灰与硅铁破碎后按比例...  \n",
       "3    本发明公开了一种检测临床常见病原微生物的基因芯片。该基因芯片包括固定在固相载体上的特异检测探...  \n",
       "4    本发明公开了一种检测15种临床常见病原微生物的基因芯片。该基因芯片包括固定在固相载体上的特异...  \n",
       "..                                                 ...  \n",
       "261  本发明公开了一种组网方式的指示方法、频率分区的确定方法及系统，其中组网方式的指示方法包括：基...  \n",
       "262  本实用新型公开了一种具有强力齿轮的驱动车桥，包括桥壳、凸轮轴、半轴、轮毂，所述凸轮轴与半轴连...  \n",
       "263  一种磨床曲轴加工配重装置属于磨床曲轴加工配重装置的改进。本发明提供一种更适合长偏心曲轴加工、...  \n",
       "264  本发明挥发性有机物回收方法及装置。所述方法最好包括利用洗涤器在水中吸收在来自排放源的废气中的...  \n",
       "265  一种加强型双节距滚子链，具体为一种用于传动距离长、传动速度低的链传动装置上的220A型双节距...  \n",
       "\n",
       "[266 rows x 3 columns]"
      ]
     },
     "execution_count": 7,
     "metadata": {},
     "output_type": "execute_result"
    }
   ],
   "source": [
    "df_cn"
   ]
  },
  {
   "cell_type": "code",
   "execution_count": null,
   "id": "4c121210-98f3-40ff-8a67-70b47228f28a",
   "metadata": {},
   "outputs": [],
   "source": []
  },
  {
   "cell_type": "code",
   "execution_count": null,
   "id": "de43a54d-2c1b-4e7f-9d63-ae7f8cb54248",
   "metadata": {},
   "outputs": [],
   "source": []
  },
  {
   "cell_type": "code",
   "execution_count": null,
   "id": "987317e7-57ff-45f7-ba42-a3e00e69dc02",
   "metadata": {},
   "outputs": [],
   "source": []
  },
  {
   "cell_type": "markdown",
   "id": "7528645a-52f4-43f5-9d02-db6df56fa512",
   "metadata": {},
   "source": [
    "## 資料處理"
   ]
  },
  {
   "cell_type": "markdown",
   "id": "d667dcc0-c530-4d0b-a0fa-9d1023f43a08",
   "metadata": {
    "tags": []
   },
   "source": [
    "### 中文"
   ]
  },
  {
   "cell_type": "code",
   "execution_count": 8,
   "id": "73d99a54-bb8b-4b3a-8977-051144bc161e",
   "metadata": {},
   "outputs": [
    {
     "data": {
      "text/plain": [
       "21"
      ]
     },
     "execution_count": 8,
     "metadata": {},
     "output_type": "execute_result"
    }
   ],
   "source": [
    "df_cn.description.isna().sum()"
   ]
  },
  {
   "cell_type": "code",
   "execution_count": 9,
   "id": "0186a246-aa97-42b9-b39d-9f1bb750273e",
   "metadata": {},
   "outputs": [],
   "source": [
    "df_cn.description.fillna(\"\", inplace=True)"
   ]
  },
  {
   "cell_type": "code",
   "execution_count": 10,
   "id": "ec7700fe-3519-4633-b7f9-b8809d57ff57",
   "metadata": {},
   "outputs": [],
   "source": [
    "def clean(row):\n",
    "    text = re.sub('[^\\u4e00-\\u9fa5；、，。 ]', '', row) #除了文字,其他數字空白?!.的都去掉\n",
    "    return text"
   ]
  },
  {
   "cell_type": "code",
   "execution_count": 11,
   "id": "ef61861b-b738-4158-8f23-306cb3fb991f",
   "metadata": {
    "scrolled": true,
    "tags": []
   },
   "outputs": [],
   "source": [
    "df_cn[\"description\"] = df_cn.description.apply(clean)"
   ]
  },
  {
   "cell_type": "code",
   "execution_count": null,
   "id": "cedee2f6-6f68-4e17-b75d-dffe9ad5ad64",
   "metadata": {},
   "outputs": [],
   "source": []
  },
  {
   "cell_type": "code",
   "execution_count": null,
   "id": "a2699c16-41ac-4e65-9506-2b873e9b2804",
   "metadata": {},
   "outputs": [],
   "source": []
  },
  {
   "cell_type": "code",
   "execution_count": 12,
   "id": "061ca31b-07e1-4f37-b5a0-89559b9bc533",
   "metadata": {},
   "outputs": [],
   "source": [
    "# row = \"用于传感器驱动的车辆遥测应用和服务的开发和部署的计算 平台技术领域本发明通常涉及智能泛在计算系统、信息物理系统以及物联网领域。更具体 地，本发明涉及用于允许这样一种统一平台的方法和系统，该统一平台能够对于智能泛在 交通环境中的传感器驱动的车辆遥测应用的开发和部署提供服务套件。背景技术通常，智能车辆交通包括使用远距离通信和遥测数据分析来远程地监视车辆、路 况、远程车辆监控，和驾驶条件等。远距离通信已经在世界范围内广泛实现以用于分析由远 程目标\"\n",
    "# sent = re.split('; |。|，', row)\n",
    "# token = [jieba.lcut(i) for i in sent]"
   ]
  },
  {
   "cell_type": "code",
   "execution_count": 13,
   "id": "164f660f-bb00-4c9e-990a-fd59b87ae7cc",
   "metadata": {
    "scrolled": true,
    "tags": []
   },
   "outputs": [],
   "source": [
    "# ls = []\n",
    "# for w in token:\n",
    "#     # ls2 = [i for i in w if len(i)>1 and nltk.pos_tag([i])]\n",
    "#     ls2 = [i for i in w if len(i)>1 and (nltk.pos_tag([i])[0][1][0]==\"N\" or nltk.pos_tag([i])[0][1][0]==\"V\")]"
   ]
  },
  {
   "cell_type": "code",
   "execution_count": 14,
   "id": "57107f76-ee55-4e81-b835-fdea32c52635",
   "metadata": {},
   "outputs": [],
   "source": [
    "# ls2"
   ]
  },
  {
   "cell_type": "code",
   "execution_count": 15,
   "id": "9a3bc295-f09f-4234-97e2-e9f38e9c9f01",
   "metadata": {},
   "outputs": [],
   "source": [
    "# token[2][0]"
   ]
  },
  {
   "cell_type": "code",
   "execution_count": 16,
   "id": "a106323f-44bf-42de-97f6-97ac96c228c7",
   "metadata": {
    "scrolled": true,
    "tags": []
   },
   "outputs": [],
   "source": [
    "# nltk.pos_tag([token[2][0]])"
   ]
  },
  {
   "cell_type": "code",
   "execution_count": null,
   "id": "0d183074-187c-4f04-bad0-fd3c667d06c3",
   "metadata": {},
   "outputs": [],
   "source": []
  },
  {
   "cell_type": "code",
   "execution_count": null,
   "id": "87e21baa-7669-4d28-b41a-ac61e1f7c01c",
   "metadata": {},
   "outputs": [],
   "source": []
  },
  {
   "cell_type": "code",
   "execution_count": 17,
   "id": "d43c9f41-616d-42a7-8f5e-def83b908e6c",
   "metadata": {},
   "outputs": [
    {
     "name": "stderr",
     "output_type": "stream",
     "text": [
      "Building prefix dict from the default dictionary ...\n",
      "Loading model from cache /tmp/jieba.cache\n",
      "Loading model cost 0.455 seconds.\n",
      "Prefix dict has been built successfully.\n"
     ]
    }
   ],
   "source": [
    "#新增自定義字典\n",
    "jieba.load_userdict('./dictionary_com.text')\n",
    "#新增stop words\n",
    "with open('./stopwords.txt',encoding=\"utf-8\") as f:\n",
    "    stopWords = [line.strip() for line in f.readlines()]\n",
    "\n",
    "\n",
    "# 自定義斷詞 function\n",
    "def getToken(row):\n",
    "    # seg_list = jieba.lcut(row) # jieba斷詞\n",
    "    # # seg_list = [w for w in seg_list if w not in stopWords and len(w) > 1] # 篩選不在停用字的字與字元數大於1的字詞\n",
    "    # seg_list = [w for w in seg_list if len(w) > 1]\n",
    "    \n",
    "    sent = re.split('; |。|，', row)\n",
    "    token = [jieba.lcut(i) for i in sent]\n",
    "\n",
    "    ls = []\n",
    "    for w in token:\n",
    "        for i in w :\n",
    "            if i not in stopWords and len(i)>1 and (nltk.pos_tag([i])[0][1][0]==\"N\" or nltk.pos_tag([i])[0][1][0]==\"V\"):\n",
    "                ls.append(i)\n",
    "    \n",
    "    return ls"
   ]
  },
  {
   "cell_type": "code",
   "execution_count": null,
   "id": "4eeca310-3b5e-4207-96a7-fe1415936ef2",
   "metadata": {},
   "outputs": [],
   "source": []
  },
  {
   "cell_type": "code",
   "execution_count": 18,
   "id": "757702a7-7cb2-4f95-b887-6bc5f05a3720",
   "metadata": {},
   "outputs": [],
   "source": [
    "# row = df_cn2.description[0]"
   ]
  },
  {
   "cell_type": "code",
   "execution_count": 19,
   "id": "4ad0e9ec-2995-4c0b-8dba-fe6ee8ccb347",
   "metadata": {},
   "outputs": [],
   "source": [
    "# df_cn2 = df_cn.iloc[0:10,:]"
   ]
  },
  {
   "cell_type": "code",
   "execution_count": 20,
   "id": "d5abd887-7005-4539-a679-12204ed4c2aa",
   "metadata": {
    "scrolled": true,
    "tags": []
   },
   "outputs": [],
   "source": [
    "# df_cn2"
   ]
  },
  {
   "cell_type": "code",
   "execution_count": 21,
   "id": "3e66fbf5-3aef-4a86-8197-c55b89a8e056",
   "metadata": {
    "tags": []
   },
   "outputs": [],
   "source": [
    "# df_cn2[\"word\"] = df_cn2.description.apply(getToken)"
   ]
  },
  {
   "cell_type": "code",
   "execution_count": 22,
   "id": "5b24ddae-00a3-4e54-a69f-e24c7972afc7",
   "metadata": {
    "scrolled": true,
    "tags": []
   },
   "outputs": [],
   "source": [
    "# df_cn2"
   ]
  },
  {
   "cell_type": "code",
   "execution_count": null,
   "id": "88287e02-b776-49f7-aeb6-398ebf9ebd40",
   "metadata": {},
   "outputs": [],
   "source": []
  },
  {
   "cell_type": "code",
   "execution_count": null,
   "id": "4f7e00e2-34ff-466b-ad2e-3f4f36fca5bb",
   "metadata": {},
   "outputs": [],
   "source": []
  },
  {
   "cell_type": "code",
   "execution_count": 23,
   "id": "f23df499-dd13-41a3-947b-c7b122a4f486",
   "metadata": {},
   "outputs": [],
   "source": [
    "df_cn[\"word\"] = df_cn.description.apply(getToken)"
   ]
  },
  {
   "cell_type": "code",
   "execution_count": 24,
   "id": "af545dcb-9a8f-4871-9580-71d3aa217063",
   "metadata": {},
   "outputs": [
    {
     "data": {
      "text/html": [
       "<div>\n",
       "<style scoped>\n",
       "    .dataframe tbody tr th:only-of-type {\n",
       "        vertical-align: middle;\n",
       "    }\n",
       "\n",
       "    .dataframe tbody tr th {\n",
       "        vertical-align: top;\n",
       "    }\n",
       "\n",
       "    .dataframe thead th {\n",
       "        text-align: right;\n",
       "    }\n",
       "</style>\n",
       "<table border=\"1\" class=\"dataframe\">\n",
       "  <thead>\n",
       "    <tr style=\"text-align: right;\">\n",
       "      <th></th>\n",
       "      <th>id</th>\n",
       "      <th>patentNumber</th>\n",
       "      <th>brief</th>\n",
       "      <th>word</th>\n",
       "    </tr>\n",
       "  </thead>\n",
       "  <tbody>\n",
       "    <tr>\n",
       "      <th>0</th>\n",
       "      <td>61fd2c79f4d57576a50216cd</td>\n",
       "      <td>CN102259231A</td>\n",
       "      <td>本发明提供一种回转窑筒体的高空焊接工艺，包括装配能够使回转窑筒体实现分段转动的临时盘车措施；...</td>\n",
       "      <td>[本发明, 提供, 一种, 回转窑, 筒体, 高空, 焊接, 工艺, 包括, 装配, 能够,...</td>\n",
       "    </tr>\n",
       "    <tr>\n",
       "      <th>1</th>\n",
       "      <td>61fd2c7ff4d57576a50216cf</td>\n",
       "      <td>CN102140507B</td>\n",
       "      <td>本发明提供了一种关于引起人类感染性腹泻的主要病原微生物的基因芯片及检测用试剂盒，其主要针对致...</td>\n",
       "      <td>[本发明, 提供, 一种, 关于, 人类, 感染性, 腹泻, 病原, 微生物, 基因芯片, ...</td>\n",
       "    </tr>\n",
       "    <tr>\n",
       "      <th>2</th>\n",
       "      <td>61fd2ca2f4d57576a50216d5</td>\n",
       "      <td>CN101892395A</td>\n",
       "      <td>一种微波真空分解冶炼金属镁的方法，属于金属镁冶炼领域。首先将原料镁砂、石灰与硅铁破碎后按比例...</td>\n",
       "      <td>[一种, 微波, 真空, 分解, 冶炼, 金属镁, 方法, 属于, 金属镁, 冶炼, 领域,...</td>\n",
       "    </tr>\n",
       "    <tr>\n",
       "      <th>3</th>\n",
       "      <td>61fd2ca4f4d57576a50216d7</td>\n",
       "      <td>CN101831505A</td>\n",
       "      <td>本发明公开了一种检测临床常见病原微生物的基因芯片。该基因芯片包括固定在固相载体上的特异检测探...</td>\n",
       "      <td>[本发明, 公开, 一种, 检测, 临床, 常见病, 微生物, 基因芯片, 基因芯片, 包括...</td>\n",
       "    </tr>\n",
       "    <tr>\n",
       "      <th>4</th>\n",
       "      <td>61fd2ca7f4d57576a50216d9</td>\n",
       "      <td>CN102080127A</td>\n",
       "      <td>本发明公开了一种检测种临床常见病原微生物的基因芯片。该基因芯片包括固定在固相载体上的特异检测...</td>\n",
       "      <td>[本发明, 公开, 一种, 检测, 临床, 常见病, 微生物, 基因芯片, 基因芯片, 包括...</td>\n",
       "    </tr>\n",
       "  </tbody>\n",
       "</table>\n",
       "</div>"
      ],
      "text/plain": [
       "                         id  patentNumber  \\\n",
       "0  61fd2c79f4d57576a50216cd  CN102259231A   \n",
       "1  61fd2c7ff4d57576a50216cf  CN102140507B   \n",
       "2  61fd2ca2f4d57576a50216d5  CN101892395A   \n",
       "3  61fd2ca4f4d57576a50216d7  CN101831505A   \n",
       "4  61fd2ca7f4d57576a50216d9  CN102080127A   \n",
       "\n",
       "                                               brief  \\\n",
       "0  本发明提供一种回转窑筒体的高空焊接工艺，包括装配能够使回转窑筒体实现分段转动的临时盘车措施；...   \n",
       "1  本发明提供了一种关于引起人类感染性腹泻的主要病原微生物的基因芯片及检测用试剂盒，其主要针对致...   \n",
       "2  一种微波真空分解冶炼金属镁的方法，属于金属镁冶炼领域。首先将原料镁砂、石灰与硅铁破碎后按比例...   \n",
       "3  本发明公开了一种检测临床常见病原微生物的基因芯片。该基因芯片包括固定在固相载体上的特异检测探...   \n",
       "4  本发明公开了一种检测种临床常见病原微生物的基因芯片。该基因芯片包括固定在固相载体上的特异检测...   \n",
       "\n",
       "                                                word  \n",
       "0  [本发明, 提供, 一种, 回转窑, 筒体, 高空, 焊接, 工艺, 包括, 装配, 能够,...  \n",
       "1  [本发明, 提供, 一种, 关于, 人类, 感染性, 腹泻, 病原, 微生物, 基因芯片, ...  \n",
       "2  [一种, 微波, 真空, 分解, 冶炼, 金属镁, 方法, 属于, 金属镁, 冶炼, 领域,...  \n",
       "3  [本发明, 公开, 一种, 检测, 临床, 常见病, 微生物, 基因芯片, 基因芯片, 包括...  \n",
       "4  [本发明, 公开, 一种, 检测, 临床, 常见病, 微生物, 基因芯片, 基因芯片, 包括...  "
      ]
     },
     "execution_count": 24,
     "metadata": {},
     "output_type": "execute_result"
    }
   ],
   "source": [
    "df_cn.head()"
   ]
  },
  {
   "cell_type": "code",
   "execution_count": null,
   "id": "18cf3a7e-bc04-4215-9ad0-2ed36f180db9",
   "metadata": {},
   "outputs": [],
   "source": []
  },
  {
   "cell_type": "code",
   "execution_count": 25,
   "id": "4bb180f7-75bb-4e47-8979-dcfab3513f60",
   "metadata": {},
   "outputs": [],
   "source": [
    "# df_cn_token = df_cn.explode('word') # 將word欄位展開\n",
    "df_cn_token = df_cn.copy()"
   ]
  },
  {
   "cell_type": "code",
   "execution_count": 26,
   "id": "62cae058-dc58-46d3-84c9-992fe58f1245",
   "metadata": {
    "scrolled": true,
    "tags": []
   },
   "outputs": [
    {
     "data": {
      "text/html": [
       "<div>\n",
       "<style scoped>\n",
       "    .dataframe tbody tr th:only-of-type {\n",
       "        vertical-align: middle;\n",
       "    }\n",
       "\n",
       "    .dataframe tbody tr th {\n",
       "        vertical-align: top;\n",
       "    }\n",
       "\n",
       "    .dataframe thead th {\n",
       "        text-align: right;\n",
       "    }\n",
       "</style>\n",
       "<table border=\"1\" class=\"dataframe\">\n",
       "  <thead>\n",
       "    <tr style=\"text-align: right;\">\n",
       "      <th></th>\n",
       "      <th>id</th>\n",
       "      <th>patentNumber</th>\n",
       "      <th>brief</th>\n",
       "      <th>word</th>\n",
       "    </tr>\n",
       "  </thead>\n",
       "  <tbody>\n",
       "    <tr>\n",
       "      <th>0</th>\n",
       "      <td>61fd2c79f4d57576a50216cd</td>\n",
       "      <td>CN102259231A</td>\n",
       "      <td>本发明提供一种回转窑筒体的高空焊接工艺，包括装配能够使回转窑筒体实现分段转动的临时盘车措施；...</td>\n",
       "      <td>[本发明, 提供, 一种, 回转窑, 筒体, 高空, 焊接, 工艺, 包括, 装配, 能够,...</td>\n",
       "    </tr>\n",
       "    <tr>\n",
       "      <th>1</th>\n",
       "      <td>61fd2c7ff4d57576a50216cf</td>\n",
       "      <td>CN102140507B</td>\n",
       "      <td>本发明提供了一种关于引起人类感染性腹泻的主要病原微生物的基因芯片及检测用试剂盒，其主要针对致...</td>\n",
       "      <td>[本发明, 提供, 一种, 关于, 人类, 感染性, 腹泻, 病原, 微生物, 基因芯片, ...</td>\n",
       "    </tr>\n",
       "    <tr>\n",
       "      <th>2</th>\n",
       "      <td>61fd2ca2f4d57576a50216d5</td>\n",
       "      <td>CN101892395A</td>\n",
       "      <td>一种微波真空分解冶炼金属镁的方法，属于金属镁冶炼领域。首先将原料镁砂、石灰与硅铁破碎后按比例...</td>\n",
       "      <td>[一种, 微波, 真空, 分解, 冶炼, 金属镁, 方法, 属于, 金属镁, 冶炼, 领域,...</td>\n",
       "    </tr>\n",
       "    <tr>\n",
       "      <th>3</th>\n",
       "      <td>61fd2ca4f4d57576a50216d7</td>\n",
       "      <td>CN101831505A</td>\n",
       "      <td>本发明公开了一种检测临床常见病原微生物的基因芯片。该基因芯片包括固定在固相载体上的特异检测探...</td>\n",
       "      <td>[本发明, 公开, 一种, 检测, 临床, 常见病, 微生物, 基因芯片, 基因芯片, 包括...</td>\n",
       "    </tr>\n",
       "    <tr>\n",
       "      <th>4</th>\n",
       "      <td>61fd2ca7f4d57576a50216d9</td>\n",
       "      <td>CN102080127A</td>\n",
       "      <td>本发明公开了一种检测种临床常见病原微生物的基因芯片。该基因芯片包括固定在固相载体上的特异检测...</td>\n",
       "      <td>[本发明, 公开, 一种, 检测, 临床, 常见病, 微生物, 基因芯片, 基因芯片, 包括...</td>\n",
       "    </tr>\n",
       "  </tbody>\n",
       "</table>\n",
       "</div>"
      ],
      "text/plain": [
       "                         id  patentNumber  \\\n",
       "0  61fd2c79f4d57576a50216cd  CN102259231A   \n",
       "1  61fd2c7ff4d57576a50216cf  CN102140507B   \n",
       "2  61fd2ca2f4d57576a50216d5  CN101892395A   \n",
       "3  61fd2ca4f4d57576a50216d7  CN101831505A   \n",
       "4  61fd2ca7f4d57576a50216d9  CN102080127A   \n",
       "\n",
       "                                               brief  \\\n",
       "0  本发明提供一种回转窑筒体的高空焊接工艺，包括装配能够使回转窑筒体实现分段转动的临时盘车措施；...   \n",
       "1  本发明提供了一种关于引起人类感染性腹泻的主要病原微生物的基因芯片及检测用试剂盒，其主要针对致...   \n",
       "2  一种微波真空分解冶炼金属镁的方法，属于金属镁冶炼领域。首先将原料镁砂、石灰与硅铁破碎后按比例...   \n",
       "3  本发明公开了一种检测临床常见病原微生物的基因芯片。该基因芯片包括固定在固相载体上的特异检测探...   \n",
       "4  本发明公开了一种检测种临床常见病原微生物的基因芯片。该基因芯片包括固定在固相载体上的特异检测...   \n",
       "\n",
       "                                                word  \n",
       "0  [本发明, 提供, 一种, 回转窑, 筒体, 高空, 焊接, 工艺, 包括, 装配, 能够,...  \n",
       "1  [本发明, 提供, 一种, 关于, 人类, 感染性, 腹泻, 病原, 微生物, 基因芯片, ...  \n",
       "2  [一种, 微波, 真空, 分解, 冶炼, 金属镁, 方法, 属于, 金属镁, 冶炼, 领域,...  \n",
       "3  [本发明, 公开, 一种, 检测, 临床, 常见病, 微生物, 基因芯片, 基因芯片, 包括...  \n",
       "4  [本发明, 公开, 一种, 检测, 临床, 常见病, 微生物, 基因芯片, 基因芯片, 包括...  "
      ]
     },
     "execution_count": 26,
     "metadata": {},
     "output_type": "execute_result"
    }
   ],
   "source": [
    "df_cn_token.dropna(subset = [\"word\"], inplace=True)\n",
    "df_cn_token.reset_index(inplace=True, drop=True) # 原本index基於文章筆數，現在需要重設index為基於斷詞數量\n",
    "df_cn_token.head()"
   ]
  },
  {
   "cell_type": "code",
   "execution_count": 27,
   "id": "9f370d3c-8342-402b-ad9e-917c73b12891",
   "metadata": {
    "scrolled": true,
    "tags": []
   },
   "outputs": [
    {
     "data": {
      "text/html": [
       "<div>\n",
       "<style scoped>\n",
       "    .dataframe tbody tr th:only-of-type {\n",
       "        vertical-align: middle;\n",
       "    }\n",
       "\n",
       "    .dataframe tbody tr th {\n",
       "        vertical-align: top;\n",
       "    }\n",
       "\n",
       "    .dataframe thead th {\n",
       "        text-align: right;\n",
       "    }\n",
       "</style>\n",
       "<table border=\"1\" class=\"dataframe\">\n",
       "  <thead>\n",
       "    <tr style=\"text-align: right;\">\n",
       "      <th></th>\n",
       "      <th>id</th>\n",
       "      <th>patentNumber</th>\n",
       "      <th>brief</th>\n",
       "      <th>word</th>\n",
       "    </tr>\n",
       "  </thead>\n",
       "  <tbody>\n",
       "    <tr>\n",
       "      <th>0</th>\n",
       "      <td>61fd2c79f4d57576a50216cd</td>\n",
       "      <td>CN102259231A</td>\n",
       "      <td>本发明提供一种回转窑筒体的高空焊接工艺，包括装配能够使回转窑筒体实现分段转动的临时盘车措施；...</td>\n",
       "      <td>[本发明, 提供, 一种, 回转窑, 筒体, 高空, 焊接, 工艺, 包括, 装配, 能够,...</td>\n",
       "    </tr>\n",
       "    <tr>\n",
       "      <th>1</th>\n",
       "      <td>61fd2c7ff4d57576a50216cf</td>\n",
       "      <td>CN102140507B</td>\n",
       "      <td>本发明提供了一种关于引起人类感染性腹泻的主要病原微生物的基因芯片及检测用试剂盒，其主要针对致...</td>\n",
       "      <td>[本发明, 提供, 一种, 关于, 人类, 感染性, 腹泻, 病原, 微生物, 基因芯片, ...</td>\n",
       "    </tr>\n",
       "    <tr>\n",
       "      <th>2</th>\n",
       "      <td>61fd2ca2f4d57576a50216d5</td>\n",
       "      <td>CN101892395A</td>\n",
       "      <td>一种微波真空分解冶炼金属镁的方法，属于金属镁冶炼领域。首先将原料镁砂、石灰与硅铁破碎后按比例...</td>\n",
       "      <td>[一种, 微波, 真空, 分解, 冶炼, 金属镁, 方法, 属于, 金属镁, 冶炼, 领域,...</td>\n",
       "    </tr>\n",
       "    <tr>\n",
       "      <th>3</th>\n",
       "      <td>61fd2ca4f4d57576a50216d7</td>\n",
       "      <td>CN101831505A</td>\n",
       "      <td>本发明公开了一种检测临床常见病原微生物的基因芯片。该基因芯片包括固定在固相载体上的特异检测探...</td>\n",
       "      <td>[本发明, 公开, 一种, 检测, 临床, 常见病, 微生物, 基因芯片, 基因芯片, 包括...</td>\n",
       "    </tr>\n",
       "    <tr>\n",
       "      <th>4</th>\n",
       "      <td>61fd2ca7f4d57576a50216d9</td>\n",
       "      <td>CN102080127A</td>\n",
       "      <td>本发明公开了一种检测种临床常见病原微生物的基因芯片。该基因芯片包括固定在固相载体上的特异检测...</td>\n",
       "      <td>[本发明, 公开, 一种, 检测, 临床, 常见病, 微生物, 基因芯片, 基因芯片, 包括...</td>\n",
       "    </tr>\n",
       "    <tr>\n",
       "      <th>5</th>\n",
       "      <td>61fd2d02f4d57576a50216ed</td>\n",
       "      <td>CN102468691A</td>\n",
       "      <td>一种智能物流装备及其物联网系统，该智能物流装备包括物流装备本体、检测物流装备本体状态的传感器...</td>\n",
       "      <td>[一种, 智能, 物流, 装备, 联网, 系统, 智能, 物流, 装备, 包括, 物流, 装...</td>\n",
       "    </tr>\n",
       "    <tr>\n",
       "      <th>6</th>\n",
       "      <td>61fd30adf4d57576a5021711</td>\n",
       "      <td>CN103003854B</td>\n",
       "      <td>可检查车辆的动力操控状态、驾驶员到车辆的输入等来确定驾驶员工作负担的一个或多个测量。然后，可...</td>\n",
       "      <td>[检查, 车辆, 动力, 操控, 状态, 驾驶员, 车辆, 输入, 确定, 驾驶员, 工作,...</td>\n",
       "    </tr>\n",
       "    <tr>\n",
       "      <th>7</th>\n",
       "      <td>61fd31bbf4d57576a5021721</td>\n",
       "      <td>CN101882864B</td>\n",
       "      <td>一种上电启动电路及其上电启动方法，它是将功率开关管以及控制电路集成于一芯片中，并通过一外接的...</td>\n",
       "      <td>[一种, 上电, 启动, 电路, 上电, 启动, 方法, 功率, 开关, 控制电路, 集成,...</td>\n",
       "    </tr>\n",
       "    <tr>\n",
       "      <th>8</th>\n",
       "      <td>61fd3676f4d57576a502175b</td>\n",
       "      <td>CN101728051B</td>\n",
       "      <td>一种大分离间隙的高磁场超导磁体系统，其超导线圈包括低温超导线圈和高温超导线圈。超导线圈通过支...</td>\n",
       "      <td>[一种, 分离, 间隙, 磁场, 超导磁体, 系统, 超导, 线圈, 包括, 低温, 超导,...</td>\n",
       "    </tr>\n",
       "    <tr>\n",
       "      <th>9</th>\n",
       "      <td>61fd369ef4d57576a502175f</td>\n",
       "      <td>CN102477219B</td>\n",
       "      <td>本发明涉及一种半芳香耐高温尼龙及其制备方法，将份的尼龙盐、份的封端剂、份的催化剂、份的抗氧剂...</td>\n",
       "      <td>[本发明, 涉及, 一种, 芳香, 耐高温, 尼龙, 制备, 方法, 将份, 尼龙, 封端剂...</td>\n",
       "    </tr>\n",
       "    <tr>\n",
       "      <th>10</th>\n",
       "      <td>61fd379df4d57576a5021775</td>\n",
       "      <td>CN101833951B</td>\n",
       "      <td>用于说话人识别的多背景模型建立方法涉及一种说话人识别中背景模型建模方法，其特征在于所述方法首...</td>\n",
       "      <td>[用于, 说话人识别, 背景, 模型, 建立, 方法, 涉及, 一种, 说话人识别, 背景,...</td>\n",
       "    </tr>\n",
       "    <tr>\n",
       "      <th>11</th>\n",
       "      <td>61fd37c6f4d57576a502177b</td>\n",
       "      <td>CN101951416B</td>\n",
       "      <td>本发明公开了一种物联网中电子标签跨区域移动的方法。该方法的步骤是现客户端检测到电子标签进入区...</td>\n",
       "      <td>[本发明, 公开, 一种, 联网, 电子标签, 区域, 移动, 方法, 方法, 步骤, 是现...</td>\n",
       "    </tr>\n",
       "    <tr>\n",
       "      <th>12</th>\n",
       "      <td>61fd37eaf4d57576a5021781</td>\n",
       "      <td>CN201805769U</td>\n",
       "      <td>本实用新型公开了一种基于无线传感器网络技术的物联网温室，包括物联网温室，其包括无线传感器网络...</td>\n",
       "      <td>[实用新型, 公开, 一种, 基于, 无线, 传感器, 网络, 技术, 联网, 温室, 包括...</td>\n",
       "    </tr>\n",
       "    <tr>\n",
       "      <th>13</th>\n",
       "      <td>61fd3807f4d57576a5021785</td>\n",
       "      <td>CN101990238B</td>\n",
       "      <td>本发明涉及一种传感器网络数据聚合的实现方法，步骤传感器网络节点信息表的初始化创建完成当前传感...</td>\n",
       "      <td>[本发明, 涉及, 一种, 传感器, 网络, 数据, 聚合, 实现, 方法, 步骤, 传感器...</td>\n",
       "    </tr>\n",
       "    <tr>\n",
       "      <th>14</th>\n",
       "      <td>61fd387cf4d57576a5021795</td>\n",
       "      <td>CN102372308B</td>\n",
       "      <td>一种以含铁酸洗废液生产聚合氯化铝铁混凝剂的工艺，利用酸洗废液和含铝原料进行产品生产。本制备方...</td>\n",
       "      <td>[一种, 含铁, 酸洗, 废液, 生产, 聚合, 氯化铝, 混凝剂, 工艺, 利用, 酸洗,...</td>\n",
       "    </tr>\n",
       "    <tr>\n",
       "      <th>15</th>\n",
       "      <td>61fd3887f4d57576a5021797</td>\n",
       "      <td>CN101794655B</td>\n",
       "      <td>一种具有高屏蔽特性的低电阻超导接头，将超导线端部的外表面铜腐蚀后形成超导丝。在多层复合棒的铌...</td>\n",
       "      <td>[一种, 屏蔽, 特性, 电阻, 超导, 接头, 超导, 线端部, 表面, 腐蚀, 超导, ...</td>\n",
       "    </tr>\n",
       "    <tr>\n",
       "      <th>16</th>\n",
       "      <td>61fd38c3f4d57576a50217a3</td>\n",
       "      <td>CN101812564B</td>\n",
       "      <td>本发明涉及插装式安装转炉的方法，具体是一种行车与卷扬机配合安装转炉本体方法，该方法包括卷扬机...</td>\n",
       "      <td>[本发明, 涉及, 插装式, 安装, 转炉, 方法, 具体, 一种, 行车, 卷扬机, 配合...</td>\n",
       "    </tr>\n",
       "    <tr>\n",
       "      <th>17</th>\n",
       "      <td>61fd38d1f4d57576a50217a7</td>\n",
       "      <td>CN101967591B</td>\n",
       "      <td></td>\n",
       "      <td>[]</td>\n",
       "    </tr>\n",
       "    <tr>\n",
       "      <th>18</th>\n",
       "      <td>61fd38e2f4d57576a50217ab</td>\n",
       "      <td>CN101986752A</td>\n",
       "      <td></td>\n",
       "      <td>[]</td>\n",
       "    </tr>\n",
       "    <tr>\n",
       "      <th>19</th>\n",
       "      <td>61fd3900f4d57576a50217b3</td>\n",
       "      <td>CN102108710A</td>\n",
       "      <td>本发明涉及桥梁施工技术领域，公开了一种大型钢沉井施工中水平摆动的止摆方法，包括如下步骤增设新...</td>\n",
       "      <td>[本发明, 涉及, 桥梁, 施工, 技术, 领域, 公开, 一种, 大型, 沉井, 施工, ...</td>\n",
       "    </tr>\n",
       "  </tbody>\n",
       "</table>\n",
       "</div>"
      ],
      "text/plain": [
       "                          id  patentNumber  \\\n",
       "0   61fd2c79f4d57576a50216cd  CN102259231A   \n",
       "1   61fd2c7ff4d57576a50216cf  CN102140507B   \n",
       "2   61fd2ca2f4d57576a50216d5  CN101892395A   \n",
       "3   61fd2ca4f4d57576a50216d7  CN101831505A   \n",
       "4   61fd2ca7f4d57576a50216d9  CN102080127A   \n",
       "5   61fd2d02f4d57576a50216ed  CN102468691A   \n",
       "6   61fd30adf4d57576a5021711  CN103003854B   \n",
       "7   61fd31bbf4d57576a5021721  CN101882864B   \n",
       "8   61fd3676f4d57576a502175b  CN101728051B   \n",
       "9   61fd369ef4d57576a502175f  CN102477219B   \n",
       "10  61fd379df4d57576a5021775  CN101833951B   \n",
       "11  61fd37c6f4d57576a502177b  CN101951416B   \n",
       "12  61fd37eaf4d57576a5021781  CN201805769U   \n",
       "13  61fd3807f4d57576a5021785  CN101990238B   \n",
       "14  61fd387cf4d57576a5021795  CN102372308B   \n",
       "15  61fd3887f4d57576a5021797  CN101794655B   \n",
       "16  61fd38c3f4d57576a50217a3  CN101812564B   \n",
       "17  61fd38d1f4d57576a50217a7  CN101967591B   \n",
       "18  61fd38e2f4d57576a50217ab  CN101986752A   \n",
       "19  61fd3900f4d57576a50217b3  CN102108710A   \n",
       "\n",
       "                                                brief  \\\n",
       "0   本发明提供一种回转窑筒体的高空焊接工艺，包括装配能够使回转窑筒体实现分段转动的临时盘车措施；...   \n",
       "1   本发明提供了一种关于引起人类感染性腹泻的主要病原微生物的基因芯片及检测用试剂盒，其主要针对致...   \n",
       "2   一种微波真空分解冶炼金属镁的方法，属于金属镁冶炼领域。首先将原料镁砂、石灰与硅铁破碎后按比例...   \n",
       "3   本发明公开了一种检测临床常见病原微生物的基因芯片。该基因芯片包括固定在固相载体上的特异检测探...   \n",
       "4   本发明公开了一种检测种临床常见病原微生物的基因芯片。该基因芯片包括固定在固相载体上的特异检测...   \n",
       "5   一种智能物流装备及其物联网系统，该智能物流装备包括物流装备本体、检测物流装备本体状态的传感器...   \n",
       "6   可检查车辆的动力操控状态、驾驶员到车辆的输入等来确定驾驶员工作负担的一个或多个测量。然后，可...   \n",
       "7   一种上电启动电路及其上电启动方法，它是将功率开关管以及控制电路集成于一芯片中，并通过一外接的...   \n",
       "8   一种大分离间隙的高磁场超导磁体系统，其超导线圈包括低温超导线圈和高温超导线圈。超导线圈通过支...   \n",
       "9   本发明涉及一种半芳香耐高温尼龙及其制备方法，将份的尼龙盐、份的封端剂、份的催化剂、份的抗氧剂...   \n",
       "10  用于说话人识别的多背景模型建立方法涉及一种说话人识别中背景模型建模方法，其特征在于所述方法首...   \n",
       "11  本发明公开了一种物联网中电子标签跨区域移动的方法。该方法的步骤是现客户端检测到电子标签进入区...   \n",
       "12  本实用新型公开了一种基于无线传感器网络技术的物联网温室，包括物联网温室，其包括无线传感器网络...   \n",
       "13  本发明涉及一种传感器网络数据聚合的实现方法，步骤传感器网络节点信息表的初始化创建完成当前传感...   \n",
       "14  一种以含铁酸洗废液生产聚合氯化铝铁混凝剂的工艺，利用酸洗废液和含铝原料进行产品生产。本制备方...   \n",
       "15  一种具有高屏蔽特性的低电阻超导接头，将超导线端部的外表面铜腐蚀后形成超导丝。在多层复合棒的铌...   \n",
       "16  本发明涉及插装式安装转炉的方法，具体是一种行车与卷扬机配合安装转炉本体方法，该方法包括卷扬机...   \n",
       "17                                                      \n",
       "18                                                      \n",
       "19  本发明涉及桥梁施工技术领域，公开了一种大型钢沉井施工中水平摆动的止摆方法，包括如下步骤增设新...   \n",
       "\n",
       "                                                 word  \n",
       "0   [本发明, 提供, 一种, 回转窑, 筒体, 高空, 焊接, 工艺, 包括, 装配, 能够,...  \n",
       "1   [本发明, 提供, 一种, 关于, 人类, 感染性, 腹泻, 病原, 微生物, 基因芯片, ...  \n",
       "2   [一种, 微波, 真空, 分解, 冶炼, 金属镁, 方法, 属于, 金属镁, 冶炼, 领域,...  \n",
       "3   [本发明, 公开, 一种, 检测, 临床, 常见病, 微生物, 基因芯片, 基因芯片, 包括...  \n",
       "4   [本发明, 公开, 一种, 检测, 临床, 常见病, 微生物, 基因芯片, 基因芯片, 包括...  \n",
       "5   [一种, 智能, 物流, 装备, 联网, 系统, 智能, 物流, 装备, 包括, 物流, 装...  \n",
       "6   [检查, 车辆, 动力, 操控, 状态, 驾驶员, 车辆, 输入, 确定, 驾驶员, 工作,...  \n",
       "7   [一种, 上电, 启动, 电路, 上电, 启动, 方法, 功率, 开关, 控制电路, 集成,...  \n",
       "8   [一种, 分离, 间隙, 磁场, 超导磁体, 系统, 超导, 线圈, 包括, 低温, 超导,...  \n",
       "9   [本发明, 涉及, 一种, 芳香, 耐高温, 尼龙, 制备, 方法, 将份, 尼龙, 封端剂...  \n",
       "10  [用于, 说话人识别, 背景, 模型, 建立, 方法, 涉及, 一种, 说话人识别, 背景,...  \n",
       "11  [本发明, 公开, 一种, 联网, 电子标签, 区域, 移动, 方法, 方法, 步骤, 是现...  \n",
       "12  [实用新型, 公开, 一种, 基于, 无线, 传感器, 网络, 技术, 联网, 温室, 包括...  \n",
       "13  [本发明, 涉及, 一种, 传感器, 网络, 数据, 聚合, 实现, 方法, 步骤, 传感器...  \n",
       "14  [一种, 含铁, 酸洗, 废液, 生产, 聚合, 氯化铝, 混凝剂, 工艺, 利用, 酸洗,...  \n",
       "15  [一种, 屏蔽, 特性, 电阻, 超导, 接头, 超导, 线端部, 表面, 腐蚀, 超导, ...  \n",
       "16  [本发明, 涉及, 插装式, 安装, 转炉, 方法, 具体, 一种, 行车, 卷扬机, 配合...  \n",
       "17                                                 []  \n",
       "18                                                 []  \n",
       "19  [本发明, 涉及, 桥梁, 施工, 技术, 领域, 公开, 一种, 大型, 沉井, 施工, ...  "
      ]
     },
     "execution_count": 27,
     "metadata": {},
     "output_type": "execute_result"
    }
   ],
   "source": [
    "df_cn_token.head(20)"
   ]
  },
  {
   "cell_type": "code",
   "execution_count": null,
   "id": "71d995a4-307d-4e11-8e62-1eff25b0159d",
   "metadata": {},
   "outputs": [],
   "source": []
  },
  {
   "cell_type": "code",
   "execution_count": null,
   "id": "6a8db9b2-55a6-44a5-a25c-2efa3c8f7f34",
   "metadata": {},
   "outputs": [],
   "source": []
  },
  {
   "cell_type": "markdown",
   "id": "9079e1fd-01f4-48b4-98e7-ee7cd02c9e64",
   "metadata": {},
   "source": [
    "## 存成txt檔"
   ]
  },
  {
   "cell_type": "code",
   "execution_count": 28,
   "id": "440614d0-157f-4b23-8645-bab09daf490b",
   "metadata": {},
   "outputs": [],
   "source": [
    "# ! head -c 100 data/fil9"
   ]
  },
  {
   "cell_type": "code",
   "execution_count": 29,
   "id": "88eff47e-c827-4600-b22d-7bc82a01a1a1",
   "metadata": {
    "tags": []
   },
   "outputs": [],
   "source": [
    "# 存成txt檔\n",
    "textfile = open(\"./data/cn_file_description_paragraph_2020.txt\", \"w\")\n",
    "for i in range(len(df_cn_token)):\n",
    "    for element in df_cn_token.word[i]:\n",
    "        # print(element)\n",
    "        textfile.write(element+\" \")\n",
    "    textfile.write(\"\\n\")\n",
    "textfile.close()"
   ]
  },
  {
   "cell_type": "code",
   "execution_count": null,
   "id": "576fc8b7-424b-4236-a084-b8dffd580300",
   "metadata": {},
   "outputs": [],
   "source": []
  },
  {
   "cell_type": "code",
   "execution_count": null,
   "id": "e418fc47-eedf-4592-8fdc-354fd460178d",
   "metadata": {},
   "outputs": [],
   "source": []
  },
  {
   "cell_type": "code",
   "execution_count": null,
   "id": "3e919428-4db8-454f-92d4-53a2dd90a8e2",
   "metadata": {},
   "outputs": [],
   "source": []
  },
  {
   "cell_type": "code",
   "execution_count": null,
   "id": "509863ac-db11-45b1-b6e9-451971ae1ecb",
   "metadata": {},
   "outputs": [],
   "source": []
  },
  {
   "cell_type": "code",
   "execution_count": null,
   "id": "9a8333fd-e5cd-4691-b8b7-7f5685627163",
   "metadata": {},
   "outputs": [],
   "source": []
  }
 ],
 "metadata": {
  "kernelspec": {
   "display_name": "for_paper",
   "language": "python",
   "name": "for_paper"
  },
  "language_info": {
   "codemirror_mode": {
    "name": "ipython",
    "version": 3
   },
   "file_extension": ".py",
   "mimetype": "text/x-python",
   "name": "python",
   "nbconvert_exporter": "python",
   "pygments_lexer": "ipython3",
   "version": "3.8.12"
  }
 },
 "nbformat": 4,
 "nbformat_minor": 5
}
