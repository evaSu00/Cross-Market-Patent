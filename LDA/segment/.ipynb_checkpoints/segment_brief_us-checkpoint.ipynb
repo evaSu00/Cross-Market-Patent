{
 "cells": [
  {
   "cell_type": "code",
   "execution_count": 1,
   "id": "8ef568fa-4b1b-4a81-b4f6-1c4016f1352f",
   "metadata": {},
   "outputs": [
    {
     "name": "stderr",
     "output_type": "stream",
     "text": [
      "[nltk_data] Downloading package punkt to /home/evalogin/nltk_data...\n",
      "[nltk_data]   Package punkt is already up-to-date!\n",
      "[nltk_data] Downloading package wordnet to /home/evalogin/nltk_data...\n",
      "[nltk_data]   Package wordnet is already up-to-date!\n",
      "[nltk_data] Downloading package omw-1.4 to /home/evalogin/nltk_data...\n",
      "[nltk_data]   Package omw-1.4 is already up-to-date!\n",
      "[nltk_data] Downloading package averaged_perceptron_tagger to\n",
      "[nltk_data]     /home/evalogin/nltk_data...\n",
      "[nltk_data]   Package averaged_perceptron_tagger is already up-to-\n",
      "[nltk_data]       date!\n"
     ]
    }
   ],
   "source": [
    "import numpy as np\n",
    "import pandas as pd\n",
    "import os\n",
    "\n",
    "from pymongo import MongoClient\n",
    "import pymongo\n",
    "\n",
    "import matplotlib.pyplot as plt \n",
    "import matplotlib\n",
    "import re\n",
    "import jieba\n",
    "import jieba.analyse\n",
    "import jieba.posseg as pseg\n",
    "\n",
    "import nltk\n",
    "from nltk.corpus import stopwords\n",
    "from nltk.stem import PorterStemmer\n",
    "from nltk.stem import WordNetLemmatizer\n",
    "from nltk.corpus import wordnet\n",
    "nltk.download(\"punkt\") # 下載需要用到的語料庫\n",
    "nltk.download('wordnet')\n",
    "nltk.download('omw-1.4')\n",
    "nltk.download('averaged_perceptron_tagger')\n",
    "\n",
    "import fasttext"
   ]
  },
  {
   "cell_type": "code",
   "execution_count": 2,
   "id": "38d38707-cb93-4444-afe3-800318328389",
   "metadata": {},
   "outputs": [
    {
     "name": "stdout",
     "output_type": "stream",
     "text": [
      "Sun Jun 26 00:48:05 2022       \n",
      "+-----------------------------------------------------------------------------+\n",
      "| NVIDIA-SMI 470.129.06   Driver Version: 470.129.06   CUDA Version: 11.4     |\n",
      "|-------------------------------+----------------------+----------------------+\n",
      "| GPU  Name        Persistence-M| Bus-Id        Disp.A | Volatile Uncorr. ECC |\n",
      "| Fan  Temp  Perf  Pwr:Usage/Cap|         Memory-Usage | GPU-Util  Compute M. |\n",
      "|                               |                      |               MIG M. |\n",
      "|===============================+======================+======================|\n",
      "|   0  NVIDIA GeForce ...  Off  | 00000000:01:00.0 Off |                  N/A |\n",
      "| 45%   55C    P2    67W / 260W |   7437MiB / 11019MiB |      0%      Default |\n",
      "|                               |                      |                  N/A |\n",
      "+-------------------------------+----------------------+----------------------+\n",
      "|   1  NVIDIA GeForce ...  Off  | 00000000:02:00.0 Off |                  N/A |\n",
      "| 27%   35C    P8    24W / 260W |      8MiB / 11019MiB |      0%      Default |\n",
      "|                               |                      |                  N/A |\n",
      "+-------------------------------+----------------------+----------------------+\n",
      "                                                                               \n",
      "+-----------------------------------------------------------------------------+\n",
      "| Processes:                                                                  |\n",
      "|  GPU   GI   CI        PID   Type   Process name                  GPU Memory |\n",
      "|        ID   ID                                                   Usage      |\n",
      "|=============================================================================|\n",
      "|    0   N/A  N/A      3803      C   python                           1219MiB |\n",
      "|    0   N/A  N/A      6976      G   /usr/lib/xorg/Xorg                  9MiB |\n",
      "|    0   N/A  N/A      7277      G   /usr/bin/gnome-shell                7MiB |\n",
      "|    0   N/A  N/A     15932      C   ...nda3/envs/test/bin/python     1457MiB |\n",
      "|    0   N/A  N/A     19398      C   ...onda/envs/deep/bin/python     1951MiB |\n",
      "|    0   N/A  N/A     21249      C   ...nda3/envs/test/bin/python     1457MiB |\n",
      "|    0   N/A  N/A     28766      C   ...nda3/envs/test/bin/python     1331MiB |\n",
      "|    1   N/A  N/A      6976      G   /usr/lib/xorg/Xorg                  4MiB |\n",
      "+-----------------------------------------------------------------------------+\n"
     ]
    }
   ],
   "source": [
    "# 使用GPU\n",
    "os.environ[\"CUDA_VISIBLE_DEVICES\"]=\"1\"\n",
    "! nvidia-smi"
   ]
  },
  {
   "cell_type": "code",
   "execution_count": null,
   "id": "076a208e-ea55-4d41-8221-7abe3290bef0",
   "metadata": {},
   "outputs": [],
   "source": []
  },
  {
   "cell_type": "code",
   "execution_count": null,
   "id": "7c7d27b5-0e66-454e-a2e5-379acd8b92e2",
   "metadata": {},
   "outputs": [],
   "source": []
  },
  {
   "cell_type": "markdown",
   "id": "ef29f03a-b125-44bf-adf5-557e322b029c",
   "metadata": {},
   "source": [
    "# 取得測試資料"
   ]
  },
  {
   "cell_type": "code",
   "execution_count": 3,
   "id": "6df912aa-e6a4-48ed-8b55-099acb5707b9",
   "metadata": {},
   "outputs": [],
   "source": [
    "mongoURI = \"mongodb://%s:%s@%s/%s?authMechanism=SCRAM-SHA-1\" % (\"eva\", \"eva_30241\", \"140.117.69.70:30241\", \"eva\")\n",
    "\n",
    "try:\n",
    "    conn = pymongo.MongoClient(mongoURI)\n",
    "    db = conn.eva\n",
    "    # db_de = db.patent_de\n",
    "    # db_us = db.patent_us\n",
    "    # db_cn = db.patent_cn\n",
    "    \n",
    "    db_rm_us = db.rm_patent_us\n",
    "    db_rm_cn = db.rm_patent_cn\n",
    "    db_rm_de = db.rm_patent_de\n",
    "    \n",
    "    db_rm_us_2020 = db.rm_patent_us_2020\n",
    "    db_rm_cn_2020 = db.rm_patent_cn_2020\n",
    "    db_rm_de_2020 = db.rm_patent_de_2020\n",
    "    \n",
    "except errors.ConnectionFailure as err:\n",
    "    print(err)"
   ]
  },
  {
   "cell_type": "code",
   "execution_count": null,
   "id": "68e518cb-a652-4a78-8863-d55146833016",
   "metadata": {},
   "outputs": [],
   "source": []
  },
  {
   "cell_type": "code",
   "execution_count": 4,
   "id": "9c5be90d-8c8d-4ce6-ab0f-69cbbe89d7f8",
   "metadata": {},
   "outputs": [],
   "source": [
    "data_us_desc = db_rm_us_2020.find({}, {\"patentNumber\":1, \"brief\": 1})\n",
    "\n",
    "ls_id = []\n",
    "ls_pNo = []\n",
    "ls_desc = []\n",
    "for data in data_us_desc:\n",
    "    # print(data[\"_id\"],data[\"count\"])\n",
    "    ls_id.append(data[\"_id\"])\n",
    "    ls_pNo.append(data[\"patentNumber\"])\n",
    "    ls_desc.append(data[\"brief\"])"
   ]
  },
  {
   "cell_type": "code",
   "execution_count": 5,
   "id": "072eaff0-b85c-4a06-9021-f84a4dd482ad",
   "metadata": {},
   "outputs": [],
   "source": [
    "df_us = pd.DataFrame((zip(ls_id, ls_pNo, ls_desc)), columns = ['id', 'patentNumber', 'brief'])"
   ]
  },
  {
   "cell_type": "code",
   "execution_count": 6,
   "id": "c003d34a-859e-4914-a37d-6f451863af3e",
   "metadata": {},
   "outputs": [],
   "source": [
    "# df_us.head()"
   ]
  },
  {
   "cell_type": "code",
   "execution_count": 7,
   "id": "0d71a51d-4edc-4eb6-91e9-3c9e721f3639",
   "metadata": {
    "scrolled": true,
    "tags": []
   },
   "outputs": [
    {
     "data": {
      "text/html": [
       "<div>\n",
       "<style scoped>\n",
       "    .dataframe tbody tr th:only-of-type {\n",
       "        vertical-align: middle;\n",
       "    }\n",
       "\n",
       "    .dataframe tbody tr th {\n",
       "        vertical-align: top;\n",
       "    }\n",
       "\n",
       "    .dataframe thead th {\n",
       "        text-align: right;\n",
       "    }\n",
       "</style>\n",
       "<table border=\"1\" class=\"dataframe\">\n",
       "  <thead>\n",
       "    <tr style=\"text-align: right;\">\n",
       "      <th></th>\n",
       "      <th>id</th>\n",
       "      <th>patentNumber</th>\n",
       "      <th>brief</th>\n",
       "    </tr>\n",
       "  </thead>\n",
       "  <tbody>\n",
       "    <tr>\n",
       "      <th>0</th>\n",
       "      <td>6200e2f77b73c16636b313e4</td>\n",
       "      <td>US20200202117A1</td>\n",
       "      <td>Methods, apparatus and systems for wireless ga...</td>\n",
       "    </tr>\n",
       "    <tr>\n",
       "      <th>1</th>\n",
       "      <td>6200ea237b73c16636b3142a</td>\n",
       "      <td>US20210050104A1</td>\n",
       "      <td>A comprehensive health care data management sy...</td>\n",
       "    </tr>\n",
       "    <tr>\n",
       "      <th>2</th>\n",
       "      <td>6200ed6d7b73c16636b3144a</td>\n",
       "      <td>US11006920B2</td>\n",
       "      <td>Controlling a multi-device module includes a p...</td>\n",
       "    </tr>\n",
       "    <tr>\n",
       "      <th>3</th>\n",
       "      <td>6200fcbb7b73c16636b314fc</td>\n",
       "      <td>US11082218B2</td>\n",
       "      <td>A module with an embedded universal integrated...</td>\n",
       "    </tr>\n",
       "    <tr>\n",
       "      <th>4</th>\n",
       "      <td>620100797b73c16636b31520</td>\n",
       "      <td>US20200358827A1</td>\n",
       "      <td>The present disclosure includes, responsive to...</td>\n",
       "    </tr>\n",
       "    <tr>\n",
       "      <th>...</th>\n",
       "      <td>...</td>\n",
       "      <td>...</td>\n",
       "      <td>...</td>\n",
       "    </tr>\n",
       "    <tr>\n",
       "      <th>8450</th>\n",
       "      <td>620b2c70e0ec9a30af2b76c5</td>\n",
       "      <td>US20210111835A1</td>\n",
       "      <td>The disclosure relates to methods, devices, an...</td>\n",
       "    </tr>\n",
       "    <tr>\n",
       "      <th>8451</th>\n",
       "      <td>620b2c9fe0ec9a30af2b76c7</td>\n",
       "      <td>US11151388B2</td>\n",
       "      <td>An apparatus includes an interface, display, m...</td>\n",
       "    </tr>\n",
       "    <tr>\n",
       "      <th>8452</th>\n",
       "      <td>620b2ca1e0ec9a30af2b76c9</td>\n",
       "      <td>US20210063274A1</td>\n",
       "      <td>There is therefore provided a method, system a...</td>\n",
       "    </tr>\n",
       "    <tr>\n",
       "      <th>8453</th>\n",
       "      <td>620b2ca2e0ec9a30af2b76cb</td>\n",
       "      <td>US20210141417A1</td>\n",
       "      <td>A display device includes a first non-folding ...</td>\n",
       "    </tr>\n",
       "    <tr>\n",
       "      <th>8454</th>\n",
       "      <td>620b2ca2e0ec9a30af2b76cd</td>\n",
       "      <td>US20200344025A1</td>\n",
       "      <td>A wireless communication system includes: a ba...</td>\n",
       "    </tr>\n",
       "  </tbody>\n",
       "</table>\n",
       "<p>8455 rows × 3 columns</p>\n",
       "</div>"
      ],
      "text/plain": [
       "                            id     patentNumber  \\\n",
       "0     6200e2f77b73c16636b313e4  US20200202117A1   \n",
       "1     6200ea237b73c16636b3142a  US20210050104A1   \n",
       "2     6200ed6d7b73c16636b3144a     US11006920B2   \n",
       "3     6200fcbb7b73c16636b314fc     US11082218B2   \n",
       "4     620100797b73c16636b31520  US20200358827A1   \n",
       "...                        ...              ...   \n",
       "8450  620b2c70e0ec9a30af2b76c5  US20210111835A1   \n",
       "8451  620b2c9fe0ec9a30af2b76c7     US11151388B2   \n",
       "8452  620b2ca1e0ec9a30af2b76c9  US20210063274A1   \n",
       "8453  620b2ca2e0ec9a30af2b76cb  US20210141417A1   \n",
       "8454  620b2ca2e0ec9a30af2b76cd  US20200344025A1   \n",
       "\n",
       "                                                  brief  \n",
       "0     Methods, apparatus and systems for wireless ga...  \n",
       "1     A comprehensive health care data management sy...  \n",
       "2     Controlling a multi-device module includes a p...  \n",
       "3     A module with an embedded universal integrated...  \n",
       "4     The present disclosure includes, responsive to...  \n",
       "...                                                 ...  \n",
       "8450  The disclosure relates to methods, devices, an...  \n",
       "8451  An apparatus includes an interface, display, m...  \n",
       "8452  There is therefore provided a method, system a...  \n",
       "8453  A display device includes a first non-folding ...  \n",
       "8454  A wireless communication system includes: a ba...  \n",
       "\n",
       "[8455 rows x 3 columns]"
      ]
     },
     "execution_count": 7,
     "metadata": {},
     "output_type": "execute_result"
    }
   ],
   "source": [
    "df_us"
   ]
  },
  {
   "cell_type": "code",
   "execution_count": null,
   "id": "4c121210-98f3-40ff-8a67-70b47228f28a",
   "metadata": {},
   "outputs": [],
   "source": []
  },
  {
   "cell_type": "code",
   "execution_count": null,
   "id": "de43a54d-2c1b-4e7f-9d63-ae7f8cb54248",
   "metadata": {},
   "outputs": [],
   "source": []
  },
  {
   "cell_type": "code",
   "execution_count": null,
   "id": "987317e7-57ff-45f7-ba42-a3e00e69dc02",
   "metadata": {},
   "outputs": [],
   "source": []
  },
  {
   "cell_type": "markdown",
   "id": "7528645a-52f4-43f5-9d02-db6df56fa512",
   "metadata": {},
   "source": [
    "## 資料處理"
   ]
  },
  {
   "cell_type": "markdown",
   "id": "654f722d-10ff-405f-8993-d2f48730e5ae",
   "metadata": {},
   "source": [
    "### 英文"
   ]
  },
  {
   "cell_type": "code",
   "execution_count": 8,
   "id": "d350ce0b-1e21-46a4-85a9-77736084e2c8",
   "metadata": {},
   "outputs": [
    {
     "data": {
      "text/plain": [
       "116"
      ]
     },
     "execution_count": 8,
     "metadata": {},
     "output_type": "execute_result"
    }
   ],
   "source": [
    "df_us.brief.isna().sum()"
   ]
  },
  {
   "cell_type": "code",
   "execution_count": 9,
   "id": "8b041b77-187f-4a19-9514-4f775c2ded5b",
   "metadata": {
    "scrolled": true,
    "tags": []
   },
   "outputs": [],
   "source": [
    "df_us.brief.fillna(\"\", inplace=True)"
   ]
  },
  {
   "cell_type": "code",
   "execution_count": 10,
   "id": "3146c562-d137-4c8c-b192-b021a9b5d0c2",
   "metadata": {},
   "outputs": [],
   "source": [
    "def clean(row):\n",
    "    text = re.sub('[^ a-zA-Z. ]', '', row) \n",
    "    return text"
   ]
  },
  {
   "cell_type": "code",
   "execution_count": 11,
   "id": "d2985049-5844-46a5-ac72-2635991ad207",
   "metadata": {},
   "outputs": [],
   "source": [
    "df_us[\"brief\"] = df_us.brief.apply(clean)"
   ]
  },
  {
   "cell_type": "code",
   "execution_count": null,
   "id": "4ba8d619-8d27-46ee-b921-0eadc8f7123b",
   "metadata": {},
   "outputs": [],
   "source": []
  },
  {
   "cell_type": "code",
   "execution_count": 12,
   "id": "95bf66ce-554f-43ad-b102-eae7ebfa4dc6",
   "metadata": {},
   "outputs": [
    {
     "name": "stderr",
     "output_type": "stream",
     "text": [
      "[nltk_data] Downloading package stopwords to\n",
      "[nltk_data]     /home/evalogin/nltk_data...\n",
      "[nltk_data]   Package stopwords is already up-to-date!\n"
     ]
    }
   ],
   "source": [
    "nltk.download('stopwords') # 下載nltk內建的停用字\n",
    "stopWords = stopwords.words('english') # 使用英文的停用字"
   ]
  },
  {
   "cell_type": "code",
   "execution_count": 13,
   "id": "73f60a63-71cf-4641-824b-0cf3f049f5ca",
   "metadata": {},
   "outputs": [],
   "source": [
    "def get_wordnet_pos(word):\n",
    "    \"\"\"Map POS tag to first character lemmatize() accepts\"\"\"\n",
    "    tag = nltk.pos_tag([word])[0][1][0].upper()\n",
    "    tag_dict = {\"J\": wordnet.ADJ,\n",
    "                \"N\": wordnet.NOUN,\n",
    "                \"V\": wordnet.VERB,\n",
    "                \"R\": wordnet.ADV}\n",
    "\n",
    "    return tag_dict.get(tag, wordnet.NOUN) #tag_dict.get(tag, wordnet.ADV)"
   ]
  },
  {
   "cell_type": "code",
   "execution_count": null,
   "id": "219dbd6f-a287-46e7-bd85-6d50cf0f99c4",
   "metadata": {},
   "outputs": [],
   "source": []
  },
  {
   "cell_type": "code",
   "execution_count": 14,
   "id": "2f9835b7-b377-4f4c-8b45-2fa10bdf7ad1",
   "metadata": {},
   "outputs": [],
   "source": [
    "# stemmer = PorterStemmer() #做Stemming還原詞幹\n",
    "wordnet_lemmatizer = WordNetLemmatizer() # 字根還原\n",
    "def getToken(row):\n",
    "    # seg_list = nltk.tokenize.word_tokenize(row) # 進行斷詞\n",
    "    # seg_list = [w for w in seg_list if len(w)>1]\n",
    "    # seg_list = [wordnet_lemmatizer.lemmatize(str(w).lower(), get_wordnet_pos(w)) for w in seg_list] # 根據詞性字根還原\n",
    "    # seg_list = [w for w in seg_list if w not in stopWords] # 去除停用字\n",
    "    \n",
    "    row = row.replace(\".\",\". \")\n",
    "    sent = nltk.tokenize.sent_tokenize(row)\n",
    "    token = [nltk.tokenize.word_tokenize(i) for i in sent]\n",
    "    \n",
    "    ls = []\n",
    "    for w in token:\n",
    "        # ls2 = []\n",
    "        for i in w:\n",
    "            i = i.replace(\".\",\"\")\n",
    "            word = wordnet_lemmatizer.lemmatize(str(i).lower(), get_wordnet_pos(i)) # 根據詞性字根還原\n",
    "            if (word not in stopWords) and (len(word)>1) and ((get_wordnet_pos(word)=='n') or (get_wordnet_pos(word)=='v')): # 去除停用字   and ((get_wordnet_pos(word)=='n') or (get_wordnet_pos(word)=='v'))\n",
    "                ls.append(word)\n",
    "        # if len(ls2)!=0:\n",
    "        #     ls.append(ls2)\n",
    "    \n",
    "    return ls"
   ]
  },
  {
   "cell_type": "code",
   "execution_count": 15,
   "id": "763a17a2-4d15-478a-baf8-59cf24191256",
   "metadata": {},
   "outputs": [],
   "source": [
    "# df_us2 = df_us.iloc[0:5,:]"
   ]
  },
  {
   "cell_type": "code",
   "execution_count": 16,
   "id": "19282a3e-ba2e-457d-87a4-db52de25db5c",
   "metadata": {
    "tags": []
   },
   "outputs": [],
   "source": [
    "# df_us2[\"word\"] = df_us2.brief.apply(getToken)"
   ]
  },
  {
   "cell_type": "code",
   "execution_count": 17,
   "id": "40e6aa00-4c8e-457b-a154-db3270091fa2",
   "metadata": {},
   "outputs": [],
   "source": [
    "# df_us2.brief[0]"
   ]
  },
  {
   "cell_type": "code",
   "execution_count": 18,
   "id": "78009324-e75e-4795-83fc-3bf0479811d5",
   "metadata": {},
   "outputs": [],
   "source": [
    "# row = df_us2.brief[0]"
   ]
  },
  {
   "cell_type": "code",
   "execution_count": 19,
   "id": "212118e9-3a6e-4dda-b2c5-10ed200fa686",
   "metadata": {},
   "outputs": [],
   "source": [
    "# row = row.replace(\".\",\". \")\n",
    "# sent = nltk.tokenize.sent_tokenize(row)\n",
    "# token = [nltk.tokenize.word_tokenize(i) for i in sent]"
   ]
  },
  {
   "cell_type": "code",
   "execution_count": 20,
   "id": "dd4f2cb1-0588-49eb-a87a-24a8102676b4",
   "metadata": {
    "scrolled": true,
    "tags": []
   },
   "outputs": [],
   "source": [
    "# getToken(df_us2.brief[0])"
   ]
  },
  {
   "cell_type": "code",
   "execution_count": null,
   "id": "3bc19cf6-6dc6-46bd-9009-9178741aacd1",
   "metadata": {},
   "outputs": [],
   "source": []
  },
  {
   "cell_type": "code",
   "execution_count": null,
   "id": "222a1820-50bd-47ce-afdc-7f369714f41f",
   "metadata": {},
   "outputs": [],
   "source": []
  },
  {
   "cell_type": "code",
   "execution_count": null,
   "id": "3b8ab897-c4bc-47cc-9f04-3c290067206e",
   "metadata": {},
   "outputs": [],
   "source": [
    "df_us[\"word\"] = df_us.brief.apply(getToken)"
   ]
  },
  {
   "cell_type": "code",
   "execution_count": null,
   "id": "c4d898c6-7254-4a8a-97ca-8dbbd06f6f38",
   "metadata": {},
   "outputs": [],
   "source": [
    "# df_us2.head()"
   ]
  },
  {
   "cell_type": "code",
   "execution_count": null,
   "id": "d8f0573d-4f8b-4dd1-8268-5874dbc6c042",
   "metadata": {},
   "outputs": [],
   "source": [
    "# df_us_token = df_us.explode('word') # 將word欄位展開\n",
    "df_us_token = df_us.copy()"
   ]
  },
  {
   "cell_type": "code",
   "execution_count": null,
   "id": "bcd8d018-3eb2-4304-b376-af42491729a4",
   "metadata": {},
   "outputs": [],
   "source": [
    "df_us_token.dropna(subset = [\"word\"], inplace=True)\n",
    "df_us_token.reset_index(inplace=True, drop=True) # 原本index基於文章筆數，現在需要重設index為基於斷詞數量\n",
    "df_us_token.head()"
   ]
  },
  {
   "cell_type": "code",
   "execution_count": null,
   "id": "af816752-2e0a-4b51-91b6-ed17afa55f06",
   "metadata": {},
   "outputs": [],
   "source": [
    "# df_us_token_s = df_us_token.sort_values(by=[\"word\"])\n",
    "# df_us_token_s.reset_index(inplace=True, drop=True)"
   ]
  },
  {
   "cell_type": "code",
   "execution_count": null,
   "id": "2e70d86e-5093-401f-80af-b78397313794",
   "metadata": {},
   "outputs": [],
   "source": [
    "# df_us_token_s"
   ]
  },
  {
   "cell_type": "code",
   "execution_count": null,
   "id": "ad458162-fc99-4bed-9f69-17b128f74d98",
   "metadata": {
    "tags": []
   },
   "outputs": [],
   "source": [
    "# df_us_token_s.iloc[0,2]"
   ]
  },
  {
   "cell_type": "code",
   "execution_count": null,
   "id": "cf117a65-c4df-4b54-9f2e-7a2c0224e8b6",
   "metadata": {},
   "outputs": [],
   "source": []
  },
  {
   "cell_type": "code",
   "execution_count": null,
   "id": "0eb40d40-677a-4aa5-829f-6c99b4cb8f7e",
   "metadata": {},
   "outputs": [],
   "source": []
  },
  {
   "cell_type": "code",
   "execution_count": null,
   "id": "6a8db9b2-55a6-44a5-a25c-2efa3c8f7f34",
   "metadata": {},
   "outputs": [],
   "source": []
  },
  {
   "cell_type": "markdown",
   "id": "9079e1fd-01f4-48b4-98e7-ee7cd02c9e64",
   "metadata": {},
   "source": [
    "## 存成txt檔"
   ]
  },
  {
   "cell_type": "code",
   "execution_count": null,
   "id": "440614d0-157f-4b23-8645-bab09daf490b",
   "metadata": {},
   "outputs": [],
   "source": [
    "# ! head -c 100 data/fil9"
   ]
  },
  {
   "cell_type": "code",
   "execution_count": null,
   "id": "88eff47e-c827-4600-b22d-7bc82a01a1a1",
   "metadata": {
    "tags": []
   },
   "outputs": [],
   "source": [
    "# 存成txt檔\n",
    "textfile = open(\"./data/us_file_brief_paragraph_2020.txt\", \"w\")\n",
    "for i in range(len(df_us_token)):\n",
    "    for element in df_us_token.word[i]:\n",
    "        # print(element)\n",
    "        textfile.write(element+\" \")\n",
    "    textfile.write(\"\\n\")\n",
    "textfile.close()"
   ]
  },
  {
   "cell_type": "code",
   "execution_count": null,
   "id": "576fc8b7-424b-4236-a084-b8dffd580300",
   "metadata": {},
   "outputs": [],
   "source": []
  },
  {
   "cell_type": "code",
   "execution_count": null,
   "id": "e418fc47-eedf-4592-8fdc-354fd460178d",
   "metadata": {},
   "outputs": [],
   "source": []
  },
  {
   "cell_type": "code",
   "execution_count": null,
   "id": "3e919428-4db8-454f-92d4-53a2dd90a8e2",
   "metadata": {},
   "outputs": [],
   "source": []
  },
  {
   "cell_type": "code",
   "execution_count": null,
   "id": "509863ac-db11-45b1-b6e9-451971ae1ecb",
   "metadata": {},
   "outputs": [],
   "source": []
  },
  {
   "cell_type": "code",
   "execution_count": null,
   "id": "9a8333fd-e5cd-4691-b8b7-7f5685627163",
   "metadata": {},
   "outputs": [],
   "source": []
  }
 ],
 "metadata": {
  "kernelspec": {
   "display_name": "for_paper",
   "language": "python",
   "name": "for_paper"
  },
  "language_info": {
   "codemirror_mode": {
    "name": "ipython",
    "version": 3
   },
   "file_extension": ".py",
   "mimetype": "text/x-python",
   "name": "python",
   "nbconvert_exporter": "python",
   "pygments_lexer": "ipython3",
   "version": "3.8.12"
  }
 },
 "nbformat": 4,
 "nbformat_minor": 5
}
