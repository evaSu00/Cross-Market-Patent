{
 "cells": [
  {
   "cell_type": "code",
   "execution_count": 20,
   "id": "3476376a-8e13-4ba1-a6a2-4e1551e0759d",
   "metadata": {},
   "outputs": [],
   "source": [
    "# ! pip install stanfordcorenlp"
   ]
  },
  {
   "cell_type": "code",
   "execution_count": 2,
   "id": "bf385c73-db49-4aee-b582-13a9c9a63bc2",
   "metadata": {},
   "outputs": [],
   "source": [
    "from stanfordcorenlp import StanfordCoreNLP"
   ]
  },
  {
   "cell_type": "code",
   "execution_count": 10,
   "id": "011fc605-b9c0-4345-973c-38755abeafc2",
   "metadata": {
    "scrolled": true,
    "tags": []
   },
   "outputs": [],
   "source": [
    "nlp = StanfordCoreNLP(r'../../LDA/stanford-corenlp-4.4.0', lang='de')"
   ]
  },
  {
   "cell_type": "code",
   "execution_count": 14,
   "id": "4cd8db2f-025d-45d6-9e63-50ec82e86f7b",
   "metadata": {},
   "outputs": [],
   "source": [
    "sentence = 'In one embodiment, a distributed intelligence agent (DIA) in a computer network performs deep packet inspection on received packets to determine packet flows, and calculates per-flow service level agreement (SLA) metrics for the packets based on timestamp values placed in the packets by respective origin devices in the computer network. By comparing the SLA metrics to respective SLAs to determine whether the respective SLAs are met, then in response to a particular SLA not being met for a particular flow, the DIA may download determined quality of service (QoS) configuration parameters to one or more visited devices along n calculated paths from a corresponding origin device for the particular flow to the DIA. In addition, in one or more embodiments, the QoS configuration parameters may be adjusted or de-configured based on whether they were successful.'"
   ]
  },
  {
   "cell_type": "code",
   "execution_count": 18,
   "id": "199fe81a-2c13-4924-a662-4612e8f065df",
   "metadata": {
    "scrolled": true,
    "tags": []
   },
   "outputs": [
    {
     "name": "stdout",
     "output_type": "stream",
     "text": [
      "['In', 'one', 'embodiment', ',', 'a', 'distributed', 'intelligence', 'agent', '(', 'DIA', ')', 'in', 'a', 'computer', 'network', 'performs', 'deep', 'packet', 'inspection', 'on', 'received', 'packets', 'to', 'determine', 'packet', 'flows', ',', 'and', 'calculates', 'per', '-', 'flow', 'service', 'level', 'agreement', '(', 'SLA', ')', 'metrics', 'for', 'the', 'packets', 'based', 'on', 'timestamp', 'values', 'placed', 'in', 'the', 'packets', 'by', 'respective', 'origin', 'devices', 'in', 'the', 'computer', 'network', '.', 'By', 'comparing', 'the', 'SLA', 'metrics', 'to', 'respective', 'SLAs', 'to', 'determine', 'whether', 'the', 'respective', 'SLAs', 'are', 'met', ',', 'then', 'in', 'response', 'to', 'a', 'particular', 'SLA', 'not', 'being', 'met', 'for', 'a', 'particular', 'flow', ',', 'the', 'DIA', 'may', 'download', 'determined', 'quality', 'of', 'service', '(', 'QoS', ')', 'configuration', 'parameters', 'to', 'one', 'or', 'more', 'visited', 'devices', 'along', 'n', 'calculated', 'paths', 'from', 'a', 'corresponding', 'origin', 'device', 'for', 'the', 'particular', 'flow', 'to', 'the', 'DIA', '.', 'In', 'addition', ',', 'in', 'one', 'or', 'more', 'embodiments', ',', 'the', 'QoS', 'configuration', 'parameters', 'may', 'be', 'adjusted', 'or', 'de-configured', 'based', 'on', 'whether', 'they', 'were', 'successful', '.']\n"
     ]
    }
   ],
   "source": [
    "print (nlp.word_tokenize(sentence))"
   ]
  },
  {
   "cell_type": "code",
   "execution_count": 19,
   "id": "4e5ea380-cf7a-420f-b4ee-d3e7b8dd7216",
   "metadata": {
    "scrolled": true,
    "tags": []
   },
   "outputs": [
    {
     "name": "stdout",
     "output_type": "stream",
     "text": [
      "[('In', 'IN'), ('one', 'CD'), ('embodiment', 'NN'), (',', ','), ('a', 'DT'), ('distributed', 'VBN'), ('intelligence', 'NN'), ('agent', 'NN'), ('(', '-LRB-'), ('DIA', 'NNP'), (')', '-RRB-'), ('in', 'IN'), ('a', 'DT'), ('computer', 'NN'), ('network', 'NN'), ('performs', 'VBZ'), ('deep', 'JJ'), ('packet', 'NN'), ('inspection', 'NN'), ('on', 'IN'), ('received', 'VBN'), ('packets', 'NNS'), ('to', 'TO'), ('determine', 'VB'), ('packet', 'NN'), ('flows', 'NNS'), (',', ','), ('and', 'CC'), ('calculates', 'VBZ'), ('per', 'IN'), ('-', 'HYPH'), ('flow', 'NN'), ('service', 'NN'), ('level', 'NN'), ('agreement', 'NN'), ('(', '-LRB-'), ('SLA', 'NN'), (')', '-RRB-'), ('metrics', 'NNS'), ('for', 'IN'), ('the', 'DT'), ('packets', 'NNS'), ('based', 'VBN'), ('on', 'IN'), ('timestamp', 'NN'), ('values', 'NNS'), ('placed', 'VBN'), ('in', 'IN'), ('the', 'DT'), ('packets', 'NNS'), ('by', 'IN'), ('respective', 'JJ'), ('origin', 'NN'), ('devices', 'NNS'), ('in', 'IN'), ('the', 'DT'), ('computer', 'NN'), ('network', 'NN'), ('.', '.'), ('By', 'IN'), ('comparing', 'VBG'), ('the', 'DT'), ('SLA', 'NN'), ('metrics', 'NNS'), ('to', 'IN'), ('respective', 'JJ'), ('SLAs', 'NNS'), ('to', 'TO'), ('determine', 'VB'), ('whether', 'IN'), ('the', 'DT'), ('respective', 'JJ'), ('SLAs', 'NNS'), ('are', 'VBP'), ('met', 'VBN'), (',', ','), ('then', 'RB'), ('in', 'IN'), ('response', 'NN'), ('to', 'IN'), ('a', 'DT'), ('particular', 'JJ'), ('SLA', 'NNP'), ('not', 'RB'), ('being', 'VBG'), ('met', 'VBN'), ('for', 'IN'), ('a', 'DT'), ('particular', 'JJ'), ('flow', 'NN'), (',', ','), ('the', 'DT'), ('DIA', 'NNP'), ('may', 'MD'), ('download', 'VB'), ('determined', 'JJ'), ('quality', 'NN'), ('of', 'IN'), ('service', 'NN'), ('(', '-LRB-'), ('QoS', 'NN'), (')', '-RRB-'), ('configuration', 'NN'), ('parameters', 'NNS'), ('to', 'IN'), ('one', 'CD'), ('or', 'CC'), ('more', 'JJR'), ('visited', 'VBD'), ('devices', 'NNS'), ('along', 'IN'), ('n', 'NN'), ('calculated', 'VBN'), ('paths', 'NNS'), ('from', 'IN'), ('a', 'DT'), ('corresponding', 'VBG'), ('origin', 'NN'), ('device', 'NN'), ('for', 'IN'), ('the', 'DT'), ('particular', 'JJ'), ('flow', 'NN'), ('to', 'IN'), ('the', 'DT'), ('DIA', 'NNP'), ('.', '.'), ('In', 'IN'), ('addition', 'NN'), (',', ','), ('in', 'IN'), ('one', 'CD'), ('or', 'CC'), ('more', 'JJR'), ('embodiments', 'NNS'), (',', ','), ('the', 'DT'), ('QoS', 'NNP'), ('configuration', 'NN'), ('parameters', 'NNS'), ('may', 'MD'), ('be', 'VB'), ('adjusted', 'VBN'), ('or', 'CC'), ('de-configured', 'VBN'), ('based', 'VBN'), ('on', 'IN'), ('whether', 'IN'), ('they', 'PRP'), ('were', 'VBD'), ('successful', 'JJ'), ('.', '.')]\n"
     ]
    }
   ],
   "source": [
    "print (nlp.pos_tag(sentence))"
   ]
  },
  {
   "cell_type": "code",
   "execution_count": null,
   "id": "5a5d9be7-9c7f-4c9b-a1d0-47cb1ac83288",
   "metadata": {},
   "outputs": [],
   "source": [
    "print (nlp.ner(sentence))\n",
    "print (nlp.parse(sentence))\n",
    "print (nlp.dependency_parse(sentence))"
   ]
  },
  {
   "cell_type": "code",
   "execution_count": null,
   "id": "444f30e0-c5da-40ac-a9af-c98e9ea60c6b",
   "metadata": {},
   "outputs": [],
   "source": []
  },
  {
   "cell_type": "code",
   "execution_count": null,
   "id": "249d39a2-0ea8-4784-9c74-d69e279528f3",
   "metadata": {},
   "outputs": [],
   "source": []
  },
  {
   "cell_type": "code",
   "execution_count": null,
   "id": "d8514091-d974-481a-b06a-6cf2d068e776",
   "metadata": {},
   "outputs": [],
   "source": []
  },
  {
   "cell_type": "code",
   "execution_count": null,
   "id": "62dad6d2-d005-4c18-939f-6c42449acac8",
   "metadata": {},
   "outputs": [],
   "source": []
  }
 ],
 "metadata": {
  "kernelspec": {
   "display_name": "for_paper",
   "language": "python",
   "name": "for_paper"
  },
  "language_info": {
   "codemirror_mode": {
    "name": "ipython",
    "version": 3
   },
   "file_extension": ".py",
   "mimetype": "text/x-python",
   "name": "python",
   "nbconvert_exporter": "python",
   "pygments_lexer": "ipython3",
   "version": "3.8.12"
  }
 },
 "nbformat": 4,
 "nbformat_minor": 5
}
