{
 "cells": [
  {
   "cell_type": "code",
   "execution_count": 1,
   "id": "8ef568fa-4b1b-4a81-b4f6-1c4016f1352f",
   "metadata": {},
   "outputs": [
    {
     "name": "stderr",
     "output_type": "stream",
     "text": [
      "[nltk_data] Downloading package punkt to /home/evalogin/nltk_data...\n",
      "[nltk_data]   Package punkt is already up-to-date!\n",
      "[nltk_data] Downloading package wordnet to /home/evalogin/nltk_data...\n",
      "[nltk_data]   Package wordnet is already up-to-date!\n",
      "[nltk_data] Downloading package omw-1.4 to /home/evalogin/nltk_data...\n",
      "[nltk_data]   Package omw-1.4 is already up-to-date!\n",
      "[nltk_data] Downloading package averaged_perceptron_tagger to\n",
      "[nltk_data]     /home/evalogin/nltk_data...\n",
      "[nltk_data]   Package averaged_perceptron_tagger is already up-to-\n",
      "[nltk_data]       date!\n"
     ]
    }
   ],
   "source": [
    "import numpy as np\n",
    "import pandas as pd\n",
    "import os\n",
    "\n",
    "from pymongo import MongoClient\n",
    "import pymongo\n",
    "\n",
    "import matplotlib.pyplot as plt \n",
    "import matplotlib\n",
    "import re\n",
    "import jieba\n",
    "import jieba.analyse\n",
    "import jieba.posseg as pseg\n",
    "\n",
    "import nltk\n",
    "from nltk.corpus import stopwords\n",
    "from nltk.stem import PorterStemmer\n",
    "from nltk.stem import WordNetLemmatizer\n",
    "from nltk.corpus import wordnet\n",
    "nltk.download(\"punkt\") # 下載需要用到的語料庫\n",
    "nltk.download('wordnet')\n",
    "nltk.download('omw-1.4')\n",
    "nltk.download('averaged_perceptron_tagger')\n",
    "\n",
    "import fasttext"
   ]
  },
  {
   "cell_type": "code",
   "execution_count": 2,
   "id": "38d38707-cb93-4444-afe3-800318328389",
   "metadata": {},
   "outputs": [
    {
     "name": "stdout",
     "output_type": "stream",
     "text": [
      "Thu Jun 23 15:17:19 2022       \n",
      "+-----------------------------------------------------------------------------+\n",
      "| NVIDIA-SMI 470.129.06   Driver Version: 470.129.06   CUDA Version: 11.4     |\n",
      "|-------------------------------+----------------------+----------------------+\n",
      "| GPU  Name        Persistence-M| Bus-Id        Disp.A | Volatile Uncorr. ECC |\n",
      "| Fan  Temp  Perf  Pwr:Usage/Cap|         Memory-Usage | GPU-Util  Compute M. |\n",
      "|                               |                      |               MIG M. |\n",
      "|===============================+======================+======================|\n",
      "|   0  NVIDIA GeForce ...  Off  | 00000000:01:00.0 Off |                  N/A |\n",
      "| 34%   45C    P2    80W / 260W |   3044MiB / 11019MiB |     32%      Default |\n",
      "|                               |                      |                  N/A |\n",
      "+-------------------------------+----------------------+----------------------+\n",
      "|   1  NVIDIA GeForce ...  Off  | 00000000:02:00.0 Off |                  N/A |\n",
      "| 26%   34C    P8    23W / 260W |   1795MiB / 11019MiB |      0%      Default |\n",
      "|                               |                      |                  N/A |\n",
      "+-------------------------------+----------------------+----------------------+\n",
      "                                                                               \n",
      "+-----------------------------------------------------------------------------+\n",
      "| Processes:                                                                  |\n",
      "|  GPU   GI   CI        PID   Type   Process name                  GPU Memory |\n",
      "|        ID   ID                                                   Usage      |\n",
      "|=============================================================================|\n",
      "|    0   N/A  N/A      6976      G   /usr/lib/xorg/Xorg                  9MiB |\n",
      "|    0   N/A  N/A      7277      G   /usr/bin/gnome-shell                7MiB |\n",
      "|    0   N/A  N/A     25726      C   python                           1087MiB |\n",
      "|    0   N/A  N/A     26709      C   ...nda3/envs/test/bin/python     1935MiB |\n",
      "|    1   N/A  N/A      6976      G   /usr/lib/xorg/Xorg                  4MiB |\n",
      "|    1   N/A  N/A     25574      C   ...nda/envs/assa/bin/python3     1787MiB |\n",
      "+-----------------------------------------------------------------------------+\n"
     ]
    }
   ],
   "source": [
    "# 使用GPU\n",
    "os.environ[\"CUDA_VISIBLE_DEVICES\"]=\"1\"\n",
    "! nvidia-smi"
   ]
  },
  {
   "cell_type": "code",
   "execution_count": null,
   "id": "076a208e-ea55-4d41-8221-7abe3290bef0",
   "metadata": {},
   "outputs": [],
   "source": []
  },
  {
   "cell_type": "code",
   "execution_count": null,
   "id": "7c7d27b5-0e66-454e-a2e5-379acd8b92e2",
   "metadata": {},
   "outputs": [],
   "source": []
  },
  {
   "cell_type": "markdown",
   "id": "ef29f03a-b125-44bf-adf5-557e322b029c",
   "metadata": {},
   "source": [
    "# 取得測試資料"
   ]
  },
  {
   "cell_type": "code",
   "execution_count": 3,
   "id": "6df912aa-e6a4-48ed-8b55-099acb5707b9",
   "metadata": {},
   "outputs": [],
   "source": [
    "mongoURI = \"mongodb://%s:%s@%s/%s?authMechanism=SCRAM-SHA-1\" % (\"eva\", \"eva_30241\", \"140.117.69.70:30241\", \"eva\")\n",
    "\n",
    "try:\n",
    "    conn = pymongo.MongoClient(mongoURI)\n",
    "    db = conn.eva\n",
    "    # db_de = db.patent_de\n",
    "    # db_us = db.patent_us\n",
    "    # db_cn = db.patent_cn\n",
    "    \n",
    "    db_rm_us = db.rm_patent_us\n",
    "    db_rm_cn = db.rm_patent_cn\n",
    "    db_rm_de = db.rm_patent_de\n",
    "    \n",
    "    db_rm_us_2020 = db.rm_patent_us_2020\n",
    "    db_rm_cn_2020 = db.rm_patent_cn_2020\n",
    "    db_rm_de_2020 = db.rm_patent_de_2020\n",
    "    \n",
    "except errors.ConnectionFailure as err:\n",
    "    print(err)"
   ]
  },
  {
   "cell_type": "code",
   "execution_count": null,
   "id": "68e518cb-a652-4a78-8863-d55146833016",
   "metadata": {},
   "outputs": [],
   "source": []
  },
  {
   "cell_type": "code",
   "execution_count": 4,
   "id": "9c5be90d-8c8d-4ce6-ab0f-69cbbe89d7f8",
   "metadata": {},
   "outputs": [],
   "source": [
    "data_cn_desc = db_rm_cn_2020.find({}, {\"patentNumber\":1, \"description\": 1})\n",
    "\n",
    "ls_id = []\n",
    "ls_pNo = []\n",
    "ls_desc = []\n",
    "for data in data_cn_desc:\n",
    "    # print(data[\"_id\"],data[\"count\"])\n",
    "    ls_id.append(data[\"_id\"])\n",
    "    ls_pNo.append(data[\"patentNumber\"])\n",
    "    ls_desc.append(data[\"description\"])"
   ]
  },
  {
   "cell_type": "code",
   "execution_count": 5,
   "id": "072eaff0-b85c-4a06-9021-f84a4dd482ad",
   "metadata": {},
   "outputs": [],
   "source": [
    "df_cn = pd.DataFrame((zip(ls_id, ls_pNo, ls_desc)), columns = ['id', 'patentNumber', 'description'])"
   ]
  },
  {
   "cell_type": "code",
   "execution_count": 6,
   "id": "c003d34a-859e-4914-a37d-6f451863af3e",
   "metadata": {},
   "outputs": [],
   "source": [
    "# df_cn.head()"
   ]
  },
  {
   "cell_type": "code",
   "execution_count": 7,
   "id": "0d71a51d-4edc-4eb6-91e9-3c9e721f3639",
   "metadata": {
    "scrolled": true,
    "tags": []
   },
   "outputs": [
    {
     "data": {
      "text/html": [
       "<div>\n",
       "<style scoped>\n",
       "    .dataframe tbody tr th:only-of-type {\n",
       "        vertical-align: middle;\n",
       "    }\n",
       "\n",
       "    .dataframe tbody tr th {\n",
       "        vertical-align: top;\n",
       "    }\n",
       "\n",
       "    .dataframe thead th {\n",
       "        text-align: right;\n",
       "    }\n",
       "</style>\n",
       "<table border=\"1\" class=\"dataframe\">\n",
       "  <thead>\n",
       "    <tr style=\"text-align: right;\">\n",
       "      <th></th>\n",
       "      <th>id</th>\n",
       "      <th>patentNumber</th>\n",
       "      <th>description</th>\n",
       "    </tr>\n",
       "  </thead>\n",
       "  <tbody>\n",
       "    <tr>\n",
       "      <th>0</th>\n",
       "      <td>61ffe131f4d57576a502c4bf</td>\n",
       "      <td>CN112187940A</td>\n",
       "      <td>技术领域本发明涉及通信技术领域，尤其涉及到一种基于物联网的安防监控系统。背景技术随着通信、微...</td>\n",
       "    </tr>\n",
       "    <tr>\n",
       "      <th>1</th>\n",
       "      <td>61ffe143f4d57576a502c4d3</td>\n",
       "      <td>CN112364317A</td>\n",
       "      <td>技术领域本发明涉及物联网信息安全技术领域，具体涉及一种基于区块链技术的物联网雾环境管理架构及...</td>\n",
       "    </tr>\n",
       "    <tr>\n",
       "      <th>2</th>\n",
       "      <td>61ffe14df4d57576a502c4d5</td>\n",
       "      <td>CN113508066A</td>\n",
       "      <td>相关申请的交叉引用本申请要求于2019年3月29日提交的题为自主交通工具系统(“Autono...</td>\n",
       "    </tr>\n",
       "    <tr>\n",
       "      <th>3</th>\n",
       "      <td>61ffe14ef4d57576a502c4d7</td>\n",
       "      <td>CN213399967U</td>\n",
       "      <td>技术领域本实用新型属于城市公共设施技术领域，具体涉及一种城市公共设施资产管理系统。背景技术目...</td>\n",
       "    </tr>\n",
       "    <tr>\n",
       "      <th>4</th>\n",
       "      <td>61ffe181f4d57576a502c50b</td>\n",
       "      <td>CN111382190B</td>\n",
       "      <td>技术领域本发明涉及人工智能技术领域，具体涉及一种基于智能的对象推荐方法、装置和存储介质。背景...</td>\n",
       "    </tr>\n",
       "    <tr>\n",
       "      <th>...</th>\n",
       "      <td>...</td>\n",
       "      <td>...</td>\n",
       "      <td>...</td>\n",
       "    </tr>\n",
       "    <tr>\n",
       "      <th>7687</th>\n",
       "      <td>620072d9f4d57576a50387db</td>\n",
       "      <td>CN111935889A</td>\n",
       "      <td>技术领域本发明涉及自动采集及远程控制领域，具体是一种路灯自动采集及远程控制装置。背景技术随着...</td>\n",
       "    </tr>\n",
       "    <tr>\n",
       "      <th>7688</th>\n",
       "      <td>620072d9f4d57576a50387dd</td>\n",
       "      <td>CN212660357U</td>\n",
       "      <td>技术领域本发明涉及自动采集及远程控制领域，具体是一种路灯自动采集及远程控制装置。背景技术随着...</td>\n",
       "    </tr>\n",
       "    <tr>\n",
       "      <th>7689</th>\n",
       "      <td>620072dff4d57576a50387eb</td>\n",
       "      <td>CN111353035B</td>\n",
       "      <td>技术领域本公开涉及计算机技术领域，具体地，涉及一种人机对话方法、装置、可读存储介质及电子设备...</td>\n",
       "    </tr>\n",
       "    <tr>\n",
       "      <th>7690</th>\n",
       "      <td>620072f3f4d57576a5038803</td>\n",
       "      <td>CN211184794U</td>\n",
       "      <td>技术领域本实用新型涉及一种电子装置的散热模组，尤其涉及一种具有鳍片组的连接器。背景技术由于5...</td>\n",
       "    </tr>\n",
       "    <tr>\n",
       "      <th>7691</th>\n",
       "      <td>620072f3f4d57576a5038805</td>\n",
       "      <td>CN212213883U</td>\n",
       "      <td>技术领域本实用新型属于医疗器械领域，涉及一种智能急救推车。背景技术医用推车是指病房防护转运医...</td>\n",
       "    </tr>\n",
       "  </tbody>\n",
       "</table>\n",
       "<p>7692 rows × 3 columns</p>\n",
       "</div>"
      ],
      "text/plain": [
       "                            id  patentNumber  \\\n",
       "0     61ffe131f4d57576a502c4bf  CN112187940A   \n",
       "1     61ffe143f4d57576a502c4d3  CN112364317A   \n",
       "2     61ffe14df4d57576a502c4d5  CN113508066A   \n",
       "3     61ffe14ef4d57576a502c4d7  CN213399967U   \n",
       "4     61ffe181f4d57576a502c50b  CN111382190B   \n",
       "...                        ...           ...   \n",
       "7687  620072d9f4d57576a50387db  CN111935889A   \n",
       "7688  620072d9f4d57576a50387dd  CN212660357U   \n",
       "7689  620072dff4d57576a50387eb  CN111353035B   \n",
       "7690  620072f3f4d57576a5038803  CN211184794U   \n",
       "7691  620072f3f4d57576a5038805  CN212213883U   \n",
       "\n",
       "                                            description  \n",
       "0     技术领域本发明涉及通信技术领域，尤其涉及到一种基于物联网的安防监控系统。背景技术随着通信、微...  \n",
       "1     技术领域本发明涉及物联网信息安全技术领域，具体涉及一种基于区块链技术的物联网雾环境管理架构及...  \n",
       "2     相关申请的交叉引用本申请要求于2019年3月29日提交的题为自主交通工具系统(“Autono...  \n",
       "3     技术领域本实用新型属于城市公共设施技术领域，具体涉及一种城市公共设施资产管理系统。背景技术目...  \n",
       "4     技术领域本发明涉及人工智能技术领域，具体涉及一种基于智能的对象推荐方法、装置和存储介质。背景...  \n",
       "...                                                 ...  \n",
       "7687  技术领域本发明涉及自动采集及远程控制领域，具体是一种路灯自动采集及远程控制装置。背景技术随着...  \n",
       "7688  技术领域本发明涉及自动采集及远程控制领域，具体是一种路灯自动采集及远程控制装置。背景技术随着...  \n",
       "7689  技术领域本公开涉及计算机技术领域，具体地，涉及一种人机对话方法、装置、可读存储介质及电子设备...  \n",
       "7690  技术领域本实用新型涉及一种电子装置的散热模组，尤其涉及一种具有鳍片组的连接器。背景技术由于5...  \n",
       "7691  技术领域本实用新型属于医疗器械领域，涉及一种智能急救推车。背景技术医用推车是指病房防护转运医...  \n",
       "\n",
       "[7692 rows x 3 columns]"
      ]
     },
     "execution_count": 7,
     "metadata": {},
     "output_type": "execute_result"
    }
   ],
   "source": [
    "df_cn"
   ]
  },
  {
   "cell_type": "code",
   "execution_count": null,
   "id": "4c121210-98f3-40ff-8a67-70b47228f28a",
   "metadata": {},
   "outputs": [],
   "source": []
  },
  {
   "cell_type": "code",
   "execution_count": null,
   "id": "de43a54d-2c1b-4e7f-9d63-ae7f8cb54248",
   "metadata": {},
   "outputs": [],
   "source": []
  },
  {
   "cell_type": "code",
   "execution_count": null,
   "id": "987317e7-57ff-45f7-ba42-a3e00e69dc02",
   "metadata": {},
   "outputs": [],
   "source": []
  },
  {
   "cell_type": "markdown",
   "id": "7528645a-52f4-43f5-9d02-db6df56fa512",
   "metadata": {},
   "source": [
    "## 資料處理"
   ]
  },
  {
   "cell_type": "markdown",
   "id": "d667dcc0-c530-4d0b-a0fa-9d1023f43a08",
   "metadata": {
    "tags": []
   },
   "source": [
    "### 中文"
   ]
  },
  {
   "cell_type": "code",
   "execution_count": 8,
   "id": "73d99a54-bb8b-4b3a-8977-051144bc161e",
   "metadata": {},
   "outputs": [
    {
     "data": {
      "text/plain": [
       "0"
      ]
     },
     "execution_count": 8,
     "metadata": {},
     "output_type": "execute_result"
    }
   ],
   "source": [
    "df_cn.description.isna().sum()"
   ]
  },
  {
   "cell_type": "code",
   "execution_count": 9,
   "id": "0186a246-aa97-42b9-b39d-9f1bb750273e",
   "metadata": {},
   "outputs": [],
   "source": [
    "df_cn.description.fillna(\"\", inplace=True)"
   ]
  },
  {
   "cell_type": "code",
   "execution_count": 10,
   "id": "ec7700fe-3519-4633-b7f9-b8809d57ff57",
   "metadata": {},
   "outputs": [],
   "source": [
    "def clean(row):\n",
    "    text = re.sub('[^\\u4e00-\\u9fa5；、，。 ]', '', row) #除了文字,其他數字空白?!.的都去掉\n",
    "    return text"
   ]
  },
  {
   "cell_type": "code",
   "execution_count": 11,
   "id": "ef61861b-b738-4158-8f23-306cb3fb991f",
   "metadata": {
    "scrolled": true,
    "tags": []
   },
   "outputs": [],
   "source": [
    "df_cn[\"description\"] = df_cn.description.apply(clean)"
   ]
  },
  {
   "cell_type": "code",
   "execution_count": null,
   "id": "cedee2f6-6f68-4e17-b75d-dffe9ad5ad64",
   "metadata": {},
   "outputs": [],
   "source": []
  },
  {
   "cell_type": "code",
   "execution_count": null,
   "id": "a2699c16-41ac-4e65-9506-2b873e9b2804",
   "metadata": {},
   "outputs": [],
   "source": []
  },
  {
   "cell_type": "code",
   "execution_count": 12,
   "id": "061ca31b-07e1-4f37-b5a0-89559b9bc533",
   "metadata": {},
   "outputs": [],
   "source": [
    "# row = \"用于传感器驱动的车辆遥测应用和服务的开发和部署的计算 平台技术领域本发明通常涉及智能泛在计算系统、信息物理系统以及物联网领域。更具体 地，本发明涉及用于允许这样一种统一平台的方法和系统，该统一平台能够对于智能泛在 交通环境中的传感器驱动的车辆遥测应用的开发和部署提供服务套件。背景技术通常，智能车辆交通包括使用远距离通信和遥测数据分析来远程地监视车辆、路 况、远程车辆监控，和驾驶条件等。远距离通信已经在世界范围内广泛实现以用于分析由远 程目标\"\n",
    "# sent = re.split('; |。|，', row)\n",
    "# token = [jieba.lcut(i) for i in sent]"
   ]
  },
  {
   "cell_type": "code",
   "execution_count": 13,
   "id": "164f660f-bb00-4c9e-990a-fd59b87ae7cc",
   "metadata": {
    "scrolled": true,
    "tags": []
   },
   "outputs": [],
   "source": [
    "# ls = []\n",
    "# for w in token:\n",
    "#     # ls2 = [i for i in w if len(i)>1 and nltk.pos_tag([i])]\n",
    "#     ls2 = [i for i in w if len(i)>1 and (nltk.pos_tag([i])[0][1][0]==\"N\" or nltk.pos_tag([i])[0][1][0]==\"V\")]"
   ]
  },
  {
   "cell_type": "code",
   "execution_count": 14,
   "id": "57107f76-ee55-4e81-b835-fdea32c52635",
   "metadata": {},
   "outputs": [],
   "source": [
    "# ls2"
   ]
  },
  {
   "cell_type": "code",
   "execution_count": 15,
   "id": "9a3bc295-f09f-4234-97e2-e9f38e9c9f01",
   "metadata": {},
   "outputs": [],
   "source": [
    "# token[2][0]"
   ]
  },
  {
   "cell_type": "code",
   "execution_count": 16,
   "id": "a106323f-44bf-42de-97f6-97ac96c228c7",
   "metadata": {
    "scrolled": true,
    "tags": []
   },
   "outputs": [],
   "source": [
    "# nltk.pos_tag([token[2][0]])"
   ]
  },
  {
   "cell_type": "code",
   "execution_count": null,
   "id": "0d183074-187c-4f04-bad0-fd3c667d06c3",
   "metadata": {},
   "outputs": [],
   "source": []
  },
  {
   "cell_type": "code",
   "execution_count": null,
   "id": "87e21baa-7669-4d28-b41a-ac61e1f7c01c",
   "metadata": {},
   "outputs": [],
   "source": []
  },
  {
   "cell_type": "code",
   "execution_count": 17,
   "id": "d43c9f41-616d-42a7-8f5e-def83b908e6c",
   "metadata": {},
   "outputs": [
    {
     "name": "stderr",
     "output_type": "stream",
     "text": [
      "Building prefix dict from the default dictionary ...\n",
      "Loading model from cache /tmp/jieba.cache\n",
      "Loading model cost 0.491 seconds.\n",
      "Prefix dict has been built successfully.\n"
     ]
    }
   ],
   "source": [
    "#新增自定義字典\n",
    "jieba.load_userdict('./dictionary_com.text')\n",
    "#新增stop words\n",
    "with open('./stopwords.txt',encoding=\"utf-8\") as f:\n",
    "    stopWords = [line.strip() for line in f.readlines()]\n",
    "\n",
    "\n",
    "# 自定義斷詞 function\n",
    "def getToken(row):\n",
    "    # seg_list = jieba.lcut(row) # jieba斷詞\n",
    "    # # seg_list = [w for w in seg_list if w not in stopWords and len(w) > 1] # 篩選不在停用字的字與字元數大於1的字詞\n",
    "    # seg_list = [w for w in seg_list if len(w) > 1]\n",
    "    \n",
    "    sent = re.split('; |。|，', row)\n",
    "    token = [jieba.lcut(i) for i in sent]\n",
    "\n",
    "    ls = []\n",
    "    for w in token:\n",
    "        for i in w :\n",
    "            if i not in stopWords and len(i)>1 and (nltk.pos_tag([i])[0][1][0]==\"N\" or nltk.pos_tag([i])[0][1][0]==\"V\"):\n",
    "                ls.append(i)\n",
    "    \n",
    "    return ls"
   ]
  },
  {
   "cell_type": "code",
   "execution_count": null,
   "id": "4eeca310-3b5e-4207-96a7-fe1415936ef2",
   "metadata": {},
   "outputs": [],
   "source": []
  },
  {
   "cell_type": "code",
   "execution_count": 18,
   "id": "757702a7-7cb2-4f95-b887-6bc5f05a3720",
   "metadata": {},
   "outputs": [],
   "source": [
    "# row = df_cn2.description[0]"
   ]
  },
  {
   "cell_type": "code",
   "execution_count": 19,
   "id": "4ad0e9ec-2995-4c0b-8dba-fe6ee8ccb347",
   "metadata": {},
   "outputs": [],
   "source": [
    "# df_cn2 = df_cn.iloc[0:10,:]"
   ]
  },
  {
   "cell_type": "code",
   "execution_count": 20,
   "id": "d5abd887-7005-4539-a679-12204ed4c2aa",
   "metadata": {
    "scrolled": true,
    "tags": []
   },
   "outputs": [],
   "source": [
    "# df_cn2"
   ]
  },
  {
   "cell_type": "code",
   "execution_count": 21,
   "id": "3e66fbf5-3aef-4a86-8197-c55b89a8e056",
   "metadata": {
    "tags": []
   },
   "outputs": [],
   "source": [
    "# df_cn2[\"word\"] = df_cn2.description.apply(getToken)"
   ]
  },
  {
   "cell_type": "code",
   "execution_count": 22,
   "id": "5b24ddae-00a3-4e54-a69f-e24c7972afc7",
   "metadata": {
    "scrolled": true,
    "tags": []
   },
   "outputs": [],
   "source": [
    "# df_cn2"
   ]
  },
  {
   "cell_type": "code",
   "execution_count": null,
   "id": "88287e02-b776-49f7-aeb6-398ebf9ebd40",
   "metadata": {},
   "outputs": [],
   "source": []
  },
  {
   "cell_type": "code",
   "execution_count": null,
   "id": "4f7e00e2-34ff-466b-ad2e-3f4f36fca5bb",
   "metadata": {},
   "outputs": [],
   "source": []
  },
  {
   "cell_type": "code",
   "execution_count": 23,
   "id": "f23df499-dd13-41a3-947b-c7b122a4f486",
   "metadata": {},
   "outputs": [],
   "source": [
    "df_cn[\"word\"] = df_cn.description.apply(getToken)"
   ]
  },
  {
   "cell_type": "code",
   "execution_count": 24,
   "id": "af545dcb-9a8f-4871-9580-71d3aa217063",
   "metadata": {},
   "outputs": [
    {
     "data": {
      "text/html": [
       "<div>\n",
       "<style scoped>\n",
       "    .dataframe tbody tr th:only-of-type {\n",
       "        vertical-align: middle;\n",
       "    }\n",
       "\n",
       "    .dataframe tbody tr th {\n",
       "        vertical-align: top;\n",
       "    }\n",
       "\n",
       "    .dataframe thead th {\n",
       "        text-align: right;\n",
       "    }\n",
       "</style>\n",
       "<table border=\"1\" class=\"dataframe\">\n",
       "  <thead>\n",
       "    <tr style=\"text-align: right;\">\n",
       "      <th></th>\n",
       "      <th>id</th>\n",
       "      <th>patentNumber</th>\n",
       "      <th>description</th>\n",
       "      <th>word</th>\n",
       "    </tr>\n",
       "  </thead>\n",
       "  <tbody>\n",
       "    <tr>\n",
       "      <th>0</th>\n",
       "      <td>61ffe131f4d57576a502c4bf</td>\n",
       "      <td>CN112187940A</td>\n",
       "      <td>技术领域本发明涉及通信技术领域，尤其涉及到一种基于物联网的安防监控系统。背景技术随着通信、微...</td>\n",
       "      <td>[技术, 领域, 本发明, 涉及, 通信, 技术, 领域, 涉及, 一种, 基于, 联网, ...</td>\n",
       "    </tr>\n",
       "    <tr>\n",
       "      <th>1</th>\n",
       "      <td>61ffe143f4d57576a502c4d3</td>\n",
       "      <td>CN112364317A</td>\n",
       "      <td>技术领域本发明涉及物联网信息安全技术领域，具体涉及一种基于区块链技术的物联网雾环境管理架构及...</td>\n",
       "      <td>[技术, 领域, 本发明, 涉及, 联网, 信息安全, 技术, 领域, 具体, 涉及, 一种...</td>\n",
       "    </tr>\n",
       "    <tr>\n",
       "      <th>2</th>\n",
       "      <td>61ffe14df4d57576a502c4d5</td>\n",
       "      <td>CN113508066A</td>\n",
       "      <td>相关申请的交叉引用本申请要求于年月日提交的题为自主交通工具系统 的美国临时专利申请第号的权益...</td>\n",
       "      <td>[相关, 申请, 交叉, 引用, 申请, 提交, 题为, 自主, 交通工具, 系统, 美国,...</td>\n",
       "    </tr>\n",
       "    <tr>\n",
       "      <th>3</th>\n",
       "      <td>61ffe14ef4d57576a502c4d7</td>\n",
       "      <td>CN213399967U</td>\n",
       "      <td>技术领域本实用新型属于城市公共设施技术领域，具体涉及一种城市公共设施资产管理系统。背景技术目...</td>\n",
       "      <td>[技术, 领域, 实用新型, 属于, 城市, 公共设施, 技术, 领域, 具体, 涉及, 一...</td>\n",
       "    </tr>\n",
       "    <tr>\n",
       "      <th>4</th>\n",
       "      <td>61ffe181f4d57576a502c50b</td>\n",
       "      <td>CN111382190B</td>\n",
       "      <td>技术领域本发明涉及人工智能技术领域，具体涉及一种基于智能的对象推荐方法、装置和存储介质。背景...</td>\n",
       "      <td>[技术, 领域, 本发明, 涉及, 人工智能, 技术, 领域, 具体, 涉及, 一种, 基于...</td>\n",
       "    </tr>\n",
       "  </tbody>\n",
       "</table>\n",
       "</div>"
      ],
      "text/plain": [
       "                         id  patentNumber  \\\n",
       "0  61ffe131f4d57576a502c4bf  CN112187940A   \n",
       "1  61ffe143f4d57576a502c4d3  CN112364317A   \n",
       "2  61ffe14df4d57576a502c4d5  CN113508066A   \n",
       "3  61ffe14ef4d57576a502c4d7  CN213399967U   \n",
       "4  61ffe181f4d57576a502c50b  CN111382190B   \n",
       "\n",
       "                                         description  \\\n",
       "0  技术领域本发明涉及通信技术领域，尤其涉及到一种基于物联网的安防监控系统。背景技术随着通信、微...   \n",
       "1  技术领域本发明涉及物联网信息安全技术领域，具体涉及一种基于区块链技术的物联网雾环境管理架构及...   \n",
       "2  相关申请的交叉引用本申请要求于年月日提交的题为自主交通工具系统 的美国临时专利申请第号的权益...   \n",
       "3  技术领域本实用新型属于城市公共设施技术领域，具体涉及一种城市公共设施资产管理系统。背景技术目...   \n",
       "4  技术领域本发明涉及人工智能技术领域，具体涉及一种基于智能的对象推荐方法、装置和存储介质。背景...   \n",
       "\n",
       "                                                word  \n",
       "0  [技术, 领域, 本发明, 涉及, 通信, 技术, 领域, 涉及, 一种, 基于, 联网, ...  \n",
       "1  [技术, 领域, 本发明, 涉及, 联网, 信息安全, 技术, 领域, 具体, 涉及, 一种...  \n",
       "2  [相关, 申请, 交叉, 引用, 申请, 提交, 题为, 自主, 交通工具, 系统, 美国,...  \n",
       "3  [技术, 领域, 实用新型, 属于, 城市, 公共设施, 技术, 领域, 具体, 涉及, 一...  \n",
       "4  [技术, 领域, 本发明, 涉及, 人工智能, 技术, 领域, 具体, 涉及, 一种, 基于...  "
      ]
     },
     "execution_count": 24,
     "metadata": {},
     "output_type": "execute_result"
    }
   ],
   "source": [
    "df_cn.head()"
   ]
  },
  {
   "cell_type": "code",
   "execution_count": null,
   "id": "18cf3a7e-bc04-4215-9ad0-2ed36f180db9",
   "metadata": {},
   "outputs": [],
   "source": []
  },
  {
   "cell_type": "code",
   "execution_count": 25,
   "id": "4bb180f7-75bb-4e47-8979-dcfab3513f60",
   "metadata": {},
   "outputs": [],
   "source": [
    "# df_cn_token = df_cn.explode('word') # 將word欄位展開\n",
    "df_cn_token = df_cn.copy()"
   ]
  },
  {
   "cell_type": "code",
   "execution_count": 26,
   "id": "62cae058-dc58-46d3-84c9-992fe58f1245",
   "metadata": {
    "scrolled": true,
    "tags": []
   },
   "outputs": [
    {
     "data": {
      "text/html": [
       "<div>\n",
       "<style scoped>\n",
       "    .dataframe tbody tr th:only-of-type {\n",
       "        vertical-align: middle;\n",
       "    }\n",
       "\n",
       "    .dataframe tbody tr th {\n",
       "        vertical-align: top;\n",
       "    }\n",
       "\n",
       "    .dataframe thead th {\n",
       "        text-align: right;\n",
       "    }\n",
       "</style>\n",
       "<table border=\"1\" class=\"dataframe\">\n",
       "  <thead>\n",
       "    <tr style=\"text-align: right;\">\n",
       "      <th></th>\n",
       "      <th>id</th>\n",
       "      <th>patentNumber</th>\n",
       "      <th>description</th>\n",
       "      <th>word</th>\n",
       "    </tr>\n",
       "  </thead>\n",
       "  <tbody>\n",
       "    <tr>\n",
       "      <th>0</th>\n",
       "      <td>61ffe131f4d57576a502c4bf</td>\n",
       "      <td>CN112187940A</td>\n",
       "      <td>技术领域本发明涉及通信技术领域，尤其涉及到一种基于物联网的安防监控系统。背景技术随着通信、微...</td>\n",
       "      <td>[技术, 领域, 本发明, 涉及, 通信, 技术, 领域, 涉及, 一种, 基于, 联网, ...</td>\n",
       "    </tr>\n",
       "    <tr>\n",
       "      <th>1</th>\n",
       "      <td>61ffe143f4d57576a502c4d3</td>\n",
       "      <td>CN112364317A</td>\n",
       "      <td>技术领域本发明涉及物联网信息安全技术领域，具体涉及一种基于区块链技术的物联网雾环境管理架构及...</td>\n",
       "      <td>[技术, 领域, 本发明, 涉及, 联网, 信息安全, 技术, 领域, 具体, 涉及, 一种...</td>\n",
       "    </tr>\n",
       "    <tr>\n",
       "      <th>2</th>\n",
       "      <td>61ffe14df4d57576a502c4d5</td>\n",
       "      <td>CN113508066A</td>\n",
       "      <td>相关申请的交叉引用本申请要求于年月日提交的题为自主交通工具系统 的美国临时专利申请第号的权益...</td>\n",
       "      <td>[相关, 申请, 交叉, 引用, 申请, 提交, 题为, 自主, 交通工具, 系统, 美国,...</td>\n",
       "    </tr>\n",
       "    <tr>\n",
       "      <th>3</th>\n",
       "      <td>61ffe14ef4d57576a502c4d7</td>\n",
       "      <td>CN213399967U</td>\n",
       "      <td>技术领域本实用新型属于城市公共设施技术领域，具体涉及一种城市公共设施资产管理系统。背景技术目...</td>\n",
       "      <td>[技术, 领域, 实用新型, 属于, 城市, 公共设施, 技术, 领域, 具体, 涉及, 一...</td>\n",
       "    </tr>\n",
       "    <tr>\n",
       "      <th>4</th>\n",
       "      <td>61ffe181f4d57576a502c50b</td>\n",
       "      <td>CN111382190B</td>\n",
       "      <td>技术领域本发明涉及人工智能技术领域，具体涉及一种基于智能的对象推荐方法、装置和存储介质。背景...</td>\n",
       "      <td>[技术, 领域, 本发明, 涉及, 人工智能, 技术, 领域, 具体, 涉及, 一种, 基于...</td>\n",
       "    </tr>\n",
       "  </tbody>\n",
       "</table>\n",
       "</div>"
      ],
      "text/plain": [
       "                         id  patentNumber  \\\n",
       "0  61ffe131f4d57576a502c4bf  CN112187940A   \n",
       "1  61ffe143f4d57576a502c4d3  CN112364317A   \n",
       "2  61ffe14df4d57576a502c4d5  CN113508066A   \n",
       "3  61ffe14ef4d57576a502c4d7  CN213399967U   \n",
       "4  61ffe181f4d57576a502c50b  CN111382190B   \n",
       "\n",
       "                                         description  \\\n",
       "0  技术领域本发明涉及通信技术领域，尤其涉及到一种基于物联网的安防监控系统。背景技术随着通信、微...   \n",
       "1  技术领域本发明涉及物联网信息安全技术领域，具体涉及一种基于区块链技术的物联网雾环境管理架构及...   \n",
       "2  相关申请的交叉引用本申请要求于年月日提交的题为自主交通工具系统 的美国临时专利申请第号的权益...   \n",
       "3  技术领域本实用新型属于城市公共设施技术领域，具体涉及一种城市公共设施资产管理系统。背景技术目...   \n",
       "4  技术领域本发明涉及人工智能技术领域，具体涉及一种基于智能的对象推荐方法、装置和存储介质。背景...   \n",
       "\n",
       "                                                word  \n",
       "0  [技术, 领域, 本发明, 涉及, 通信, 技术, 领域, 涉及, 一种, 基于, 联网, ...  \n",
       "1  [技术, 领域, 本发明, 涉及, 联网, 信息安全, 技术, 领域, 具体, 涉及, 一种...  \n",
       "2  [相关, 申请, 交叉, 引用, 申请, 提交, 题为, 自主, 交通工具, 系统, 美国,...  \n",
       "3  [技术, 领域, 实用新型, 属于, 城市, 公共设施, 技术, 领域, 具体, 涉及, 一...  \n",
       "4  [技术, 领域, 本发明, 涉及, 人工智能, 技术, 领域, 具体, 涉及, 一种, 基于...  "
      ]
     },
     "execution_count": 26,
     "metadata": {},
     "output_type": "execute_result"
    }
   ],
   "source": [
    "df_cn_token.dropna(subset = [\"word\"], inplace=True)\n",
    "df_cn_token.reset_index(inplace=True, drop=True) # 原本index基於文章筆數，現在需要重設index為基於斷詞數量\n",
    "df_cn_token.head()"
   ]
  },
  {
   "cell_type": "code",
   "execution_count": 27,
   "id": "9f370d3c-8342-402b-ad9e-917c73b12891",
   "metadata": {
    "scrolled": true,
    "tags": []
   },
   "outputs": [
    {
     "data": {
      "text/html": [
       "<div>\n",
       "<style scoped>\n",
       "    .dataframe tbody tr th:only-of-type {\n",
       "        vertical-align: middle;\n",
       "    }\n",
       "\n",
       "    .dataframe tbody tr th {\n",
       "        vertical-align: top;\n",
       "    }\n",
       "\n",
       "    .dataframe thead th {\n",
       "        text-align: right;\n",
       "    }\n",
       "</style>\n",
       "<table border=\"1\" class=\"dataframe\">\n",
       "  <thead>\n",
       "    <tr style=\"text-align: right;\">\n",
       "      <th></th>\n",
       "      <th>id</th>\n",
       "      <th>patentNumber</th>\n",
       "      <th>description</th>\n",
       "      <th>word</th>\n",
       "    </tr>\n",
       "  </thead>\n",
       "  <tbody>\n",
       "    <tr>\n",
       "      <th>0</th>\n",
       "      <td>61ffe131f4d57576a502c4bf</td>\n",
       "      <td>CN112187940A</td>\n",
       "      <td>技术领域本发明涉及通信技术领域，尤其涉及到一种基于物联网的安防监控系统。背景技术随着通信、微...</td>\n",
       "      <td>[技术, 领域, 本发明, 涉及, 通信, 技术, 领域, 涉及, 一种, 基于, 联网, ...</td>\n",
       "    </tr>\n",
       "    <tr>\n",
       "      <th>1</th>\n",
       "      <td>61ffe143f4d57576a502c4d3</td>\n",
       "      <td>CN112364317A</td>\n",
       "      <td>技术领域本发明涉及物联网信息安全技术领域，具体涉及一种基于区块链技术的物联网雾环境管理架构及...</td>\n",
       "      <td>[技术, 领域, 本发明, 涉及, 联网, 信息安全, 技术, 领域, 具体, 涉及, 一种...</td>\n",
       "    </tr>\n",
       "    <tr>\n",
       "      <th>2</th>\n",
       "      <td>61ffe14df4d57576a502c4d5</td>\n",
       "      <td>CN113508066A</td>\n",
       "      <td>相关申请的交叉引用本申请要求于年月日提交的题为自主交通工具系统 的美国临时专利申请第号的权益...</td>\n",
       "      <td>[相关, 申请, 交叉, 引用, 申请, 提交, 题为, 自主, 交通工具, 系统, 美国,...</td>\n",
       "    </tr>\n",
       "    <tr>\n",
       "      <th>3</th>\n",
       "      <td>61ffe14ef4d57576a502c4d7</td>\n",
       "      <td>CN213399967U</td>\n",
       "      <td>技术领域本实用新型属于城市公共设施技术领域，具体涉及一种城市公共设施资产管理系统。背景技术目...</td>\n",
       "      <td>[技术, 领域, 实用新型, 属于, 城市, 公共设施, 技术, 领域, 具体, 涉及, 一...</td>\n",
       "    </tr>\n",
       "    <tr>\n",
       "      <th>4</th>\n",
       "      <td>61ffe181f4d57576a502c50b</td>\n",
       "      <td>CN111382190B</td>\n",
       "      <td>技术领域本发明涉及人工智能技术领域，具体涉及一种基于智能的对象推荐方法、装置和存储介质。背景...</td>\n",
       "      <td>[技术, 领域, 本发明, 涉及, 人工智能, 技术, 领域, 具体, 涉及, 一种, 基于...</td>\n",
       "    </tr>\n",
       "    <tr>\n",
       "      <th>5</th>\n",
       "      <td>61ffe183f4d57576a502c50d</td>\n",
       "      <td>CN111510433A</td>\n",
       "      <td>技术领域本发明涉及一种基于雾计算平台的物联网恶意流量检测方法，属于网络安全技术领域。背景技术...</td>\n",
       "      <td>[技术, 领域, 本发明, 涉及, 一种, 基于, 计算, 平台, 联网, 恶意, 流量, ...</td>\n",
       "    </tr>\n",
       "    <tr>\n",
       "      <th>6</th>\n",
       "      <td>61ffe196f4d57576a502c527</td>\n",
       "      <td>CN112488398A</td>\n",
       "      <td>技术领域本发明涉及电力物联网边缘计算的技术领域，尤其涉及一种基于边缘智能网关的用电管理方法及...</td>\n",
       "      <td>[技术, 领域, 本发明, 涉及, 电力, 联网, 边缘, 计算, 技术, 领域, 涉及, ...</td>\n",
       "    </tr>\n",
       "    <tr>\n",
       "      <th>7</th>\n",
       "      <td>61ffe1ebf4d57576a502c545</td>\n",
       "      <td>CN111595377A</td>\n",
       "      <td>技术领域本发明涉及导弹贮运技术领域，具体来说，涉及一种导弹贮运环境监测系统。背景技术随着我军...</td>\n",
       "      <td>[技术, 领域, 本发明, 涉及, 导弹, 贮运, 技术, 领域, 具体来说, 涉及, 一种...</td>\n",
       "    </tr>\n",
       "    <tr>\n",
       "      <th>8</th>\n",
       "      <td>61ffe1ecf4d57576a502c547</td>\n",
       "      <td>CN111405050A</td>\n",
       "      <td>技术领域本发明涉及智能监测设备领域，特别是一种基于区块链技术的智能监测平台。背景技术目前在物...</td>\n",
       "      <td>[技术, 领域, 本发明, 涉及, 智能, 监测, 设备, 领域, 特别, 一种, 基于, ...</td>\n",
       "    </tr>\n",
       "    <tr>\n",
       "      <th>9</th>\n",
       "      <td>61ffe1fbf4d57576a502c555</td>\n",
       "      <td>CN112508729A</td>\n",
       "      <td>技术领域本发明涉及人工智能技术领域，尤其涉及一种智能乡村产业数字化应用管理方法、装置、设备及...</td>\n",
       "      <td>[技术, 领域, 本发明, 涉及, 人工智能, 技术, 领域, 涉及, 一种, 智能, 乡村...</td>\n",
       "    </tr>\n",
       "    <tr>\n",
       "      <th>10</th>\n",
       "      <td>61ffe20cf4d57576a502c56f</td>\n",
       "      <td>CN111798002A</td>\n",
       "      <td>技术领域本发明属于物联网人工智能领域，涉及联邦学习知识。具体是对联邦学习全局模型聚合方法的优...</td>\n",
       "      <td>[技术, 领域, 本发明, 属于, 联网, 人工智能, 领域, 涉及, 联邦, 学习, 知识...</td>\n",
       "    </tr>\n",
       "    <tr>\n",
       "      <th>11</th>\n",
       "      <td>61ffe20ef4d57576a502c573</td>\n",
       "      <td>CN112349404A</td>\n",
       "      <td>技术领域本申请涉及物联网领域，尤其涉及一种基于云边端架构的多中心医疗设备大数据云平台。背景技...</td>\n",
       "      <td>[技术, 领域, 申请, 涉及, 联网, 领域, 涉及, 一种, 基于, 云边, 架构, 中...</td>\n",
       "    </tr>\n",
       "    <tr>\n",
       "      <th>12</th>\n",
       "      <td>61ffe210f4d57576a502c577</td>\n",
       "      <td>CN111724564A</td>\n",
       "      <td>技术领域本发明涉及军营巡查技术领域，具体来说，涉及一种远程控制的军营巡查系统。背景技术军营，...</td>\n",
       "      <td>[技术, 领域, 本发明, 涉及, 军营, 巡查, 技术, 领域, 具体来说, 涉及, 一种...</td>\n",
       "    </tr>\n",
       "    <tr>\n",
       "      <th>13</th>\n",
       "      <td>61ffe21df4d57576a502c585</td>\n",
       "      <td>CN111239338A</td>\n",
       "      <td>技术领域本发明涉及空气质量监测技术领域，特别是涉及开放式空气质量监测系统。背景技术随着我国经...</td>\n",
       "      <td>[技术, 领域, 本发明, 涉及, 空气质量, 监测技术, 领域, 特别, 涉及, 开放式,...</td>\n",
       "    </tr>\n",
       "    <tr>\n",
       "      <th>14</th>\n",
       "      <td>61ffe243f4d57576a502c59b</td>\n",
       "      <td>CN112433489A</td>\n",
       "      <td>技术领域本发明涉及一种监测系统，尤其涉及一种基于物联网的违禁捕鱼监测系统。背景技术为了保护水...</td>\n",
       "      <td>[技术, 领域, 本发明, 涉及, 一种, 监测, 系统, 涉及, 一种, 基于, 联网, ...</td>\n",
       "    </tr>\n",
       "    <tr>\n",
       "      <th>15</th>\n",
       "      <td>61ffe24ef4d57576a502c5a9</td>\n",
       "      <td>CN213365303U</td>\n",
       "      <td>技术领域本实用新型属于控制电路技术领域，具体涉及一种基于的智能倾角检测控制电路。背景技术目前...</td>\n",
       "      <td>[技术, 领域, 实用新型, 属于, 控制电路, 技术, 领域, 具体, 涉及, 一种, 基...</td>\n",
       "    </tr>\n",
       "    <tr>\n",
       "      <th>16</th>\n",
       "      <td>61ffe253f4d57576a502c5ad</td>\n",
       "      <td>CN214067620U</td>\n",
       "      <td>技术领域本实用新型涉及一种监测装置，尤其涉及一种浮式违禁捕鱼监测装置。背景技术为了保护水生生...</td>\n",
       "      <td>[技术, 领域, 实用新型, 涉及, 一种, 监测, 装置, 涉及, 一种, 浮式, 违禁,...</td>\n",
       "    </tr>\n",
       "    <tr>\n",
       "      <th>17</th>\n",
       "      <td>61ffe260f4d57576a502c5bb</td>\n",
       "      <td>CN112291362A</td>\n",
       "      <td>技术领域本发明涉及物联网信息通信技术领域，尤其涉及一种可以避免宠物扰人的智能监控管理系统、云...</td>\n",
       "      <td>[技术, 领域, 本发明, 涉及, 联网, 信息, 通信, 技术, 领域, 涉及, 一种, ...</td>\n",
       "    </tr>\n",
       "    <tr>\n",
       "      <th>18</th>\n",
       "      <td>61ffe262f4d57576a502c5bf</td>\n",
       "      <td>CN111696291A</td>\n",
       "      <td>技术领域本发明涉及视频监控技术领域，尤其涉及一种视频联动监控系统、方法、设备和存储介质。背景...</td>\n",
       "      <td>[技术, 领域, 本发明, 涉及, 视频, 监控, 技术, 领域, 涉及, 一种, 视频, ...</td>\n",
       "    </tr>\n",
       "    <tr>\n",
       "      <th>19</th>\n",
       "      <td>61ffe264f4d57576a502c5c1</td>\n",
       "      <td>CN111768589A</td>\n",
       "      <td>技术领域本发明属于物联网技术领域，尤其涉及一种积水监测报警控制方法、系统、存储介质、程序、终...</td>\n",
       "      <td>[技术, 领域, 本发明, 属于, 联网, 技术, 领域, 涉及, 一种, 积水, 监测, ...</td>\n",
       "    </tr>\n",
       "  </tbody>\n",
       "</table>\n",
       "</div>"
      ],
      "text/plain": [
       "                          id  patentNumber  \\\n",
       "0   61ffe131f4d57576a502c4bf  CN112187940A   \n",
       "1   61ffe143f4d57576a502c4d3  CN112364317A   \n",
       "2   61ffe14df4d57576a502c4d5  CN113508066A   \n",
       "3   61ffe14ef4d57576a502c4d7  CN213399967U   \n",
       "4   61ffe181f4d57576a502c50b  CN111382190B   \n",
       "5   61ffe183f4d57576a502c50d  CN111510433A   \n",
       "6   61ffe196f4d57576a502c527  CN112488398A   \n",
       "7   61ffe1ebf4d57576a502c545  CN111595377A   \n",
       "8   61ffe1ecf4d57576a502c547  CN111405050A   \n",
       "9   61ffe1fbf4d57576a502c555  CN112508729A   \n",
       "10  61ffe20cf4d57576a502c56f  CN111798002A   \n",
       "11  61ffe20ef4d57576a502c573  CN112349404A   \n",
       "12  61ffe210f4d57576a502c577  CN111724564A   \n",
       "13  61ffe21df4d57576a502c585  CN111239338A   \n",
       "14  61ffe243f4d57576a502c59b  CN112433489A   \n",
       "15  61ffe24ef4d57576a502c5a9  CN213365303U   \n",
       "16  61ffe253f4d57576a502c5ad  CN214067620U   \n",
       "17  61ffe260f4d57576a502c5bb  CN112291362A   \n",
       "18  61ffe262f4d57576a502c5bf  CN111696291A   \n",
       "19  61ffe264f4d57576a502c5c1  CN111768589A   \n",
       "\n",
       "                                          description  \\\n",
       "0   技术领域本发明涉及通信技术领域，尤其涉及到一种基于物联网的安防监控系统。背景技术随着通信、微...   \n",
       "1   技术领域本发明涉及物联网信息安全技术领域，具体涉及一种基于区块链技术的物联网雾环境管理架构及...   \n",
       "2   相关申请的交叉引用本申请要求于年月日提交的题为自主交通工具系统 的美国临时专利申请第号的权益...   \n",
       "3   技术领域本实用新型属于城市公共设施技术领域，具体涉及一种城市公共设施资产管理系统。背景技术目...   \n",
       "4   技术领域本发明涉及人工智能技术领域，具体涉及一种基于智能的对象推荐方法、装置和存储介质。背景...   \n",
       "5   技术领域本发明涉及一种基于雾计算平台的物联网恶意流量检测方法，属于网络安全技术领域。背景技术...   \n",
       "6   技术领域本发明涉及电力物联网边缘计算的技术领域，尤其涉及一种基于边缘智能网关的用电管理方法及...   \n",
       "7   技术领域本发明涉及导弹贮运技术领域，具体来说，涉及一种导弹贮运环境监测系统。背景技术随着我军...   \n",
       "8   技术领域本发明涉及智能监测设备领域，特别是一种基于区块链技术的智能监测平台。背景技术目前在物...   \n",
       "9   技术领域本发明涉及人工智能技术领域，尤其涉及一种智能乡村产业数字化应用管理方法、装置、设备及...   \n",
       "10  技术领域本发明属于物联网人工智能领域，涉及联邦学习知识。具体是对联邦学习全局模型聚合方法的优...   \n",
       "11  技术领域本申请涉及物联网领域，尤其涉及一种基于云边端架构的多中心医疗设备大数据云平台。背景技...   \n",
       "12  技术领域本发明涉及军营巡查技术领域，具体来说，涉及一种远程控制的军营巡查系统。背景技术军营，...   \n",
       "13  技术领域本发明涉及空气质量监测技术领域，特别是涉及开放式空气质量监测系统。背景技术随着我国经...   \n",
       "14  技术领域本发明涉及一种监测系统，尤其涉及一种基于物联网的违禁捕鱼监测系统。背景技术为了保护水...   \n",
       "15  技术领域本实用新型属于控制电路技术领域，具体涉及一种基于的智能倾角检测控制电路。背景技术目前...   \n",
       "16  技术领域本实用新型涉及一种监测装置，尤其涉及一种浮式违禁捕鱼监测装置。背景技术为了保护水生生...   \n",
       "17  技术领域本发明涉及物联网信息通信技术领域，尤其涉及一种可以避免宠物扰人的智能监控管理系统、云...   \n",
       "18  技术领域本发明涉及视频监控技术领域，尤其涉及一种视频联动监控系统、方法、设备和存储介质。背景...   \n",
       "19  技术领域本发明属于物联网技术领域，尤其涉及一种积水监测报警控制方法、系统、存储介质、程序、终...   \n",
       "\n",
       "                                                 word  \n",
       "0   [技术, 领域, 本发明, 涉及, 通信, 技术, 领域, 涉及, 一种, 基于, 联网, ...  \n",
       "1   [技术, 领域, 本发明, 涉及, 联网, 信息安全, 技术, 领域, 具体, 涉及, 一种...  \n",
       "2   [相关, 申请, 交叉, 引用, 申请, 提交, 题为, 自主, 交通工具, 系统, 美国,...  \n",
       "3   [技术, 领域, 实用新型, 属于, 城市, 公共设施, 技术, 领域, 具体, 涉及, 一...  \n",
       "4   [技术, 领域, 本发明, 涉及, 人工智能, 技术, 领域, 具体, 涉及, 一种, 基于...  \n",
       "5   [技术, 领域, 本发明, 涉及, 一种, 基于, 计算, 平台, 联网, 恶意, 流量, ...  \n",
       "6   [技术, 领域, 本发明, 涉及, 电力, 联网, 边缘, 计算, 技术, 领域, 涉及, ...  \n",
       "7   [技术, 领域, 本发明, 涉及, 导弹, 贮运, 技术, 领域, 具体来说, 涉及, 一种...  \n",
       "8   [技术, 领域, 本发明, 涉及, 智能, 监测, 设备, 领域, 特别, 一种, 基于, ...  \n",
       "9   [技术, 领域, 本发明, 涉及, 人工智能, 技术, 领域, 涉及, 一种, 智能, 乡村...  \n",
       "10  [技术, 领域, 本发明, 属于, 联网, 人工智能, 领域, 涉及, 联邦, 学习, 知识...  \n",
       "11  [技术, 领域, 申请, 涉及, 联网, 领域, 涉及, 一种, 基于, 云边, 架构, 中...  \n",
       "12  [技术, 领域, 本发明, 涉及, 军营, 巡查, 技术, 领域, 具体来说, 涉及, 一种...  \n",
       "13  [技术, 领域, 本发明, 涉及, 空气质量, 监测技术, 领域, 特别, 涉及, 开放式,...  \n",
       "14  [技术, 领域, 本发明, 涉及, 一种, 监测, 系统, 涉及, 一种, 基于, 联网, ...  \n",
       "15  [技术, 领域, 实用新型, 属于, 控制电路, 技术, 领域, 具体, 涉及, 一种, 基...  \n",
       "16  [技术, 领域, 实用新型, 涉及, 一种, 监测, 装置, 涉及, 一种, 浮式, 违禁,...  \n",
       "17  [技术, 领域, 本发明, 涉及, 联网, 信息, 通信, 技术, 领域, 涉及, 一种, ...  \n",
       "18  [技术, 领域, 本发明, 涉及, 视频, 监控, 技术, 领域, 涉及, 一种, 视频, ...  \n",
       "19  [技术, 领域, 本发明, 属于, 联网, 技术, 领域, 涉及, 一种, 积水, 监测, ...  "
      ]
     },
     "execution_count": 27,
     "metadata": {},
     "output_type": "execute_result"
    }
   ],
   "source": [
    "df_cn_token.head(20)"
   ]
  },
  {
   "cell_type": "code",
   "execution_count": null,
   "id": "71d995a4-307d-4e11-8e62-1eff25b0159d",
   "metadata": {},
   "outputs": [],
   "source": []
  },
  {
   "cell_type": "code",
   "execution_count": null,
   "id": "6a8db9b2-55a6-44a5-a25c-2efa3c8f7f34",
   "metadata": {},
   "outputs": [],
   "source": []
  },
  {
   "cell_type": "markdown",
   "id": "9079e1fd-01f4-48b4-98e7-ee7cd02c9e64",
   "metadata": {},
   "source": [
    "## 存成txt檔"
   ]
  },
  {
   "cell_type": "code",
   "execution_count": 28,
   "id": "440614d0-157f-4b23-8645-bab09daf490b",
   "metadata": {},
   "outputs": [],
   "source": [
    "# ! head -c 100 data/fil9"
   ]
  },
  {
   "cell_type": "code",
   "execution_count": 29,
   "id": "88eff47e-c827-4600-b22d-7bc82a01a1a1",
   "metadata": {
    "tags": []
   },
   "outputs": [],
   "source": [
    "# 存成txt檔\n",
    "textfile = open(\"./data/cn_file_description_paragraph_2020.txt\", \"w\")\n",
    "for i in range(len(df_cn_token)):\n",
    "    for element in df_cn_token.word[i]:\n",
    "        # print(element)\n",
    "        textfile.write(element+\" \")\n",
    "    textfile.write(\"\\n\")\n",
    "textfile.close()"
   ]
  },
  {
   "cell_type": "code",
   "execution_count": null,
   "id": "576fc8b7-424b-4236-a084-b8dffd580300",
   "metadata": {},
   "outputs": [],
   "source": []
  },
  {
   "cell_type": "code",
   "execution_count": null,
   "id": "e418fc47-eedf-4592-8fdc-354fd460178d",
   "metadata": {},
   "outputs": [],
   "source": []
  },
  {
   "cell_type": "code",
   "execution_count": null,
   "id": "3e919428-4db8-454f-92d4-53a2dd90a8e2",
   "metadata": {},
   "outputs": [],
   "source": []
  },
  {
   "cell_type": "code",
   "execution_count": null,
   "id": "509863ac-db11-45b1-b6e9-451971ae1ecb",
   "metadata": {},
   "outputs": [],
   "source": []
  },
  {
   "cell_type": "code",
   "execution_count": null,
   "id": "9a8333fd-e5cd-4691-b8b7-7f5685627163",
   "metadata": {},
   "outputs": [],
   "source": []
  }
 ],
 "metadata": {
  "kernelspec": {
   "display_name": "for_paper",
   "language": "python",
   "name": "for_paper"
  },
  "language_info": {
   "codemirror_mode": {
    "name": "ipython",
    "version": 3
   },
   "file_extension": ".py",
   "mimetype": "text/x-python",
   "name": "python",
   "nbconvert_exporter": "python",
   "pygments_lexer": "ipython3",
   "version": "3.8.12"
  }
 },
 "nbformat": 4,
 "nbformat_minor": 5
}
