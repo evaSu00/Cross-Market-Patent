{
 "cells": [
  {
   "cell_type": "code",
   "execution_count": 1,
   "metadata": {},
   "outputs": [],
   "source": [
    "import pandas as pd\n",
    "import jieba\n",
    "import re\n",
    "import matplotlib\n",
    "import matplotlib.pyplot as plt\n",
    "import gensim\n",
    "from gensim.models import CoherenceModel\n",
    "from gensim import corpora\n",
    "import pyLDAvis.gensim_models\n",
    "import numpy as np\n",
    "\n",
    "from pymongo import MongoClient\n",
    "import pymongo"
   ]
  },
  {
   "cell_type": "code",
   "execution_count": 2,
   "metadata": {},
   "outputs": [
    {
     "name": "stdout",
     "output_type": "stream",
     "text": [
      "Thu Jun 23 23:47:18 2022       \n",
      "+-----------------------------------------------------------------------------+\n",
      "| NVIDIA-SMI 470.129.06   Driver Version: 470.129.06   CUDA Version: 11.4     |\n",
      "|-------------------------------+----------------------+----------------------+\n",
      "| GPU  Name        Persistence-M| Bus-Id        Disp.A | Volatile Uncorr. ECC |\n",
      "| Fan  Temp  Perf  Pwr:Usage/Cap|         Memory-Usage | GPU-Util  Compute M. |\n",
      "|                               |                      |               MIG M. |\n",
      "|===============================+======================+======================|\n",
      "|   0  NVIDIA GeForce ...  Off  | 00000000:01:00.0 Off |                  N/A |\n",
      "| 40%   52C    P2    80W / 260W |   4535MiB / 11019MiB |     28%      Default |\n",
      "|                               |                      |                  N/A |\n",
      "+-------------------------------+----------------------+----------------------+\n",
      "|   1  NVIDIA GeForce ...  Off  | 00000000:02:00.0 Off |                  N/A |\n",
      "| 25%   33C    P8    24W / 260W |   1795MiB / 11019MiB |      0%      Default |\n",
      "|                               |                      |                  N/A |\n",
      "+-------------------------------+----------------------+----------------------+\n",
      "                                                                               \n",
      "+-----------------------------------------------------------------------------+\n",
      "| Processes:                                                                  |\n",
      "|  GPU   GI   CI        PID   Type   Process name                  GPU Memory |\n",
      "|        ID   ID                                                   Usage      |\n",
      "|=============================================================================|\n",
      "|    0   N/A  N/A      6976      G   /usr/lib/xorg/Xorg                  9MiB |\n",
      "|    0   N/A  N/A      7277      G   /usr/bin/gnome-shell                7MiB |\n",
      "|    0   N/A  N/A     14144      C   python                           1085MiB |\n",
      "|    0   N/A  N/A     19398      C   ...onda/envs/deep/bin/python     1493MiB |\n",
      "|    0   N/A  N/A     26709      C   ...nda3/envs/test/bin/python     1935MiB |\n",
      "|    1   N/A  N/A      6976      G   /usr/lib/xorg/Xorg                  4MiB |\n",
      "|    1   N/A  N/A     25574      C   ...nda/envs/assa/bin/python3     1787MiB |\n",
      "+-----------------------------------------------------------------------------+\n"
     ]
    }
   ],
   "source": [
    "# 使用GPU\n",
    "import os\n",
    "os.environ[\"CUDA_VISIBLE_DEVICES\"]=\"1\"\n",
    "! nvidia-smi"
   ]
  },
  {
   "cell_type": "code",
   "execution_count": null,
   "metadata": {},
   "outputs": [],
   "source": []
  },
  {
   "cell_type": "markdown",
   "metadata": {},
   "source": [
    "# LDA"
   ]
  },
  {
   "cell_type": "markdown",
   "metadata": {},
   "source": [
    "## 2016 brief paragraph"
   ]
  },
  {
   "cell_type": "code",
   "execution_count": 3,
   "metadata": {},
   "outputs": [],
   "source": [
    "file_cn = open(\"../LDA/segment/data/cn_file_brief_paragraph_2016.txt\", \"r\")\n",
    "cn_lines = file_cn.readlines()\n",
    "\n",
    "# file_us = open(\"../MUSE-main/data/us_file_brief_p_paragraph.txt\", \"r\")\n",
    "# us_lines = file_us.readlines()"
   ]
  },
  {
   "cell_type": "code",
   "execution_count": 4,
   "metadata": {},
   "outputs": [],
   "source": [
    "cn_desc = [i.replace(\" \\n\",\"\").split(\" \") for i in cn_lines]\n",
    "# us_desc = [i.replace(\" \\n\",\"\").split(\" \") for i in us_lines]"
   ]
  },
  {
   "cell_type": "code",
   "execution_count": 5,
   "metadata": {},
   "outputs": [
    {
     "name": "stdout",
     "output_type": "stream",
     "text": [
      "資料集字典：\n",
      "Dictionary(12307 unique tokens: ['上游', '下游', '产生', '例中', '信号']...)\n"
     ]
    }
   ],
   "source": [
    "id2word = corpora.Dictionary(cn_desc)\n",
    "print('資料集字典：')\n",
    "print(id2word)"
   ]
  },
  {
   "cell_type": "code",
   "execution_count": 6,
   "metadata": {},
   "outputs": [
    {
     "name": "stdout",
     "output_type": "stream",
     "text": [
      "第一篇文章 corpus :\n",
      "[(0, 3), (1, 4), (2, 1), (3, 1), (4, 5), (5, 1), (6, 1), (7, 1), (8, 6), (9, 1)]\n"
     ]
    }
   ],
   "source": [
    "corpus = [id2word.doc2bow(text) for text in cn_desc]\n",
    "print('第一篇文章 corpus :')\n",
    "print(corpus[0][:10])"
   ]
  },
  {
   "cell_type": "code",
   "execution_count": null,
   "metadata": {},
   "outputs": [],
   "source": []
  },
  {
   "cell_type": "code",
   "execution_count": null,
   "metadata": {},
   "outputs": [],
   "source": []
  },
  {
   "cell_type": "markdown",
   "metadata": {},
   "source": [
    "+ corpus = 文檔語料庫\n",
    "+ id2word = 詞彙字典\n",
    "+ num_topics = 生成幾個主題數\n",
    "+ random_state = 固定亂數值，每次的模型結果會一樣\n",
    "+ iteration = 每個文章訓練的次數，可以設定高一點讓模型收斂\n",
    "+ passes(epoch) = 整個 corpus 訓練模型的次數\n",
    "+ alpha = 文章主題分佈\n",
    "+ eta = 主題字分佈"
   ]
  },
  {
   "cell_type": "code",
   "execution_count": null,
   "metadata": {
    "scrolled": true,
    "tags": []
   },
   "outputs": [
    {
     "name": "stdout",
     "output_type": "stream",
     "text": [
      "2\n",
      "3\n",
      "4\n",
      "5\n",
      "6\n",
      "7\n"
     ]
    }
   ],
   "source": [
    "topic_num_list = np.arange(2, 26, 1)\n",
    "result = []\n",
    "for topic_num in topic_num_list:\n",
    "    # perplexity\n",
    "    tmp_ldamodel = gensim.models.ldamulticore.LdaMulticore(\n",
    "        corpus = corpus,\n",
    "        num_topics = topic_num ,\n",
    "        id2word=id2word,\n",
    "        random_state = 1500,\n",
    "        passes=5,\n",
    "        iterations=2000\n",
    "        )\n",
    "    tmp_perplexity = tmp_ldamodel.log_perplexity(corpus)\n",
    "    temp_skleran = np.exp(-1. * tmp_perplexity)\n",
    "    \n",
    "    result.append({\"topic_num\": topic_num, \"gensim_perplexity\": tmp_perplexity, \"perplexity\":temp_skleran})\n",
    "    print(topic_num)"
   ]
  },
  {
   "cell_type": "code",
   "execution_count": null,
   "metadata": {
    "scrolled": true,
    "tags": []
   },
   "outputs": [],
   "source": [
    "result = pd.DataFrame(result)\n",
    "result.plot.line(x='topic_num', y='gensim_perplexity', label='gensim_perplexity')\n",
    "result"
   ]
  },
  {
   "cell_type": "code",
   "execution_count": null,
   "metadata": {
    "scrolled": true,
    "tags": []
   },
   "outputs": [],
   "source": [
    "result = pd.DataFrame(result)\n",
    "result.plot.line(x='topic_num', y='perplexity', label='perplexity')\n",
    "result"
   ]
  },
  {
   "cell_type": "code",
   "execution_count": null,
   "metadata": {},
   "outputs": [],
   "source": [
    "# 儲存LDA_result\n",
    "result.to_csv(\"./result/LDA_cn_brief_paragraph_2016.csv\", index=False)"
   ]
  },
  {
   "cell_type": "code",
   "execution_count": null,
   "metadata": {},
   "outputs": [],
   "source": []
  },
  {
   "cell_type": "code",
   "execution_count": null,
   "metadata": {},
   "outputs": [],
   "source": []
  },
  {
   "cell_type": "code",
   "execution_count": null,
   "metadata": {},
   "outputs": [],
   "source": []
  },
  {
   "cell_type": "markdown",
   "metadata": {
    "jp-MarkdownHeadingCollapsed": true,
    "tags": []
   },
   "source": [
    "## priority description sentence"
   ]
  },
  {
   "cell_type": "code",
   "execution_count": null,
   "metadata": {},
   "outputs": [],
   "source": [
    "# file_cn = open(\"../MUSE-main/data/cn_file_desc_p_s_2500.txt\", \"r\")\n",
    "# cn_lines = file_cn.readlines()\n",
    "\n",
    "# file_us = open(\"../MUSE-main/data/us_file_desc_p_s_2500.txt\", \"r\")\n",
    "# us_lines = file_us.readlines()"
   ]
  },
  {
   "cell_type": "code",
   "execution_count": null,
   "metadata": {},
   "outputs": [],
   "source": [
    "# cn_desc = [i.replace(\" \\n\",\"\").split(\" \") for i in cn_lines]\n",
    "# us_desc = [i.replace(\" \\n\",\"\").split(\" \") for i in us_lines]"
   ]
  },
  {
   "cell_type": "code",
   "execution_count": null,
   "metadata": {},
   "outputs": [],
   "source": [
    "# id2word = corpora.Dictionary(cn_desc)\n",
    "# print('資料集字典：')\n",
    "# print(id2word)"
   ]
  },
  {
   "cell_type": "code",
   "execution_count": null,
   "metadata": {},
   "outputs": [],
   "source": [
    "# corpus = [id2word.doc2bow(text) for text in cn_desc]\n",
    "# print('第一篇文章 corpus :')\n",
    "# print(corpus[0][:10])"
   ]
  },
  {
   "cell_type": "code",
   "execution_count": null,
   "metadata": {},
   "outputs": [],
   "source": []
  },
  {
   "cell_type": "markdown",
   "metadata": {},
   "source": [
    "+ corpus = 文檔語料庫\n",
    "+ id2word = 詞彙字典\n",
    "+ num_topics = 生成幾個主題數\n",
    "+ random_state = 固定亂數值，每次的模型結果會一樣\n",
    "+ iteration = 每個文章訓練的次數，可以設定高一點讓模型收斂\n",
    "+ passes(epoch) = 整個 corpus 訓練模型的次數\n",
    "+ alpha = 文章主題分佈\n",
    "+ eta = 主題字分佈"
   ]
  },
  {
   "cell_type": "code",
   "execution_count": null,
   "metadata": {
    "scrolled": true,
    "tags": []
   },
   "outputs": [],
   "source": [
    "# topic_num_list = np.arange(2, 20, 2)\n",
    "# result = []\n",
    "# for topic_num in topic_num_list:\n",
    "#     # perplexity\n",
    "#     tmp_ldamodel = gensim.models.ldamulticore.LdaMulticore(\n",
    "#         corpus = corpus,\n",
    "#         num_topics = topic_num ,\n",
    "#         id2word=id2word,\n",
    "#         random_state = 1500,\n",
    "#         passes=5,\n",
    "#         iterations=2000\n",
    "#         )\n",
    "#     tmp_perplexity = tmp_ldamodel.log_perplexity(corpus)\n",
    "#     temp_skleran = np.exp(-1. * tmp_perplexity)\n",
    "    \n",
    "#     result.append({\"topic_num\": topic_num, \"gensim_perplexity\": tmp_perplexity, \"perplexity\":temp_skleran})\n",
    "#     print(topic_num)"
   ]
  },
  {
   "cell_type": "code",
   "execution_count": null,
   "metadata": {},
   "outputs": [],
   "source": [
    "# result = pd.DataFrame(result)\n",
    "# result.plot.line(x='topic_num', y='gensim_perplexity', label='gensim_perplexity')\n",
    "# result"
   ]
  },
  {
   "cell_type": "code",
   "execution_count": null,
   "metadata": {},
   "outputs": [],
   "source": [
    "# result = pd.DataFrame(result)\n",
    "# result.plot.line(x='topic_num', y='perplexity', label='perplexity')\n",
    "# result"
   ]
  },
  {
   "cell_type": "code",
   "execution_count": null,
   "metadata": {},
   "outputs": [],
   "source": [
    "# 儲存LDA_result\n",
    "# result.to_csv(\"./result/LDA_cn_desc_p_s_2500.csv\", index=False)"
   ]
  },
  {
   "cell_type": "code",
   "execution_count": null,
   "metadata": {},
   "outputs": [],
   "source": []
  },
  {
   "cell_type": "code",
   "execution_count": null,
   "metadata": {},
   "outputs": [],
   "source": []
  },
  {
   "cell_type": "markdown",
   "metadata": {},
   "source": [
    "## 找出文章topic"
   ]
  },
  {
   "cell_type": "code",
   "execution_count": null,
   "metadata": {},
   "outputs": [],
   "source": [
    "best_num = result[result.perplexity == min(result.perplexity)][\"topic_num\"].values[0]"
   ]
  },
  {
   "cell_type": "code",
   "execution_count": null,
   "metadata": {},
   "outputs": [],
   "source": [
    "ldamodel = gensim.models.ldamulticore.LdaMulticore(\n",
    "        corpus = corpus,\n",
    "        num_topics = best_num ,\n",
    "        id2word=id2word,\n",
    "        random_state = 1500,\n",
    "        passes=5,\n",
    "        iterations=2000\n",
    "        )"
   ]
  },
  {
   "cell_type": "code",
   "execution_count": null,
   "metadata": {},
   "outputs": [],
   "source": [
    "# 取得每個文章的主題分佈\n",
    "topics_doc = ldamodel.get_document_topics(corpus, minimum_probability=0.000001) "
   ]
  },
  {
   "cell_type": "code",
   "execution_count": null,
   "metadata": {},
   "outputs": [],
   "source": [
    "c = [i[1] for i in topics_doc[0]]\n",
    "c.index(max(c)) "
   ]
  },
  {
   "cell_type": "code",
   "execution_count": null,
   "metadata": {
    "scrolled": true,
    "tags": []
   },
   "outputs": [],
   "source": [
    "topics_cn = [] \n",
    "for topics in topics_doc:\n",
    "    c = [i[1] for i in topics]\n",
    "    topics_cn.append(c.index(max(c)))"
   ]
  },
  {
   "cell_type": "code",
   "execution_count": null,
   "metadata": {
    "scrolled": true,
    "tags": []
   },
   "outputs": [],
   "source": [
    "topics_cn"
   ]
  },
  {
   "cell_type": "code",
   "execution_count": null,
   "metadata": {},
   "outputs": [],
   "source": [
    "print(len(topics_cn))\n",
    "print(len(cn_desc))"
   ]
  },
  {
   "cell_type": "code",
   "execution_count": null,
   "metadata": {},
   "outputs": [],
   "source": []
  },
  {
   "cell_type": "markdown",
   "metadata": {},
   "source": [
    "## 找出對應的patent編號和公司"
   ]
  },
  {
   "cell_type": "code",
   "execution_count": null,
   "metadata": {},
   "outputs": [],
   "source": [
    "mongoURI = \"mongodb://%s:%s@%s/%s?authMechanism=SCRAM-SHA-1\" % (\"eva\", \"eva_30241\", \"140.117.69.70:30241\", \"eva\")\n",
    "\n",
    "try:\n",
    "    conn = pymongo.MongoClient(mongoURI)\n",
    "    db = conn.eva\n",
    "    # db_rm_us = db.rm_patent_us\n",
    "    # db_rm_cn = db.rm_patent_cn\n",
    "    # db_rm_de = db.rm_patent_de\n",
    "    \n",
    "    # db_rm_us_2016 = db.rm_patent_us_2016\n",
    "    db_rm_cn_2016 = db.rm_patent_cn_2016\n",
    "    # db_rm_de_2016 = db.rm_patent_de_2016\n",
    "except errors.ConnectionFailure as err:\n",
    "    print(err)"
   ]
  },
  {
   "cell_type": "code",
   "execution_count": null,
   "metadata": {},
   "outputs": [],
   "source": [
    "# data_cn_desc = p_db_cn.find({}, {\"patentNumber\":1, \"brief\": 1})\n",
    "data_cn_desc = db_rm_cn_2016.find({}, {\"patentNumber\":1, \"brief\": 1, \"current_assignee\":1})\n",
    "\n",
    "ls_id = []\n",
    "ls_pNo = []\n",
    "ls_com = []\n",
    "ls_desc = []\n",
    "for data in data_cn_desc:\n",
    "    # print(data[\"_id\"],data[\"count\"])\n",
    "    ls_id.append(data[\"_id\"])\n",
    "    ls_pNo.append(data[\"patentNumber\"])\n",
    "    ls_com.append(data[\"current_assignee\"])\n",
    "    ls_desc.append(data[\"brief\"])\n",
    "    "
   ]
  },
  {
   "cell_type": "code",
   "execution_count": null,
   "metadata": {},
   "outputs": [],
   "source": [
    "# df_cn = pd.DataFrame((zip(ls_id, ls_pNo, ls_desc)), columns = ['id', 'patentNumber', 'brief'])\n",
    "df_cn = pd.DataFrame((zip(ls_id, ls_pNo, ls_com, ls_desc)), columns = ['id', 'patentNumber', 'company', 'brief'])"
   ]
  },
  {
   "cell_type": "code",
   "execution_count": null,
   "metadata": {
    "scrolled": true,
    "tags": []
   },
   "outputs": [],
   "source": [
    "df_cn"
   ]
  },
  {
   "cell_type": "code",
   "execution_count": null,
   "metadata": {},
   "outputs": [],
   "source": [
    "print(len(df_cn))\n",
    "print(len(cn_desc))"
   ]
  },
  {
   "cell_type": "code",
   "execution_count": null,
   "metadata": {},
   "outputs": [],
   "source": [
    "df_cn[\"topic\"]=topics_cn"
   ]
  },
  {
   "cell_type": "code",
   "execution_count": null,
   "metadata": {
    "scrolled": true,
    "tags": []
   },
   "outputs": [],
   "source": [
    "df_cn"
   ]
  },
  {
   "cell_type": "code",
   "execution_count": null,
   "metadata": {
    "scrolled": true,
    "tags": []
   },
   "outputs": [],
   "source": [
    "df_cn2 = df_cn.explode('company')\n",
    "df_cn2"
   ]
  },
  {
   "cell_type": "code",
   "execution_count": null,
   "metadata": {
    "scrolled": true,
    "tags": []
   },
   "outputs": [],
   "source": [
    "# 排名前16的公司\n",
    "c_ls = list(df_cn2.groupby(\"company\",as_index=False).size().sort_values(\"size\",ascending=False).head(16).company)\n",
    "c_ls"
   ]
  },
  {
   "cell_type": "code",
   "execution_count": null,
   "metadata": {},
   "outputs": [],
   "source": []
  },
  {
   "cell_type": "markdown",
   "metadata": {},
   "source": [
    "### 轉成company-topic 的總數表格"
   ]
  },
  {
   "cell_type": "code",
   "execution_count": null,
   "metadata": {},
   "outputs": [],
   "source": [
    "df_cn_count = df_cn2.groupby([\"company\",\"topic\"],as_index=False).size()\n",
    "df_cn_count"
   ]
  },
  {
   "cell_type": "code",
   "execution_count": null,
   "metadata": {},
   "outputs": [],
   "source": [
    "# 轉成company-topic 的總數表格\n",
    "table_cn = df_cn_count.pivot_table(index='company', values='size', columns='topic',aggfunc=['sum']).fillna(0).reset_index()\n",
    "table_cn = table_cn.droplevel(level=0, axis=1)\n",
    "table_cn = table_cn.rename(columns={'':'company'})"
   ]
  },
  {
   "cell_type": "code",
   "execution_count": null,
   "metadata": {},
   "outputs": [],
   "source": [
    "table_cn"
   ]
  },
  {
   "cell_type": "code",
   "execution_count": null,
   "metadata": {},
   "outputs": [],
   "source": [
    "final_table_cn = table_cn[table_cn.company.isin(c_ls)]\n",
    "final_table_cn"
   ]
  },
  {
   "cell_type": "code",
   "execution_count": null,
   "metadata": {},
   "outputs": [],
   "source": [
    "final_table_cn.shape"
   ]
  },
  {
   "cell_type": "code",
   "execution_count": null,
   "metadata": {},
   "outputs": [],
   "source": [
    "table_cn.to_csv('company_lda_brief_cn_2016.csv',index=0)"
   ]
  },
  {
   "cell_type": "code",
   "execution_count": null,
   "metadata": {},
   "outputs": [],
   "source": []
  },
  {
   "cell_type": "code",
   "execution_count": null,
   "metadata": {},
   "outputs": [],
   "source": []
  },
  {
   "cell_type": "code",
   "execution_count": null,
   "metadata": {},
   "outputs": [],
   "source": []
  },
  {
   "cell_type": "code",
   "execution_count": null,
   "metadata": {},
   "outputs": [],
   "source": []
  },
  {
   "cell_type": "code",
   "execution_count": null,
   "metadata": {},
   "outputs": [],
   "source": []
  }
 ],
 "metadata": {
  "kernelspec": {
   "display_name": "for_paper",
   "language": "python",
   "name": "for_paper"
  },
  "language_info": {
   "codemirror_mode": {
    "name": "ipython",
    "version": 3
   },
   "file_extension": ".py",
   "mimetype": "text/x-python",
   "name": "python",
   "nbconvert_exporter": "python",
   "pygments_lexer": "ipython3",
   "version": "3.8.12"
  },
  "vscode": {
   "interpreter": {
    "hash": "9f9416c4c9e62b5b07c794535e9673f943082a8a1e44d9c90f1c9a13e36eb6d8"
   }
  }
 },
 "nbformat": 4,
 "nbformat_minor": 4
}
