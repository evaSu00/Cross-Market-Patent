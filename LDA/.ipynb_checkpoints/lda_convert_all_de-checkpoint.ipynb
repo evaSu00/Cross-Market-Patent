{
 "cells": [
  {
   "cell_type": "code",
   "execution_count": 1,
   "id": "070b9153-6eb0-4b01-a781-6cf087d93357",
   "metadata": {},
   "outputs": [],
   "source": [
    "import numpy as np\n",
    "import pandas as pd\n",
    "import os"
   ]
  },
  {
   "cell_type": "code",
   "execution_count": 2,
   "id": "667eedfc-4566-4b06-a323-ad280f1993dd",
   "metadata": {},
   "outputs": [
    {
     "name": "stdout",
     "output_type": "stream",
     "text": [
      "Wed Jun 29 02:06:17 2022       \n",
      "+-----------------------------------------------------------------------------+\n",
      "| NVIDIA-SMI 470.129.06   Driver Version: 470.129.06   CUDA Version: 11.4     |\n",
      "|-------------------------------+----------------------+----------------------+\n",
      "| GPU  Name        Persistence-M| Bus-Id        Disp.A | Volatile Uncorr. ECC |\n",
      "| Fan  Temp  Perf  Pwr:Usage/Cap|         Memory-Usage | GPU-Util  Compute M. |\n",
      "|                               |                      |               MIG M. |\n",
      "|===============================+======================+======================|\n",
      "|   0  NVIDIA GeForce ...  Off  | 00000000:01:00.0 Off |                  N/A |\n",
      "| 32%   41C    P8    21W / 260W |     22MiB / 11019MiB |      0%      Default |\n",
      "|                               |                      |                  N/A |\n",
      "+-------------------------------+----------------------+----------------------+\n",
      "|   1  NVIDIA GeForce ...  Off  | 00000000:02:00.0 Off |                  N/A |\n",
      "| 30%   38C    P8    25W / 260W |      8MiB / 11019MiB |      0%      Default |\n",
      "|                               |                      |                  N/A |\n",
      "+-------------------------------+----------------------+----------------------+\n",
      "                                                                               \n",
      "+-----------------------------------------------------------------------------+\n",
      "| Processes:                                                                  |\n",
      "|  GPU   GI   CI        PID   Type   Process name                  GPU Memory |\n",
      "|        ID   ID                                                   Usage      |\n",
      "|=============================================================================|\n",
      "|    0   N/A  N/A      6976      G   /usr/lib/xorg/Xorg                  9MiB |\n",
      "|    0   N/A  N/A      7277      G   /usr/bin/gnome-shell                7MiB |\n",
      "|    1   N/A  N/A      6976      G   /usr/lib/xorg/Xorg                  4MiB |\n",
      "+-----------------------------------------------------------------------------+\n"
     ]
    }
   ],
   "source": [
    "! nvidia-smi"
   ]
  },
  {
   "cell_type": "code",
   "execution_count": 3,
   "id": "6c0e7703-b610-4ddf-8ac2-aa491d8b6f88",
   "metadata": {},
   "outputs": [],
   "source": [
    "# 使用GPU\n",
    "os.environ[\"CUDA_VISIBLE_DEVICES\"]=\"1\""
   ]
  },
  {
   "cell_type": "code",
   "execution_count": null,
   "id": "b9e525a6-1c97-4687-816c-aa87c169e3a0",
   "metadata": {},
   "outputs": [],
   "source": []
  },
  {
   "cell_type": "markdown",
   "id": "5bedc508-f3a9-4ebc-9c85-fdf8ff498030",
   "metadata": {},
   "source": [
    "# Data"
   ]
  },
  {
   "cell_type": "code",
   "execution_count": 4,
   "id": "3891390f-2477-41b8-98f1-e922d1a7b345",
   "metadata": {},
   "outputs": [],
   "source": [
    "def get_forb(f_data,com_ls):\n",
    "    forb_ls =[]\n",
    "\n",
    "    for i in com_ls:\n",
    "        if (f_data[\"Company\"]==i).any():\n",
    "            if (f_data[f_data.Company==i][\"Industry\"]==\"Semiconductors\").any():\n",
    "                forb_ls.append(1)\n",
    "            elif (f_data[f_data.Company==i][\"Sector\"]==\"Information Technology\").any():\n",
    "                forb_ls.append(2)\n",
    "            else:\n",
    "                forb_ls.append(3)\n",
    "        else:\n",
    "            forb_ls.append(4)\n",
    "    \n",
    "    return forb_ls"
   ]
  },
  {
   "cell_type": "code",
   "execution_count": 5,
   "id": "cc0334ff-60fc-4b92-afda-f09e815fed11",
   "metadata": {
    "scrolled": true,
    "tags": []
   },
   "outputs": [
    {
     "name": "stdout",
     "output_type": "stream",
     "text": [
      "2015\n",
      "2016\n",
      "2017\n",
      "2018\n",
      "2019\n",
      "2020\n"
     ]
    }
   ],
   "source": [
    "correct_ls = []\n",
    "correct_ls2 = []\n",
    "\n",
    "for i in range(2015,2021):\n",
    "    now = \"competitor_df/lda_de_{year}.csv\".format(year=i)\n",
    "    lda_now = pd.read_csv(now)\n",
    "    f = \"../patent/code/依年分/Forbes/Forbes_{year}.csv\".format(year=i)\n",
    "    f_data = pd.read_csv(f)\n",
    "    \n",
    "    com_ls = list(lda_now.company)\n",
    "    \n",
    "    forb_ls = get_forb(f_data,com_ls)\n",
    "    \n",
    "    lda_now[\"forb\"] = forb_ls\n",
    "    \n",
    "    print(i)\n",
    "    # 當年度正確預測比例\n",
    "    # year_correct = len(lda_all[lda_all.iloc[:,2]==lda_all.iloc[:,3]])/len(lda_all)\n",
    "    year_correct = len(lda_now[lda_now.iloc[:,1]==lda_now.iloc[:,2]])/len(lda_now)\n",
    "    correct_ls.append(year_correct)\n",
    "    \n",
    "    # 當年度正確預測比例 去除4\n",
    "    lda_now2 = lda_now[lda_now.iloc[:,1]==lda_now.iloc[:,2]]\n",
    "    year_correct2 = len(lda_now2[lda_now2.iloc[:,2]!=4])/len(lda_now)\n",
    "    correct_ls2.append(year_correct2)\n",
    "    "
   ]
  },
  {
   "cell_type": "code",
   "execution_count": 6,
   "id": "7de56cf4-73c2-432b-87a9-518e3c4ef05f",
   "metadata": {},
   "outputs": [
    {
     "data": {
      "text/plain": [
       "[0.42857142857142855,\n",
       " 0.21428571428571427,\n",
       " 0.14285714285714285,\n",
       " 0.21428571428571427,\n",
       " 0.21428571428571427,\n",
       " 0.42857142857142855]"
      ]
     },
     "execution_count": 6,
     "metadata": {},
     "output_type": "execute_result"
    }
   ],
   "source": [
    "correct_ls"
   ]
  },
  {
   "cell_type": "code",
   "execution_count": null,
   "id": "655341a7-7a73-4d2a-b643-f632bf0d4e56",
   "metadata": {},
   "outputs": [],
   "source": [
    "correct_ls2"
   ]
  },
  {
   "cell_type": "code",
   "execution_count": null,
   "id": "86a184bb-c0b1-44dd-9764-19dab3fd74f2",
   "metadata": {},
   "outputs": [],
   "source": []
  },
  {
   "cell_type": "code",
   "execution_count": null,
   "id": "9d503e32-6255-45e6-b2ae-aaa3ed899bce",
   "metadata": {},
   "outputs": [],
   "source": []
  },
  {
   "cell_type": "code",
   "execution_count": null,
   "id": "cd4926a7-4b83-4637-acd0-889d89042b61",
   "metadata": {},
   "outputs": [],
   "source": []
  },
  {
   "cell_type": "code",
   "execution_count": 7,
   "id": "0ae8e770-7115-4062-baf8-7bc4aa7df294",
   "metadata": {},
   "outputs": [
    {
     "name": "stdout",
     "output_type": "stream",
     "text": [
      "2016\n",
      "2017\n",
      "2018\n",
      "2019\n",
      "2020\n"
     ]
    }
   ],
   "source": [
    "change_ls = []\n",
    "\n",
    "for i in range(2016,2021):\n",
    "    now = \"competitor_df/lda_de_{year}.csv\".format(year=i)\n",
    "    befor = \"competitor_df/lda_de_{year}.csv\".format(year=i-1)\n",
    "    lda_now = pd.read_csv(now)\n",
    "    lda_befor = pd.read_csv(befor)\n",
    "    f = \"../patent/code/依年分/Forbes/Forbes_{year}.csv\".format(year=i)\n",
    "    f_data = pd.read_csv(f)\n",
    "    \n",
    "    lda_all = lda_befor.iloc[:,0:2].merge(lda_now.iloc[:,0:2],on = 'company',how = 'outer')\n",
    "    com_ls = list(lda_all.company)\n",
    "    \n",
    "    forb_ls = get_forb(f_data,com_ls)\n",
    "    \n",
    "    lda_all[\"forb\"] = forb_ls \n",
    "    \n",
    "    print(i)\n",
    "    # 有變動且正確預測比例\n",
    "    lda_all2 = lda_all[lda_all.iloc[:,2]==lda_all.iloc[:,3]] #先找出和forb相同的\n",
    "    chan_correct = len(lda_all2[lda_all2.iloc[:,1]!=lda_all2.iloc[:,2]])/len(lda_all) #找出今年和前一年有變動的\n",
    "    change_ls.append(chan_correct)"
   ]
  },
  {
   "cell_type": "code",
   "execution_count": 8,
   "id": "fc7a0239-237d-4271-bc9b-1a34351e9c2c",
   "metadata": {},
   "outputs": [
    {
     "data": {
      "text/plain": [
       "[0.13043478260869565,\n",
       " 0.1,\n",
       " 0.14285714285714285,\n",
       " 0.09090909090909091,\n",
       " 0.2727272727272727]"
      ]
     },
     "execution_count": 8,
     "metadata": {},
     "output_type": "execute_result"
    }
   ],
   "source": [
    "change_ls"
   ]
  },
  {
   "cell_type": "code",
   "execution_count": null,
   "id": "5a599136-bad3-47fa-a7a9-de2cc38357bd",
   "metadata": {},
   "outputs": [],
   "source": []
  },
  {
   "cell_type": "code",
   "execution_count": null,
   "id": "a51c0c11-292e-4096-956f-44abae399028",
   "metadata": {},
   "outputs": [],
   "source": []
  },
  {
   "cell_type": "code",
   "execution_count": null,
   "id": "aaf3cbc5-dadd-4f5f-827e-a91966fdadfb",
   "metadata": {},
   "outputs": [],
   "source": []
  },
  {
   "cell_type": "code",
   "execution_count": null,
   "id": "d70049c1-b0be-4027-a57b-32a8b088ffe1",
   "metadata": {},
   "outputs": [],
   "source": []
  },
  {
   "cell_type": "code",
   "execution_count": 38,
   "id": "99e593b1-c9a1-474f-894b-774f8cb983a6",
   "metadata": {
    "scrolled": true,
    "tags": []
   },
   "outputs": [
    {
     "data": {
      "text/html": [
       "<div>\n",
       "<style scoped>\n",
       "    .dataframe tbody tr th:only-of-type {\n",
       "        vertical-align: middle;\n",
       "    }\n",
       "\n",
       "    .dataframe tbody tr th {\n",
       "        vertical-align: top;\n",
       "    }\n",
       "\n",
       "    .dataframe thead th {\n",
       "        text-align: right;\n",
       "    }\n",
       "</style>\n",
       "<table border=\"1\" class=\"dataframe\">\n",
       "  <thead>\n",
       "    <tr style=\"text-align: right;\">\n",
       "      <th></th>\n",
       "      <th>company</th>\n",
       "      <th>2018_competitor</th>\n",
       "      <th>2019_competitor</th>\n",
       "      <th>forb</th>\n",
       "    </tr>\n",
       "  </thead>\n",
       "  <tbody>\n",
       "    <tr>\n",
       "      <th>0</th>\n",
       "      <td>Qualcomm</td>\n",
       "      <td>1.0</td>\n",
       "      <td>1.0</td>\n",
       "      <td>1</td>\n",
       "    </tr>\n",
       "    <tr>\n",
       "      <th>1</th>\n",
       "      <td>Ericsson</td>\n",
       "      <td>1.0</td>\n",
       "      <td>2.0</td>\n",
       "      <td>2</td>\n",
       "    </tr>\n",
       "    <tr>\n",
       "      <th>2</th>\n",
       "      <td>Intel</td>\n",
       "      <td>1.0</td>\n",
       "      <td>1.0</td>\n",
       "      <td>1</td>\n",
       "    </tr>\n",
       "    <tr>\n",
       "      <th>4</th>\n",
       "      <td>Cisco Systems</td>\n",
       "      <td>1.0</td>\n",
       "      <td>2.0</td>\n",
       "      <td>2</td>\n",
       "    </tr>\n",
       "  </tbody>\n",
       "</table>\n",
       "</div>"
      ],
      "text/plain": [
       "         company  2018_competitor  2019_competitor  forb\n",
       "0       Qualcomm              1.0              1.0     1\n",
       "1       Ericsson              1.0              2.0     2\n",
       "2          Intel              1.0              1.0     1\n",
       "4  Cisco Systems              1.0              2.0     2"
      ]
     },
     "execution_count": 38,
     "metadata": {},
     "output_type": "execute_result"
    }
   ],
   "source": [
    "lda_all2 = lda_all[lda_all.iloc[:,2]==lda_all.iloc[:,3]]\n",
    "lda_all2"
   ]
  },
  {
   "cell_type": "code",
   "execution_count": 42,
   "id": "8bdf2187-28fe-4060-bc23-1dfaf797c8f6",
   "metadata": {},
   "outputs": [
    {
     "data": {
      "text/html": [
       "<div>\n",
       "<style scoped>\n",
       "    .dataframe tbody tr th:only-of-type {\n",
       "        vertical-align: middle;\n",
       "    }\n",
       "\n",
       "    .dataframe tbody tr th {\n",
       "        vertical-align: top;\n",
       "    }\n",
       "\n",
       "    .dataframe thead th {\n",
       "        text-align: right;\n",
       "    }\n",
       "</style>\n",
       "<table border=\"1\" class=\"dataframe\">\n",
       "  <thead>\n",
       "    <tr style=\"text-align: right;\">\n",
       "      <th></th>\n",
       "      <th>company</th>\n",
       "      <th>2018_competitor</th>\n",
       "      <th>2019_competitor</th>\n",
       "      <th>forb</th>\n",
       "    </tr>\n",
       "  </thead>\n",
       "  <tbody>\n",
       "    <tr>\n",
       "      <th>1</th>\n",
       "      <td>Ericsson</td>\n",
       "      <td>1.0</td>\n",
       "      <td>2.0</td>\n",
       "      <td>2</td>\n",
       "    </tr>\n",
       "    <tr>\n",
       "      <th>4</th>\n",
       "      <td>Cisco Systems</td>\n",
       "      <td>1.0</td>\n",
       "      <td>2.0</td>\n",
       "      <td>2</td>\n",
       "    </tr>\n",
       "  </tbody>\n",
       "</table>\n",
       "</div>"
      ],
      "text/plain": [
       "         company  2018_competitor  2019_competitor  forb\n",
       "1       Ericsson              1.0              2.0     2\n",
       "4  Cisco Systems              1.0              2.0     2"
      ]
     },
     "execution_count": 42,
     "metadata": {},
     "output_type": "execute_result"
    }
   ],
   "source": [
    "lda_all2[(lda_all2.iloc[:,1]!=lda_all2.iloc[:,2])]"
   ]
  },
  {
   "cell_type": "code",
   "execution_count": 41,
   "id": "3c69adb7-32cc-47bc-8fa0-66e9ca274cbd",
   "metadata": {},
   "outputs": [
    {
     "data": {
      "text/html": [
       "<div>\n",
       "<style scoped>\n",
       "    .dataframe tbody tr th:only-of-type {\n",
       "        vertical-align: middle;\n",
       "    }\n",
       "\n",
       "    .dataframe tbody tr th {\n",
       "        vertical-align: top;\n",
       "    }\n",
       "\n",
       "    .dataframe thead th {\n",
       "        text-align: right;\n",
       "    }\n",
       "</style>\n",
       "<table border=\"1\" class=\"dataframe\">\n",
       "  <thead>\n",
       "    <tr style=\"text-align: right;\">\n",
       "      <th></th>\n",
       "      <th>company</th>\n",
       "      <th>2018_competitor</th>\n",
       "      <th>2019_competitor</th>\n",
       "      <th>forb</th>\n",
       "    </tr>\n",
       "  </thead>\n",
       "  <tbody>\n",
       "    <tr>\n",
       "      <th>0</th>\n",
       "      <td>Qualcomm</td>\n",
       "      <td>1.0</td>\n",
       "      <td>1.0</td>\n",
       "      <td>1</td>\n",
       "    </tr>\n",
       "    <tr>\n",
       "      <th>1</th>\n",
       "      <td>Ericsson</td>\n",
       "      <td>1.0</td>\n",
       "      <td>2.0</td>\n",
       "      <td>2</td>\n",
       "    </tr>\n",
       "    <tr>\n",
       "      <th>2</th>\n",
       "      <td>Intel</td>\n",
       "      <td>1.0</td>\n",
       "      <td>1.0</td>\n",
       "      <td>1</td>\n",
       "    </tr>\n",
       "    <tr>\n",
       "      <th>4</th>\n",
       "      <td>Cisco Systems</td>\n",
       "      <td>1.0</td>\n",
       "      <td>2.0</td>\n",
       "      <td>2</td>\n",
       "    </tr>\n",
       "  </tbody>\n",
       "</table>\n",
       "</div>"
      ],
      "text/plain": [
       "         company  2018_competitor  2019_competitor  forb\n",
       "0       Qualcomm              1.0              1.0     1\n",
       "1       Ericsson              1.0              2.0     2\n",
       "2          Intel              1.0              1.0     1\n",
       "4  Cisco Systems              1.0              2.0     2"
      ]
     },
     "execution_count": 41,
     "metadata": {},
     "output_type": "execute_result"
    }
   ],
   "source": [
    "lda_all2[(lda_all2.iloc[:,1]!=lda_all2.iloc[:,2])|(lda_all2.iloc[:,1]==lda_all2.iloc[:,2])]"
   ]
  },
  {
   "cell_type": "code",
   "execution_count": 40,
   "id": "6cdb05c2-515c-4c06-93c6-1b958edefa1a",
   "metadata": {},
   "outputs": [
    {
     "data": {
      "text/html": [
       "<div>\n",
       "<style scoped>\n",
       "    .dataframe tbody tr th:only-of-type {\n",
       "        vertical-align: middle;\n",
       "    }\n",
       "\n",
       "    .dataframe tbody tr th {\n",
       "        vertical-align: top;\n",
       "    }\n",
       "\n",
       "    .dataframe thead th {\n",
       "        text-align: right;\n",
       "    }\n",
       "</style>\n",
       "<table border=\"1\" class=\"dataframe\">\n",
       "  <thead>\n",
       "    <tr style=\"text-align: right;\">\n",
       "      <th></th>\n",
       "      <th>company</th>\n",
       "      <th>2018_competitor</th>\n",
       "      <th>2019_competitor</th>\n",
       "      <th>forb</th>\n",
       "    </tr>\n",
       "  </thead>\n",
       "  <tbody>\n",
       "    <tr>\n",
       "      <th>0</th>\n",
       "      <td>Qualcomm</td>\n",
       "      <td>1.0</td>\n",
       "      <td>1.0</td>\n",
       "      <td>1</td>\n",
       "    </tr>\n",
       "    <tr>\n",
       "      <th>2</th>\n",
       "      <td>Intel</td>\n",
       "      <td>1.0</td>\n",
       "      <td>1.0</td>\n",
       "      <td>1</td>\n",
       "    </tr>\n",
       "  </tbody>\n",
       "</table>\n",
       "</div>"
      ],
      "text/plain": [
       "    company  2018_competitor  2019_competitor  forb\n",
       "0  Qualcomm              1.0              1.0     1\n",
       "2     Intel              1.0              1.0     1"
      ]
     },
     "execution_count": 40,
     "metadata": {},
     "output_type": "execute_result"
    }
   ],
   "source": [
    "lda_all2[lda_all2.iloc[:,1]==lda_all2.iloc[:,2]]"
   ]
  },
  {
   "cell_type": "code",
   "execution_count": null,
   "id": "eba6a31e-73b9-4ed1-9c44-439ecf491bdb",
   "metadata": {},
   "outputs": [],
   "source": []
  },
  {
   "cell_type": "code",
   "execution_count": null,
   "id": "40c7d3b5-4519-4332-82f9-09683280da95",
   "metadata": {},
   "outputs": [],
   "source": []
  },
  {
   "cell_type": "code",
   "execution_count": 27,
   "id": "801b2a00-890e-4379-bec8-a3b2e418776d",
   "metadata": {},
   "outputs": [
    {
     "data": {
      "text/html": [
       "<div>\n",
       "<style scoped>\n",
       "    .dataframe tbody tr th:only-of-type {\n",
       "        vertical-align: middle;\n",
       "    }\n",
       "\n",
       "    .dataframe tbody tr th {\n",
       "        vertical-align: top;\n",
       "    }\n",
       "\n",
       "    .dataframe thead th {\n",
       "        text-align: right;\n",
       "    }\n",
       "</style>\n",
       "<table border=\"1\" class=\"dataframe\">\n",
       "  <thead>\n",
       "    <tr style=\"text-align: right;\">\n",
       "      <th></th>\n",
       "      <th>company</th>\n",
       "      <th>2018_competitor</th>\n",
       "      <th>2019_competitor</th>\n",
       "      <th>forb</th>\n",
       "    </tr>\n",
       "  </thead>\n",
       "  <tbody>\n",
       "    <tr>\n",
       "      <th>1</th>\n",
       "      <td>Ericsson</td>\n",
       "      <td>1.0</td>\n",
       "      <td>2.0</td>\n",
       "      <td>2</td>\n",
       "    </tr>\n",
       "    <tr>\n",
       "      <th>4</th>\n",
       "      <td>Cisco Systems</td>\n",
       "      <td>1.0</td>\n",
       "      <td>2.0</td>\n",
       "      <td>2</td>\n",
       "    </tr>\n",
       "    <tr>\n",
       "      <th>6</th>\n",
       "      <td>Apple</td>\n",
       "      <td>2.0</td>\n",
       "      <td>4.0</td>\n",
       "      <td>2</td>\n",
       "    </tr>\n",
       "    <tr>\n",
       "      <th>7</th>\n",
       "      <td>Nokia</td>\n",
       "      <td>2.0</td>\n",
       "      <td>4.0</td>\n",
       "      <td>2</td>\n",
       "    </tr>\n",
       "    <tr>\n",
       "      <th>8</th>\n",
       "      <td>LG Electronics</td>\n",
       "      <td>4.0</td>\n",
       "      <td>1.0</td>\n",
       "      <td>3</td>\n",
       "    </tr>\n",
       "    <tr>\n",
       "      <th>11</th>\n",
       "      <td>NEC</td>\n",
       "      <td>4.0</td>\n",
       "      <td>NaN</td>\n",
       "      <td>2</td>\n",
       "    </tr>\n",
       "    <tr>\n",
       "      <th>12</th>\n",
       "      <td>Amazon Technologies</td>\n",
       "      <td>4.0</td>\n",
       "      <td>NaN</td>\n",
       "      <td>4</td>\n",
       "    </tr>\n",
       "    <tr>\n",
       "      <th>14</th>\n",
       "      <td>Micron Technology</td>\n",
       "      <td>NaN</td>\n",
       "      <td>3.0</td>\n",
       "      <td>1</td>\n",
       "    </tr>\n",
       "    <tr>\n",
       "      <th>15</th>\n",
       "      <td>Huawei Technologies</td>\n",
       "      <td>NaN</td>\n",
       "      <td>2.0</td>\n",
       "      <td>4</td>\n",
       "    </tr>\n",
       "  </tbody>\n",
       "</table>\n",
       "</div>"
      ],
      "text/plain": [
       "                company  2018_competitor  2019_competitor  forb\n",
       "1              Ericsson              1.0              2.0     2\n",
       "4         Cisco Systems              1.0              2.0     2\n",
       "6                 Apple              2.0              4.0     2\n",
       "7                 Nokia              2.0              4.0     2\n",
       "8        LG Electronics              4.0              1.0     3\n",
       "11                  NEC              4.0              NaN     2\n",
       "12  Amazon Technologies              4.0              NaN     4\n",
       "14    Micron Technology              NaN              3.0     1\n",
       "15  Huawei Technologies              NaN              2.0     4"
      ]
     },
     "execution_count": 27,
     "metadata": {},
     "output_type": "execute_result"
    }
   ],
   "source": [
    "lda_all[lda_all.iloc[:,1]!=lda_all.iloc[:,2]]"
   ]
  },
  {
   "cell_type": "code",
   "execution_count": null,
   "id": "93d8d9c1-2416-468e-a686-db1283a3d014",
   "metadata": {},
   "outputs": [],
   "source": []
  },
  {
   "cell_type": "code",
   "execution_count": 9,
   "id": "1febce35-3e19-4f4f-bc7d-e23e28d77657",
   "metadata": {
    "scrolled": true,
    "tags": []
   },
   "outputs": [],
   "source": [
    "lda_us = \"../competitor_df/lda_us_{year}.csv\".format(year=\"2019\") \n",
    "lda_early = pd.read_csv(lda_us)"
   ]
  },
  {
   "cell_type": "code",
   "execution_count": 10,
   "id": "7409c291-cbe0-43b5-997c-2c9f4aa50869",
   "metadata": {},
   "outputs": [
    {
     "data": {
      "text/html": [
       "<div>\n",
       "<style scoped>\n",
       "    .dataframe tbody tr th:only-of-type {\n",
       "        vertical-align: middle;\n",
       "    }\n",
       "\n",
       "    .dataframe tbody tr th {\n",
       "        vertical-align: top;\n",
       "    }\n",
       "\n",
       "    .dataframe thead th {\n",
       "        text-align: right;\n",
       "    }\n",
       "</style>\n",
       "<table border=\"1\" class=\"dataframe\">\n",
       "  <thead>\n",
       "    <tr style=\"text-align: right;\">\n",
       "      <th></th>\n",
       "      <th>company</th>\n",
       "      <th>2019_competitor</th>\n",
       "      <th>2019_forb</th>\n",
       "    </tr>\n",
       "  </thead>\n",
       "  <tbody>\n",
       "    <tr>\n",
       "      <th>0</th>\n",
       "      <td>Qualcomm</td>\n",
       "      <td>1</td>\n",
       "      <td>1</td>\n",
       "    </tr>\n",
       "    <tr>\n",
       "      <th>1</th>\n",
       "      <td>LG Electronics</td>\n",
       "      <td>1</td>\n",
       "      <td>3</td>\n",
       "    </tr>\n",
       "    <tr>\n",
       "      <th>2</th>\n",
       "      <td>IBM</td>\n",
       "      <td>1</td>\n",
       "      <td>2</td>\n",
       "    </tr>\n",
       "    <tr>\n",
       "      <th>3</th>\n",
       "      <td>Ericsson</td>\n",
       "      <td>2</td>\n",
       "      <td>2</td>\n",
       "    </tr>\n",
       "    <tr>\n",
       "      <th>4</th>\n",
       "      <td>Intel</td>\n",
       "      <td>1</td>\n",
       "      <td>1</td>\n",
       "    </tr>\n",
       "    <tr>\n",
       "      <th>5</th>\n",
       "      <td>Cisco Systems</td>\n",
       "      <td>2</td>\n",
       "      <td>2</td>\n",
       "    </tr>\n",
       "    <tr>\n",
       "      <th>6</th>\n",
       "      <td>Microsoft</td>\n",
       "      <td>1</td>\n",
       "      <td>2</td>\n",
       "    </tr>\n",
       "    <tr>\n",
       "      <th>7</th>\n",
       "      <td>Apple</td>\n",
       "      <td>4</td>\n",
       "      <td>2</td>\n",
       "    </tr>\n",
       "    <tr>\n",
       "      <th>8</th>\n",
       "      <td>AT&amp;T</td>\n",
       "      <td>4</td>\n",
       "      <td>3</td>\n",
       "    </tr>\n",
       "    <tr>\n",
       "      <th>9</th>\n",
       "      <td>Micron Technology</td>\n",
       "      <td>3</td>\n",
       "      <td>1</td>\n",
       "    </tr>\n",
       "    <tr>\n",
       "      <th>10</th>\n",
       "      <td>Huawei Technologies</td>\n",
       "      <td>2</td>\n",
       "      <td>4</td>\n",
       "    </tr>\n",
       "    <tr>\n",
       "      <th>11</th>\n",
       "      <td>Sony</td>\n",
       "      <td>4</td>\n",
       "      <td>3</td>\n",
       "    </tr>\n",
       "    <tr>\n",
       "      <th>12</th>\n",
       "      <td>Verizon Communications</td>\n",
       "      <td>4</td>\n",
       "      <td>3</td>\n",
       "    </tr>\n",
       "    <tr>\n",
       "      <th>13</th>\n",
       "      <td>Nokia</td>\n",
       "      <td>4</td>\n",
       "      <td>2</td>\n",
       "    </tr>\n",
       "  </tbody>\n",
       "</table>\n",
       "</div>"
      ],
      "text/plain": [
       "                   company  2019_competitor  2019_forb\n",
       "0                 Qualcomm                1          1\n",
       "1           LG Electronics                1          3\n",
       "2                      IBM                1          2\n",
       "3                 Ericsson                2          2\n",
       "4                    Intel                1          1\n",
       "5            Cisco Systems                2          2\n",
       "6                Microsoft                1          2\n",
       "7                    Apple                4          2\n",
       "8                     AT&T                4          3\n",
       "9        Micron Technology                3          1\n",
       "10     Huawei Technologies                2          4\n",
       "11                    Sony                4          3\n",
       "12  Verizon Communications                4          3\n",
       "13                   Nokia                4          2"
      ]
     },
     "execution_count": 10,
     "metadata": {},
     "output_type": "execute_result"
    }
   ],
   "source": [
    "lda_early"
   ]
  },
  {
   "cell_type": "code",
   "execution_count": null,
   "id": "e0fb1f24-6eb5-48c8-a32a-add917316166",
   "metadata": {},
   "outputs": [],
   "source": []
  }
 ],
 "metadata": {
  "kernelspec": {
   "display_name": "Python 3",
   "language": "python",
   "name": "python3"
  },
  "language_info": {
   "codemirror_mode": {
    "name": "ipython",
    "version": 3
   },
   "file_extension": ".py",
   "mimetype": "text/x-python",
   "name": "python",
   "nbconvert_exporter": "python",
   "pygments_lexer": "ipython3",
   "version": "3.8.12"
  }
 },
 "nbformat": 4,
 "nbformat_minor": 5
}
