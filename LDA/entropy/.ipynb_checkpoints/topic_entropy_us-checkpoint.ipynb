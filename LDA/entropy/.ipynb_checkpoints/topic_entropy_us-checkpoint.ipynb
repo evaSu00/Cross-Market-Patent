{
 "cells": [
  {
   "cell_type": "code",
   "execution_count": 1,
   "id": "c494a283-d5cb-458f-8f45-bb095595ecd4",
   "metadata": {},
   "outputs": [],
   "source": [
    "from pymongo import MongoClient\n",
    "# from sshtunnel import SSHTunnelForwarusr\n",
    "import pymongo\n",
    "from tqdm import tqdm\n",
    "import os\n",
    "import re\n",
    "\n",
    "import numpy as np\n",
    "import pandas as pd\n",
    "\n",
    "import dateutil.parser\n",
    "from scipy.stats import entropy"
   ]
  },
  {
   "cell_type": "code",
   "execution_count": 2,
   "id": "6d0f5fee-ffcc-4317-8c99-c33e2ec240d2",
   "metadata": {},
   "outputs": [],
   "source": [
    "# 使用GPU\n",
    "os.environ[\"CUDA_VISIBLE_DEVICES\"]=\"1\""
   ]
  },
  {
   "cell_type": "code",
   "execution_count": 3,
   "id": "5f91654a-bb9d-45e3-b9d5-f6fb427871c2",
   "metadata": {},
   "outputs": [
    {
     "name": "stdout",
     "output_type": "stream",
     "text": [
      "Wed Aug  3 00:44:22 2022       \n",
      "+-----------------------------------------------------------------------------+\n",
      "| NVIDIA-SMI 470.129.06   Driver Version: 470.129.06   CUDA Version: 11.4     |\n",
      "|-------------------------------+----------------------+----------------------+\n",
      "| GPU  Name        Persistence-M| Bus-Id        Disp.A | Volatile Uncorr. ECC |\n",
      "| Fan  Temp  Perf  Pwr:Usage/Cap|         Memory-Usage | GPU-Util  Compute M. |\n",
      "|                               |                      |               MIG M. |\n",
      "|===============================+======================+======================|\n",
      "|   0  NVIDIA GeForce ...  Off  | 00000000:01:00.0 Off |                  N/A |\n",
      "| 68%   78C    P2   133W / 260W |   7626MiB / 11019MiB |     99%      Default |\n",
      "|                               |                      |                  N/A |\n",
      "+-------------------------------+----------------------+----------------------+\n",
      "|   1  NVIDIA GeForce ...  Off  | 00000000:02:00.0 Off |                  N/A |\n",
      "| 30%   39C    P8    25W / 260W |      8MiB / 11019MiB |      0%      Default |\n",
      "|                               |                      |                  N/A |\n",
      "+-------------------------------+----------------------+----------------------+\n",
      "                                                                               \n",
      "+-----------------------------------------------------------------------------+\n",
      "| Processes:                                                                  |\n",
      "|  GPU   GI   CI        PID   Type   Process name                  GPU Memory |\n",
      "|        ID   ID                                                   Usage      |\n",
      "|=============================================================================|\n",
      "|    0   N/A  N/A      1821      G   /usr/lib/xorg/Xorg                  9MiB |\n",
      "|    0   N/A  N/A      2145      G   /usr/bin/gnome-shell                7MiB |\n",
      "|    0   N/A  N/A      4025      C   python                           1967MiB |\n",
      "|    0   N/A  N/A      4487      C   python                           2263MiB |\n",
      "|    0   N/A  N/A     30311      C   python                           1687MiB |\n",
      "|    0   N/A  N/A     30526      C   python                           1687MiB |\n",
      "|    1   N/A  N/A      1821      G   /usr/lib/xorg/Xorg                  4MiB |\n",
      "+-----------------------------------------------------------------------------+\n"
     ]
    }
   ],
   "source": [
    "! nvidia-smi"
   ]
  },
  {
   "cell_type": "code",
   "execution_count": null,
   "id": "aeba7508-8133-48b9-84e5-e087814f9b10",
   "metadata": {},
   "outputs": [],
   "source": []
  },
  {
   "cell_type": "code",
   "execution_count": null,
   "id": "c26afd5c-9d28-407e-8312-f426d10358ce",
   "metadata": {},
   "outputs": [],
   "source": []
  },
  {
   "cell_type": "markdown",
   "id": "88528a9a-0b11-48e9-a37e-f00c1332157f",
   "metadata": {
    "tags": []
   },
   "source": [
    "# MongoDB"
   ]
  },
  {
   "cell_type": "code",
   "execution_count": 4,
   "id": "c53b8410-4612-4f47-a582-11711af4cdef",
   "metadata": {},
   "outputs": [],
   "source": [
    "mongoURI = \"mongodb://%s:%s@%s/%s?authMechanism=SCRAM-SHA-1\" % (\"eva\", \"eva_30241\", \"140.117.69.70:30241\", \"eva\")\n",
    "\n",
    "try:\n",
    "    conn = pymongo.MongoClient(mongoURI)\n",
    "    db = conn.eva\n",
    "    db_us = db.lda_topic_us\n",
    "    \n",
    "    \n",
    "except errors.ConnectionFailure as err:\n",
    "    print(err)"
   ]
  },
  {
   "cell_type": "code",
   "execution_count": 5,
   "id": "23685c56-b00b-4af0-87c5-2a852c0dd431",
   "metadata": {},
   "outputs": [
    {
     "data": {
      "text/plain": [
       "Collection(Database(MongoClient(host=['140.117.69.70:30241'], document_class=dict, tz_aware=False, connect=True, authmechanism='SCRAM-SHA-1'), 'eva'), 'lda_topic_us')"
      ]
     },
     "execution_count": 5,
     "metadata": {},
     "output_type": "execute_result"
    }
   ],
   "source": [
    "db_us"
   ]
  },
  {
   "cell_type": "code",
   "execution_count": null,
   "id": "72a05a83-cdf5-4dd9-a859-69dacf69d22d",
   "metadata": {},
   "outputs": [],
   "source": []
  },
  {
   "cell_type": "markdown",
   "id": "d4d1c75f-fb98-485d-a017-14072c00e809",
   "metadata": {},
   "source": [
    "# US"
   ]
  },
  {
   "cell_type": "code",
   "execution_count": 6,
   "id": "a7e1a9ba-d1f7-4338-8862-89a261e28159",
   "metadata": {},
   "outputs": [],
   "source": [
    "us_topic = db_us.aggregate([\n",
    "        {\"$unwind\" : \"$classification\"}\n",
    "])\n"
   ]
  },
  {
   "cell_type": "code",
   "execution_count": 7,
   "id": "099d2cad-56de-4402-afb1-988d6b7e633c",
   "metadata": {
    "tags": []
   },
   "outputs": [],
   "source": [
    "us_df = pd.DataFrame(us_topic)"
   ]
  },
  {
   "cell_type": "code",
   "execution_count": 8,
   "id": "ac3ae60b-bc6f-4766-b40b-a2b2b34d1ef1",
   "metadata": {},
   "outputs": [],
   "source": [
    "# 取cpc前3碼\n",
    "us_df[\"cpc_n\"] = us_df.classification.apply(lambda x: x[0:3])"
   ]
  },
  {
   "cell_type": "code",
   "execution_count": 9,
   "id": "b107b5f5-885f-4077-86eb-4fb37be657ca",
   "metadata": {
    "scrolled": true,
    "tags": []
   },
   "outputs": [
    {
     "data": {
      "text/html": [
       "<div>\n",
       "<style scoped>\n",
       "    .dataframe tbody tr th:only-of-type {\n",
       "        vertical-align: middle;\n",
       "    }\n",
       "\n",
       "    .dataframe tbody tr th {\n",
       "        vertical-align: top;\n",
       "    }\n",
       "\n",
       "    .dataframe thead th {\n",
       "        text-align: right;\n",
       "    }\n",
       "</style>\n",
       "<table border=\"1\" class=\"dataframe\">\n",
       "  <thead>\n",
       "    <tr style=\"text-align: right;\">\n",
       "      <th></th>\n",
       "      <th>_id</th>\n",
       "      <th>patentNumber</th>\n",
       "      <th>appDate</th>\n",
       "      <th>company</th>\n",
       "      <th>classification</th>\n",
       "      <th>brief</th>\n",
       "      <th>topic</th>\n",
       "      <th>cpc_n</th>\n",
       "    </tr>\n",
       "  </thead>\n",
       "  <tbody>\n",
       "    <tr>\n",
       "      <th>0</th>\n",
       "      <td>62c6c7201ef3ba661de7d8f3</td>\n",
       "      <td>US20130223235A1</td>\n",
       "      <td>2010-07-14 04:00:00</td>\n",
       "      <td>[BlackBerry Ltd]</td>\n",
       "      <td>H04W36/30</td>\n",
       "      <td>A UE comprising a processor configured to perf...</td>\n",
       "      <td>18</td>\n",
       "      <td>H04</td>\n",
       "    </tr>\n",
       "    <tr>\n",
       "      <th>1</th>\n",
       "      <td>62c6c7201ef3ba661de7d8f3</td>\n",
       "      <td>US20130223235A1</td>\n",
       "      <td>2010-07-14 04:00:00</td>\n",
       "      <td>[BlackBerry Ltd]</td>\n",
       "      <td>H04W48/20</td>\n",
       "      <td>A UE comprising a processor configured to perf...</td>\n",
       "      <td>18</td>\n",
       "      <td>H04</td>\n",
       "    </tr>\n",
       "    <tr>\n",
       "      <th>2</th>\n",
       "      <td>62c6c7201ef3ba661de7d8f3</td>\n",
       "      <td>US20130223235A1</td>\n",
       "      <td>2010-07-14 04:00:00</td>\n",
       "      <td>[BlackBerry Ltd]</td>\n",
       "      <td>H04W36/04</td>\n",
       "      <td>A UE comprising a processor configured to perf...</td>\n",
       "      <td>18</td>\n",
       "      <td>H04</td>\n",
       "    </tr>\n",
       "    <tr>\n",
       "      <th>3</th>\n",
       "      <td>62c6c7201ef3ba661de7d8f3</td>\n",
       "      <td>US20130223235A1</td>\n",
       "      <td>2010-07-14 04:00:00</td>\n",
       "      <td>[BlackBerry Ltd]</td>\n",
       "      <td>H04W84/045</td>\n",
       "      <td>A UE comprising a processor configured to perf...</td>\n",
       "      <td>18</td>\n",
       "      <td>H04</td>\n",
       "    </tr>\n",
       "    <tr>\n",
       "      <th>4</th>\n",
       "      <td>62c6c7201ef3ba661de7d8f4</td>\n",
       "      <td>US8458315B2</td>\n",
       "      <td>2010-12-06 05:00:00</td>\n",
       "      <td>[SAP SE]</td>\n",
       "      <td>H04W4/00</td>\n",
       "      <td>Embodiments of the present invention include s...</td>\n",
       "      <td>16</td>\n",
       "      <td>H04</td>\n",
       "    </tr>\n",
       "    <tr>\n",
       "      <th>...</th>\n",
       "      <td>...</td>\n",
       "      <td>...</td>\n",
       "      <td>...</td>\n",
       "      <td>...</td>\n",
       "      <td>...</td>\n",
       "      <td>...</td>\n",
       "      <td>...</td>\n",
       "      <td>...</td>\n",
       "    </tr>\n",
       "    <tr>\n",
       "      <th>369993</th>\n",
       "      <td>62c6c7201ef3ba661de86fee</td>\n",
       "      <td>US20200344025A1</td>\n",
       "      <td>2020-07-08 04:00:00</td>\n",
       "      <td>[Fujitsu Ltd]</td>\n",
       "      <td>H04W72/0406</td>\n",
       "      <td>A wireless communication system includes: a ba...</td>\n",
       "      <td>1</td>\n",
       "      <td>H04</td>\n",
       "    </tr>\n",
       "    <tr>\n",
       "      <th>369994</th>\n",
       "      <td>62c6c7201ef3ba661de86fee</td>\n",
       "      <td>US20200344025A1</td>\n",
       "      <td>2020-07-08 04:00:00</td>\n",
       "      <td>[Fujitsu Ltd]</td>\n",
       "      <td>H04W72/042</td>\n",
       "      <td>A wireless communication system includes: a ba...</td>\n",
       "      <td>1</td>\n",
       "      <td>H04</td>\n",
       "    </tr>\n",
       "    <tr>\n",
       "      <th>369995</th>\n",
       "      <td>62c6c7201ef3ba661de86fee</td>\n",
       "      <td>US20200344025A1</td>\n",
       "      <td>2020-07-08 04:00:00</td>\n",
       "      <td>[Fujitsu Ltd]</td>\n",
       "      <td>H04W72/14</td>\n",
       "      <td>A wireless communication system includes: a ba...</td>\n",
       "      <td>1</td>\n",
       "      <td>H04</td>\n",
       "    </tr>\n",
       "    <tr>\n",
       "      <th>369996</th>\n",
       "      <td>62c6c7201ef3ba661de86fee</td>\n",
       "      <td>US20200344025A1</td>\n",
       "      <td>2020-07-08 04:00:00</td>\n",
       "      <td>[Fujitsu Ltd]</td>\n",
       "      <td>H04W76/27</td>\n",
       "      <td>A wireless communication system includes: a ba...</td>\n",
       "      <td>1</td>\n",
       "      <td>H04</td>\n",
       "    </tr>\n",
       "    <tr>\n",
       "      <th>369997</th>\n",
       "      <td>62c6c7201ef3ba661de86fee</td>\n",
       "      <td>US20200344025A1</td>\n",
       "      <td>2020-07-08 04:00:00</td>\n",
       "      <td>[Fujitsu Ltd]</td>\n",
       "      <td>H04W72/1284</td>\n",
       "      <td>A wireless communication system includes: a ba...</td>\n",
       "      <td>1</td>\n",
       "      <td>H04</td>\n",
       "    </tr>\n",
       "  </tbody>\n",
       "</table>\n",
       "<p>369998 rows × 8 columns</p>\n",
       "</div>"
      ],
      "text/plain": [
       "                             _id     patentNumber             appDate  \\\n",
       "0       62c6c7201ef3ba661de7d8f3  US20130223235A1 2010-07-14 04:00:00   \n",
       "1       62c6c7201ef3ba661de7d8f3  US20130223235A1 2010-07-14 04:00:00   \n",
       "2       62c6c7201ef3ba661de7d8f3  US20130223235A1 2010-07-14 04:00:00   \n",
       "3       62c6c7201ef3ba661de7d8f3  US20130223235A1 2010-07-14 04:00:00   \n",
       "4       62c6c7201ef3ba661de7d8f4      US8458315B2 2010-12-06 05:00:00   \n",
       "...                          ...              ...                 ...   \n",
       "369993  62c6c7201ef3ba661de86fee  US20200344025A1 2020-07-08 04:00:00   \n",
       "369994  62c6c7201ef3ba661de86fee  US20200344025A1 2020-07-08 04:00:00   \n",
       "369995  62c6c7201ef3ba661de86fee  US20200344025A1 2020-07-08 04:00:00   \n",
       "369996  62c6c7201ef3ba661de86fee  US20200344025A1 2020-07-08 04:00:00   \n",
       "369997  62c6c7201ef3ba661de86fee  US20200344025A1 2020-07-08 04:00:00   \n",
       "\n",
       "                 company classification  \\\n",
       "0       [BlackBerry Ltd]      H04W36/30   \n",
       "1       [BlackBerry Ltd]      H04W48/20   \n",
       "2       [BlackBerry Ltd]      H04W36/04   \n",
       "3       [BlackBerry Ltd]     H04W84/045   \n",
       "4               [SAP SE]       H04W4/00   \n",
       "...                  ...            ...   \n",
       "369993     [Fujitsu Ltd]    H04W72/0406   \n",
       "369994     [Fujitsu Ltd]     H04W72/042   \n",
       "369995     [Fujitsu Ltd]      H04W72/14   \n",
       "369996     [Fujitsu Ltd]      H04W76/27   \n",
       "369997     [Fujitsu Ltd]    H04W72/1284   \n",
       "\n",
       "                                                    brief  topic cpc_n  \n",
       "0       A UE comprising a processor configured to perf...     18   H04  \n",
       "1       A UE comprising a processor configured to perf...     18   H04  \n",
       "2       A UE comprising a processor configured to perf...     18   H04  \n",
       "3       A UE comprising a processor configured to perf...     18   H04  \n",
       "4       Embodiments of the present invention include s...     16   H04  \n",
       "...                                                   ...    ...   ...  \n",
       "369993  A wireless communication system includes: a ba...      1   H04  \n",
       "369994  A wireless communication system includes: a ba...      1   H04  \n",
       "369995  A wireless communication system includes: a ba...      1   H04  \n",
       "369996  A wireless communication system includes: a ba...      1   H04  \n",
       "369997  A wireless communication system includes: a ba...      1   H04  \n",
       "\n",
       "[369998 rows x 8 columns]"
      ]
     },
     "execution_count": 9,
     "metadata": {},
     "output_type": "execute_result"
    }
   ],
   "source": [
    "us_df"
   ]
  },
  {
   "cell_type": "code",
   "execution_count": 10,
   "id": "ec339815-56e1-4bd3-8933-aad6fad500e2",
   "metadata": {},
   "outputs": [],
   "source": [
    "us_df2 = us_df.groupby([\"cpc_n\",\"topic\"],as_index=False).size()"
   ]
  },
  {
   "cell_type": "code",
   "execution_count": 11,
   "id": "7a274de2-28f5-4051-841b-f39d96689121",
   "metadata": {},
   "outputs": [
    {
     "data": {
      "text/html": [
       "<div>\n",
       "<style scoped>\n",
       "    .dataframe tbody tr th:only-of-type {\n",
       "        vertical-align: middle;\n",
       "    }\n",
       "\n",
       "    .dataframe tbody tr th {\n",
       "        vertical-align: top;\n",
       "    }\n",
       "\n",
       "    .dataframe thead th {\n",
       "        text-align: right;\n",
       "    }\n",
       "</style>\n",
       "<table border=\"1\" class=\"dataframe\">\n",
       "  <thead>\n",
       "    <tr style=\"text-align: right;\">\n",
       "      <th></th>\n",
       "      <th>cpc_n</th>\n",
       "      <th>topic</th>\n",
       "      <th>size</th>\n",
       "    </tr>\n",
       "  </thead>\n",
       "  <tbody>\n",
       "    <tr>\n",
       "      <th>0</th>\n",
       "      <td>A01</td>\n",
       "      <td>0</td>\n",
       "      <td>16</td>\n",
       "    </tr>\n",
       "    <tr>\n",
       "      <th>1</th>\n",
       "      <td>A01</td>\n",
       "      <td>1</td>\n",
       "      <td>84</td>\n",
       "    </tr>\n",
       "    <tr>\n",
       "      <th>2</th>\n",
       "      <td>A01</td>\n",
       "      <td>2</td>\n",
       "      <td>15</td>\n",
       "    </tr>\n",
       "    <tr>\n",
       "      <th>3</th>\n",
       "      <td>A01</td>\n",
       "      <td>3</td>\n",
       "      <td>18</td>\n",
       "    </tr>\n",
       "    <tr>\n",
       "      <th>4</th>\n",
       "      <td>A01</td>\n",
       "      <td>4</td>\n",
       "      <td>6</td>\n",
       "    </tr>\n",
       "    <tr>\n",
       "      <th>...</th>\n",
       "      <td>...</td>\n",
       "      <td>...</td>\n",
       "      <td>...</td>\n",
       "    </tr>\n",
       "    <tr>\n",
       "      <th>1367</th>\n",
       "      <td>Y10</td>\n",
       "      <td>13</td>\n",
       "      <td>4</td>\n",
       "    </tr>\n",
       "    <tr>\n",
       "      <th>1368</th>\n",
       "      <td>Y10</td>\n",
       "      <td>14</td>\n",
       "      <td>4</td>\n",
       "    </tr>\n",
       "    <tr>\n",
       "      <th>1369</th>\n",
       "      <td>Y10</td>\n",
       "      <td>17</td>\n",
       "      <td>2</td>\n",
       "    </tr>\n",
       "    <tr>\n",
       "      <th>1370</th>\n",
       "      <td>Y10</td>\n",
       "      <td>19</td>\n",
       "      <td>1</td>\n",
       "    </tr>\n",
       "    <tr>\n",
       "      <th>1371</th>\n",
       "      <td>Y10</td>\n",
       "      <td>20</td>\n",
       "      <td>9</td>\n",
       "    </tr>\n",
       "  </tbody>\n",
       "</table>\n",
       "<p>1372 rows × 3 columns</p>\n",
       "</div>"
      ],
      "text/plain": [
       "     cpc_n  topic  size\n",
       "0      A01      0    16\n",
       "1      A01      1    84\n",
       "2      A01      2    15\n",
       "3      A01      3    18\n",
       "4      A01      4     6\n",
       "...    ...    ...   ...\n",
       "1367   Y10     13     4\n",
       "1368   Y10     14     4\n",
       "1369   Y10     17     2\n",
       "1370   Y10     19     1\n",
       "1371   Y10     20     9\n",
       "\n",
       "[1372 rows x 3 columns]"
      ]
     },
     "execution_count": 11,
     "metadata": {},
     "output_type": "execute_result"
    }
   ],
   "source": [
    "us_df2"
   ]
  },
  {
   "cell_type": "markdown",
   "id": "85872a09-16ca-4d3a-8f7f-20f56c36e09f",
   "metadata": {},
   "source": [
    "## 找出前10的CPC計算各類別的topic比例"
   ]
  },
  {
   "cell_type": "code",
   "execution_count": 12,
   "id": "56f4fb71-202b-419a-a903-9fa77beedf3f",
   "metadata": {},
   "outputs": [],
   "source": [
    "us_cpc_ls = [\"H04\",\"G06\",\"H01\",\"G01\",\"A61\",\"H03\",\"B60\",\"G08\",\"Y02\",\"G05\"]"
   ]
  },
  {
   "cell_type": "code",
   "execution_count": 13,
   "id": "40b61d45-4bb6-4aaf-b159-0b49e0916908",
   "metadata": {
    "scrolled": true,
    "tags": []
   },
   "outputs": [
    {
     "data": {
      "text/html": [
       "<div>\n",
       "<style scoped>\n",
       "    .dataframe tbody tr th:only-of-type {\n",
       "        vertical-align: middle;\n",
       "    }\n",
       "\n",
       "    .dataframe tbody tr th {\n",
       "        vertical-align: top;\n",
       "    }\n",
       "\n",
       "    .dataframe thead th {\n",
       "        text-align: right;\n",
       "    }\n",
       "</style>\n",
       "<table border=\"1\" class=\"dataframe\">\n",
       "  <thead>\n",
       "    <tr style=\"text-align: right;\">\n",
       "      <th></th>\n",
       "      <th>cpc_n</th>\n",
       "      <th>topic</th>\n",
       "      <th>size</th>\n",
       "    </tr>\n",
       "  </thead>\n",
       "  <tbody>\n",
       "    <tr>\n",
       "      <th>134</th>\n",
       "      <td>A61</td>\n",
       "      <td>0</td>\n",
       "      <td>638</td>\n",
       "    </tr>\n",
       "    <tr>\n",
       "      <th>135</th>\n",
       "      <td>A61</td>\n",
       "      <td>1</td>\n",
       "      <td>1261</td>\n",
       "    </tr>\n",
       "    <tr>\n",
       "      <th>136</th>\n",
       "      <td>A61</td>\n",
       "      <td>2</td>\n",
       "      <td>537</td>\n",
       "    </tr>\n",
       "    <tr>\n",
       "      <th>137</th>\n",
       "      <td>A61</td>\n",
       "      <td>3</td>\n",
       "      <td>417</td>\n",
       "    </tr>\n",
       "    <tr>\n",
       "      <th>138</th>\n",
       "      <td>A61</td>\n",
       "      <td>4</td>\n",
       "      <td>214</td>\n",
       "    </tr>\n",
       "    <tr>\n",
       "      <th>...</th>\n",
       "      <td>...</td>\n",
       "      <td>...</td>\n",
       "      <td>...</td>\n",
       "    </tr>\n",
       "    <tr>\n",
       "      <th>1329</th>\n",
       "      <td>Y02</td>\n",
       "      <td>16</td>\n",
       "      <td>192</td>\n",
       "    </tr>\n",
       "    <tr>\n",
       "      <th>1330</th>\n",
       "      <td>Y02</td>\n",
       "      <td>17</td>\n",
       "      <td>159</td>\n",
       "    </tr>\n",
       "    <tr>\n",
       "      <th>1331</th>\n",
       "      <td>Y02</td>\n",
       "      <td>18</td>\n",
       "      <td>81</td>\n",
       "    </tr>\n",
       "    <tr>\n",
       "      <th>1332</th>\n",
       "      <td>Y02</td>\n",
       "      <td>19</td>\n",
       "      <td>120</td>\n",
       "    </tr>\n",
       "    <tr>\n",
       "      <th>1333</th>\n",
       "      <td>Y02</td>\n",
       "      <td>20</td>\n",
       "      <td>128</td>\n",
       "    </tr>\n",
       "  </tbody>\n",
       "</table>\n",
       "<p>210 rows × 3 columns</p>\n",
       "</div>"
      ],
      "text/plain": [
       "     cpc_n  topic  size\n",
       "134    A61      0   638\n",
       "135    A61      1  1261\n",
       "136    A61      2   537\n",
       "137    A61      3   417\n",
       "138    A61      4   214\n",
       "...    ...    ...   ...\n",
       "1329   Y02     16   192\n",
       "1330   Y02     17   159\n",
       "1331   Y02     18    81\n",
       "1332   Y02     19   120\n",
       "1333   Y02     20   128\n",
       "\n",
       "[210 rows x 3 columns]"
      ]
     },
     "execution_count": 13,
     "metadata": {},
     "output_type": "execute_result"
    }
   ],
   "source": [
    "us_cpc_top10 = us_df2[us_df2.cpc_n.isin(us_cpc_ls)]\n",
    "us_cpc_top10"
   ]
  },
  {
   "cell_type": "code",
   "execution_count": 14,
   "id": "cbb72338-0388-46b5-ae0c-74dcaef7230e",
   "metadata": {},
   "outputs": [
    {
     "ename": "TypeError",
     "evalue": "groupby() got an unexpected keyword argument 'as_inusx'",
     "output_type": "error",
     "traceback": [
      "\u001b[0;31m---------------------------------------------------------------------------\u001b[0m",
      "\u001b[0;31mTypeError\u001b[0m                                 Traceback (most recent call last)",
      "Input \u001b[0;32mIn [14]\u001b[0m, in \u001b[0;36m<cell line: 1>\u001b[0;34m()\u001b[0m\n\u001b[0;32m----> 1\u001b[0m us_cpc_sum \u001b[38;5;241m=\u001b[39m \u001b[43mus_cpc_top10\u001b[49m\u001b[38;5;241;43m.\u001b[39;49m\u001b[43mgroupby\u001b[49m\u001b[43m(\u001b[49m\u001b[43m[\u001b[49m\u001b[38;5;124;43m\"\u001b[39;49m\u001b[38;5;124;43mcpc_n\u001b[39;49m\u001b[38;5;124;43m\"\u001b[39;49m\u001b[43m]\u001b[49m\u001b[43m,\u001b[49m\u001b[43mas_inusx\u001b[49m\u001b[38;5;241;43m=\u001b[39;49m\u001b[38;5;28;43;01mFalse\u001b[39;49;00m\u001b[43m)\u001b[49m\u001b[38;5;241m.\u001b[39msum()[[\u001b[38;5;124m\"\u001b[39m\u001b[38;5;124mcpc_n\u001b[39m\u001b[38;5;124m\"\u001b[39m,\u001b[38;5;124m\"\u001b[39m\u001b[38;5;124msize\u001b[39m\u001b[38;5;124m\"\u001b[39m]]\n\u001b[1;32m      2\u001b[0m us_cpc_sum\u001b[38;5;241m.\u001b[39mrename(columns \u001b[38;5;241m=\u001b[39m {\u001b[38;5;124m'\u001b[39m\u001b[38;5;124msize\u001b[39m\u001b[38;5;124m'\u001b[39m:\u001b[38;5;124m'\u001b[39m\u001b[38;5;124msum\u001b[39m\u001b[38;5;124m'\u001b[39m}, inplace \u001b[38;5;241m=\u001b[39m \u001b[38;5;28;01mTrue\u001b[39;00m)\n\u001b[1;32m      3\u001b[0m us_cpc_sum\n",
      "\u001b[0;31mTypeError\u001b[0m: groupby() got an unexpected keyword argument 'as_inusx'"
     ]
    }
   ],
   "source": [
    "us_cpc_sum = us_cpc_top10.groupby([\"cpc_n\"],as_index=False).sum()[[\"cpc_n\",\"size\"]]\n",
    "us_cpc_sum.rename(columns = {'size':'sum'}, inplace = True)\n",
    "us_cpc_sum"
   ]
  },
  {
   "cell_type": "code",
   "execution_count": null,
   "id": "16168b42-1a5e-4f1c-98ae-b5ff19a8f335",
   "metadata": {},
   "outputs": [],
   "source": [
    "sum(us_cpc_sum[\"sum\"])"
   ]
  },
  {
   "cell_type": "code",
   "execution_count": null,
   "id": "9beb6f74-d65e-432a-9bf4-17f6f34de31a",
   "metadata": {},
   "outputs": [],
   "source": [
    "us_cpc_top10_fin = pd.merge(us_cpc_top10, us_cpc_sum, on=\"cpc_n\")\n",
    "us_cpc_top10_fin"
   ]
  },
  {
   "cell_type": "code",
   "execution_count": null,
   "id": "1f414105-0bdc-422c-8411-2bce346073e6",
   "metadata": {},
   "outputs": [],
   "source": [
    "# 計算topic比例\n",
    "us_cpc_top10_fin[\"topic_ratio\"] = us_cpc_top10_fin.apply(lambda x: x[\"size\"]/x[\"sum\"],axis=1)"
   ]
  },
  {
   "cell_type": "code",
   "execution_count": null,
   "id": "57e44a82-9d7e-467d-80f7-1b762f415b36",
   "metadata": {
    "scrolled": true,
    "tags": []
   },
   "outputs": [],
   "source": [
    "us_cpc_top10_fin"
   ]
  },
  {
   "cell_type": "code",
   "execution_count": null,
   "id": "03a344b4-50a5-4191-a48d-3f18e21f9de7",
   "metadata": {},
   "outputs": [],
   "source": []
  },
  {
   "cell_type": "markdown",
   "id": "28eb783f-189b-4a69-a593-a4d03841fe84",
   "metadata": {},
   "source": [
    "## 計算Entropy\n",
    "計算各CPC底下topic的混亂程度"
   ]
  },
  {
   "cell_type": "code",
   "execution_count": null,
   "id": "36affe70-eace-4a6a-a25b-b19f2b37b615",
   "metadata": {},
   "outputs": [],
   "source": [
    "entropy(list(us_cpc_top10_fin[us_cpc_top10_fin.cpc_n==\"H04\"][\"topic_ratio\"]), base=2)"
   ]
  },
  {
   "cell_type": "code",
   "execution_count": null,
   "id": "18a253ac-c714-455b-a033-94a344b6fc26",
   "metadata": {},
   "outputs": [],
   "source": [
    "us_entropy_ls = []\n",
    "for i in us_cpc_ls:\n",
    "    en_num = entropy(list(us_cpc_top10_fin[us_cpc_top10_fin.cpc_n==i][\"topic_ratio\"]), base=2)\n",
    "    us_entropy_ls.append(en_num)"
   ]
  },
  {
   "cell_type": "code",
   "execution_count": null,
   "id": "bd1b4779-61b5-4416-9bc7-b6eaec85b969",
   "metadata": {},
   "outputs": [],
   "source": [
    "us_entropy_ls"
   ]
  },
  {
   "cell_type": "code",
   "execution_count": null,
   "id": "8bcc6497-dd5d-476d-9a7b-8244f6465306",
   "metadata": {},
   "outputs": [],
   "source": [
    "us_entropy = pd.DataFrame((zip(us_cpc_ls, us_entropy_ls)), columns = ['cpc', 'entropy'])\n",
    "us_entropy"
   ]
  },
  {
   "cell_type": "code",
   "execution_count": null,
   "id": "f87eb2c9-ea99-4cd4-972e-303b2df99298",
   "metadata": {},
   "outputs": [],
   "source": []
  },
  {
   "cell_type": "code",
   "execution_count": null,
   "id": "f49f14e2-506b-4cca-a5d9-3b4f646dd35c",
   "metadata": {},
   "outputs": [],
   "source": []
  },
  {
   "cell_type": "code",
   "execution_count": null,
   "id": "d1afc73e-db01-418f-ac79-3e1a07ddd060",
   "metadata": {},
   "outputs": [],
   "source": []
  },
  {
   "cell_type": "code",
   "execution_count": null,
   "id": "468a2309-0f42-4a45-b7bc-3c56eaf3f7ff",
   "metadata": {},
   "outputs": [],
   "source": []
  }
 ],
 "metadata": {
  "kernelspec": {
   "display_name": "for_paper",
   "language": "python",
   "name": "for_paper"
  },
  "language_info": {
   "codemirror_mode": {
    "name": "ipython",
    "version": 3
   },
   "file_extension": ".py",
   "mimetype": "text/x-python",
   "name": "python",
   "nbconvert_exporter": "python",
   "pygments_lexer": "ipython3",
   "version": "3.8.12"
  }
 },
 "nbformat": 4,
 "nbformat_minor": 5
}
